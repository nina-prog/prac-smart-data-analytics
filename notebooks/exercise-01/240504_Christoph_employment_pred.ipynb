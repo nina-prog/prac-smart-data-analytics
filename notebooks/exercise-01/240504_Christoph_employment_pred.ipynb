{
 "cells": [
  {
   "metadata": {},
   "cell_type": "markdown",
   "source": [
    "## TOC:\n",
    "* [Imports](#1st)\n",
    "* [Config](#2nd)\n",
    "* [Data Import](#3rd)\n",
    "* [2nd visualization](#4th)\n",
    "* [Train Test Split](#5th)\n",
    "* [Classifiers](#6th)\n",
    "* [Results](#7th)\n"
   ],
   "id": "24e7261edbc99fc6"
  },
  {
   "metadata": {},
   "cell_type": "markdown",
   "source": "## Imports <a class=\"anchor\" id=\"1st\"></a>",
   "id": "7ee2f26bef6e5627"
  },
  {
   "cell_type": "code",
   "id": "initial_id",
   "metadata": {
    "collapsed": true,
    "ExecuteTime": {
     "end_time": "2024-05-04T15:59:53.108820Z",
     "start_time": "2024-05-04T15:59:53.077569Z"
    }
   },
   "source": [
    "import numpy\n",
    "import pandas as pd\n",
    "import numpy as np\n",
    "\n",
    "import seaborn as sns\n",
    "import matplotlib.pyplot as plt\n",
    "\n",
    "import sklearn\n",
    "from sklearn.ensemble import GradientBoostingClassifier, RandomForestClassifier\n",
    "from sklearn.preprocessing import OneHotEncoder, StandardScaler\n",
    "from sklearn.neighbors import KNeighborsClassifier\n",
    "from sklearn.gaussian_process import GaussianProcessClassifier\n",
    "from sklearn.metrics import accuracy_score,f1_score\n",
    "from sklearn.svm import SVC\n",
    "from bayes_opt import BayesianOptimization\n",
    "from sklearn.model_selection import train_test_split\n",
    "from sklearn.neural_network import MLPClassifier\n",
    "from sklearn import model_selection\n",
    "from sklearn.utils import resample"
   ],
   "outputs": [],
   "execution_count": 249
  },
  {
   "metadata": {},
   "cell_type": "markdown",
   "source": "## Config <a class=\"anchor\" id=\"2nd\"></a>",
   "id": "85ddb26380179001"
  },
  {
   "metadata": {
    "ExecuteTime": {
     "end_time": "2024-05-04T16:00:15.711725Z",
     "start_time": "2024-05-04T16:00:15.696095Z"
    }
   },
   "cell_type": "code",
   "source": [
    "TRAIN_TEST_SPLIT = True\n",
    "\n",
    "KNN_CLASSIFIER = True\n",
    "\n",
    "GP_CLASSIFIER = False # See Notes below GP Classifier\n",
    "\n",
    "RF_CLASSIFIER = True\n",
    "\n",
    "SVM_CLASSIFIER = False\n",
    "\n",
    "MLP_CLASSIFIER = True\n",
    "\n",
    "OPTIMIZATION = True"
   ],
   "id": "d64543224b7be2e6",
   "outputs": [],
   "execution_count": 251
  },
  {
   "metadata": {},
   "cell_type": "markdown",
   "source": "## Data Import <a class=\"anchor\" id=\"3rd\"></a>",
   "id": "5bbc82c717ccff93"
  },
  {
   "metadata": {
    "ExecuteTime": {
     "end_time": "2024-05-04T16:02:57.219208Z",
     "start_time": "2024-05-04T16:02:57.188048Z"
    }
   },
   "cell_type": "code",
   "source": [
    "# Data Read\n",
    "df_train = pd.read_csv('../../data/processed/employment_train_processed.csv')\n",
    "df_test = pd.read_csv('../../data/processed/employment_test_processed.csv')\n",
    "# Check Columns for preprocessing \n",
    "print(df_test.columns)\n",
    "print(df_train.columns)"
   ],
   "id": "5fc109a0d9a13a48",
   "outputs": [
    {
     "name": "stdout",
     "output_type": "stream",
     "text": [
      "Index(['Unnamed: 0', 'age', 'race', 'earnwke', 'married', 'union', 'ne_states',\n",
      "       'so_states', 'ce_states', 'we_states', 'government', 'private', 'self',\n",
      "       'educ_lths', 'educ_hs', 'educ_somecol', 'educ_aa', 'educ_bac',\n",
      "       'educ_adv', 'female'],\n",
      "      dtype='object')\n",
      "Index(['Id', 'age', 'race', 'earnwke', 'employed', 'unemployed', 'married',\n",
      "       'union', 'ne_states', 'so_states', 'ce_states', 'we_states',\n",
      "       'government', 'private', 'self', 'educ_lths', 'educ_hs', 'educ_somecol',\n",
      "       'educ_aa', 'educ_bac', 'educ_adv', 'female'],\n",
      "      dtype='object')\n"
     ]
    }
   ],
   "execution_count": 271
  },
  {
   "metadata": {
    "ExecuteTime": {
     "end_time": "2024-05-04T15:21:52.920830Z",
     "start_time": "2024-05-04T15:21:52.905203Z"
    }
   },
   "cell_type": "code",
   "source": "#DEBUG print(len(df_train))  ",
   "id": "635db3e83fd74ac2",
   "outputs": [],
   "execution_count": 188
  },
  {
   "metadata": {},
   "cell_type": "markdown",
   "source": "## 2nd visual <a class=\"anchor\" id=\"4th\"></a>",
   "id": "4f6144ad732c5a2f"
  },
  {
   "metadata": {
    "ExecuteTime": {
     "end_time": "2024-05-04T15:21:52.936456Z",
     "start_time": "2024-05-04T15:21:52.920830Z"
    }
   },
   "cell_type": "code",
   "source": "",
   "id": "7ea8c40ffc8a9074",
   "outputs": [],
   "execution_count": 188
  },
  {
   "metadata": {},
   "cell_type": "markdown",
   "source": "## Partial Data Preprocesssing <a class=\"anchor\" id=\"5th\"></a>",
   "id": "de85697405485739"
  },
  {
   "metadata": {
    "ExecuteTime": {
     "end_time": "2024-05-04T16:00:20.498689Z",
     "start_time": "2024-05-04T16:00:20.483063Z"
    }
   },
   "cell_type": "code",
   "source": [
    "train = df_train.values\n",
    "\n",
    "# Shuffle for later crossval\n",
    "idx = np.arange(train.shape[0])\n",
    "np.random.seed(7)\n",
    "np.random.shuffle(idx)\n",
    "train = train[idx]\n",
    "\n",
    "df_train = pd.DataFrame(train, columns = df_train.columns)"
   ],
   "id": "eab643ef9107a0c2",
   "outputs": [],
   "execution_count": 253
  },
  {
   "metadata": {
    "ExecuteTime": {
     "end_time": "2024-05-04T16:00:22.000485Z",
     "start_time": "2024-05-04T16:00:21.969456Z"
    }
   },
   "cell_type": "code",
   "source": [
    "continuous_cols = ['age', 'race', 'earnwke']\n",
    "categorical_cols = ['employed', 'unemployed', 'married', 'union', 'ne_states', 'so_states', 'ce_states', 'we_states', 'government', 'private', 'self', 'educ_lths', 'educ_hs',  'educ_somecol', 'educ_aa', 'educ_bac', 'educ_adv', 'female']\n",
    "\n",
    "snv = sklearn.preprocessing.StandardScaler()\n",
    "\n",
    "df_train[continuous_cols] = snv.fit_transform(df_train[continuous_cols])\n",
    "df_test[continuous_cols] = snv.transform(df_test[continuous_cols])"
   ],
   "id": "5791b72705f60b94",
   "outputs": [],
   "execution_count": 254
  },
  {
   "metadata": {},
   "cell_type": "markdown",
   "source": "## Train Test Split <a class=\"anchor\" id=\"6th\"></a>",
   "id": "881dca3b8961ec23"
  },
  {
   "metadata": {
    "ExecuteTime": {
     "end_time": "2024-05-04T16:00:24.474007Z",
     "start_time": "2024-05-04T16:00:24.442755Z"
    }
   },
   "cell_type": "code",
   "source": [
    "train = df_train.values\n",
    "train_ids = train[:, 0]\n",
    "train_employed = train[:, 4]\n",
    "train_unemployed = train[:, 5]\n",
    "train_data = train[:,np.array([not i == 4 and  not i == 5  for i in range(1,23)])]\n",
    "test = df_test.values "
   ],
   "id": "29a12f218d7ea7ab",
   "outputs": [],
   "execution_count": 255
  },
  {
   "metadata": {
    "ExecuteTime": {
     "end_time": "2024-05-04T16:00:26.282845Z",
     "start_time": "2024-05-04T16:00:26.267229Z"
    }
   },
   "cell_type": "code",
   "source": [
    "if TRAIN_TEST_SPLIT:\n",
    "    temp_train_ids, temp_test_ids, temp_train_data, temp_test_data, temp_train_employed, temp_test_employed = train_test_split(train_ids, train_data, train_employed, test_size=200, random_state=7)\n",
    "else: temp_train_ids, temp_train_data, temp_test_employed = train_ids, train_data, train_employed"
   ],
   "id": "7ab912aa547ee46f",
   "outputs": [],
   "execution_count": 256
  },
  {
   "metadata": {},
   "cell_type": "markdown",
   "source": "## Classifiers <a class=\"anchor\" id=\"7th\"></a>",
   "id": "c1fd78979f9bcdd"
  },
  {
   "metadata": {
    "ExecuteTime": {
     "end_time": "2024-05-04T16:00:28.055798Z",
     "start_time": "2024-05-04T16:00:28.024546Z"
    }
   },
   "cell_type": "code",
   "source": [
    "if KNN_CLASSIFIER:\n",
    "    knn_classifier = KNeighborsClassifier()\n",
    "    knn_classifier.fit(temp_train_data, temp_train_employed.astype(bool))"
   ],
   "id": "7209800e4ade319",
   "outputs": [],
   "execution_count": 257
  },
  {
   "metadata": {
    "ExecuteTime": {
     "end_time": "2024-05-04T16:00:29.273630Z",
     "start_time": "2024-05-04T16:00:29.126079Z"
    }
   },
   "cell_type": "code",
   "source": [
    "if KNN_CLASSIFIER:\n",
    "    temp_test_employed_pred = knn_classifier.predict(temp_test_data)\n",
    "\n",
    "    accuracy = model_selection.cross_val_score(knn_classifier, X=train_data, y=train_employed, cv=5, scoring='accuracy')\n",
    "    knn_min_acc = accuracy.min()\n",
    "    print(accuracy)\n",
    "    \n",
    "    #print(\"Accuracy\",sklearn.metrics.accuracy_score(temp_test_employed.astype(bool), temp_test_employed_pred))\n",
    "    #print(\"F1-Score\",sklearn.metrics.f1_score (temp_test_employed.astype(bool), temp_test_employed_pred))"
   ],
   "id": "8da60297d8956f02",
   "outputs": [
    {
     "name": "stdout",
     "output_type": "stream",
     "text": [
      "[0.82974138 0.81994609 0.8296496  0.8296496  0.83396226]\n"
     ]
    }
   ],
   "execution_count": 258
  },
  {
   "metadata": {
    "ExecuteTime": {
     "end_time": "2024-05-04T15:21:53.260900Z",
     "start_time": "2024-05-04T15:21:53.245274Z"
    }
   },
   "cell_type": "code",
   "source": [
    "if GP_CLASSIFIER:\n",
    "    gaussian_process_classifier = GaussianProcessClassifier()\n",
    "    gaussian_process_classifier.fit(temp_train_data, temp_train_employed.astype(bool))"
   ],
   "id": "1c9d417dda9b3d5c",
   "outputs": [],
   "execution_count": 195
  },
  {
   "metadata": {
    "ExecuteTime": {
     "end_time": "2024-05-04T15:21:53.276526Z",
     "start_time": "2024-05-04T15:21:53.260900Z"
    }
   },
   "cell_type": "code",
   "source": [
    "if GP_CLASSIFIER:\n",
    "    temp_test_employed_pred = gaussian_process_classifier.predict(temp_test_data)\n",
    "\n",
    "    accuracy = model_selection.cross_val_score(gaussian_process_classifier, X=train_data, y=train_employed, cv=5, scoring='accuracy')\n",
    "    gp_min_acc = accuracy.min()\n",
    "    print(accuracy)    \n",
    "\n",
    "    #print(\"Accuracy\",sklearn.metrics.accuracy_score(temp_test_employed.astype(bool), temp_test_employed_pred))\n",
    "    #print(\"F1-Score\",sklearn.metrics.f1_score (temp_test_employed.astype(bool), temp_test_employed_pred))"
   ],
   "id": "b3417c882e47def5",
   "outputs": [],
   "execution_count": 196
  },
  {
   "metadata": {},
   "cell_type": "markdown",
   "source": [
    "## Notes\n",
    "Error: Unable to allocate 628. MiB for an array with shape (9076, 9076) and data type float64\n",
    "Gaussian Process set to False because of the size limitation"
   ],
   "id": "fd26865aec8c975c"
  },
  {
   "metadata": {
    "ExecuteTime": {
     "end_time": "2024-05-04T15:21:53.306159Z",
     "start_time": "2024-05-04T15:21:53.276526Z"
    }
   },
   "cell_type": "code",
   "source": [
    "# Test for python64 or python32\n",
    "#import struct\n",
    "#print (struct.calcsize(\"P\") * 8)"
   ],
   "id": "4b52cc9d906a800c",
   "outputs": [],
   "execution_count": 197
  },
  {
   "metadata": {
    "ExecuteTime": {
     "end_time": "2024-05-04T16:00:36.490960Z",
     "start_time": "2024-05-04T16:00:36.475335Z"
    }
   },
   "cell_type": "code",
   "source": [
    "if SVM_CLASSIFIER:\n",
    "    svc = SVC()#kernel='linear'\n",
    "    svc.fit(temp_train_data, temp_train_employed.astype(bool))"
   ],
   "id": "58e404a8912950f8",
   "outputs": [],
   "execution_count": 259
  },
  {
   "metadata": {
    "ExecuteTime": {
     "end_time": "2024-05-04T16:00:37.471133Z",
     "start_time": "2024-05-04T16:00:37.455507Z"
    }
   },
   "cell_type": "code",
   "source": [
    "if SVM_CLASSIFIER:\n",
    "    temp_test_employed_pred = svc.predict(temp_test_data)\n",
    "\n",
    "    accuracy = model_selection.cross_val_score(svc, X=train_data, y=train_employed, cv=5, scoring='accuracy')\n",
    "    svc_min_acc = accuracy.min()\n",
    "    print(accuracy)\n",
    "    \n",
    "    #print(\"Accuracy\",sklearn.metrics.accuracy_score(temp_test_employed.astype(bool), temp_test_employed_pred))\n",
    "    #print(\"F1-Score\",sklearn.metrics.f1_score (temp_test_employed.astype(bool), temp_test_employed_pred))"
   ],
   "id": "7ea24e74e93cf955",
   "outputs": [],
   "execution_count": 260
  },
  {
   "metadata": {
    "ExecuteTime": {
     "end_time": "2024-05-04T16:00:40.293872Z",
     "start_time": "2024-05-04T16:00:40.060384Z"
    }
   },
   "cell_type": "code",
   "source": [
    "if RF_CLASSIFIER:\n",
    "    random_forest_classifier = RandomForestClassifier(n_estimators=40, random_state=6)\n",
    "    random_forest_classifier.fit(temp_train_data, temp_train_employed.astype(bool))"
   ],
   "id": "a9f67a083434f896",
   "outputs": [],
   "execution_count": 261
  },
  {
   "metadata": {
    "ExecuteTime": {
     "end_time": "2024-05-04T16:00:42.531700Z",
     "start_time": "2024-05-04T16:00:41.431484Z"
    }
   },
   "cell_type": "code",
   "source": [
    "if RF_CLASSIFIER:\n",
    "    temp_test_employed_pred = random_forest_classifier.predict(temp_test_data)\n",
    "\n",
    "    accuracy = model_selection.cross_val_score(random_forest_classifier, X=train_data, y=train_employed, cv=5, scoring='accuracy')\n",
    "    rf_min_acc = accuracy.min()\n",
    "    print(accuracy)\n",
    "    \n",
    "    #print(sklearn.metrics.accuracy_score(temp_test_employed.astype(bool), temp_test_employed_pred))\n",
    "    #print(\"F1-Score\",sklearn.metrics.f1_score (temp_test_employed.astype(bool), temp_test_employed_pred))"
   ],
   "id": "5de39954221170b3",
   "outputs": [
    {
     "name": "stdout",
     "output_type": "stream",
     "text": [
      "[0.97952586 0.98598383 0.98328841 0.97520216 0.98167116]\n"
     ]
    }
   ],
   "execution_count": 262
  },
  {
   "metadata": {
    "ExecuteTime": {
     "end_time": "2024-05-04T16:00:44.903402Z",
     "start_time": "2024-05-04T16:00:43.615944Z"
    }
   },
   "cell_type": "code",
   "source": [
    "if MLP_CLASSIFIER:\n",
    "    mlp_classifier = MLPClassifier()\n",
    "    mlp_classifier.fit(temp_train_data, temp_train_employed.astype(bool))    "
   ],
   "id": "dd577e873f6aac54",
   "outputs": [],
   "execution_count": 263
  },
  {
   "metadata": {
    "ExecuteTime": {
     "end_time": "2024-05-04T16:00:50.366315Z",
     "start_time": "2024-05-04T16:00:45.805332Z"
    }
   },
   "cell_type": "code",
   "source": [
    "if MLP_CLASSIFIER:\n",
    "    temp_test_employed_pred = mlp_classifier.predict(temp_test_data)\n",
    "\n",
    "    accuracy = model_selection.cross_val_score(mlp_classifier, X=train_data, y=train_employed, cv=5, scoring='accuracy')\n",
    "    mlp_min_acc = accuracy.min()\n",
    "    print(accuracy)\n",
    "\n",
    "    #print(\"Accuracy\",sklearn.metrics.accuracy_score(temp_test_employed.astype(bool), temp_test_employed_pred))\n",
    "    #print(\"F1-Score\",sklearn.metrics.f1_score (temp_test_employed.astype(bool), temp_test_employed_pred))"
   ],
   "id": "5d17532eac442afb",
   "outputs": [
    {
     "name": "stdout",
     "output_type": "stream",
     "text": [
      "[0.5549569  0.66415094 0.59838275 0.52345013 0.57520216]\n"
     ]
    }
   ],
   "execution_count": 264
  },
  {
   "metadata": {
    "ExecuteTime": {
     "end_time": "2024-05-04T16:00:51.838062Z",
     "start_time": "2024-05-04T16:00:51.822424Z"
    }
   },
   "cell_type": "code",
   "source": [
    "if KNN_CLASSIFIER:\n",
    "    print(\"KNN:\" , knn_min_acc)\n",
    "if GP_CLASSIFIER:\n",
    "    print(\"GP:\" , gp_min_acc)\n",
    "if SVM_CLASSIFIER:\n",
    "    print(\"SVM:\" , svc_min_acc)\n",
    "if RF_CLASSIFIER:\n",
    "    print(\"RF:\" , rf_min_acc)\n",
    "if MLP_CLASSIFIER:\n",
    "    print(\"MLP:\" , mlp_min_acc)"
   ],
   "id": "a7b1231d60156c00",
   "outputs": [
    {
     "name": "stdout",
     "output_type": "stream",
     "text": [
      "KNN: 0.8199460916442048\n",
      "RF: 0.9752021563342318\n",
      "MLP: 0.5234501347708895\n"
     ]
    }
   ],
   "execution_count": 265
  },
  {
   "metadata": {},
   "cell_type": "markdown",
   "source": "## Hyperparameter Optimization",
   "id": "c37eb9fef3f25cf3"
  },
  {
   "metadata": {
    "ExecuteTime": {
     "end_time": "2024-05-04T16:01:40.287596Z",
     "start_time": "2024-05-04T16:00:54.828285Z"
    }
   },
   "cell_type": "code",
   "source": [
    "if KNN_CLASSIFIER and OPTIMIZATION:\n",
    "    def hyperparameter_function_knn(neighbours):\n",
    "        \"\"\" Function for hyperparameter optimization\n",
    "        \"\"\"        \n",
    "        neighbours = neighbours.round().astype(int)\n",
    "        knn_classifier = KNeighborsClassifier(n_neighbors=neighbours)#n_neighbors=neighbours\n",
    "        accuracy = model_selection.cross_val_score(knn_classifier, X=train_data, y=train_employed, cv=5, scoring='accuracy')\n",
    "        return accuracy.min()\n",
    "\n",
    "    # Bounded region of parameter space\n",
    "    pbounds = {'neighbours': (3, 7)}\n",
    "\n",
    "    optimizer = BayesianOptimization(\n",
    "        f=hyperparameter_function_knn,\n",
    "        pbounds=pbounds,\n",
    "        random_state=17,\n",
    "        allow_duplicate_points= True\n",
    "    )   \n",
    "\n",
    "    optimizer.maximize(\n",
    "        init_points=50,\n",
    "        n_iter=100,\n",
    "    )\n",
    "    "
   ],
   "id": "b77eba557fe31323",
   "outputs": [
    {
     "name": "stdout",
     "output_type": "stream",
     "text": [
      "|   iter    |  target   | neighb... |\n",
      "-------------------------------------\n",
      "| \u001B[0m1        \u001B[0m | \u001B[0m0.8253   \u001B[0m | \u001B[0m4.179    \u001B[0m |\n",
      "| \u001B[0m2        \u001B[0m | \u001B[0m0.8199   \u001B[0m | \u001B[0m5.122    \u001B[0m |\n",
      "| \u001B[0m3        \u001B[0m | \u001B[0m0.8253   \u001B[0m | \u001B[0m3.766    \u001B[0m |\n",
      "| \u001B[95m4        \u001B[0m | \u001B[95m0.8787   \u001B[0m | \u001B[95m3.272    \u001B[0m |\n",
      "| \u001B[0m5        \u001B[0m | \u001B[0m0.7757   \u001B[0m | \u001B[0m6.148    \u001B[0m |\n",
      "| \u001B[0m6        \u001B[0m | \u001B[0m0.7757   \u001B[0m | \u001B[0m5.625    \u001B[0m |\n",
      "| \u001B[0m7        \u001B[0m | \u001B[0m0.7757   \u001B[0m | \u001B[0m5.55     \u001B[0m |\n",
      "| \u001B[0m8        \u001B[0m | \u001B[0m0.8199   \u001B[0m | \u001B[0m5.302    \u001B[0m |\n",
      "| \u001B[0m9        \u001B[0m | \u001B[0m0.8787   \u001B[0m | \u001B[0m3.156    \u001B[0m |\n",
      "| \u001B[0m10       \u001B[0m | \u001B[0m0.8253   \u001B[0m | \u001B[0m4.431    \u001B[0m |\n",
      "| \u001B[0m11       \u001B[0m | \u001B[0m0.765    \u001B[0m | \u001B[0m6.783    \u001B[0m |\n",
      "| \u001B[0m12       \u001B[0m | \u001B[0m0.8787   \u001B[0m | \u001B[0m3.24     \u001B[0m |\n",
      "| \u001B[0m13       \u001B[0m | \u001B[0m0.7757   \u001B[0m | \u001B[0m6.456    \u001B[0m |\n",
      "| \u001B[0m14       \u001B[0m | \u001B[0m0.765    \u001B[0m | \u001B[0m6.509    \u001B[0m |\n",
      "| \u001B[0m15       \u001B[0m | \u001B[0m0.8787   \u001B[0m | \u001B[0m3.205    \u001B[0m |\n",
      "| \u001B[0m16       \u001B[0m | \u001B[0m0.7757   \u001B[0m | \u001B[0m5.61     \u001B[0m |\n",
      "| \u001B[0m17       \u001B[0m | \u001B[0m0.8199   \u001B[0m | \u001B[0m5.207    \u001B[0m |\n",
      "| \u001B[0m18       \u001B[0m | \u001B[0m0.8199   \u001B[0m | \u001B[0m5.39     \u001B[0m |\n",
      "| \u001B[0m19       \u001B[0m | \u001B[0m0.8199   \u001B[0m | \u001B[0m4.934    \u001B[0m |\n",
      "| \u001B[0m20       \u001B[0m | \u001B[0m0.8253   \u001B[0m | \u001B[0m4.132    \u001B[0m |\n",
      "| \u001B[0m21       \u001B[0m | \u001B[0m0.8253   \u001B[0m | \u001B[0m4.191    \u001B[0m |\n",
      "| \u001B[0m22       \u001B[0m | \u001B[0m0.8199   \u001B[0m | \u001B[0m5.246    \u001B[0m |\n",
      "| \u001B[0m23       \u001B[0m | \u001B[0m0.8199   \u001B[0m | \u001B[0m4.584    \u001B[0m |\n",
      "| \u001B[0m24       \u001B[0m | \u001B[0m0.7757   \u001B[0m | \u001B[0m6.155    \u001B[0m |\n",
      "| \u001B[0m25       \u001B[0m | \u001B[0m0.8199   \u001B[0m | \u001B[0m4.674    \u001B[0m |\n",
      "| \u001B[0m26       \u001B[0m | \u001B[0m0.8253   \u001B[0m | \u001B[0m3.576    \u001B[0m |\n",
      "| \u001B[0m27       \u001B[0m | \u001B[0m0.8253   \u001B[0m | \u001B[0m3.604    \u001B[0m |\n",
      "| \u001B[0m28       \u001B[0m | \u001B[0m0.8787   \u001B[0m | \u001B[0m3.221    \u001B[0m |\n",
      "| \u001B[0m29       \u001B[0m | \u001B[0m0.7757   \u001B[0m | \u001B[0m5.872    \u001B[0m |\n",
      "| \u001B[0m30       \u001B[0m | \u001B[0m0.8253   \u001B[0m | \u001B[0m4.169    \u001B[0m |\n",
      "| \u001B[0m31       \u001B[0m | \u001B[0m0.8253   \u001B[0m | \u001B[0m3.795    \u001B[0m |\n",
      "| \u001B[0m32       \u001B[0m | \u001B[0m0.7757   \u001B[0m | \u001B[0m6.325    \u001B[0m |\n",
      "| \u001B[0m33       \u001B[0m | \u001B[0m0.8199   \u001B[0m | \u001B[0m5.272    \u001B[0m |\n",
      "| \u001B[0m34       \u001B[0m | \u001B[0m0.8787   \u001B[0m | \u001B[0m3.329    \u001B[0m |\n",
      "| \u001B[0m35       \u001B[0m | \u001B[0m0.8199   \u001B[0m | \u001B[0m5.18     \u001B[0m |\n",
      "| \u001B[0m36       \u001B[0m | \u001B[0m0.8253   \u001B[0m | \u001B[0m3.636    \u001B[0m |\n",
      "| \u001B[0m37       \u001B[0m | \u001B[0m0.7757   \u001B[0m | \u001B[0m5.707    \u001B[0m |\n",
      "| \u001B[0m38       \u001B[0m | \u001B[0m0.8787   \u001B[0m | \u001B[0m3.474    \u001B[0m |\n",
      "| \u001B[0m39       \u001B[0m | \u001B[0m0.8199   \u001B[0m | \u001B[0m4.78     \u001B[0m |\n",
      "| \u001B[0m40       \u001B[0m | \u001B[0m0.765    \u001B[0m | \u001B[0m6.552    \u001B[0m |\n",
      "| \u001B[0m41       \u001B[0m | \u001B[0m0.7757   \u001B[0m | \u001B[0m6.189    \u001B[0m |\n",
      "| \u001B[0m42       \u001B[0m | \u001B[0m0.8787   \u001B[0m | \u001B[0m3.272    \u001B[0m |\n",
      "| \u001B[0m43       \u001B[0m | \u001B[0m0.765    \u001B[0m | \u001B[0m6.843    \u001B[0m |\n",
      "| \u001B[0m44       \u001B[0m | \u001B[0m0.7757   \u001B[0m | \u001B[0m5.637    \u001B[0m |\n",
      "| \u001B[0m45       \u001B[0m | \u001B[0m0.7757   \u001B[0m | \u001B[0m5.875    \u001B[0m |\n",
      "| \u001B[0m46       \u001B[0m | \u001B[0m0.7757   \u001B[0m | \u001B[0m5.974    \u001B[0m |\n",
      "| \u001B[0m47       \u001B[0m | \u001B[0m0.765    \u001B[0m | \u001B[0m6.551    \u001B[0m |\n",
      "| \u001B[0m48       \u001B[0m | \u001B[0m0.8253   \u001B[0m | \u001B[0m3.536    \u001B[0m |\n",
      "| \u001B[0m49       \u001B[0m | \u001B[0m0.7757   \u001B[0m | \u001B[0m6.108    \u001B[0m |\n",
      "| \u001B[0m50       \u001B[0m | \u001B[0m0.7757   \u001B[0m | \u001B[0m6.352    \u001B[0m |\n",
      "| \u001B[0m51       \u001B[0m | \u001B[0m0.8787   \u001B[0m | \u001B[0m3.0      \u001B[0m |\n",
      "| \u001B[0m52       \u001B[0m | \u001B[0m0.8787   \u001B[0m | \u001B[0m3.415    \u001B[0m |\n",
      "| \u001B[0m53       \u001B[0m | \u001B[0m0.8787   \u001B[0m | \u001B[0m3.066    \u001B[0m |\n",
      "| \u001B[0m54       \u001B[0m | \u001B[0m0.8253   \u001B[0m | \u001B[0m3.961    \u001B[0m |\n",
      "| \u001B[0m55       \u001B[0m | \u001B[0m0.8787   \u001B[0m | \u001B[0m3.447    \u001B[0m |\n",
      "| \u001B[0m56       \u001B[0m | \u001B[0m0.8787   \u001B[0m | \u001B[0m3.372    \u001B[0m |\n",
      "| \u001B[0m57       \u001B[0m | \u001B[0m0.8787   \u001B[0m | \u001B[0m3.109    \u001B[0m |\n",
      "| \u001B[0m58       \u001B[0m | \u001B[0m0.765    \u001B[0m | \u001B[0m7.0      \u001B[0m |\n",
      "| \u001B[0m59       \u001B[0m | \u001B[0m0.8787   \u001B[0m | \u001B[0m3.029    \u001B[0m |\n",
      "| \u001B[0m60       \u001B[0m | \u001B[0m0.8787   \u001B[0m | \u001B[0m3.302    \u001B[0m |\n",
      "| \u001B[0m61       \u001B[0m | \u001B[0m0.8787   \u001B[0m | \u001B[0m3.132    \u001B[0m |\n",
      "| \u001B[0m62       \u001B[0m | \u001B[0m0.8787   \u001B[0m | \u001B[0m3.394    \u001B[0m |\n",
      "| \u001B[0m63       \u001B[0m | \u001B[0m0.8787   \u001B[0m | \u001B[0m3.463    \u001B[0m |\n",
      "| \u001B[0m64       \u001B[0m | \u001B[0m0.8253   \u001B[0m | \u001B[0m4.327    \u001B[0m |\n",
      "| \u001B[0m65       \u001B[0m | \u001B[0m0.8787   \u001B[0m | \u001B[0m3.18     \u001B[0m |\n",
      "| \u001B[0m66       \u001B[0m | \u001B[0m0.8787   \u001B[0m | \u001B[0m3.086    \u001B[0m |\n",
      "| \u001B[0m67       \u001B[0m | \u001B[0m0.8787   \u001B[0m | \u001B[0m3.35     \u001B[0m |\n",
      "| \u001B[0m68       \u001B[0m | \u001B[0m0.8787   \u001B[0m | \u001B[0m3.013    \u001B[0m |\n",
      "| \u001B[0m69       \u001B[0m | \u001B[0m0.8787   \u001B[0m | \u001B[0m3.048    \u001B[0m |\n",
      "| \u001B[0m70       \u001B[0m | \u001B[0m0.8787   \u001B[0m | \u001B[0m3.431    \u001B[0m |\n",
      "| \u001B[0m71       \u001B[0m | \u001B[0m0.8787   \u001B[0m | \u001B[0m3.287    \u001B[0m |\n",
      "| \u001B[0m72       \u001B[0m | \u001B[0m0.8787   \u001B[0m | \u001B[0m3.18     \u001B[0m |\n",
      "| \u001B[0m73       \u001B[0m | \u001B[0m0.8787   \u001B[0m | \u001B[0m3.255    \u001B[0m |\n",
      "| \u001B[0m74       \u001B[0m | \u001B[0m0.8787   \u001B[0m | \u001B[0m3.316    \u001B[0m |\n",
      "| \u001B[0m75       \u001B[0m | \u001B[0m0.8787   \u001B[0m | \u001B[0m3.192    \u001B[0m |\n",
      "| \u001B[0m76       \u001B[0m | \u001B[0m0.8787   \u001B[0m | \u001B[0m3.144    \u001B[0m |\n",
      "| \u001B[0m77       \u001B[0m | \u001B[0m0.8787   \u001B[0m | \u001B[0m3.097    \u001B[0m |\n",
      "| \u001B[0m78       \u001B[0m | \u001B[0m0.8787   \u001B[0m | \u001B[0m3.361    \u001B[0m |\n",
      "| \u001B[0m79       \u001B[0m | \u001B[0m0.8787   \u001B[0m | \u001B[0m3.404    \u001B[0m |\n",
      "| \u001B[0m80       \u001B[0m | \u001B[0m0.8787   \u001B[0m | \u001B[0m3.121    \u001B[0m |\n",
      "| \u001B[0m81       \u001B[0m | \u001B[0m0.8787   \u001B[0m | \u001B[0m3.168    \u001B[0m |\n",
      "| \u001B[0m82       \u001B[0m | \u001B[0m0.8787   \u001B[0m | \u001B[0m3.469    \u001B[0m |\n",
      "| \u001B[0m83       \u001B[0m | \u001B[0m0.8787   \u001B[0m | \u001B[0m3.383    \u001B[0m |\n",
      "| \u001B[0m84       \u001B[0m | \u001B[0m0.8787   \u001B[0m | \u001B[0m3.038    \u001B[0m |\n",
      "| \u001B[0m85       \u001B[0m | \u001B[0m0.8787   \u001B[0m | \u001B[0m3.076    \u001B[0m |\n",
      "| \u001B[0m86       \u001B[0m | \u001B[0m0.8787   \u001B[0m | \u001B[0m3.34     \u001B[0m |\n",
      "| \u001B[0m87       \u001B[0m | \u001B[0m0.8787   \u001B[0m | \u001B[0m3.231    \u001B[0m |\n",
      "| \u001B[0m88       \u001B[0m | \u001B[0m0.8787   \u001B[0m | \u001B[0m3.439    \u001B[0m |\n",
      "| \u001B[0m89       \u001B[0m | \u001B[0m0.8787   \u001B[0m | \u001B[0m3.057    \u001B[0m |\n",
      "| \u001B[0m90       \u001B[0m | \u001B[0m0.8787   \u001B[0m | \u001B[0m3.005    \u001B[0m |\n",
      "| \u001B[0m91       \u001B[0m | \u001B[0m0.8787   \u001B[0m | \u001B[0m3.263    \u001B[0m |\n",
      "| \u001B[0m92       \u001B[0m | \u001B[0m0.8787   \u001B[0m | \u001B[0m3.213    \u001B[0m |\n",
      "| \u001B[0m93       \u001B[0m | \u001B[0m0.8787   \u001B[0m | \u001B[0m3.295    \u001B[0m |\n",
      "| \u001B[0m94       \u001B[0m | \u001B[0m0.8787   \u001B[0m | \u001B[0m3.423    \u001B[0m |\n",
      "| \u001B[0m95       \u001B[0m | \u001B[0m0.8787   \u001B[0m | \u001B[0m3.021    \u001B[0m |\n",
      "| \u001B[0m96       \u001B[0m | \u001B[0m0.8787   \u001B[0m | \u001B[0m3.248    \u001B[0m |\n",
      "| \u001B[0m97       \u001B[0m | \u001B[0m0.8787   \u001B[0m | \u001B[0m3.28     \u001B[0m |\n",
      "| \u001B[0m98       \u001B[0m | \u001B[0m0.8787   \u001B[0m | \u001B[0m3.309    \u001B[0m |\n",
      "| \u001B[0m99       \u001B[0m | \u001B[0m0.8787   \u001B[0m | \u001B[0m3.47     \u001B[0m |\n",
      "| \u001B[0m100      \u001B[0m | \u001B[0m0.8787   \u001B[0m | \u001B[0m3.322    \u001B[0m |\n",
      "| \u001B[0m101      \u001B[0m | \u001B[0m0.8787   \u001B[0m | \u001B[0m3.454    \u001B[0m |\n",
      "| \u001B[0m102      \u001B[0m | \u001B[0m0.8787   \u001B[0m | \u001B[0m3.199    \u001B[0m |\n",
      "| \u001B[0m103      \u001B[0m | \u001B[0m0.8787   \u001B[0m | \u001B[0m3.15     \u001B[0m |\n",
      "| \u001B[0m104      \u001B[0m | \u001B[0m0.8787   \u001B[0m | \u001B[0m3.104    \u001B[0m |\n",
      "| \u001B[0m105      \u001B[0m | \u001B[0m0.8787   \u001B[0m | \u001B[0m3.162    \u001B[0m |\n",
      "| \u001B[0m106      \u001B[0m | \u001B[0m0.8787   \u001B[0m | \u001B[0m3.127    \u001B[0m |\n",
      "| \u001B[0m107      \u001B[0m | \u001B[0m0.8787   \u001B[0m | \u001B[0m3.138    \u001B[0m |\n",
      "| \u001B[0m108      \u001B[0m | \u001B[0m0.8787   \u001B[0m | \u001B[0m3.115    \u001B[0m |\n",
      "| \u001B[0m109      \u001B[0m | \u001B[0m0.8787   \u001B[0m | \u001B[0m3.187    \u001B[0m |\n",
      "| \u001B[0m110      \u001B[0m | \u001B[0m0.8787   \u001B[0m | \u001B[0m3.355    \u001B[0m |\n",
      "| \u001B[0m111      \u001B[0m | \u001B[0m0.8787   \u001B[0m | \u001B[0m3.388    \u001B[0m |\n",
      "| \u001B[0m112      \u001B[0m | \u001B[0m0.8787   \u001B[0m | \u001B[0m3.378    \u001B[0m |\n",
      "| \u001B[0m113      \u001B[0m | \u001B[0m0.8787   \u001B[0m | \u001B[0m3.335    \u001B[0m |\n",
      "| \u001B[0m114      \u001B[0m | \u001B[0m0.8787   \u001B[0m | \u001B[0m3.092    \u001B[0m |\n",
      "| \u001B[0m115      \u001B[0m | \u001B[0m0.8787   \u001B[0m | \u001B[0m3.366    \u001B[0m |\n",
      "| \u001B[0m116      \u001B[0m | \u001B[0m0.8787   \u001B[0m | \u001B[0m3.409    \u001B[0m |\n",
      "| \u001B[0m117      \u001B[0m | \u001B[0m0.8787   \u001B[0m | \u001B[0m3.173    \u001B[0m |\n",
      "| \u001B[0m118      \u001B[0m | \u001B[0m0.8787   \u001B[0m | \u001B[0m3.399    \u001B[0m |\n",
      "| \u001B[0m119      \u001B[0m | \u001B[0m0.8787   \u001B[0m | \u001B[0m3.081    \u001B[0m |\n",
      "| \u001B[0m120      \u001B[0m | \u001B[0m0.8787   \u001B[0m | \u001B[0m3.043    \u001B[0m |\n",
      "| \u001B[0m121      \u001B[0m | \u001B[0m0.8787   \u001B[0m | \u001B[0m3.226    \u001B[0m |\n",
      "| \u001B[0m122      \u001B[0m | \u001B[0m0.8787   \u001B[0m | \u001B[0m3.47     \u001B[0m |\n",
      "| \u001B[0m123      \u001B[0m | \u001B[0m0.8787   \u001B[0m | \u001B[0m3.345    \u001B[0m |\n",
      "| \u001B[0m124      \u001B[0m | \u001B[0m0.8787   \u001B[0m | \u001B[0m3.071    \u001B[0m |\n",
      "| \u001B[0m125      \u001B[0m | \u001B[0m0.8787   \u001B[0m | \u001B[0m3.236    \u001B[0m |\n",
      "\u001B[91mData point [3.] is not unique. 1 duplicates registered. Continuing ...\u001B[0m\n",
      "| \u001B[0m126      \u001B[0m | \u001B[0m0.8787   \u001B[0m | \u001B[0m3.0      \u001B[0m |\n",
      "| \u001B[0m127      \u001B[0m | \u001B[0m0.8787   \u001B[0m | \u001B[0m3.034    \u001B[0m |\n",
      "| \u001B[0m128      \u001B[0m | \u001B[0m0.8787   \u001B[0m | \u001B[0m3.053    \u001B[0m |\n",
      "| \u001B[0m129      \u001B[0m | \u001B[0m0.8787   \u001B[0m | \u001B[0m3.062    \u001B[0m |\n",
      "| \u001B[0m130      \u001B[0m | \u001B[0m0.8787   \u001B[0m | \u001B[0m3.443    \u001B[0m |\n",
      "| \u001B[0m131      \u001B[0m | \u001B[0m0.8787   \u001B[0m | \u001B[0m3.017    \u001B[0m |\n",
      "| \u001B[0m132      \u001B[0m | \u001B[0m0.8787   \u001B[0m | \u001B[0m3.427    \u001B[0m |\n",
      "| \u001B[0m133      \u001B[0m | \u001B[0m0.8787   \u001B[0m | \u001B[0m3.217    \u001B[0m |\n",
      "| \u001B[0m134      \u001B[0m | \u001B[0m0.8787   \u001B[0m | \u001B[0m3.418    \u001B[0m |\n",
      "| \u001B[0m135      \u001B[0m | \u001B[0m0.8787   \u001B[0m | \u001B[0m3.291    \u001B[0m |\n",
      "| \u001B[0m136      \u001B[0m | \u001B[0m0.8787   \u001B[0m | \u001B[0m3.007    \u001B[0m |\n",
      "| \u001B[0m137      \u001B[0m | \u001B[0m0.8787   \u001B[0m | \u001B[0m3.245    \u001B[0m |\n",
      "| \u001B[0m138      \u001B[0m | \u001B[0m0.8787   \u001B[0m | \u001B[0m3.208    \u001B[0m |\n",
      "| \u001B[0m139      \u001B[0m | \u001B[0m0.8787   \u001B[0m | \u001B[0m3.26     \u001B[0m |\n",
      "| \u001B[0m140      \u001B[0m | \u001B[0m0.8787   \u001B[0m | \u001B[0m3.025    \u001B[0m |\n",
      "| \u001B[0m141      \u001B[0m | \u001B[0m0.8787   \u001B[0m | \u001B[0m3.3      \u001B[0m |\n",
      "| \u001B[0m142      \u001B[0m | \u001B[0m0.8787   \u001B[0m | \u001B[0m3.435    \u001B[0m |\n",
      "| \u001B[0m143      \u001B[0m | \u001B[0m0.8787   \u001B[0m | \u001B[0m3.326    \u001B[0m |\n",
      "| \u001B[0m144      \u001B[0m | \u001B[0m0.8787   \u001B[0m | \u001B[0m3.282    \u001B[0m |\n",
      "| \u001B[0m145      \u001B[0m | \u001B[0m0.8787   \u001B[0m | \u001B[0m3.451    \u001B[0m |\n",
      "| \u001B[0m146      \u001B[0m | \u001B[0m0.8787   \u001B[0m | \u001B[0m3.307    \u001B[0m |\n",
      "| \u001B[0m147      \u001B[0m | \u001B[0m0.8787   \u001B[0m | \u001B[0m3.252    \u001B[0m |\n",
      "| \u001B[0m148      \u001B[0m | \u001B[0m0.8787   \u001B[0m | \u001B[0m3.47     \u001B[0m |\n",
      "| \u001B[0m149      \u001B[0m | \u001B[0m0.8787   \u001B[0m | \u001B[0m3.196    \u001B[0m |\n",
      "| \u001B[0m150      \u001B[0m | \u001B[0m0.8787   \u001B[0m | \u001B[0m3.267    \u001B[0m |\n",
      "=====================================\n"
     ]
    }
   ],
   "execution_count": 266
  },
  {
   "metadata": {
    "ExecuteTime": {
     "end_time": "2024-05-04T16:01:40.420169Z",
     "start_time": "2024-05-04T16:01:40.287596Z"
    }
   },
   "cell_type": "code",
   "source": [
    "if KNN_CLASSIFIER and OPTIMIZATION:\n",
    "    #optimal values\n",
    "    neighbours = 3\n",
    "    \n",
    "    \n",
    "    knn_classifier = KNeighborsClassifier(n_neighbors=neighbours)\n",
    "    accuracy = model_selection.cross_val_score(knn_classifier, X=train_data, y=train_employed, cv=5, scoring='accuracy')\n",
    "    print(accuracy.min())"
   ],
   "id": "e46721af94dc942d",
   "outputs": [
    {
     "name": "stdout",
     "output_type": "stream",
     "text": [
      "0.8787061994609164\n"
     ]
    }
   ],
   "execution_count": 267
  },
  {
   "metadata": {
    "ExecuteTime": {
     "end_time": "2024-05-04T15:32:53.101942Z",
     "start_time": "2024-05-04T15:32:53.101942Z"
    }
   },
   "cell_type": "code",
   "source": [
    "if SVM_CLASSIFIER and OPTIMIZATION:\n",
    "    def hyperparameter_function_svc(gamma, C):\n",
    "        \"\"\" Function for hyperparameter optimization\n",
    "        \"\"\"\n",
    "        svc = SVC(gamma=gamma, C=C)\n",
    "        svc.fit(temp_train_data, temp_train_employed.astype(bool))\n",
    "        temp_test_employed_pred = svc.predict(temp_test_data)\n",
    "        return sklearn.metrics.accuracy_score(temp_test_employed.astype(bool), temp_test_employed_pred)\n",
    "\n",
    "    # Bounded region of parameter space\n",
    "    pbounds = {'gamma': (0, 1.5), 'C': (0.00001, 2)}\n",
    "\n",
    "    optimizer = BayesianOptimization(\n",
    "        f=hyperparameter_function_svc,\n",
    "        pbounds=pbounds,\n",
    "        random_state=6,\n",
    "    )"
   ],
   "id": "55049906c2edf989",
   "outputs": [],
   "execution_count": null
  },
  {
   "metadata": {
    "ExecuteTime": {
     "end_time": "2024-05-04T15:07:55.824646Z",
     "start_time": "2024-05-04T15:07:55.805011Z"
    }
   },
   "cell_type": "code",
   "source": [
    "if SVM_CLASSIFIER and OPTIMIZATION:\n",
    "    optimizer.maximize(\n",
    "        init_points=50,\n",
    "        n_iter=100,\n",
    "    )"
   ],
   "id": "8e476017f866af0e",
   "outputs": [],
   "execution_count": 168
  },
  {
   "metadata": {
    "ExecuteTime": {
     "end_time": "2024-05-04T15:07:55.840272Z",
     "start_time": "2024-05-04T15:07:55.824646Z"
    }
   },
   "cell_type": "code",
   "source": [
    "if SVM_CLASSIFIER and OPTIMIZATION:\n",
    "    svc = sklearn.svm.SVC(gamma=2, C=0.3817)\n",
    "    svc.fit(temp_train_data, temp_train_employed)\n",
    "    temp_test_employed_pred = svc.predict(temp_test_data)\n",
    "\n",
    "    print(sklearn.metrics.accuracy_score(temp_test_employed, temp_test_employed_pred))"
   ],
   "id": "41366a93ca68ff56",
   "outputs": [],
   "execution_count": 169
  },
  {
   "metadata": {
    "ExecuteTime": {
     "end_time": "2024-05-04T15:07:55.855898Z",
     "start_time": "2024-05-04T15:07:55.840272Z"
    }
   },
   "cell_type": "code",
   "source": [
    "if MLP_CLASSIFIER and OPTIMIZATION:\n",
    "    def hyperparameter_function_mlp(lr, hl_w,hl_d ):\n",
    "        \"\"\" Function for hyperparameter optimization\n",
    "        \"\"\"\n",
    "                \n",
    "        mlp_c = MLPClassifier(learning_rate_init=lr,hidden_layer_sizes=(hl_d,hl_w))\n",
    "        print(temp_train_data)\n",
    "        print(temp_train_employed)\n",
    "        \n",
    "        mlp_c.fit(temp_train_data, temp_train_employed.astype(bool))        \n",
    "        temp_test_employed_pred = mlp_c.predict(temp_test_data)      \n",
    "        return sklearn.metrics.accuracy_score(temp_test_employed.astype(bool), temp_test_employed_pred)\n",
    "\n",
    "\n",
    "    # Bounded region of parameter space\n",
    "    pbounds = {'lr': (0.1, 1), 'hl_w': (1, 15),'hl_d':(1, 15)}\n",
    "\n",
    "    optimizer = BayesianOptimization(\n",
    "        f=hyperparameter_function_mlp,\n",
    "        pbounds=pbounds,\n",
    "        random_state=6,\n",
    "    )    "
   ],
   "id": "26a51dbae8a90fda",
   "outputs": [],
   "execution_count": 170
  },
  {
   "metadata": {
    "ExecuteTime": {
     "end_time": "2024-05-04T15:07:55.871524Z",
     "start_time": "2024-05-04T15:07:55.855898Z"
    }
   },
   "cell_type": "code",
   "source": [
    "if MLP_CLASSIFIER and OPTIMIZATION:    \n",
    "    optimizer.maximize(\n",
    "        init_points=50,\n",
    "        n_iter=100,\n",
    "    )"
   ],
   "id": "bb639d26046f836c",
   "outputs": [],
   "execution_count": 171
  },
  {
   "metadata": {
    "ExecuteTime": {
     "end_time": "2024-05-04T15:07:55.887151Z",
     "start_time": "2024-05-04T15:07:55.871524Z"
    }
   },
   "cell_type": "code",
   "source": [
    "if MLP_CLASSIFIER and OPTIMIZATION: \n",
    "    mlp_c = MLPClassifier(learning_rate_init=0.1,hidden_layer_sizes=(1,1) )\n",
    "    mlp_c.fit(temp_train_data, temp_train_employed)\n",
    "    temp_test_employed_pred = mlp_c.predict(temp_test_data)\n",
    "\n",
    "    print(sklearn.metrics.accuracy_score(temp_test_employed, temp_test_employed_pred))"
   ],
   "id": "ebcc166ca7565446",
   "outputs": [
    {
     "ename": "IndentationError",
     "evalue": "expected an indented block (3223136079.py, line 3)",
     "output_type": "error",
     "traceback": [
      "\u001B[1;36m  Cell \u001B[1;32mIn[172], line 3\u001B[1;36m\u001B[0m\n\u001B[1;33m    mlp_c = MLPClassifier(learning_rate_init=0.1,hidden_layer_sizes=(1,1) )\u001B[0m\n\u001B[1;37m    ^\u001B[0m\n\u001B[1;31mIndentationError\u001B[0m\u001B[1;31m:\u001B[0m expected an indented block\n"
     ]
    }
   ],
   "execution_count": 172
  },
  {
   "metadata": {},
   "cell_type": "markdown",
   "source": "## Data results <a class=\"anchor\" id=\"8th\"></a>",
   "id": "d98ad269b5cf0d8a"
  },
  {
   "metadata": {
    "ExecuteTime": {
     "end_time": "2024-05-04T16:03:21.304667Z",
     "start_time": "2024-05-04T16:03:21.172149Z"
    }
   },
   "cell_type": "code",
   "source": [
    "if KNN_CLASSIFIER:\n",
    "    knn_classifier = KNeighborsClassifier(n_neighbors=3)\n",
    "    knn_classifier.fit(temp_train_data, temp_train_employed.astype(bool))\n",
    "\n",
    "    temp_test_employed_pred = knn_classifier.predict(temp_test_data)\n",
    "\n",
    "    accuracy = model_selection.cross_val_score(knn_classifier, X=train_data, y=train_employed, cv=5, scoring='accuracy')\n",
    "    knn_min_acc = accuracy.min()\n",
    "    print(accuracy)"
   ],
   "id": "475ca83f6a1d07a5",
   "outputs": [
    {
     "name": "stdout",
     "output_type": "stream",
     "text": [
      "[0.88469828 0.8787062  0.88086253 0.89272237 0.89811321]\n"
     ]
    }
   ],
   "execution_count": 272
  },
  {
   "metadata": {
    "ExecuteTime": {
     "end_time": "2024-05-04T16:12:42.971491Z",
     "start_time": "2024-05-04T16:12:42.940159Z"
    }
   },
   "cell_type": "code",
   "source": "df_test = pd.read_csv('../../data/processed/employment_test_processed.csv')",
   "id": "1f23feb180f0ddb9",
   "outputs": [],
   "execution_count": 299
  },
  {
   "metadata": {
    "ExecuteTime": {
     "end_time": "2024-05-04T16:13:11.931652Z",
     "start_time": "2024-05-04T16:13:11.900400Z"
    }
   },
   "cell_type": "code",
   "source": [
    "best_classifier = knn_classifier\n",
    "\n",
    "test = df_test.values\n",
    "\n",
    "final_pred = best_classifier.predict(test)\n",
    "\n",
    "print(final_pred)"
   ],
   "id": "1ad19a9edfa0226a",
   "outputs": [
    {
     "name": "stdout",
     "output_type": "stream",
     "text": [
      "[False False False False False False False  True False False False False\n",
      " False False  True  True  True False False False False False False False\n",
      " False False False False False False False False  True False False False\n",
      " False False False  True False False False False False False False  True\n",
      " False  True  True False False False False  True False False False False\n",
      " False False False False False False  True  True  True False False False\n",
      " False False False False  True  True False  True  True False False False\n",
      " False False False False  True False  True  True False False False False\n",
      "  True False  True False False False  True  True  True  True False False\n",
      " False False  True False False False  True False False False  True False\n",
      " False  True  True  True False False False  True  True False False  True\n",
      " False False False False False  True False  True False False False False\n",
      " False False False False False False False False False False False False\n",
      " False False False False False False False False False  True False False\n",
      " False False False  True False False False False False False False False\n",
      " False False False False False False False False False False False False\n",
      "  True False False False False False False  True]\n"
     ]
    }
   ],
   "execution_count": 302
  },
  {
   "metadata": {
    "ExecuteTime": {
     "end_time": "2024-05-04T16:13:19.489534Z",
     "start_time": "2024-05-04T16:13:19.473904Z"
    }
   },
   "cell_type": "code",
   "source": [
    "df_final = pd.read_csv('../../data/raw/teco-psda-exercisesheet1-employment-2024/employment_test_sample.csv',decimal=\",\")\n",
    "\n",
    "print(df_final)"
   ],
   "id": "8087676a6ff8c789",
   "outputs": [
    {
     "name": "stdout",
     "output_type": "stream",
     "text": [
      "       Id  Category\n",
      "0      43         1\n",
      "1      45         1\n",
      "2      64         1\n",
      "3      86         1\n",
      "4      94         1\n",
      "..    ...       ...\n",
      "195  5144         1\n",
      "196  5190         1\n",
      "197  5296         1\n",
      "198  5313         1\n",
      "199  5338         1\n",
      "\n",
      "[200 rows x 2 columns]\n"
     ]
    }
   ],
   "execution_count": 303
  },
  {
   "metadata": {
    "ExecuteTime": {
     "end_time": "2024-05-04T16:15:11.855240Z",
     "start_time": "2024-05-04T16:15:11.839613Z"
    }
   },
   "cell_type": "code",
   "source": [
    "final = df_final.values\n",
    "for i in range(0,len(final)):\n",
    "    final[i,1] = final_pred[i]\n",
    "print(final)\n",
    "\n",
    "print(final[:,1].sum())"
   ],
   "id": "65a50f86429fd4ae",
   "outputs": [
    {
     "name": "stdout",
     "output_type": "stream",
     "text": [
      "[[  43    0]\n",
      " [  45    0]\n",
      " [  64    0]\n",
      " [  86    0]\n",
      " [  94    0]\n",
      " [ 105    0]\n",
      " [ 115    0]\n",
      " [ 129    1]\n",
      " [ 241    0]\n",
      " [ 254    0]\n",
      " [ 382    0]\n",
      " [ 394    0]\n",
      " [ 442    0]\n",
      " [ 483    0]\n",
      " [ 532    1]\n",
      " [ 540    1]\n",
      " [ 543    1]\n",
      " [ 550    0]\n",
      " [ 602    0]\n",
      " [ 671    0]\n",
      " [ 705    0]\n",
      " [ 721    0]\n",
      " [ 746    0]\n",
      " [ 769    0]\n",
      " [ 774    0]\n",
      " [ 837    0]\n",
      " [ 860    0]\n",
      " [ 885    0]\n",
      " [ 918    0]\n",
      " [ 968    0]\n",
      " [1030    0]\n",
      " [1095    0]\n",
      " [1185    1]\n",
      " [1205    0]\n",
      " [1291    0]\n",
      " [1301    0]\n",
      " [1306    0]\n",
      " [1337    0]\n",
      " [1353    0]\n",
      " [1366    1]\n",
      " [1387    0]\n",
      " [1396    0]\n",
      " [1398    0]\n",
      " [1435    0]\n",
      " [1476    0]\n",
      " [1479    0]\n",
      " [1504    0]\n",
      " [1525    1]\n",
      " [1541    0]\n",
      " [1551    1]\n",
      " [1560    1]\n",
      " [1568    0]\n",
      " [1639    0]\n",
      " [1650    0]\n",
      " [1694    0]\n",
      " [1726    1]\n",
      " [1753    0]\n",
      " [1798    0]\n",
      " [1811    0]\n",
      " [1822    0]\n",
      " [1842    0]\n",
      " [1893    0]\n",
      " [1915    0]\n",
      " [1956    0]\n",
      " [1960    0]\n",
      " [1971    0]\n",
      " [2030    1]\n",
      " [2111    1]\n",
      " [2176    1]\n",
      " [2200    0]\n",
      " [2254    0]\n",
      " [2258    0]\n",
      " [2264    0]\n",
      " [2295    0]\n",
      " [2327    0]\n",
      " [2328    0]\n",
      " [2412    1]\n",
      " [2423    1]\n",
      " [2426    0]\n",
      " [2452    1]\n",
      " [2595    1]\n",
      " [2613    0]\n",
      " [2634    0]\n",
      " [2642    0]\n",
      " [2644    0]\n",
      " [2648    0]\n",
      " [2650    0]\n",
      " [2652    0]\n",
      " [2677    1]\n",
      " [2778    0]\n",
      " [2889    1]\n",
      " [2890    1]\n",
      " [2897    0]\n",
      " [2899    0]\n",
      " [2965    0]\n",
      " [2967    0]\n",
      " [2977    1]\n",
      " [3050    0]\n",
      " [3065    1]\n",
      " [3073    0]\n",
      " [3082    0]\n",
      " [3094    0]\n",
      " [3096    1]\n",
      " [3097    1]\n",
      " [3104    1]\n",
      " [3109    1]\n",
      " [3149    0]\n",
      " [3151    0]\n",
      " [3155    0]\n",
      " [3175    0]\n",
      " [3182    1]\n",
      " [3185    0]\n",
      " [3226    0]\n",
      " [3244    0]\n",
      " [3256    1]\n",
      " [3305    0]\n",
      " [3312    0]\n",
      " [3328    0]\n",
      " [3349    1]\n",
      " [3352    0]\n",
      " [3408    0]\n",
      " [3419    1]\n",
      " [3430    1]\n",
      " [3491    1]\n",
      " [3535    0]\n",
      " [3556    0]\n",
      " [3559    0]\n",
      " [3572    1]\n",
      " [3611    1]\n",
      " [3621    0]\n",
      " [3665    0]\n",
      " [3673    1]\n",
      " [3682    0]\n",
      " [3686    0]\n",
      " [3700    0]\n",
      " [3713    0]\n",
      " [3742    0]\n",
      " [3759    1]\n",
      " [3786    0]\n",
      " [3819    1]\n",
      " [3824    0]\n",
      " [3871    0]\n",
      " [3882    0]\n",
      " [3942    0]\n",
      " [3954    0]\n",
      " [3973    0]\n",
      " [3981    0]\n",
      " [3990    0]\n",
      " [4025    0]\n",
      " [4031    0]\n",
      " [4032    0]\n",
      " [4073    0]\n",
      " [4102    0]\n",
      " [4103    0]\n",
      " [4122    0]\n",
      " [4179    0]\n",
      " [4200    0]\n",
      " [4233    0]\n",
      " [4234    0]\n",
      " [4240    0]\n",
      " [4248    0]\n",
      " [4300    0]\n",
      " [4307    0]\n",
      " [4308    0]\n",
      " [4327    0]\n",
      " [4377    1]\n",
      " [4418    0]\n",
      " [4463    0]\n",
      " [4473    0]\n",
      " [4491    0]\n",
      " [4521    0]\n",
      " [4543    1]\n",
      " [4546    0]\n",
      " [4564    0]\n",
      " [4585    0]\n",
      " [4597    0]\n",
      " [4613    0]\n",
      " [4615    0]\n",
      " [4657    0]\n",
      " [4673    0]\n",
      " [4692    0]\n",
      " [4729    0]\n",
      " [4742    0]\n",
      " [4746    0]\n",
      " [4756    0]\n",
      " [4767    0]\n",
      " [4791    0]\n",
      " [4836    0]\n",
      " [4839    0]\n",
      " [4871    0]\n",
      " [4877    0]\n",
      " [4884    0]\n",
      " [5005    1]\n",
      " [5036    0]\n",
      " [5098    0]\n",
      " [5144    0]\n",
      " [5190    0]\n",
      " [5296    0]\n",
      " [5313    0]\n",
      " [5338    1]]\n",
      "41\n"
     ]
    }
   ],
   "execution_count": 309
  },
  {
   "metadata": {
    "ExecuteTime": {
     "end_time": "2024-05-04T16:14:36.146069Z",
     "start_time": "2024-05-04T16:14:36.114815Z"
    }
   },
   "cell_type": "code",
   "source": [
    "df_fine = pd.DataFrame(final, columns = df_final.columns)\n",
    "\n",
    "\n",
    "df_fine.to_csv('../../data/predictions/employment_test_final.csv',index=False)"
   ],
   "id": "c43b8e455e2010bd",
   "outputs": [],
   "execution_count": 306
  }
 ],
 "metadata": {
  "kernelspec": {
   "display_name": "Python 3",
   "language": "python",
   "name": "python3"
  },
  "language_info": {
   "codemirror_mode": {
    "name": "ipython",
    "version": 2
   },
   "file_extension": ".py",
   "mimetype": "text/x-python",
   "name": "python",
   "nbconvert_exporter": "python",
   "pygments_lexer": "ipython2",
   "version": "2.7.6"
  }
 },
 "nbformat": 4,
 "nbformat_minor": 5
}
