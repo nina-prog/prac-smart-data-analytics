{
 "cells": [
  {
   "metadata": {},
   "cell_type": "markdown",
   "source": [
    "## TOC:\n",
    "* [Imports](#1st)\n",
    "* [Config](#2nd)\n",
    "* [Data Import](#3rd)\n",
    "* [2nd visualization](#4th)\n",
    "* [Train Test Split](#5th)\n",
    "* [Classifiers](#6th)\n",
    "* [Results](#7th)\n"
   ],
   "id": "24e7261edbc99fc6"
  },
  {
   "metadata": {},
   "cell_type": "markdown",
   "source": "## Imports <a class=\"anchor\" id=\"1st\"></a>",
   "id": "7ee2f26bef6e5627"
  },
  {
   "cell_type": "code",
   "id": "initial_id",
   "metadata": {
    "collapsed": true,
    "ExecuteTime": {
     "end_time": "2024-05-04T14:57:15.407397Z",
     "start_time": "2024-05-04T14:57:15.391772Z"
    }
   },
   "source": [
    "import pandas as pd\n",
    "import numpy as np\n",
    "\n",
    "import seaborn as sns\n",
    "import matplotlib.pyplot as plt\n",
    "\n",
    "import sklearn\n",
    "from sklearn.ensemble import GradientBoostingClassifier, RandomForestClassifier\n",
    "from sklearn.preprocessing import OneHotEncoder, StandardScaler\n",
    "from sklearn.neighbors import KNeighborsClassifier\n",
    "from sklearn.gaussian_process import GaussianProcessClassifier\n",
    "from sklearn.metrics import accuracy_score,f1_score\n",
    "from sklearn.svm import SVC\n",
    "from bayes_opt import BayesianOptimization\n",
    "from sklearn.model_selection import train_test_split\n",
    "from sklearn.neural_network import MLPClassifier\n",
    "from sklearn import model_selection\n",
    "from sklearn.utils import resample"
   ],
   "outputs": [],
   "execution_count": 131
  },
  {
   "metadata": {},
   "cell_type": "markdown",
   "source": "## Config <a class=\"anchor\" id=\"2nd\"></a>",
   "id": "85ddb26380179001"
  },
  {
   "metadata": {
    "ExecuteTime": {
     "end_time": "2024-05-04T15:07:25.750662Z",
     "start_time": "2024-05-04T15:07:25.735033Z"
    }
   },
   "cell_type": "code",
   "source": [
    "TRAIN_TEST_SPLIT = True\n",
    "\n",
    "KNN_CLASSIFIER = True\n",
    "\n",
    "GP_CLASSIFIER = True\n",
    "\n",
    "RF_CLASSIFIER = True\n",
    "\n",
    "SVM_CLASSIFIER = True\n",
    "\n",
    "MLP_CLASSIFIER = True\n",
    "\n",
    "OPTIMIZATION = False"
   ],
   "id": "d64543224b7be2e6",
   "outputs": [],
   "execution_count": 160
  },
  {
   "metadata": {},
   "cell_type": "markdown",
   "source": "## Data Import <a class=\"anchor\" id=\"3rd\"></a>",
   "id": "5bbc82c717ccff93"
  },
  {
   "metadata": {
    "ExecuteTime": {
     "end_time": "2024-05-04T14:26:10.122221Z",
     "start_time": "2024-05-04T14:26:10.084459Z"
    }
   },
   "cell_type": "code",
   "source": [
    "# Data Read\n",
    "df_train = pd.read_csv('../../data/processed/employment_train_processed.csv')\n",
    "df_test = pd.read_csv('../../data/processed/employment_test_processed.csv')\n",
    "\n",
    "# Check Columns for preprocessing \n",
    "print(df_test.columns)\n",
    "print(df_train.columns)"
   ],
   "id": "5fc109a0d9a13a48",
   "outputs": [
    {
     "name": "stdout",
     "output_type": "stream",
     "text": [
      "Index(['Unnamed: 0', 'age', 'race', 'earnwke', 'married', 'union', 'ne_states',\n",
      "       'so_states', 'ce_states', 'we_states', 'government', 'private', 'self',\n",
      "       'educ_lths', 'educ_hs', 'educ_somecol', 'educ_aa', 'educ_bac',\n",
      "       'educ_adv', 'female'],\n",
      "      dtype='object')\n",
      "Index(['Id', 'age', 'race', 'earnwke', 'employed', 'unemployed', 'married',\n",
      "       'union', 'ne_states', 'so_states', 'ce_states', 'we_states',\n",
      "       'government', 'private', 'self', 'educ_lths', 'educ_hs', 'educ_somecol',\n",
      "       'educ_aa', 'educ_bac', 'educ_adv', 'female'],\n",
      "      dtype='object')\n"
     ]
    }
   ],
   "execution_count": 81
  },
  {
   "metadata": {
    "ExecuteTime": {
     "end_time": "2024-05-04T14:28:23.188876Z",
     "start_time": "2024-05-04T14:28:23.163240Z"
    }
   },
   "cell_type": "code",
   "source": "#DEBUG print(len(df_train))  ",
   "id": "635db3e83fd74ac2",
   "outputs": [
    {
     "name": "stdout",
     "output_type": "stream",
     "text": [
      "9276\n"
     ]
    }
   ],
   "execution_count": 101
  },
  {
   "metadata": {},
   "cell_type": "markdown",
   "source": "## 2nd visual <a class=\"anchor\" id=\"4th\"></a>",
   "id": "4f6144ad732c5a2f"
  },
  {
   "metadata": {
    "ExecuteTime": {
     "end_time": "2024-05-04T14:26:10.185420Z",
     "start_time": "2024-05-04T14:26:10.169794Z"
    }
   },
   "cell_type": "code",
   "source": "",
   "id": "7ea8c40ffc8a9074",
   "outputs": [],
   "execution_count": 82
  },
  {
   "metadata": {},
   "cell_type": "markdown",
   "source": "## Partial Data Preprocesssing <a class=\"anchor\" id=\"5th\"></a>",
   "id": "de85697405485739"
  },
  {
   "metadata": {
    "ExecuteTime": {
     "end_time": "2024-05-04T14:41:36.111019Z",
     "start_time": "2024-05-04T14:41:36.095393Z"
    }
   },
   "cell_type": "code",
   "source": [
    "train = df_train.values\n",
    "\n",
    "# Shuffle for later crossval\n",
    "idx = np.arange(train.shape[0])\n",
    "np.random.seed(7)\n",
    "np.random.shuffle(idx)\n",
    "train = train[idx]\n",
    "\n",
    "df_train = pd.DataFrame(train, columns = df_train.columns)"
   ],
   "id": "eab643ef9107a0c2",
   "outputs": [],
   "execution_count": 109
  },
  {
   "metadata": {
    "ExecuteTime": {
     "end_time": "2024-05-04T14:41:36.226411Z",
     "start_time": "2024-05-04T14:41:36.195159Z"
    }
   },
   "cell_type": "code",
   "source": [
    "continuous_cols = ['age', 'race', 'earnwke']\n",
    "categorical_cols = ['employed', 'unemployed', 'married', 'union', 'ne_states', 'so_states', 'ce_states', 'we_states', 'government', 'private', 'self', 'educ_lths', 'educ_hs',  'educ_somecol', 'educ_aa', 'educ_bac', 'educ_adv', 'female']\n",
    "\n",
    "snv = sklearn.preprocessing.StandardScaler()\n",
    "\n",
    "df_train[continuous_cols] = snv.fit_transform(df_train[continuous_cols])\n",
    "df_test[continuous_cols] = snv.transform(df_test[continuous_cols])"
   ],
   "id": "5791b72705f60b94",
   "outputs": [],
   "execution_count": 110
  },
  {
   "metadata": {},
   "cell_type": "markdown",
   "source": "## Train Test Split <a class=\"anchor\" id=\"6th\"></a>",
   "id": "881dca3b8961ec23"
  },
  {
   "metadata": {
    "ExecuteTime": {
     "end_time": "2024-05-04T14:41:36.248547Z",
     "start_time": "2024-05-04T14:41:36.226411Z"
    }
   },
   "cell_type": "code",
   "source": [
    "train = df_train.values\n",
    "train_ids = train[:, 0]\n",
    "train_employed = train[:, 4]\n",
    "train_unemployed = train[:, 5]\n",
    "train_data = train[:,np.array([not i == 4 and  not i == 5  for i in range(1,23)])]\n",
    "test = df_test.values "
   ],
   "id": "29a12f218d7ea7ab",
   "outputs": [],
   "execution_count": 111
  },
  {
   "metadata": {
    "ExecuteTime": {
     "end_time": "2024-05-04T14:41:36.264173Z",
     "start_time": "2024-05-04T14:41:36.248547Z"
    }
   },
   "cell_type": "code",
   "source": [
    "if TRAIN_TEST_SPLIT:\n",
    "    temp_train_ids, temp_test_ids, temp_train_data, temp_test_data, temp_train_employed, temp_test_employed = train_test_split(train_ids, train_data, train_employed, test_size=200, random_state=7)\n",
    "else: temp_train_ids, temp_train_data, temp_test_employed = train_ids, train_data, train_employed"
   ],
   "id": "7ab912aa547ee46f",
   "outputs": [],
   "execution_count": 112
  },
  {
   "metadata": {},
   "cell_type": "markdown",
   "source": "## Classifiers <a class=\"anchor\" id=\"7th\"></a>",
   "id": "c1fd78979f9bcdd"
  },
  {
   "metadata": {
    "ExecuteTime": {
     "end_time": "2024-05-04T14:57:21.526796Z",
     "start_time": "2024-05-04T14:57:21.511178Z"
    }
   },
   "cell_type": "code",
   "source": [
    "if KNN_CLASSIFIER:\n",
    "    knn_classifier = KNeighborsClassifier()\n",
    "    knn_classifier.fit(temp_train_data, temp_train_employed.astype(bool))"
   ],
   "id": "7209800e4ade319",
   "outputs": [],
   "execution_count": 132
  },
  {
   "metadata": {
    "ExecuteTime": {
     "end_time": "2024-05-04T15:02:40.077049Z",
     "start_time": "2024-05-04T15:02:39.940958Z"
    }
   },
   "cell_type": "code",
   "source": [
    "if KNN_CLASSIFIER:\n",
    "    temp_test_employed_pred = knn_classifier.predict(temp_test_data)\n",
    "\n",
    "    accuracy = model_selection.cross_val_score(knn_classifier, X=train_data, y=train_employed, cv=5, scoring='accuracy')\n",
    "    knn_min_acc = accuracy.min()\n",
    "    print(accuracy)\n",
    "    \n",
    "    #print(\"Accuracy\",sklearn.metrics.accuracy_score(temp_test_employed.astype(bool), temp_test_employed_pred))\n",
    "    #print(\"F1-Score\",sklearn.metrics.f1_score (temp_test_employed.astype(bool), temp_test_employed_pred))"
   ],
   "id": "8da60297d8956f02",
   "outputs": [
    {
     "name": "stdout",
     "output_type": "stream",
     "text": [
      "[0.83351293 0.82264151 0.81940701 0.83557951 0.82371968]\n",
      "0.8194070080862533\n"
     ]
    }
   ],
   "execution_count": 138
  },
  {
   "metadata": {
    "ExecuteTime": {
     "end_time": "2024-05-04T15:12:42.601196Z",
     "start_time": "2024-05-04T15:12:35.781003Z"
    }
   },
   "cell_type": "code",
   "source": [
    "if GP_CLASSIFIER:\n",
    "    gaussian_process_classifier = GaussianProcessClassifier()\n",
    "    gaussian_process_classifier.fit(temp_train_data, temp_train_employed.astype(bool))"
   ],
   "id": "1c9d417dda9b3d5c",
   "outputs": [
    {
     "ename": "MemoryError",
     "evalue": "Unable to allocate 628. MiB for an array with shape (9076, 9076) and data type float64",
     "output_type": "error",
     "traceback": [
      "\u001B[1;31m---------------------------------------------------------------------------\u001B[0m",
      "\u001B[1;31mMemoryError\u001B[0m                               Traceback (most recent call last)",
      "Cell \u001B[1;32mIn[179], line 3\u001B[0m\n\u001B[0;32m      1\u001B[0m \u001B[38;5;28;01mif\u001B[39;00m GP_CLASSIFIER:\n\u001B[0;32m      2\u001B[0m     gaussian_process_classifier \u001B[38;5;241m=\u001B[39m GaussianProcessClassifier()\n\u001B[1;32m----> 3\u001B[0m     \u001B[43mgaussian_process_classifier\u001B[49m\u001B[38;5;241;43m.\u001B[39;49m\u001B[43mfit\u001B[49m\u001B[43m(\u001B[49m\u001B[43mtemp_train_data\u001B[49m\u001B[43m,\u001B[49m\u001B[43m \u001B[49m\u001B[43mtemp_train_employed\u001B[49m\u001B[38;5;241;43m.\u001B[39;49m\u001B[43mastype\u001B[49m\u001B[43m(\u001B[49m\u001B[38;5;28;43mbool\u001B[39;49m\u001B[43m)\u001B[49m\u001B[43m)\u001B[49m\n",
      "File \u001B[1;32mc:\\users\\c-beh\\appdata\\local\\programs\\python\\python39\\lib\\site-packages\\sklearn\\base.py:1474\u001B[0m, in \u001B[0;36m_fit_context.<locals>.decorator.<locals>.wrapper\u001B[1;34m(estimator, *args, **kwargs)\u001B[0m\n\u001B[0;32m   1467\u001B[0m     estimator\u001B[38;5;241m.\u001B[39m_validate_params()\n\u001B[0;32m   1469\u001B[0m \u001B[38;5;28;01mwith\u001B[39;00m config_context(\n\u001B[0;32m   1470\u001B[0m     skip_parameter_validation\u001B[38;5;241m=\u001B[39m(\n\u001B[0;32m   1471\u001B[0m         prefer_skip_nested_validation \u001B[38;5;129;01mor\u001B[39;00m global_skip_validation\n\u001B[0;32m   1472\u001B[0m     )\n\u001B[0;32m   1473\u001B[0m ):\n\u001B[1;32m-> 1474\u001B[0m     \u001B[38;5;28;01mreturn\u001B[39;00m fit_method(estimator, \u001B[38;5;241m*\u001B[39margs, \u001B[38;5;241m*\u001B[39m\u001B[38;5;241m*\u001B[39mkwargs)\n",
      "File \u001B[1;32mc:\\users\\c-beh\\appdata\\local\\programs\\python\\python39\\lib\\site-packages\\sklearn\\gaussian_process\\_gpc.py:741\u001B[0m, in \u001B[0;36mGaussianProcessClassifier.fit\u001B[1;34m(self, X, y)\u001B[0m\n\u001B[0;32m    738\u001B[0m     \u001B[38;5;28;01melse\u001B[39;00m:\n\u001B[0;32m    739\u001B[0m         \u001B[38;5;28;01mraise\u001B[39;00m \u001B[38;5;167;01mValueError\u001B[39;00m(\u001B[38;5;124m\"\u001B[39m\u001B[38;5;124mUnknown multi-class mode \u001B[39m\u001B[38;5;132;01m%s\u001B[39;00m\u001B[38;5;124m\"\u001B[39m \u001B[38;5;241m%\u001B[39m \u001B[38;5;28mself\u001B[39m\u001B[38;5;241m.\u001B[39mmulti_class)\n\u001B[1;32m--> 741\u001B[0m \u001B[38;5;28;43mself\u001B[39;49m\u001B[38;5;241;43m.\u001B[39;49m\u001B[43mbase_estimator_\u001B[49m\u001B[38;5;241;43m.\u001B[39;49m\u001B[43mfit\u001B[49m\u001B[43m(\u001B[49m\u001B[43mX\u001B[49m\u001B[43m,\u001B[49m\u001B[43m \u001B[49m\u001B[43my\u001B[49m\u001B[43m)\u001B[49m\n\u001B[0;32m    743\u001B[0m \u001B[38;5;28;01mif\u001B[39;00m \u001B[38;5;28mself\u001B[39m\u001B[38;5;241m.\u001B[39mn_classes_ \u001B[38;5;241m>\u001B[39m \u001B[38;5;241m2\u001B[39m:\n\u001B[0;32m    744\u001B[0m     \u001B[38;5;28mself\u001B[39m\u001B[38;5;241m.\u001B[39mlog_marginal_likelihood_value_ \u001B[38;5;241m=\u001B[39m np\u001B[38;5;241m.\u001B[39mmean(\n\u001B[0;32m    745\u001B[0m         [\n\u001B[0;32m    746\u001B[0m             estimator\u001B[38;5;241m.\u001B[39mlog_marginal_likelihood()\n\u001B[0;32m    747\u001B[0m             \u001B[38;5;28;01mfor\u001B[39;00m estimator \u001B[38;5;129;01min\u001B[39;00m \u001B[38;5;28mself\u001B[39m\u001B[38;5;241m.\u001B[39mbase_estimator_\u001B[38;5;241m.\u001B[39mestimators_\n\u001B[0;32m    748\u001B[0m         ]\n\u001B[0;32m    749\u001B[0m     )\n",
      "File \u001B[1;32mc:\\users\\c-beh\\appdata\\local\\programs\\python\\python39\\lib\\site-packages\\sklearn\\gaussian_process\\_gpc.py:256\u001B[0m, in \u001B[0;36m_BinaryGaussianProcessClassifierLaplace.fit\u001B[1;34m(self, X, y)\u001B[0m\n\u001B[0;32m    254\u001B[0m     \u001B[38;5;28mself\u001B[39m\u001B[38;5;241m.\u001B[39mlog_marginal_likelihood_value_ \u001B[38;5;241m=\u001B[39m \u001B[38;5;241m-\u001B[39mnp\u001B[38;5;241m.\u001B[39mmin(lml_values)\n\u001B[0;32m    255\u001B[0m \u001B[38;5;28;01melse\u001B[39;00m:\n\u001B[1;32m--> 256\u001B[0m     \u001B[38;5;28mself\u001B[39m\u001B[38;5;241m.\u001B[39mlog_marginal_likelihood_value_ \u001B[38;5;241m=\u001B[39m \u001B[38;5;28;43mself\u001B[39;49m\u001B[38;5;241;43m.\u001B[39;49m\u001B[43mlog_marginal_likelihood\u001B[49m\u001B[43m(\u001B[49m\n\u001B[0;32m    257\u001B[0m \u001B[43m        \u001B[49m\u001B[38;5;28;43mself\u001B[39;49m\u001B[38;5;241;43m.\u001B[39;49m\u001B[43mkernel_\u001B[49m\u001B[38;5;241;43m.\u001B[39;49m\u001B[43mtheta\u001B[49m\n\u001B[0;32m    258\u001B[0m \u001B[43m    \u001B[49m\u001B[43m)\u001B[49m\n\u001B[0;32m    260\u001B[0m \u001B[38;5;66;03m# Precompute quantities required for predictions which are independent\u001B[39;00m\n\u001B[0;32m    261\u001B[0m \u001B[38;5;66;03m# of actual query points\u001B[39;00m\n\u001B[0;32m    262\u001B[0m K \u001B[38;5;241m=\u001B[39m \u001B[38;5;28mself\u001B[39m\u001B[38;5;241m.\u001B[39mkernel_(\u001B[38;5;28mself\u001B[39m\u001B[38;5;241m.\u001B[39mX_train_)\n",
      "File \u001B[1;32mc:\\users\\c-beh\\appdata\\local\\programs\\python\\python39\\lib\\site-packages\\sklearn\\gaussian_process\\_gpc.py:385\u001B[0m, in \u001B[0;36m_BinaryGaussianProcessClassifierLaplace.log_marginal_likelihood\u001B[1;34m(self, theta, eval_gradient, clone_kernel)\u001B[0m\n\u001B[0;32m    381\u001B[0m     K \u001B[38;5;241m=\u001B[39m kernel(\u001B[38;5;28mself\u001B[39m\u001B[38;5;241m.\u001B[39mX_train_)\n\u001B[0;32m    383\u001B[0m \u001B[38;5;66;03m# Compute log-marginal-likelihood Z and also store some temporaries\u001B[39;00m\n\u001B[0;32m    384\u001B[0m \u001B[38;5;66;03m# which can be reused for computing Z's gradient\u001B[39;00m\n\u001B[1;32m--> 385\u001B[0m Z, (pi, W_sr, L, b, a) \u001B[38;5;241m=\u001B[39m \u001B[38;5;28;43mself\u001B[39;49m\u001B[38;5;241;43m.\u001B[39;49m\u001B[43m_posterior_mode\u001B[49m\u001B[43m(\u001B[49m\u001B[43mK\u001B[49m\u001B[43m,\u001B[49m\u001B[43m \u001B[49m\u001B[43mreturn_temporaries\u001B[49m\u001B[38;5;241;43m=\u001B[39;49m\u001B[38;5;28;43;01mTrue\u001B[39;49;00m\u001B[43m)\u001B[49m\n\u001B[0;32m    387\u001B[0m \u001B[38;5;28;01mif\u001B[39;00m \u001B[38;5;129;01mnot\u001B[39;00m eval_gradient:\n\u001B[0;32m    388\u001B[0m     \u001B[38;5;28;01mreturn\u001B[39;00m Z\n",
      "File \u001B[1;32mc:\\users\\c-beh\\appdata\\local\\programs\\python\\python39\\lib\\site-packages\\sklearn\\gaussian_process\\_gpc.py:443\u001B[0m, in \u001B[0;36m_BinaryGaussianProcessClassifierLaplace._posterior_mode\u001B[1;34m(self, K, return_temporaries)\u001B[0m\n\u001B[0;32m    441\u001B[0m W_sr \u001B[38;5;241m=\u001B[39m np\u001B[38;5;241m.\u001B[39msqrt(W)\n\u001B[0;32m    442\u001B[0m W_sr_K \u001B[38;5;241m=\u001B[39m W_sr[:, np\u001B[38;5;241m.\u001B[39mnewaxis] \u001B[38;5;241m*\u001B[39m K\n\u001B[1;32m--> 443\u001B[0m B \u001B[38;5;241m=\u001B[39m \u001B[43mnp\u001B[49m\u001B[38;5;241;43m.\u001B[39;49m\u001B[43meye\u001B[49m\u001B[43m(\u001B[49m\u001B[43mW\u001B[49m\u001B[38;5;241;43m.\u001B[39;49m\u001B[43mshape\u001B[49m\u001B[43m[\u001B[49m\u001B[38;5;241;43m0\u001B[39;49m\u001B[43m]\u001B[49m\u001B[43m)\u001B[49m\u001B[43m \u001B[49m\u001B[38;5;241;43m+\u001B[39;49m\u001B[43m \u001B[49m\u001B[43mW_sr_K\u001B[49m\u001B[43m \u001B[49m\u001B[38;5;241;43m*\u001B[39;49m\u001B[43m \u001B[49m\u001B[43mW_sr\u001B[49m\n\u001B[0;32m    444\u001B[0m L \u001B[38;5;241m=\u001B[39m cholesky(B, lower\u001B[38;5;241m=\u001B[39m\u001B[38;5;28;01mTrue\u001B[39;00m)\n\u001B[0;32m    445\u001B[0m \u001B[38;5;66;03m# Line 6\u001B[39;00m\n",
      "\u001B[1;31mMemoryError\u001B[0m: Unable to allocate 628. MiB for an array with shape (9076, 9076) and data type float64"
     ]
    }
   ],
   "execution_count": 179
  },
  {
   "metadata": {
    "ExecuteTime": {
     "end_time": "2024-05-04T15:11:20.414445Z",
     "start_time": "2024-05-04T15:11:20.412427Z"
    }
   },
   "cell_type": "code",
   "source": [
    "if GP_CLASSIFIER:\n",
    "    temp_test_employed_pred = gaussian_process_classifier.predict(temp_test_data)\n",
    "\n",
    "    accuracy = model_selection.cross_val_score(gaussian_process_classifier, X=train_data, y=train_employed, cv=5, scoring='accuracy')\n",
    "    gp_min_acc = accuracy.min()\n",
    "    print(accuracy)    \n",
    "\n",
    "    #print(\"Accuracy\",sklearn.metrics.accuracy_score(temp_test_employed.astype(bool), temp_test_employed_pred))\n",
    "    #print(\"F1-Score\",sklearn.metrics.f1_score (temp_test_employed.astype(bool), temp_test_employed_pred))"
   ],
   "id": "b3417c882e47def5",
   "outputs": [],
   "execution_count": null
  },
  {
   "metadata": {
    "ExecuteTime": {
     "end_time": "2024-05-04T15:07:33.089280Z",
     "start_time": "2024-05-04T15:07:30.206652Z"
    }
   },
   "cell_type": "code",
   "source": [
    "if SVM_CLASSIFIER:\n",
    "    svc = SVC()#kernel='linear'\n",
    "    svc.fit(temp_train_data, temp_train_employed.astype(bool))"
   ],
   "id": "58e404a8912950f8",
   "outputs": [],
   "execution_count": 161
  },
  {
   "metadata": {
    "ExecuteTime": {
     "end_time": "2024-05-04T15:07:48.310523Z",
     "start_time": "2024-05-04T15:07:33.089577Z"
    }
   },
   "cell_type": "code",
   "source": [
    "if SVM_CLASSIFIER:\n",
    "    temp_test_employed_pred = svc.predict(temp_test_data)\n",
    "\n",
    "    accuracy = model_selection.cross_val_score(svc, X=train_data, y=train_employed, cv=5, scoring='accuracy')\n",
    "    svc_min_acc = accuracy.min()\n",
    "    print(accuracy)\n",
    "    \n",
    "    #print(\"Accuracy\",sklearn.metrics.accuracy_score(temp_test_employed.astype(bool), temp_test_employed_pred))\n",
    "    #print(\"F1-Score\",sklearn.metrics.f1_score (temp_test_employed.astype(bool), temp_test_employed_pred))"
   ],
   "id": "7ea24e74e93cf955",
   "outputs": [
    {
     "name": "stdout",
     "output_type": "stream",
     "text": [
      "[0.54525862 0.53638814 0.50350404 0.52991914 0.52183288]\n"
     ]
    }
   ],
   "execution_count": 162
  },
  {
   "metadata": {
    "ExecuteTime": {
     "end_time": "2024-05-04T15:07:48.531315Z",
     "start_time": "2024-05-04T15:07:48.310523Z"
    }
   },
   "cell_type": "code",
   "source": [
    "if RF_CLASSIFIER:\n",
    "    random_forest_classifier = RandomForestClassifier(n_estimators=40, random_state=6)\n",
    "    random_forest_classifier.fit(temp_train_data, temp_train_employed.astype(bool))"
   ],
   "id": "a9f67a083434f896",
   "outputs": [],
   "execution_count": 163
  },
  {
   "metadata": {
    "ExecuteTime": {
     "end_time": "2024-05-04T15:08:16.098263Z",
     "start_time": "2024-05-04T15:08:15.069241Z"
    }
   },
   "cell_type": "code",
   "source": [
    "if RF_CLASSIFIER:\n",
    "    temp_test_employed_pred = random_forest_classifier.predict(temp_test_data)\n",
    "\n",
    "    accuracy = model_selection.cross_val_score(random_forest_classifier, X=train_data, y=train_employed, cv=5, scoring='accuracy')\n",
    "    rf_min_acc = accuracy.min()\n",
    "    print(accuracy)\n",
    "    \n",
    "    #print(sklearn.metrics.accuracy_score(temp_test_employed.astype(bool), temp_test_employed_pred))\n",
    "    #print(\"F1-Score\",sklearn.metrics.f1_score (temp_test_employed.astype(bool), temp_test_employed_pred))"
   ],
   "id": "5de39954221170b3",
   "outputs": [
    {
     "name": "stdout",
     "output_type": "stream",
     "text": [
      "[0.98006466 0.98274933 0.97951482 0.97681941 0.97789757]\n"
     ]
    }
   ],
   "execution_count": 173
  },
  {
   "metadata": {
    "ExecuteTime": {
     "end_time": "2024-05-04T15:08:22.919020Z",
     "start_time": "2024-05-04T15:08:21.576584Z"
    }
   },
   "cell_type": "code",
   "source": [
    "if MLP_CLASSIFIER:\n",
    "    mlp_classifier = MLPClassifier()\n",
    "    mlp_classifier.fit(temp_train_data, temp_train_employed.astype(bool))    "
   ],
   "id": "dd577e873f6aac54",
   "outputs": [],
   "execution_count": 174
  },
  {
   "metadata": {
    "ExecuteTime": {
     "end_time": "2024-05-04T15:08:28.570289Z",
     "start_time": "2024-05-04T15:08:24.222294Z"
    }
   },
   "cell_type": "code",
   "source": [
    "if MLP_CLASSIFIER:\n",
    "    temp_test_employed_pred = mlp_classifier.predict(temp_test_data)\n",
    "\n",
    "    accuracy = model_selection.cross_val_score(mlp_classifier, X=train_data, y=train_employed, cv=5, scoring='accuracy')\n",
    "    mlp_min_acc = accuracy.min()\n",
    "    print(accuracy)\n",
    "\n",
    "    #print(\"Accuracy\",sklearn.metrics.accuracy_score(temp_test_employed.astype(bool), temp_test_employed_pred))\n",
    "    #print(\"F1-Score\",sklearn.metrics.f1_score (temp_test_employed.astype(bool), temp_test_employed_pred))"
   ],
   "id": "5d17532eac442afb",
   "outputs": [
    {
     "name": "stdout",
     "output_type": "stream",
     "text": [
      "[0.72252155 0.53746631 0.68733154 0.68463612 0.55849057]\n"
     ]
    }
   ],
   "execution_count": 175
  },
  {
   "metadata": {
    "ExecuteTime": {
     "end_time": "2024-05-04T15:11:26.997181Z",
     "start_time": "2024-05-04T15:11:26.762097Z"
    }
   },
   "cell_type": "code",
   "source": [
    "print(\"KNN:\" , knn_min_acc)\n",
    "print(\"GP:\" , gp_min_acc)\n",
    "print(\"SVM:\" , svc_min_acc)\n",
    "print(\"RF:\" , rf_min_acc)\n",
    "print(\"MLP:\" , mlp_min_acc)\n",
    "\n"
   ],
   "id": "a7b1231d60156c00",
   "outputs": [
    {
     "name": "stdout",
     "output_type": "stream",
     "text": [
      "KNN: 0.537466307277628\n"
     ]
    },
    {
     "ename": "NameError",
     "evalue": "name 'gp_min_acc' is not defined",
     "output_type": "error",
     "traceback": [
      "\u001B[1;31m---------------------------------------------------------------------------\u001B[0m",
      "\u001B[1;31mNameError\u001B[0m                                 Traceback (most recent call last)",
      "Cell \u001B[1;32mIn[178], line 2\u001B[0m\n\u001B[0;32m      1\u001B[0m \u001B[38;5;28mprint\u001B[39m(\u001B[38;5;124m\"\u001B[39m\u001B[38;5;124mKNN:\u001B[39m\u001B[38;5;124m\"\u001B[39m , knn_min_acc)\n\u001B[1;32m----> 2\u001B[0m \u001B[38;5;28mprint\u001B[39m(\u001B[38;5;124m\"\u001B[39m\u001B[38;5;124mGP:\u001B[39m\u001B[38;5;124m\"\u001B[39m , \u001B[43mgp_min_acc\u001B[49m)\n\u001B[0;32m      3\u001B[0m \u001B[38;5;28mprint\u001B[39m(\u001B[38;5;124m\"\u001B[39m\u001B[38;5;124mSVM:\u001B[39m\u001B[38;5;124m\"\u001B[39m , svc_min_acc)\n\u001B[0;32m      4\u001B[0m \u001B[38;5;28mprint\u001B[39m(\u001B[38;5;124m\"\u001B[39m\u001B[38;5;124mRF:\u001B[39m\u001B[38;5;124m\"\u001B[39m , rf_min_acc)\n",
      "\u001B[1;31mNameError\u001B[0m: name 'gp_min_acc' is not defined"
     ]
    }
   ],
   "execution_count": 178
  },
  {
   "metadata": {},
   "cell_type": "markdown",
   "source": "## Hyperparameter Optimization",
   "id": "c37eb9fef3f25cf3"
  },
  {
   "metadata": {
    "ExecuteTime": {
     "end_time": "2024-05-04T15:07:55.805011Z",
     "start_time": "2024-05-04T15:07:55.789384Z"
    }
   },
   "cell_type": "code",
   "source": [
    "if SVM_CLASSIFIER and OPTIMIZATION:\n",
    "    def hyperparameter_function_svc(gamma, C):\n",
    "        \"\"\" Function for hyperparameter optimization\n",
    "        \"\"\"\n",
    "        svc = SVC(gamma=gamma, C=C)\n",
    "        svc.fit(temp_train_data, temp_train_employed.astype(bool))\n",
    "        temp_test_employed_pred = svc.predict(temp_test_data)\n",
    "        return sklearn.metrics.accuracy_score(temp_test_employed.astype(bool), temp_test_employed_pred)\n",
    "\n",
    "    # Bounded region of parameter space\n",
    "    pbounds = {'gamma': (0, 1.5), 'C': (0.00001, 2)}\n",
    "\n",
    "    optimizer = BayesianOptimization(\n",
    "        f=hyperparameter_function_svc,\n",
    "        pbounds=pbounds,\n",
    "        random_state=6,\n",
    "    )"
   ],
   "id": "55049906c2edf989",
   "outputs": [],
   "execution_count": 167
  },
  {
   "metadata": {
    "ExecuteTime": {
     "end_time": "2024-05-04T15:07:55.824646Z",
     "start_time": "2024-05-04T15:07:55.805011Z"
    }
   },
   "cell_type": "code",
   "source": [
    "if SVM_CLASSIFIER and OPTIMIZATION:\n",
    "    optimizer.maximize(\n",
    "        init_points=50,\n",
    "        n_iter=100,\n",
    "    )"
   ],
   "id": "8e476017f866af0e",
   "outputs": [],
   "execution_count": 168
  },
  {
   "metadata": {
    "ExecuteTime": {
     "end_time": "2024-05-04T15:07:55.840272Z",
     "start_time": "2024-05-04T15:07:55.824646Z"
    }
   },
   "cell_type": "code",
   "source": [
    "if SVM_CLASSIFIER and OPTIMIZATION:\n",
    "    svc = sklearn.svm.SVC(gamma=2, C=0.3817)\n",
    "    svc.fit(temp_train_data, temp_train_employed)\n",
    "    temp_test_employed_pred = svc.predict(temp_test_data)\n",
    "\n",
    "    print(sklearn.metrics.accuracy_score(temp_test_employed, temp_test_employed_pred))"
   ],
   "id": "41366a93ca68ff56",
   "outputs": [],
   "execution_count": 169
  },
  {
   "metadata": {
    "ExecuteTime": {
     "end_time": "2024-05-04T15:07:55.855898Z",
     "start_time": "2024-05-04T15:07:55.840272Z"
    }
   },
   "cell_type": "code",
   "source": [
    "if MLP_CLASSIFIER and OPTIMIZATION:\n",
    "    def hyperparameter_function_mlp(lr, hl_w,hl_d ):\n",
    "        \"\"\" Function for hyperparameter optimization\n",
    "        \"\"\"\n",
    "                \n",
    "        mlp_c = MLPClassifier(learning_rate_init=lr,hidden_layer_sizes=(hl_d,hl_w))\n",
    "        print(temp_train_data)\n",
    "        print(temp_train_employed)\n",
    "        \n",
    "        mlp_c.fit(temp_train_data, temp_train_employed.astype(bool))        \n",
    "        temp_test_employed_pred = mlp_c.predict(temp_test_data)      \n",
    "        return sklearn.metrics.accuracy_score(temp_test_employed.astype(bool), temp_test_employed_pred)\n",
    "\n",
    "\n",
    "    # Bounded region of parameter space\n",
    "    pbounds = {'lr': (0.1, 1), 'hl_w': (1, 15),'hl_d':(1, 15)}\n",
    "\n",
    "    optimizer = BayesianOptimization(\n",
    "        f=hyperparameter_function_mlp,\n",
    "        pbounds=pbounds,\n",
    "        random_state=6,\n",
    "    )    "
   ],
   "id": "26a51dbae8a90fda",
   "outputs": [],
   "execution_count": 170
  },
  {
   "metadata": {
    "ExecuteTime": {
     "end_time": "2024-05-04T15:07:55.871524Z",
     "start_time": "2024-05-04T15:07:55.855898Z"
    }
   },
   "cell_type": "code",
   "source": [
    "if MLP_CLASSIFIER and OPTIMIZATION:    \n",
    "    optimizer.maximize(\n",
    "        init_points=50,\n",
    "        n_iter=100,\n",
    "    )"
   ],
   "id": "bb639d26046f836c",
   "outputs": [],
   "execution_count": 171
  },
  {
   "metadata": {
    "ExecuteTime": {
     "end_time": "2024-05-04T15:07:55.887151Z",
     "start_time": "2024-05-04T15:07:55.871524Z"
    }
   },
   "cell_type": "code",
   "source": [
    "if MLP_CLASSIFIER and OPTIMIZATION:\n",
    "    if MLP_CLASSIFIER:    \n",
    "    mlp_c = MLPClassifier(learning_rate_init=0.1,hidden_layer_sizes=(1,1) )\n",
    "    mlp_c.fit(temp_train_data, temp_train_employed)\n",
    "    temp_test_employed_pred = mlp_c.predict(temp_test_data)\n",
    "\n",
    "    print(sklearn.metrics.accuracy_score(temp_test_employed, temp_test_employed_pred))"
   ],
   "id": "ebcc166ca7565446",
   "outputs": [
    {
     "ename": "IndentationError",
     "evalue": "expected an indented block (3223136079.py, line 3)",
     "output_type": "error",
     "traceback": [
      "\u001B[1;36m  Cell \u001B[1;32mIn[172], line 3\u001B[1;36m\u001B[0m\n\u001B[1;33m    mlp_c = MLPClassifier(learning_rate_init=0.1,hidden_layer_sizes=(1,1) )\u001B[0m\n\u001B[1;37m    ^\u001B[0m\n\u001B[1;31mIndentationError\u001B[0m\u001B[1;31m:\u001B[0m expected an indented block\n"
     ]
    }
   ],
   "execution_count": 172
  },
  {
   "metadata": {},
   "cell_type": "markdown",
   "source": "## Data results <a class=\"anchor\" id=\"8th\"></a>",
   "id": "d98ad269b5cf0d8a"
  },
  {
   "metadata": {
    "ExecuteTime": {
     "end_time": "2024-05-04T15:07:55.887151Z",
     "start_time": "2024-05-04T15:07:55.887151Z"
    }
   },
   "cell_type": "code",
   "source": [
    "best_classifier = knn_classifier\n",
    "\n",
    "\n",
    "print(len(temp_test_data))\n",
    "print(len(temp_test_employed_pred))\n",
    "\n",
    "final_pred = best_classifier.predict(test)\n",
    "\n",
    "print(final_pred)"
   ],
   "id": "1ad19a9edfa0226a",
   "outputs": [],
   "execution_count": null
  },
  {
   "metadata": {
    "ExecuteTime": {
     "end_time": "2024-05-04T15:07:55.887151Z",
     "start_time": "2024-05-04T15:07:55.887151Z"
    }
   },
   "cell_type": "code",
   "source": [
    "df_final = pd.read_csv('../../data/raw/teco-psda-exercisesheet1-employment-2024/employment_test_sample.csv',decimal=\",\")\n",
    "\n",
    "print(df_final)"
   ],
   "id": "8087676a6ff8c789",
   "outputs": [],
   "execution_count": null
  },
  {
   "metadata": {},
   "cell_type": "code",
   "source": [
    "final = df_final.values\n",
    "for i in range(0,len(final)):\n",
    "    final[i,1] = final_pred[i]\n",
    "print(final)"
   ],
   "id": "65a50f86429fd4ae",
   "outputs": [],
   "execution_count": null
  },
  {
   "metadata": {},
   "cell_type": "code",
   "source": [
    "df_fine = pd.DataFrame(final, columns = df_final.columns)\n",
    "\n",
    "\n",
    "df_fine.to_csv('../../data/predictions/employment_test_final.csv',index=False)"
   ],
   "id": "c43b8e455e2010bd",
   "outputs": [],
   "execution_count": null
  }
 ],
 "metadata": {
  "kernelspec": {
   "display_name": "Python 3",
   "language": "python",
   "name": "python3"
  },
  "language_info": {
   "codemirror_mode": {
    "name": "ipython",
    "version": 2
   },
   "file_extension": ".py",
   "mimetype": "text/x-python",
   "name": "python",
   "nbconvert_exporter": "python",
   "pygments_lexer": "ipython2",
   "version": "2.7.6"
  }
 },
 "nbformat": 4,
 "nbformat_minor": 5
}
