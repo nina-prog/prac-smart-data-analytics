{
 "cells": [
  {
   "cell_type": "code",
   "execution_count": 1,
   "id": "e8683e827a17a799",
   "metadata": {
    "ExecuteTime": {
     "end_time": "2024-05-01T14:14:46.744837Z",
     "start_time": "2024-05-01T14:14:46.740474Z"
    }
   },
   "outputs": [],
   "source": [
    "import time\n",
    "import pandas as pd\n",
    "import numpy as np\n",
    "from bayes_opt import BayesianOptimization\n",
    "from sklearn import preprocessing\n",
    "from sklearn.neural_network import MLPRegressor\n",
    "from sklearn import model_selection"
   ]
  },
  {
   "cell_type": "markdown",
   "id": "5ebfe0ab96ee7f05",
   "metadata": {},
   "source": [
    "Config parameters:"
   ]
  },
  {
   "cell_type": "code",
   "execution_count": 2,
   "id": "8f0d9b0e-e852-4557-9018-53de873147a2",
   "metadata": {
    "ExecuteTime": {
     "end_time": "2024-05-01T14:14:46.744837Z",
     "start_time": "2024-05-01T14:14:46.740474Z"
    }
   },
   "outputs": [],
   "source": [
    "# Path to datasets\n",
    "train_dataset_name = './data/processed/credit_train.csv'\n",
    "test_dataset_name = './data/processed/credit_test.csv'\n",
    "\n",
    "# Target directory for saving\n",
    "target_dir = 'PSDA/data/predictions/'\n",
    "name_of_predictions_file = 'credit_test.csv'\n",
    "\n",
    "# Run hyperparameter optimization (with a given random state it is unnecessary to compute each time)\n",
    "hyper_opt = True"
   ]
  },
  {
   "cell_type": "markdown",
   "id": "eedde2fc54a617e",
   "metadata": {},
   "source": [
    "## Load Data and make temporary train-test-split"
   ]
  },
  {
   "cell_type": "code",
   "execution_count": 3,
   "id": "762ac241a2e266b0",
   "metadata": {
    "ExecuteTime": {
     "end_time": "2024-05-01T14:14:47.510702Z",
     "start_time": "2024-05-01T14:14:47.486485Z"
    }
   },
   "outputs": [
    {
     "name": "stdout",
     "output_type": "stream",
     "text": [
      "Index(['Unnamed: 0', 'Income', 'Limit', 'Rating', 'Cards', 'Balance',\n",
      "       'Student_Yes'],\n",
      "      dtype='object')\n",
      "Index(['Unnamed: 0', 'Income', 'Limit', 'Rating', 'Cards', 'Student_Yes'], dtype='object')\n"
     ]
    }
   ],
   "source": [
    "df_train = pd.read_csv(train_dataset_name)\n",
    "df_test = pd.read_csv(test_dataset_name)\n",
    "\n",
    "print(df_train.columns)\n",
    "print(df_test.columns)"
   ]
  },
  {
   "cell_type": "code",
   "execution_count": 4,
   "id": "41dfe19d51ffaf89",
   "metadata": {
    "ExecuteTime": {
     "end_time": "2024-05-01T14:14:47.966656Z",
     "start_time": "2024-05-01T14:14:47.957605Z"
    }
   },
   "outputs": [
    {
     "name": "stdout",
     "output_type": "stream",
     "text": [
      "(350, 7)\n",
      "(350,)\n",
      "(350,)\n",
      "(350, 5)\n",
      "(50, 6)\n",
      "(50,)\n",
      "(50, 5)\n"
     ]
    }
   ],
   "source": [
    "train = df_train.values.astype(float)\n",
    "train_ids = train[:, 0]\n",
    "train_balance = train[:, list(df_train.columns).index('Balance')]\n",
    "train_data = train[:, [c != 'Balance' and c != 'Unnamed: 0' for c in df_train.columns]]\n",
    "\n",
    "test = df_test.values.astype(float)\n",
    "test_ids = test[:, 0]\n",
    "test_data = test[:, [c != 'Unnamed: 0' for c in df_test.columns]]\n",
    "\n",
    "print(train.shape)\n",
    "print(train_ids.shape)\n",
    "print(train_balance.shape)\n",
    "print(train_data.shape)\n",
    "print(test.shape)\n",
    "print(test_ids.shape)\n",
    "print(test_data.shape)"
   ]
  },
  {
   "cell_type": "code",
   "execution_count": 5,
   "id": "53e3c8cc6e916b4c",
   "metadata": {
    "ExecuteTime": {
     "end_time": "2024-05-01T14:14:48.641606Z",
     "start_time": "2024-05-01T14:14:48.635867Z"
    }
   },
   "outputs": [
    {
     "data": {
      "text/plain": [
       "521.7085714285714"
      ]
     },
     "execution_count": 5,
     "metadata": {},
     "output_type": "execute_result"
    }
   ],
   "source": [
    "np.mean(train_balance)"
   ]
  },
  {
   "cell_type": "code",
   "execution_count": 6,
   "id": "450d94919e5233bd",
   "metadata": {
    "ExecuteTime": {
     "end_time": "2024-05-01T14:14:49.166610Z",
     "start_time": "2024-05-01T14:14:49.162055Z"
    }
   },
   "outputs": [],
   "source": [
    "# temp_train_ids, temp_test_ids, temp_train_data, temp_test_data, temp_train_balance, temp_test_balance = model_selection.train_test_split(train_ids, train_data, train_balance, test_size=50, random_state=4)\n",
    "\n",
    "# Shuffle data to use K-Fold cross-validation in the following \n",
    "indicis = np.arange(train_data.shape[0])\n",
    "np.random.seed(6)\n",
    "np.random.shuffle(indicis)\n",
    "random_train_balance = train_balance[indicis]\n",
    "random_train_data = train_data[indicis]"
   ]
  },
  {
   "cell_type": "markdown",
   "id": "f5021e8036b7fc6f",
   "metadata": {},
   "source": [
    "Findings: By only looking at a single validation dataset, the result on the test data is not as meaningful, which is why I use K-Fold cross-validation below. "
   ]
  },
  {
   "cell_type": "markdown",
   "id": "a0dc1dd76c8a3c47",
   "metadata": {},
   "source": [
    "## Preprocess data"
   ]
  },
  {
   "cell_type": "code",
   "execution_count": 7,
   "id": "339a0fec16da6d3d",
   "metadata": {
    "ExecuteTime": {
     "end_time": "2024-05-01T14:14:51.413855Z",
     "start_time": "2024-05-01T14:14:51.407197Z"
    }
   },
   "outputs": [],
   "source": [
    "# This code was from the static validation set and therefore is commented out. \n",
    "# snv = preprocessing.StandardScaler()\n",
    "# prep_temp_train_data = np.c_[snv.fit_transform(temp_train_data[:, :6]), temp_train_data[:, 6:]]\n",
    "# prep_temp_test_data = np.c_[snv.transform(temp_test_data[:, :6]), temp_test_data[:, 6:]]\n",
    "\n",
    "# Only apply scaler on numerical columns\n",
    "snv = preprocessing.StandardScaler()\n",
    "prep_train_data = np.c_[snv.fit_transform(random_train_data[:, :6]), random_train_data[:, 6:]]\n",
    "prep_test_data = np.c_[snv.fit_transform(test_data[:, :6]), test_data[:, 6:]]"
   ]
  },
  {
   "cell_type": "markdown",
   "id": "1fb6ae324b1520d6",
   "metadata": {},
   "source": "## Create MLP Regressor instances "
  },
  {
   "metadata": {},
   "cell_type": "markdown",
   "source": "Note: As done so in for the Gradient Boosting algorithm, I set every negative prediction to zero.",
   "id": "b32362f7e20c336b"
  },
  {
   "cell_type": "code",
   "execution_count": 10,
   "id": "1325d259-9bfa-47bf-b562-d73e8cf8767c",
   "metadata": {},
   "outputs": [],
   "source": [
    "class MLPWithCutoff():\n",
    "    \n",
    "    def __init__(self, learning_rate_init, batch_size, alpha, beta_1, beta_2, hidden_layer_sizes=None, activation='relu', *, solver='adam', learning_rate='constant', power_t=0.5, max_iter=200, shuffle=True, random_state=None, tol=0.0001, verbose=False, warm_start=False, momentum=0.9, nesterovs_momentum=True, early_stopping=False, validation_fraction=0.1, epsilon=1e-08, n_iter_no_change=10, max_fun=15000):\n",
    "        self.mlp_regressor = MLPRegressor(hidden_layer_sizes=hidden_layer_sizes, activation='relu', solver='adam', alpha=alpha, batch_size=int(batch_size), learning_rate='constant', learning_rate_init=learning_rate_init, power_t=0.5, max_iter=5000, shuffle=True, tol=0.0001, verbose=False, warm_start=False, momentum=0.9, nesterovs_momentum=True, early_stopping=False, validation_fraction=0.1, beta_1=beta_1, beta_2=beta_2, epsilon=1e-08, n_iter_no_change=10, max_fun=15000, random_state=7)\n",
    "        \n",
    "    def fit(self, X, y):\n",
    "        self.mlp_regressor.fit(X, y)\n",
    "    \n",
    "    def predict(self, X):\n",
    "        prediction = self.mlp_regressor.predict(X)\n",
    "        prediction = prediction * np.array(prediction > 0, dtype=int)\n",
    "        return prediction\n",
    "    \n",
    "    def get_params(self, deep=True):\n",
    "        return self.mlp_regressor.get_params(deep=deep)"
   ]
  },
  {
   "metadata": {},
   "cell_type": "markdown",
   "source": [
    "Note: In the following Bayesian optimization is used to find the optimal hyperparameter. The parameter bounds are:\n",
    "* 'learning_rate_init': (0.000001, 0.1)\n",
    "    - I want to explore the neighbourhood of the default value that is why I choose 0.1 as an upper bound and 0.000001 as an lower bound.\n",
    "* 'batch_size': (1, 100) \n",
    "    - The batch_size has as upper bound 100 because in the train dataset are only 350 samples.\n",
    "* 'alpha': (0.000001, 0.1)\n",
    "    - I want to explore the neighbourhood of the default value that is why I choose 0.1 as an upper bound and 0.000001 as an lower bound.\n",
    "* 'beta_1': (0.8, 0.999)\n",
    "    - I want to explore the neighbourhood of the default value that is why I choose 0.8 as an upper bound and 0.999 as an lower bound.\n",
    "* 'beta_2': (0.9, 0.999999)\n",
    "    - I want to explore the neighbourhood of the default value that is why I choose 0.9 as an upper bound and 0.999999 as an lower bound.\n",
    "* 'hidden_layer_count': (0, 20)\n",
    "    - The architecture is [16] + [20] * hidden_layer_count + [16]. I want to set the upper bound of layers as high es possible."
   ],
   "id": "71fc277f94161e18"
  },
  {
   "cell_type": "code",
   "execution_count": 8,
   "id": "d4adbf0f60c0fb7",
   "metadata": {
    "scrolled": true
   },
   "outputs": [
    {
     "name": "stdout",
     "output_type": "stream",
     "text": [
      "|   iter    |  target   |   alpha   | batch_... |  beta_1   |  beta_2   | hidden... | learni... |\n",
      "-------------------------------------------------------------------------------------------------\n",
      "| \u001B[0m1        \u001B[0m | \u001B[0m-631.8   \u001B[0m | \u001B[0m0.007632 \u001B[0m | \u001B[0m78.21    \u001B[0m | \u001B[0m0.8872   \u001B[0m | \u001B[0m0.9723   \u001B[0m | \u001B[0m19.56    \u001B[0m | \u001B[0m0.05385  \u001B[0m |\n",
      "| \u001B[95m2        \u001B[0m | \u001B[95m-418.0   \u001B[0m | \u001B[95m0.05011  \u001B[0m | \u001B[95m8.133    \u001B[0m | \u001B[95m0.8534   \u001B[0m | \u001B[95m0.95     \u001B[0m | \u001B[95m13.58    \u001B[0m | \u001B[95m0.08037  \u001B[0m |\n",
      "| \u001B[95m3        \u001B[0m | \u001B[95m-97.99   \u001B[0m | \u001B[95m0.03809  \u001B[0m | \u001B[95m7.528    \u001B[0m | \u001B[95m0.8573   \u001B[0m | \u001B[95m0.991    \u001B[0m | \u001B[95m4.268    \u001B[0m | \u001B[95m0.04521  \u001B[0m |\n",
      "| \u001B[0m4        \u001B[0m | \u001B[0m-165.1   \u001B[0m | \u001B[0m0.09312  \u001B[0m | \u001B[0m3.465    \u001B[0m | \u001B[0m0.9195   \u001B[0m | \u001B[0m0.995    \u001B[0m | \u001B[0m4.606    \u001B[0m | \u001B[0m0.05485  \u001B[0m |\n",
      "| \u001B[0m5        \u001B[0m | \u001B[0m-396.3   \u001B[0m | \u001B[0m0.09091  \u001B[0m | \u001B[0m14.18    \u001B[0m | \u001B[0m0.9042   \u001B[0m | \u001B[0m0.975    \u001B[0m | \u001B[0m13.38    \u001B[0m | \u001B[0m0.04678  \u001B[0m |\n",
      "| \u001B[95m6        \u001B[0m | \u001B[95m-83.38   \u001B[0m | \u001B[95m0.02049  \u001B[0m | \u001B[95m49.59    \u001B[0m | \u001B[95m0.8741   \u001B[0m | \u001B[95m0.9477   \u001B[0m | \u001B[95m7.318    \u001B[0m | \u001B[95m0.08379  \u001B[0m |\n",
      "| \u001B[95m7        \u001B[0m | \u001B[95m-45.68   \u001B[0m | \u001B[95m0.07686  \u001B[0m | \u001B[95m32.09    \u001B[0m | \u001B[95m0.914    \u001B[0m | \u001B[95m0.9276   \u001B[0m | \u001B[95m9.057    \u001B[0m | \u001B[95m0.0353   \u001B[0m |\n",
      "| \u001B[0m8        \u001B[0m | \u001B[0m-397.6   \u001B[0m | \u001B[0m0.06574  \u001B[0m | \u001B[0m37.66    \u001B[0m | \u001B[0m0.8914   \u001B[0m | \u001B[0m0.9719   \u001B[0m | \u001B[0m8.26     \u001B[0m | \u001B[0m0.09064  \u001B[0m |\n",
      "| \u001B[0m9        \u001B[0m | \u001B[0m-395.5   \u001B[0m | \u001B[0m0.01805  \u001B[0m | \u001B[0m74.37    \u001B[0m | \u001B[0m0.8841   \u001B[0m | \u001B[0m0.9426   \u001B[0m | \u001B[0m12.69    \u001B[0m | \u001B[0m0.05229  \u001B[0m |\n",
      "| \u001B[0m10       \u001B[0m | \u001B[0m-448.6   \u001B[0m | \u001B[0m0.04149  \u001B[0m | \u001B[0m1.141    \u001B[0m | \u001B[0m0.8184   \u001B[0m | \u001B[0m0.9709   \u001B[0m | \u001B[0m10.49    \u001B[0m | \u001B[0m0.06962  \u001B[0m |\n",
      "| \u001B[0m11       \u001B[0m | \u001B[0m-128.6   \u001B[0m | \u001B[0m0.09555  \u001B[0m | \u001B[0m68.61    \u001B[0m | \u001B[0m0.8106   \u001B[0m | \u001B[0m0.9309   \u001B[0m | \u001B[0m11.85    \u001B[0m | \u001B[0m0.02351  \u001B[0m |\n",
      "| \u001B[0m12       \u001B[0m | \u001B[0m-60.73   \u001B[0m | \u001B[0m0.0965   \u001B[0m | \u001B[0m94.56    \u001B[0m | \u001B[0m0.9688   \u001B[0m | \u001B[0m0.9472   \u001B[0m | \u001B[0m16.83    \u001B[0m | \u001B[0m0.01311  \u001B[0m |\n",
      "| \u001B[95m13       \u001B[0m | \u001B[95m-39.45   \u001B[0m | \u001B[95m0.03087  \u001B[0m | \u001B[95m46.84    \u001B[0m | \u001B[95m0.9476   \u001B[0m | \u001B[95m0.9486   \u001B[0m | \u001B[95m2.738    \u001B[0m | \u001B[95m0.03435  \u001B[0m |\n",
      "| \u001B[0m14       \u001B[0m | \u001B[0m-499.7   \u001B[0m | \u001B[0m0.03244  \u001B[0m | \u001B[0m30.74    \u001B[0m | \u001B[0m0.8329   \u001B[0m | \u001B[0m0.9415   \u001B[0m | \u001B[0m8.962    \u001B[0m | \u001B[0m0.07749  \u001B[0m |\n",
      "| \u001B[0m15       \u001B[0m | \u001B[0m-535.9   \u001B[0m | \u001B[0m0.07964  \u001B[0m | \u001B[0m52.72    \u001B[0m | \u001B[0m0.8917   \u001B[0m | \u001B[0m0.9778   \u001B[0m | \u001B[0m17.75    \u001B[0m | \u001B[0m0.06749  \u001B[0m |\n",
      "| \u001B[0m16       \u001B[0m | \u001B[0m-138.2   \u001B[0m | \u001B[0m0.08005  \u001B[0m | \u001B[0m93.97    \u001B[0m | \u001B[0m0.8081   \u001B[0m | \u001B[0m0.9876   \u001B[0m | \u001B[0m5.531    \u001B[0m | \u001B[0m0.04758  \u001B[0m |\n",
      "| \u001B[95m17       \u001B[0m | \u001B[95m-23.83   \u001B[0m | \u001B[95m0.07968  \u001B[0m | \u001B[95m72.01    \u001B[0m | \u001B[95m0.8293   \u001B[0m | \u001B[95m0.9659   \u001B[0m | \u001B[95m1.385    \u001B[0m | \u001B[95m0.03571  \u001B[0m |\n",
      "| \u001B[0m18       \u001B[0m | \u001B[0m-473.8   \u001B[0m | \u001B[0m0.08128  \u001B[0m | \u001B[0m43.34    \u001B[0m | \u001B[0m0.9194   \u001B[0m | \u001B[0m0.9728   \u001B[0m | \u001B[0m16.42    \u001B[0m | \u001B[0m0.07605  \u001B[0m |\n",
      "| \u001B[0m19       \u001B[0m | \u001B[0m-400.8   \u001B[0m | \u001B[0m0.0007153\u001B[0m | \u001B[0m42.61    \u001B[0m | \u001B[0m0.8922   \u001B[0m | \u001B[0m0.9055   \u001B[0m | \u001B[0m10.83    \u001B[0m | \u001B[0m0.06078  \u001B[0m |\n",
      "| \u001B[0m20       \u001B[0m | \u001B[0m-128.3   \u001B[0m | \u001B[0m0.08285  \u001B[0m | \u001B[0m94.24    \u001B[0m | \u001B[0m0.8255   \u001B[0m | \u001B[0m0.923    \u001B[0m | \u001B[0m13.18    \u001B[0m | \u001B[0m0.01325  \u001B[0m |\n",
      "| \u001B[0m21       \u001B[0m | \u001B[0m-52.94   \u001B[0m | \u001B[0m0.02241  \u001B[0m | \u001B[0m57.91    \u001B[0m | \u001B[0m0.8337   \u001B[0m | \u001B[0m0.9782   \u001B[0m | \u001B[0m17.14    \u001B[0m | \u001B[0m0.003368 \u001B[0m |\n",
      "| \u001B[0m22       \u001B[0m | \u001B[0m-158.5   \u001B[0m | \u001B[0m0.05326  \u001B[0m | \u001B[0m79.9     \u001B[0m | \u001B[0m0.9941   \u001B[0m | \u001B[0m0.9274   \u001B[0m | \u001B[0m3.382    \u001B[0m | \u001B[0m0.08767  \u001B[0m |\n",
      "| \u001B[0m23       \u001B[0m | \u001B[0m-238.2   \u001B[0m | \u001B[0m0.09092  \u001B[0m | \u001B[0m20.56    \u001B[0m | \u001B[0m0.8879   \u001B[0m | \u001B[0m0.9719   \u001B[0m | \u001B[0m16.91    \u001B[0m | \u001B[0m0.01683  \u001B[0m |\n",
      "| \u001B[95m24       \u001B[0m | \u001B[95m-18.22   \u001B[0m | \u001B[95m0.0665   \u001B[0m | \u001B[95m80.98    \u001B[0m | \u001B[95m0.9094   \u001B[0m | \u001B[95m0.9165   \u001B[0m | \u001B[95m0.7106   \u001B[0m | \u001B[95m0.02815  \u001B[0m |\n",
      "| \u001B[0m25       \u001B[0m | \u001B[0m-26.57   \u001B[0m | \u001B[0m0.08079  \u001B[0m | \u001B[0m5.432    \u001B[0m | \u001B[0m0.8016   \u001B[0m | \u001B[0m0.9362   \u001B[0m | \u001B[0m1.272    \u001B[0m | \u001B[0m0.01495  \u001B[0m |\n",
      "| \u001B[0m26       \u001B[0m | \u001B[0m-30.78   \u001B[0m | \u001B[0m0.00232  \u001B[0m | \u001B[0m52.95    \u001B[0m | \u001B[0m0.9386   \u001B[0m | \u001B[0m0.9427   \u001B[0m | \u001B[0m2.691    \u001B[0m | \u001B[0m0.03314  \u001B[0m |\n",
      "| \u001B[0m27       \u001B[0m | \u001B[0m-260.0   \u001B[0m | \u001B[0m0.05903  \u001B[0m | \u001B[0m94.13    \u001B[0m | \u001B[0m0.9975   \u001B[0m | \u001B[0m0.9242   \u001B[0m | \u001B[0m0.2116   \u001B[0m | \u001B[0m0.08306  \u001B[0m |\n",
      "| \u001B[0m28       \u001B[0m | \u001B[0m-432.5   \u001B[0m | \u001B[0m0.09266  \u001B[0m | \u001B[0m46.4     \u001B[0m | \u001B[0m0.9535   \u001B[0m | \u001B[0m0.9866   \u001B[0m | \u001B[0m12.19    \u001B[0m | \u001B[0m0.08726  \u001B[0m |\n",
      "| \u001B[0m29       \u001B[0m | \u001B[0m-49.47   \u001B[0m | \u001B[0m0.002391 \u001B[0m | \u001B[0m27.89    \u001B[0m | \u001B[0m0.8552   \u001B[0m | \u001B[0m0.9121   \u001B[0m | \u001B[0m18.21    \u001B[0m | \u001B[0m0.003045 \u001B[0m |\n",
      "| \u001B[0m30       \u001B[0m | \u001B[0m-72.42   \u001B[0m | \u001B[0m0.06726  \u001B[0m | \u001B[0m8.063    \u001B[0m | \u001B[0m0.8718   \u001B[0m | \u001B[0m0.9418   \u001B[0m | \u001B[0m3.628    \u001B[0m | \u001B[0m0.0521   \u001B[0m |\n",
      "| \u001B[0m31       \u001B[0m | \u001B[0m-40.35   \u001B[0m | \u001B[0m0.0535   \u001B[0m | \u001B[0m32.39    \u001B[0m | \u001B[0m0.9467   \u001B[0m | \u001B[0m0.916    \u001B[0m | \u001B[0m3.85     \u001B[0m | \u001B[0m0.03545  \u001B[0m |\n",
      "| \u001B[0m32       \u001B[0m | \u001B[0m-29.6    \u001B[0m | \u001B[0m0.03784  \u001B[0m | \u001B[0m21.42    \u001B[0m | \u001B[0m0.9828   \u001B[0m | \u001B[0m0.9828   \u001B[0m | \u001B[0m2.138    \u001B[0m | \u001B[0m0.03695  \u001B[0m |\n",
      "| \u001B[0m33       \u001B[0m | \u001B[0m-435.2   \u001B[0m | \u001B[0m0.02327  \u001B[0m | \u001B[0m45.66    \u001B[0m | \u001B[0m0.855    \u001B[0m | \u001B[0m0.9502   \u001B[0m | \u001B[0m18.45    \u001B[0m | \u001B[0m0.03825  \u001B[0m |\n",
      "| \u001B[0m34       \u001B[0m | \u001B[0m-632.9   \u001B[0m | \u001B[0m0.06501  \u001B[0m | \u001B[0m59.97    \u001B[0m | \u001B[0m0.9496   \u001B[0m | \u001B[0m0.9062   \u001B[0m | \u001B[0m14.9     \u001B[0m | \u001B[0m0.09463  \u001B[0m |\n",
      "| \u001B[0m35       \u001B[0m | \u001B[0m-39.15   \u001B[0m | \u001B[0m0.06036  \u001B[0m | \u001B[0m29.47    \u001B[0m | \u001B[0m0.9338   \u001B[0m | \u001B[0m0.9712   \u001B[0m | \u001B[0m13.13    \u001B[0m | \u001B[0m0.01469  \u001B[0m |\n",
      "| \u001B[0m36       \u001B[0m | \u001B[0m-18.7    \u001B[0m | \u001B[0m0.09735  \u001B[0m | \u001B[0m95.58    \u001B[0m | \u001B[0m0.8845   \u001B[0m | \u001B[0m0.9594   \u001B[0m | \u001B[0m0.7926   \u001B[0m | \u001B[0m0.09886  \u001B[0m |\n",
      "| \u001B[0m37       \u001B[0m | \u001B[0m-35.84   \u001B[0m | \u001B[0m0.08187  \u001B[0m | \u001B[0m64.01    \u001B[0m | \u001B[0m0.9515   \u001B[0m | \u001B[0m0.9188   \u001B[0m | \u001B[0m6.153    \u001B[0m | \u001B[0m0.02464  \u001B[0m |\n",
      "| \u001B[0m38       \u001B[0m | \u001B[0m-46.72   \u001B[0m | \u001B[0m0.05961  \u001B[0m | \u001B[0m10.1     \u001B[0m | \u001B[0m0.9782   \u001B[0m | \u001B[0m0.9462   \u001B[0m | \u001B[0m8.896    \u001B[0m | \u001B[0m0.01047  \u001B[0m |\n",
      "| \u001B[0m39       \u001B[0m | \u001B[0m-72.29   \u001B[0m | \u001B[0m0.06849  \u001B[0m | \u001B[0m81.87    \u001B[0m | \u001B[0m0.9253   \u001B[0m | \u001B[0m0.9242   \u001B[0m | \u001B[0m15.71    \u001B[0m | \u001B[0m0.01457  \u001B[0m |\n",
      "| \u001B[0m40       \u001B[0m | \u001B[0m-159.8   \u001B[0m | \u001B[0m0.08273  \u001B[0m | \u001B[0m58.49    \u001B[0m | \u001B[0m0.8576   \u001B[0m | \u001B[0m0.9513   \u001B[0m | \u001B[0m12.58    \u001B[0m | \u001B[0m0.02586  \u001B[0m |\n",
      "| \u001B[0m41       \u001B[0m | \u001B[0m-26.3    \u001B[0m | \u001B[0m0.08469  \u001B[0m | \u001B[0m42.7     \u001B[0m | \u001B[0m0.9776   \u001B[0m | \u001B[0m0.9835   \u001B[0m | \u001B[0m1.987    \u001B[0m | \u001B[0m0.06463  \u001B[0m |\n",
      "| \u001B[0m42       \u001B[0m | \u001B[0m-71.52   \u001B[0m | \u001B[0m0.03105  \u001B[0m | \u001B[0m75.65    \u001B[0m | \u001B[0m0.908    \u001B[0m | \u001B[0m0.9458   \u001B[0m | \u001B[0m17.91    \u001B[0m | \u001B[0m0.005726 \u001B[0m |\n",
      "| \u001B[0m43       \u001B[0m | \u001B[0m-474.4   \u001B[0m | \u001B[0m0.05573  \u001B[0m | \u001B[0m33.46    \u001B[0m | \u001B[0m0.807    \u001B[0m | \u001B[0m0.9754   \u001B[0m | \u001B[0m11.23    \u001B[0m | \u001B[0m0.08941  \u001B[0m |\n",
      "| \u001B[0m44       \u001B[0m | \u001B[0m-199.7   \u001B[0m | \u001B[0m0.05983  \u001B[0m | \u001B[0m34.37    \u001B[0m | \u001B[0m0.9961   \u001B[0m | \u001B[0m0.9116   \u001B[0m | \u001B[0m1.052    \u001B[0m | \u001B[0m0.07326  \u001B[0m |\n",
      "| \u001B[0m45       \u001B[0m | \u001B[0m-569.0   \u001B[0m | \u001B[0m0.03709  \u001B[0m | \u001B[0m36.79    \u001B[0m | \u001B[0m0.9744   \u001B[0m | \u001B[0m0.9327   \u001B[0m | \u001B[0m17.78    \u001B[0m | \u001B[0m0.0644   \u001B[0m |\n",
      "| \u001B[0m46       \u001B[0m | \u001B[0m-158.4   \u001B[0m | \u001B[0m0.03291  \u001B[0m | \u001B[0m6.894    \u001B[0m | \u001B[0m0.8488   \u001B[0m | \u001B[0m0.9968   \u001B[0m | \u001B[0m8.105    \u001B[0m | \u001B[0m0.016    \u001B[0m |\n",
      "| \u001B[0m47       \u001B[0m | \u001B[0m-627.3   \u001B[0m | \u001B[0m0.0298   \u001B[0m | \u001B[0m90.06    \u001B[0m | \u001B[0m0.8328   \u001B[0m | \u001B[0m0.9778   \u001B[0m | \u001B[0m2.697    \u001B[0m | \u001B[0m0.09614  \u001B[0m |\n",
      "| \u001B[0m48       \u001B[0m | \u001B[0m-3.032e+2\u001B[0m | \u001B[0m0.05302  \u001B[0m | \u001B[0m5.274    \u001B[0m | \u001B[0m0.9853   \u001B[0m | \u001B[0m0.9358   \u001B[0m | \u001B[0m14.63    \u001B[0m | \u001B[0m0.05237  \u001B[0m |\n",
      "| \u001B[0m49       \u001B[0m | \u001B[0m-20.05   \u001B[0m | \u001B[0m0.009259 \u001B[0m | \u001B[0m11.5     \u001B[0m | \u001B[0m0.8297   \u001B[0m | \u001B[0m0.9161   \u001B[0m | \u001B[0m1.055    \u001B[0m | \u001B[0m0.004702 \u001B[0m |\n",
      "| \u001B[0m50       \u001B[0m | \u001B[0m-108.6   \u001B[0m | \u001B[0m0.09484  \u001B[0m | \u001B[0m10.04    \u001B[0m | \u001B[0m0.9012   \u001B[0m | \u001B[0m0.9119   \u001B[0m | \u001B[0m4.296    \u001B[0m | \u001B[0m0.07631  \u001B[0m |\n",
      "| \u001B[0m51       \u001B[0m | \u001B[0m-404.4   \u001B[0m | \u001B[0m0.06625  \u001B[0m | \u001B[0m10.14    \u001B[0m | \u001B[0m0.9157   \u001B[0m | \u001B[0m0.9436   \u001B[0m | \u001B[0m12.57    \u001B[0m | \u001B[0m0.08683  \u001B[0m |\n",
      "| \u001B[0m52       \u001B[0m | \u001B[0m-424.7   \u001B[0m | \u001B[0m0.08466  \u001B[0m | \u001B[0m10.36    \u001B[0m | \u001B[0m0.8591   \u001B[0m | \u001B[0m0.9333   \u001B[0m | \u001B[0m15.2     \u001B[0m | \u001B[0m0.0633   \u001B[0m |\n",
      "| \u001B[0m53       \u001B[0m | \u001B[0m-454.1   \u001B[0m | \u001B[0m0.09531  \u001B[0m | \u001B[0m78.01    \u001B[0m | \u001B[0m0.9602   \u001B[0m | \u001B[0m0.9871   \u001B[0m | \u001B[0m14.98    \u001B[0m | \u001B[0m0.07206  \u001B[0m |\n",
      "| \u001B[0m54       \u001B[0m | \u001B[0m-489.2   \u001B[0m | \u001B[0m0.07527  \u001B[0m | \u001B[0m55.1     \u001B[0m | \u001B[0m0.9083   \u001B[0m | \u001B[0m0.925    \u001B[0m | \u001B[0m14.7     \u001B[0m | \u001B[0m0.07373  \u001B[0m |\n",
      "| \u001B[0m55       \u001B[0m | \u001B[0m-114.9   \u001B[0m | \u001B[0m0.06304  \u001B[0m | \u001B[0m45.72    \u001B[0m | \u001B[0m0.8617   \u001B[0m | \u001B[0m0.9405   \u001B[0m | \u001B[0m8.238    \u001B[0m | \u001B[0m0.0279   \u001B[0m |\n",
      "| \u001B[0m56       \u001B[0m | \u001B[0m-50.47   \u001B[0m | \u001B[0m0.06382  \u001B[0m | \u001B[0m35.98    \u001B[0m | \u001B[0m0.9435   \u001B[0m | \u001B[0m0.9416   \u001B[0m | \u001B[0m4.726    \u001B[0m | \u001B[0m0.08442  \u001B[0m |\n",
      "| \u001B[0m57       \u001B[0m | \u001B[0m-39.16   \u001B[0m | \u001B[0m0.07019  \u001B[0m | \u001B[0m41.6     \u001B[0m | \u001B[0m0.9535   \u001B[0m | \u001B[0m0.9878   \u001B[0m | \u001B[0m7.171    \u001B[0m | \u001B[0m0.01638  \u001B[0m |\n",
      "| \u001B[0m58       \u001B[0m | \u001B[0m-70.11   \u001B[0m | \u001B[0m0.09808  \u001B[0m | \u001B[0m39.57    \u001B[0m | \u001B[0m0.8285   \u001B[0m | \u001B[0m0.9683   \u001B[0m | \u001B[0m3.993    \u001B[0m | \u001B[0m0.01931  \u001B[0m |\n",
      "| \u001B[0m59       \u001B[0m | \u001B[0m-30.19   \u001B[0m | \u001B[0m0.07997  \u001B[0m | \u001B[0m44.4     \u001B[0m | \u001B[0m0.8128   \u001B[0m | \u001B[0m0.9754   \u001B[0m | \u001B[0m5.011    \u001B[0m | \u001B[0m0.004551 \u001B[0m |\n",
      "| \u001B[0m60       \u001B[0m | \u001B[0m-37.41   \u001B[0m | \u001B[0m0.06095  \u001B[0m | \u001B[0m38.15    \u001B[0m | \u001B[0m0.9016   \u001B[0m | \u001B[0m0.9601   \u001B[0m | \u001B[0m0.5774   \u001B[0m | \u001B[0m0.09903  \u001B[0m |\n",
      "| \u001B[0m61       \u001B[0m | \u001B[0m-9.223e+0\u001B[0m | \u001B[0m0.03393  \u001B[0m | \u001B[0m47.99    \u001B[0m | \u001B[0m0.9777   \u001B[0m | \u001B[0m0.9085   \u001B[0m | \u001B[0m15.8     \u001B[0m | \u001B[0m0.04245  \u001B[0m |\n",
      "| \u001B[0m62       \u001B[0m | \u001B[0m-632.0   \u001B[0m | \u001B[0m0.1      \u001B[0m | \u001B[0m51.33    \u001B[0m | \u001B[0m0.8444   \u001B[0m | \u001B[0m1.0      \u001B[0m | \u001B[0m14.13    \u001B[0m | \u001B[0m0.1      \u001B[0m |\n",
      "| \u001B[0m63       \u001B[0m | \u001B[0m-631.9   \u001B[0m | \u001B[0m1e-06    \u001B[0m | \u001B[0m49.75    \u001B[0m | \u001B[0m0.999    \u001B[0m | \u001B[0m0.9      \u001B[0m | \u001B[0m10.87    \u001B[0m | \u001B[0m1e-06    \u001B[0m |\n",
      "| \u001B[0m64       \u001B[0m | \u001B[0m-39.49   \u001B[0m | \u001B[0m0.08681  \u001B[0m | \u001B[0m53.63    \u001B[0m | \u001B[0m0.9547   \u001B[0m | \u001B[0m0.9567   \u001B[0m | \u001B[0m11.18    \u001B[0m | \u001B[0m0.005993 \u001B[0m |\n"
     ]
    },
    {
     "name": "stderr",
     "output_type": "stream",
     "text": [
      "/opt/conda/lib/python3.11/site-packages/sklearn/neural_network/_multilayer_perceptron.py:691: ConvergenceWarning: Stochastic Optimizer: Maximum iterations (15000) reached and the optimization hasn't converged yet.\n",
      "  warnings.warn(\n",
      "/opt/conda/lib/python3.11/site-packages/sklearn/neural_network/_multilayer_perceptron.py:691: ConvergenceWarning: Stochastic Optimizer: Maximum iterations (15000) reached and the optimization hasn't converged yet.\n",
      "  warnings.warn(\n",
      "/opt/conda/lib/python3.11/site-packages/sklearn/neural_network/_multilayer_perceptron.py:691: ConvergenceWarning: Stochastic Optimizer: Maximum iterations (15000) reached and the optimization hasn't converged yet.\n",
      "  warnings.warn(\n",
      "/opt/conda/lib/python3.11/site-packages/sklearn/neural_network/_multilayer_perceptron.py:691: ConvergenceWarning: Stochastic Optimizer: Maximum iterations (15000) reached and the optimization hasn't converged yet.\n",
      "  warnings.warn(\n",
      "/opt/conda/lib/python3.11/site-packages/sklearn/neural_network/_multilayer_perceptron.py:691: ConvergenceWarning: Stochastic Optimizer: Maximum iterations (15000) reached and the optimization hasn't converged yet.\n",
      "  warnings.warn(\n"
     ]
    },
    {
     "name": "stdout",
     "output_type": "stream",
     "text": [
      "| \u001B[0m65       \u001B[0m | \u001B[0m-242.3   \u001B[0m | \u001B[0m0.03206  \u001B[0m | \u001B[0m53.32    \u001B[0m | \u001B[0m0.9776   \u001B[0m | \u001B[0m0.9362   \u001B[0m | \u001B[0m7.082    \u001B[0m | \u001B[0m1e-06    \u001B[0m |\n",
      "| \u001B[0m66       \u001B[0m | \u001B[0m-71.27   \u001B[0m | \u001B[0m0.08572  \u001B[0m | \u001B[0m49.32    \u001B[0m | \u001B[0m0.8586   \u001B[0m | \u001B[0m0.9605   \u001B[0m | \u001B[0m19.35    \u001B[0m | \u001B[0m0.00656  \u001B[0m |\n",
      "| \u001B[0m67       \u001B[0m | \u001B[0m-533.1   \u001B[0m | \u001B[0m0.009911 \u001B[0m | \u001B[0m32.96    \u001B[0m | \u001B[0m0.8581   \u001B[0m | \u001B[0m0.9746   \u001B[0m | \u001B[0m15.09    \u001B[0m | \u001B[0m0.0948   \u001B[0m |\n",
      "| \u001B[0m68       \u001B[0m | \u001B[0m-413.3   \u001B[0m | \u001B[0m0.02831  \u001B[0m | \u001B[0m36.53    \u001B[0m | \u001B[0m0.8892   \u001B[0m | \u001B[0m0.9299   \u001B[0m | \u001B[0m13.94    \u001B[0m | \u001B[0m0.05016  \u001B[0m |\n",
      "| \u001B[0m69       \u001B[0m | \u001B[0m-609.8   \u001B[0m | \u001B[0m0.02193  \u001B[0m | \u001B[0m40.28    \u001B[0m | \u001B[0m0.8826   \u001B[0m | \u001B[0m0.9647   \u001B[0m | \u001B[0m14.38    \u001B[0m | \u001B[0m0.02156  \u001B[0m |\n",
      "| \u001B[0m70       \u001B[0m | \u001B[0m-41.25   \u001B[0m | \u001B[0m0.05269  \u001B[0m | \u001B[0m38.98    \u001B[0m | \u001B[0m0.96     \u001B[0m | \u001B[0m0.9382   \u001B[0m | \u001B[0m11.26    \u001B[0m | \u001B[0m0.008871 \u001B[0m |\n",
      "| \u001B[0m71       \u001B[0m | \u001B[0m-633.2   \u001B[0m | \u001B[0m0.09896  \u001B[0m | \u001B[0m40.3     \u001B[0m | \u001B[0m0.961    \u001B[0m | \u001B[0m0.9512   \u001B[0m | \u001B[0m18.91    \u001B[0m | \u001B[0m0.06421  \u001B[0m |\n",
      "| \u001B[0m72       \u001B[0m | \u001B[0m-161.3   \u001B[0m | \u001B[0m0.02794  \u001B[0m | \u001B[0m56.76    \u001B[0m | \u001B[0m0.8719   \u001B[0m | \u001B[0m0.9297   \u001B[0m | \u001B[0m8.65     \u001B[0m | \u001B[0m0.06015  \u001B[0m |\n",
      "| \u001B[0m73       \u001B[0m | \u001B[0m-27.86   \u001B[0m | \u001B[0m0.05083  \u001B[0m | \u001B[0m56.34    \u001B[0m | \u001B[0m0.8517   \u001B[0m | \u001B[0m0.9492   \u001B[0m | \u001B[0m4.4      \u001B[0m | \u001B[0m0.01901  \u001B[0m |\n",
      "| \u001B[0m74       \u001B[0m | \u001B[0m-53.52   \u001B[0m | \u001B[0m0.02835  \u001B[0m | \u001B[0m59.92    \u001B[0m | \u001B[0m0.889    \u001B[0m | \u001B[0m0.9491   \u001B[0m | \u001B[0m5.78     \u001B[0m | \u001B[0m0.0329   \u001B[0m |\n",
      "| \u001B[0m75       \u001B[0m | \u001B[0m-63.5    \u001B[0m | \u001B[0m0.001123 \u001B[0m | \u001B[0m60.95    \u001B[0m | \u001B[0m0.9206   \u001B[0m | \u001B[0m0.9317   \u001B[0m | \u001B[0m9.253    \u001B[0m | \u001B[0m0.02662  \u001B[0m |\n",
      "| \u001B[0m76       \u001B[0m | \u001B[0m-471.2   \u001B[0m | \u001B[0m0.0006314\u001B[0m | \u001B[0m64.92    \u001B[0m | \u001B[0m0.8749   \u001B[0m | \u001B[0m0.9078   \u001B[0m | \u001B[0m10.28    \u001B[0m | \u001B[0m0.09898  \u001B[0m |\n",
      "| \u001B[0m77       \u001B[0m | \u001B[0m-81.84   \u001B[0m | \u001B[0m0.02843  \u001B[0m | \u001B[0m67.56    \u001B[0m | \u001B[0m0.8758   \u001B[0m | \u001B[0m0.9203   \u001B[0m | \u001B[0m7.832    \u001B[0m | \u001B[0m0.09159  \u001B[0m |\n",
      "| \u001B[0m78       \u001B[0m | \u001B[0m-52.1    \u001B[0m | \u001B[0m0.03375  \u001B[0m | \u001B[0m71.75    \u001B[0m | \u001B[0m0.9393   \u001B[0m | \u001B[0m0.9942   \u001B[0m | \u001B[0m9.737    \u001B[0m | \u001B[0m0.03476  \u001B[0m |\n",
      "| \u001B[0m79       \u001B[0m | \u001B[0m-123.9   \u001B[0m | \u001B[0m0.06302  \u001B[0m | \u001B[0m62.33    \u001B[0m | \u001B[0m0.8376   \u001B[0m | \u001B[0m0.9592   \u001B[0m | \u001B[0m12.52    \u001B[0m | \u001B[0m0.02332  \u001B[0m |\n",
      "| \u001B[0m80       \u001B[0m | \u001B[0m-483.1   \u001B[0m | \u001B[0m0.00195  \u001B[0m | \u001B[0m65.85    \u001B[0m | \u001B[0m0.872    \u001B[0m | \u001B[0m0.9898   \u001B[0m | \u001B[0m14.31    \u001B[0m | \u001B[0m0.09876  \u001B[0m |\n",
      "| \u001B[0m81       \u001B[0m | \u001B[0m-35.44   \u001B[0m | \u001B[0m0.01429  \u001B[0m | \u001B[0m71.03    \u001B[0m | \u001B[0m0.9477   \u001B[0m | \u001B[0m0.9805   \u001B[0m | \u001B[0m14.46    \u001B[0m | \u001B[0m0.008523 \u001B[0m |\n",
      "| \u001B[0m82       \u001B[0m | \u001B[0m-31.7    \u001B[0m | \u001B[0m0.03687  \u001B[0m | \u001B[0m70.97    \u001B[0m | \u001B[0m0.9066   \u001B[0m | \u001B[0m0.9591   \u001B[0m | \u001B[0m5.965    \u001B[0m | \u001B[0m0.014    \u001B[0m |\n",
      "| \u001B[0m83       \u001B[0m | \u001B[0m-103.3   \u001B[0m | \u001B[0m0.006713 \u001B[0m | \u001B[0m67.64    \u001B[0m | \u001B[0m0.8145   \u001B[0m | \u001B[0m0.9198   \u001B[0m | \u001B[0m3.855    \u001B[0m | \u001B[0m0.03544  \u001B[0m |\n"
     ]
    },
    {
     "name": "stderr",
     "output_type": "stream",
     "text": [
      "/opt/conda/lib/python3.11/site-packages/sklearn/neural_network/_multilayer_perceptron.py:691: ConvergenceWarning: Stochastic Optimizer: Maximum iterations (15000) reached and the optimization hasn't converged yet.\n",
      "  warnings.warn(\n",
      "/opt/conda/lib/python3.11/site-packages/sklearn/neural_network/_multilayer_perceptron.py:691: ConvergenceWarning: Stochastic Optimizer: Maximum iterations (15000) reached and the optimization hasn't converged yet.\n",
      "  warnings.warn(\n",
      "/opt/conda/lib/python3.11/site-packages/sklearn/neural_network/_multilayer_perceptron.py:691: ConvergenceWarning: Stochastic Optimizer: Maximum iterations (15000) reached and the optimization hasn't converged yet.\n",
      "  warnings.warn(\n",
      "/opt/conda/lib/python3.11/site-packages/sklearn/neural_network/_multilayer_perceptron.py:691: ConvergenceWarning: Stochastic Optimizer: Maximum iterations (15000) reached and the optimization hasn't converged yet.\n",
      "  warnings.warn(\n",
      "/opt/conda/lib/python3.11/site-packages/sklearn/neural_network/_multilayer_perceptron.py:691: ConvergenceWarning: Stochastic Optimizer: Maximum iterations (15000) reached and the optimization hasn't converged yet.\n",
      "  warnings.warn(\n"
     ]
    },
    {
     "name": "stdout",
     "output_type": "stream",
     "text": [
      "| \u001B[0m84       \u001B[0m | \u001B[0m-48.04   \u001B[0m | \u001B[0m0.02635  \u001B[0m | \u001B[0m63.11    \u001B[0m | \u001B[0m0.8      \u001B[0m | \u001B[0m1.0      \u001B[0m | \u001B[0m16.8     \u001B[0m | \u001B[0m1e-06    \u001B[0m |\n",
      "| \u001B[0m85       \u001B[0m | \u001B[0m-142.3   \u001B[0m | \u001B[0m0.09212  \u001B[0m | \u001B[0m31.88    \u001B[0m | \u001B[0m0.926    \u001B[0m | \u001B[0m0.9516   \u001B[0m | \u001B[0m18.48    \u001B[0m | \u001B[0m0.01591  \u001B[0m |\n",
      "| \u001B[0m86       \u001B[0m | \u001B[0m-32.6    \u001B[0m | \u001B[0m0.02481  \u001B[0m | \u001B[0m68.2     \u001B[0m | \u001B[0m0.8189   \u001B[0m | \u001B[0m0.9333   \u001B[0m | \u001B[0m17.13    \u001B[0m | \u001B[0m8.773e-05\u001B[0m |\n",
      "| \u001B[0m87       \u001B[0m | \u001B[0m-548.7   \u001B[0m | \u001B[0m0.003283 \u001B[0m | \u001B[0m71.69    \u001B[0m | \u001B[0m0.8396   \u001B[0m | \u001B[0m0.9547   \u001B[0m | \u001B[0m18.23    \u001B[0m | \u001B[0m0.0765   \u001B[0m |\n",
      "| \u001B[0m88       \u001B[0m | \u001B[0m-25.72   \u001B[0m | \u001B[0m0.01229  \u001B[0m | \u001B[0m77.19    \u001B[0m | \u001B[0m0.8857   \u001B[0m | \u001B[0m0.9753   \u001B[0m | \u001B[0m0.9237   \u001B[0m | \u001B[0m0.06925  \u001B[0m |\n",
      "| \u001B[0m89       \u001B[0m | \u001B[0m-164.7   \u001B[0m | \u001B[0m0.03362  \u001B[0m | \u001B[0m74.92    \u001B[0m | \u001B[0m0.9868   \u001B[0m | \u001B[0m0.9244   \u001B[0m | \u001B[0m3.811    \u001B[0m | \u001B[0m0.01438  \u001B[0m |\n",
      "| \u001B[0m90       \u001B[0m | \u001B[0m-2.717e+0\u001B[0m | \u001B[0m0.04604  \u001B[0m | \u001B[0m74.55    \u001B[0m | \u001B[0m0.9961   \u001B[0m | \u001B[0m0.9506   \u001B[0m | \u001B[0m7.406    \u001B[0m | \u001B[0m0.06787  \u001B[0m |\n",
      "| \u001B[0m91       \u001B[0m | \u001B[0m-62.19   \u001B[0m | \u001B[0m0.03637  \u001B[0m | \u001B[0m78.06    \u001B[0m | \u001B[0m0.8968   \u001B[0m | \u001B[0m0.9391   \u001B[0m | \u001B[0m6.416    \u001B[0m | \u001B[0m0.05932  \u001B[0m |\n",
      "| \u001B[0m92       \u001B[0m | \u001B[0m-409.7   \u001B[0m | \u001B[0m0.06945  \u001B[0m | \u001B[0m77.13    \u001B[0m | \u001B[0m0.949    \u001B[0m | \u001B[0m0.9763   \u001B[0m | \u001B[0m10.2     \u001B[0m | \u001B[0m0.05816  \u001B[0m |\n",
      "| \u001B[0m93       \u001B[0m | \u001B[0m-57.94   \u001B[0m | \u001B[0m0.03     \u001B[0m | \u001B[0m80.41    \u001B[0m | \u001B[0m0.8941   \u001B[0m | \u001B[0m0.9043   \u001B[0m | \u001B[0m12.18    \u001B[0m | \u001B[0m0.004821 \u001B[0m |\n",
      "| \u001B[0m94       \u001B[0m | \u001B[0m-519.6   \u001B[0m | \u001B[0m0.02689  \u001B[0m | \u001B[0m80.94    \u001B[0m | \u001B[0m0.9804   \u001B[0m | \u001B[0m0.9477   \u001B[0m | \u001B[0m8.452    \u001B[0m | \u001B[0m0.08595  \u001B[0m |\n",
      "| \u001B[0m95       \u001B[0m | \u001B[0m-70.07   \u001B[0m | \u001B[0m0.05531  \u001B[0m | \u001B[0m17.05    \u001B[0m | \u001B[0m0.884    \u001B[0m | \u001B[0m0.9754   \u001B[0m | \u001B[0m15.71    \u001B[0m | \u001B[0m0.01081  \u001B[0m |\n",
      "| \u001B[0m96       \u001B[0m | \u001B[0m-606.8   \u001B[0m | \u001B[0m0.07224  \u001B[0m | \u001B[0m13.73    \u001B[0m | \u001B[0m0.8496   \u001B[0m | \u001B[0m0.9422   \u001B[0m | \u001B[0m17.26    \u001B[0m | \u001B[0m0.09823  \u001B[0m |\n",
      "| \u001B[0m97       \u001B[0m | \u001B[0m-430.2   \u001B[0m | \u001B[0m0.07165  \u001B[0m | \u001B[0m17.09    \u001B[0m | \u001B[0m0.8091   \u001B[0m | \u001B[0m0.9678   \u001B[0m | \u001B[0m19.18    \u001B[0m | \u001B[0m0.06933  \u001B[0m |\n",
      "| \u001B[0m98       \u001B[0m | \u001B[0m-33.96   \u001B[0m | \u001B[0m0.09268  \u001B[0m | \u001B[0m83.16    \u001B[0m | \u001B[0m0.8849   \u001B[0m | \u001B[0m0.9208   \u001B[0m | \u001B[0m5.305    \u001B[0m | \u001B[0m0.05128  \u001B[0m |\n",
      "| \u001B[0m99       \u001B[0m | \u001B[0m-23.0    \u001B[0m | \u001B[0m0.04259  \u001B[0m | \u001B[0m84.62    \u001B[0m | \u001B[0m0.9743   \u001B[0m | \u001B[0m0.9772   \u001B[0m | \u001B[0m1.763    \u001B[0m | \u001B[0m0.03737  \u001B[0m |\n",
      "| \u001B[0m100      \u001B[0m | \u001B[0m-108.5   \u001B[0m | \u001B[0m0.08333  \u001B[0m | \u001B[0m86.86    \u001B[0m | \u001B[0m0.8274   \u001B[0m | \u001B[0m0.984    \u001B[0m | \u001B[0m4.492    \u001B[0m | \u001B[0m0.01812  \u001B[0m |\n",
      "| \u001B[0m101      \u001B[0m | \u001B[0m-38.62   \u001B[0m | \u001B[0m0.08957  \u001B[0m | \u001B[0m90.42    \u001B[0m | \u001B[0m0.9083   \u001B[0m | \u001B[0m0.9733   \u001B[0m | \u001B[0m6.354    \u001B[0m | \u001B[0m0.03356  \u001B[0m |\n",
      "| \u001B[0m102      \u001B[0m | \u001B[0m-408.7   \u001B[0m | \u001B[0m0.08342  \u001B[0m | \u001B[0m93.04    \u001B[0m | \u001B[0m0.847    \u001B[0m | \u001B[0m0.9545   \u001B[0m | \u001B[0m9.239    \u001B[0m | \u001B[0m0.02841  \u001B[0m |\n",
      "| \u001B[0m103      \u001B[0m | \u001B[0m-479.0   \u001B[0m | \u001B[0m0.01066  \u001B[0m | \u001B[0m85.72    \u001B[0m | \u001B[0m0.9554   \u001B[0m | \u001B[0m0.9711   \u001B[0m | \u001B[0m8.136    \u001B[0m | \u001B[0m0.07422  \u001B[0m |\n",
      "| \u001B[0m104      \u001B[0m | \u001B[0m-628.9   \u001B[0m | \u001B[0m0.017    \u001B[0m | \u001B[0m83.87    \u001B[0m | \u001B[0m0.9571   \u001B[0m | \u001B[0m0.9662   \u001B[0m | \u001B[0m11.29    \u001B[0m | \u001B[0m0.08962  \u001B[0m |\n",
      "| \u001B[0m105      \u001B[0m | \u001B[0m-69.67   \u001B[0m | \u001B[0m0.006242 \u001B[0m | \u001B[0m88.78    \u001B[0m | \u001B[0m0.9586   \u001B[0m | \u001B[0m0.9866   \u001B[0m | \u001B[0m10.02    \u001B[0m | \u001B[0m0.02051  \u001B[0m |\n",
      "| \u001B[0m106      \u001B[0m | \u001B[0m-421.4   \u001B[0m | \u001B[0m0.04137  \u001B[0m | \u001B[0m90.5     \u001B[0m | \u001B[0m0.8816   \u001B[0m | \u001B[0m0.9816   \u001B[0m | \u001B[0m13.35    \u001B[0m | \u001B[0m0.07094  \u001B[0m |\n"
     ]
    },
    {
     "name": "stderr",
     "output_type": "stream",
     "text": [
      "/opt/conda/lib/python3.11/site-packages/sklearn/neural_network/_multilayer_perceptron.py:691: ConvergenceWarning: Stochastic Optimizer: Maximum iterations (15000) reached and the optimization hasn't converged yet.\n",
      "  warnings.warn(\n",
      "/opt/conda/lib/python3.11/site-packages/sklearn/neural_network/_multilayer_perceptron.py:691: ConvergenceWarning: Stochastic Optimizer: Maximum iterations (15000) reached and the optimization hasn't converged yet.\n",
      "  warnings.warn(\n",
      "/opt/conda/lib/python3.11/site-packages/sklearn/neural_network/_multilayer_perceptron.py:691: ConvergenceWarning: Stochastic Optimizer: Maximum iterations (15000) reached and the optimization hasn't converged yet.\n",
      "  warnings.warn(\n",
      "/opt/conda/lib/python3.11/site-packages/sklearn/neural_network/_multilayer_perceptron.py:691: ConvergenceWarning: Stochastic Optimizer: Maximum iterations (15000) reached and the optimization hasn't converged yet.\n",
      "  warnings.warn(\n",
      "/opt/conda/lib/python3.11/site-packages/sklearn/neural_network/_multilayer_perceptron.py:691: ConvergenceWarning: Stochastic Optimizer: Maximum iterations (15000) reached and the optimization hasn't converged yet.\n",
      "  warnings.warn(\n"
     ]
    },
    {
     "name": "stdout",
     "output_type": "stream",
     "text": [
      "| \u001B[0m107      \u001B[0m | \u001B[0m-236.0   \u001B[0m | \u001B[0m0.1      \u001B[0m | \u001B[0m86.88    \u001B[0m | \u001B[0m0.8      \u001B[0m | \u001B[0m0.985    \u001B[0m | \u001B[0m13.25    \u001B[0m | \u001B[0m1e-06    \u001B[0m |\n",
      "| \u001B[0m108      \u001B[0m | \u001B[0m-111.5   \u001B[0m | \u001B[0m0.02395  \u001B[0m | \u001B[0m87.79    \u001B[0m | \u001B[0m0.9751   \u001B[0m | \u001B[0m0.9046   \u001B[0m | \u001B[0m0.0627   \u001B[0m | \u001B[0m0.09121  \u001B[0m |\n"
     ]
    },
    {
     "name": "stderr",
     "output_type": "stream",
     "text": [
      "/opt/conda/lib/python3.11/site-packages/sklearn/neural_network/_multilayer_perceptron.py:691: ConvergenceWarning: Stochastic Optimizer: Maximum iterations (15000) reached and the optimization hasn't converged yet.\n",
      "  warnings.warn(\n",
      "/opt/conda/lib/python3.11/site-packages/sklearn/neural_network/_multilayer_perceptron.py:691: ConvergenceWarning: Stochastic Optimizer: Maximum iterations (15000) reached and the optimization hasn't converged yet.\n",
      "  warnings.warn(\n",
      "/opt/conda/lib/python3.11/site-packages/sklearn/neural_network/_multilayer_perceptron.py:691: ConvergenceWarning: Stochastic Optimizer: Maximum iterations (15000) reached and the optimization hasn't converged yet.\n",
      "  warnings.warn(\n",
      "/opt/conda/lib/python3.11/site-packages/sklearn/neural_network/_multilayer_perceptron.py:691: ConvergenceWarning: Stochastic Optimizer: Maximum iterations (15000) reached and the optimization hasn't converged yet.\n",
      "  warnings.warn(\n",
      "/opt/conda/lib/python3.11/site-packages/sklearn/neural_network/_multilayer_perceptron.py:691: ConvergenceWarning: Stochastic Optimizer: Maximum iterations (15000) reached and the optimization hasn't converged yet.\n",
      "  warnings.warn(\n"
     ]
    },
    {
     "name": "stdout",
     "output_type": "stream",
     "text": [
      "| \u001B[0m109      \u001B[0m | \u001B[0m-251.0   \u001B[0m | \u001B[0m0.1      \u001B[0m | \u001B[0m90.92    \u001B[0m | \u001B[0m0.8      \u001B[0m | \u001B[0m0.9      \u001B[0m | \u001B[0m16.94    \u001B[0m | \u001B[0m1e-06    \u001B[0m |\n",
      "| \u001B[0m110      \u001B[0m | \u001B[0m-398.9   \u001B[0m | \u001B[0m0.05216  \u001B[0m | \u001B[0m87.38    \u001B[0m | \u001B[0m0.8767   \u001B[0m | \u001B[0m0.9094   \u001B[0m | \u001B[0m16.92    \u001B[0m | \u001B[0m0.05183  \u001B[0m |\n",
      "| \u001B[0m111      \u001B[0m | \u001B[0m-116.4   \u001B[0m | \u001B[0m0.06707  \u001B[0m | \u001B[0m1.079    \u001B[0m | \u001B[0m0.8896   \u001B[0m | \u001B[0m0.9588   \u001B[0m | \u001B[0m7.214    \u001B[0m | \u001B[0m0.03802  \u001B[0m |\n",
      "| \u001B[0m112      \u001B[0m | \u001B[0m-85.44   \u001B[0m | \u001B[0m0.007429 \u001B[0m | \u001B[0m64.12    \u001B[0m | \u001B[0m0.8647   \u001B[0m | \u001B[0m0.9559   \u001B[0m | \u001B[0m2.455    \u001B[0m | \u001B[0m0.08526  \u001B[0m |\n",
      "| \u001B[0m113      \u001B[0m | \u001B[0m-79.73   \u001B[0m | \u001B[0m0.07719  \u001B[0m | \u001B[0m60.52    \u001B[0m | \u001B[0m0.8693   \u001B[0m | \u001B[0m0.9711   \u001B[0m | \u001B[0m2.322    \u001B[0m | \u001B[0m0.08189  \u001B[0m |\n",
      "| \u001B[95m114      \u001B[0m | \u001B[95m-16.19   \u001B[0m | \u001B[95m0.02465  \u001B[0m | \u001B[95m56.87    \u001B[0m | \u001B[95m0.9506   \u001B[0m | \u001B[95m0.9806   \u001B[0m | \u001B[95m0.8155   \u001B[0m | \u001B[95m0.09076  \u001B[0m |\n",
      "| \u001B[0m115      \u001B[0m | \u001B[0m-31.4    \u001B[0m | \u001B[0m0.08061  \u001B[0m | \u001B[0m68.23    \u001B[0m | \u001B[0m0.9046   \u001B[0m | \u001B[0m0.976    \u001B[0m | \u001B[0m0.4313   \u001B[0m | \u001B[0m0.03938  \u001B[0m |\n",
      "| \u001B[0m116      \u001B[0m | \u001B[0m-629.8   \u001B[0m | \u001B[0m0.01621  \u001B[0m | \u001B[0m60.57    \u001B[0m | \u001B[0m0.8966   \u001B[0m | \u001B[0m0.9466   \u001B[0m | \u001B[0m19.38    \u001B[0m | \u001B[0m0.07797  \u001B[0m |\n",
      "| \u001B[0m117      \u001B[0m | \u001B[0m-632.2   \u001B[0m | \u001B[0m0.02944  \u001B[0m | \u001B[0m65.61    \u001B[0m | \u001B[0m0.9729   \u001B[0m | \u001B[0m0.9936   \u001B[0m | \u001B[0m19.6     \u001B[0m | \u001B[0m0.0596   \u001B[0m |\n",
      "| \u001B[0m118      \u001B[0m | \u001B[0m-160.0   \u001B[0m | \u001B[0m0.05753  \u001B[0m | \u001B[0m26.25    \u001B[0m | \u001B[0m0.9042   \u001B[0m | \u001B[0m0.9513   \u001B[0m | \u001B[0m14.95    \u001B[0m | \u001B[0m0.02185  \u001B[0m |\n",
      "| \u001B[0m119      \u001B[0m | \u001B[0m-480.1   \u001B[0m | \u001B[0m0.008813 \u001B[0m | \u001B[0m24.16    \u001B[0m | \u001B[0m0.9278   \u001B[0m | \u001B[0m0.948    \u001B[0m | \u001B[0m17.82    \u001B[0m | \u001B[0m0.07853  \u001B[0m |\n",
      "| \u001B[0m120      \u001B[0m | \u001B[0m-66.07   \u001B[0m | \u001B[0m0.03274  \u001B[0m | \u001B[0m22.65    \u001B[0m | \u001B[0m0.921    \u001B[0m | \u001B[0m0.9038   \u001B[0m | \u001B[0m14.01    \u001B[0m | \u001B[0m0.02293  \u001B[0m |\n",
      "| \u001B[0m121      \u001B[0m | \u001B[0m-435.4   \u001B[0m | \u001B[0m0.02357  \u001B[0m | \u001B[0m19.18    \u001B[0m | \u001B[0m0.8686   \u001B[0m | \u001B[0m0.9824   \u001B[0m | \u001B[0m12.97    \u001B[0m | \u001B[0m0.09073  \u001B[0m |\n",
      "| \u001B[0m122      \u001B[0m | \u001B[0m-140.9   \u001B[0m | \u001B[0m0.02691  \u001B[0m | \u001B[0m26.11    \u001B[0m | \u001B[0m0.9169   \u001B[0m | \u001B[0m0.9158   \u001B[0m | \u001B[0m11.36    \u001B[0m | \u001B[0m0.03743  \u001B[0m |\n",
      "| \u001B[0m123      \u001B[0m | \u001B[0m-478.9   \u001B[0m | \u001B[0m0.07811  \u001B[0m | \u001B[0m22.37    \u001B[0m | \u001B[0m0.9233   \u001B[0m | \u001B[0m0.9492   \u001B[0m | \u001B[0m10.11    \u001B[0m | \u001B[0m0.06929  \u001B[0m |\n",
      "| \u001B[0m124      \u001B[0m | \u001B[0m-56.74   \u001B[0m | \u001B[0m0.06032  \u001B[0m | \u001B[0m49.78    \u001B[0m | \u001B[0m0.8066   \u001B[0m | \u001B[0m0.9428   \u001B[0m | \u001B[0m3.88     \u001B[0m | \u001B[0m0.01952  \u001B[0m |\n",
      "| \u001B[0m125      \u001B[0m | \u001B[0m-221.0   \u001B[0m | \u001B[0m1e-06    \u001B[0m | \u001B[0m49.9     \u001B[0m | \u001B[0m0.999    \u001B[0m | \u001B[0m0.9508   \u001B[0m | \u001B[0m0.3279   \u001B[0m | \u001B[0m0.06829  \u001B[0m |\n",
      "| \u001B[0m126      \u001B[0m | \u001B[0m-438.1   \u001B[0m | \u001B[0m0.06824  \u001B[0m | \u001B[0m16.49    \u001B[0m | \u001B[0m0.9205   \u001B[0m | \u001B[0m0.9944   \u001B[0m | \u001B[0m10.48    \u001B[0m | \u001B[0m0.08524  \u001B[0m |\n",
      "| \u001B[0m127      \u001B[0m | \u001B[0m-1.148e+1\u001B[0m | \u001B[0m0.07568  \u001B[0m | \u001B[0m13.71    \u001B[0m | \u001B[0m0.9969   \u001B[0m | \u001B[0m0.9233   \u001B[0m | \u001B[0m8.07     \u001B[0m | \u001B[0m0.03838  \u001B[0m |\n",
      "| \u001B[0m128      \u001B[0m | \u001B[0m-48.89   \u001B[0m | \u001B[0m0.01345  \u001B[0m | \u001B[0m13.85    \u001B[0m | \u001B[0m0.8613   \u001B[0m | \u001B[0m0.9098   \u001B[0m | \u001B[0m4.319    \u001B[0m | \u001B[0m0.054    \u001B[0m |\n",
      "| \u001B[0m129      \u001B[0m | \u001B[0m-168.5   \u001B[0m | \u001B[0m0.06357  \u001B[0m | \u001B[0m16.82    \u001B[0m | \u001B[0m0.9099   \u001B[0m | \u001B[0m0.9263   \u001B[0m | \u001B[0m6.507    \u001B[0m | \u001B[0m0.07852  \u001B[0m |\n",
      "| \u001B[0m130      \u001B[0m | \u001B[0m-397.6   \u001B[0m | \u001B[0m0.06628  \u001B[0m | \u001B[0m17.69    \u001B[0m | \u001B[0m0.9714   \u001B[0m | \u001B[0m0.921    \u001B[0m | \u001B[0m3.1      \u001B[0m | \u001B[0m0.0626   \u001B[0m |\n",
      "| \u001B[0m131      \u001B[0m | \u001B[0m-62.36   \u001B[0m | \u001B[0m0.003775 \u001B[0m | \u001B[0m20.28    \u001B[0m | \u001B[0m0.9585   \u001B[0m | \u001B[0m0.9876   \u001B[0m | \u001B[0m5.637    \u001B[0m | \u001B[0m0.02589  \u001B[0m |\n",
      "| \u001B[0m132      \u001B[0m | \u001B[0m-128.0   \u001B[0m | \u001B[0m0.05004  \u001B[0m | \u001B[0m19.47    \u001B[0m | \u001B[0m0.9144   \u001B[0m | \u001B[0m0.919    \u001B[0m | \u001B[0m8.896    \u001B[0m | \u001B[0m0.01978  \u001B[0m |\n",
      "| \u001B[0m133      \u001B[0m | \u001B[0m-17.36   \u001B[0m | \u001B[0m0.02527  \u001B[0m | \u001B[0m15.18    \u001B[0m | \u001B[0m0.9037   \u001B[0m | \u001B[0m0.9331   \u001B[0m | \u001B[0m0.6729   \u001B[0m | \u001B[0m0.03889  \u001B[0m |\n",
      "| \u001B[0m134      \u001B[0m | \u001B[0m-40.52   \u001B[0m | \u001B[0m0.07318  \u001B[0m | \u001B[0m24.0     \u001B[0m | \u001B[0m0.9211   \u001B[0m | \u001B[0m0.9313   \u001B[0m | \u001B[0m6.773    \u001B[0m | \u001B[0m0.009781 \u001B[0m |\n",
      "| \u001B[0m135      \u001B[0m | \u001B[0m-89.35   \u001B[0m | \u001B[0m0.01004  \u001B[0m | \u001B[0m27.21    \u001B[0m | \u001B[0m0.8408   \u001B[0m | \u001B[0m0.9699   \u001B[0m | \u001B[0m7.877    \u001B[0m | \u001B[0m0.05287  \u001B[0m |\n",
      "| \u001B[0m136      \u001B[0m | \u001B[0m-84.54   \u001B[0m | \u001B[0m0.0736   \u001B[0m | \u001B[0m28.56    \u001B[0m | \u001B[0m0.8741   \u001B[0m | \u001B[0m0.9227   \u001B[0m | \u001B[0m4.477    \u001B[0m | \u001B[0m0.06739  \u001B[0m |\n",
      "| \u001B[0m137      \u001B[0m | \u001B[0m-70.81   \u001B[0m | \u001B[0m0.08335  \u001B[0m | \u001B[0m25.11    \u001B[0m | \u001B[0m0.9283   \u001B[0m | \u001B[0m0.9142   \u001B[0m | \u001B[0m3.378    \u001B[0m | \u001B[0m0.06636  \u001B[0m |\n",
      "| \u001B[0m138      \u001B[0m | \u001B[0m-19.88   \u001B[0m | \u001B[0m0.04015  \u001B[0m | \u001B[0m29.96    \u001B[0m | \u001B[0m0.8159   \u001B[0m | \u001B[0m0.9751   \u001B[0m | \u001B[0m0.9077   \u001B[0m | \u001B[0m0.01496  \u001B[0m |\n",
      "| \u001B[0m139      \u001B[0m | \u001B[0m-161.2   \u001B[0m | \u001B[0m0.01277  \u001B[0m | \u001B[0m83.98    \u001B[0m | \u001B[0m0.8506   \u001B[0m | \u001B[0m0.9091   \u001B[0m | \u001B[0m18.63    \u001B[0m | \u001B[0m0.01127  \u001B[0m |\n",
      "| \u001B[0m140      \u001B[0m | \u001B[0m-1.28e+08\u001B[0m | \u001B[0m0.09523  \u001B[0m | \u001B[0m55.64    \u001B[0m | \u001B[0m0.9953   \u001B[0m | \u001B[0m0.9384   \u001B[0m | \u001B[0m19.87    \u001B[0m | \u001B[0m0.07376  \u001B[0m |\n",
      "| \u001B[0m141      \u001B[0m | \u001B[0m-21.95   \u001B[0m | \u001B[0m0.003501 \u001B[0m | \u001B[0m26.32    \u001B[0m | \u001B[0m0.9505   \u001B[0m | \u001B[0m0.9709   \u001B[0m | \u001B[0m0.09245  \u001B[0m | \u001B[0m0.04432  \u001B[0m |\n",
      "| \u001B[0m142      \u001B[0m | \u001B[0m-205.2   \u001B[0m | \u001B[0m0.0715   \u001B[0m | \u001B[0m96.57    \u001B[0m | \u001B[0m0.8827   \u001B[0m | \u001B[0m0.9545   \u001B[0m | \u001B[0m8.114    \u001B[0m | \u001B[0m0.0729   \u001B[0m |\n",
      "| \u001B[0m143      \u001B[0m | \u001B[0m-618.7   \u001B[0m | \u001B[0m0.06673  \u001B[0m | \u001B[0m97.36    \u001B[0m | \u001B[0m0.999    \u001B[0m | \u001B[0m0.9029   \u001B[0m | \u001B[0m4.4      \u001B[0m | \u001B[0m0.1      \u001B[0m |\n",
      "| \u001B[0m144      \u001B[0m | \u001B[0m-46.63   \u001B[0m | \u001B[0m1e-06    \u001B[0m | \u001B[0m1.781    \u001B[0m | \u001B[0m0.8285   \u001B[0m | \u001B[0m0.9167   \u001B[0m | \u001B[0m1.411    \u001B[0m | \u001B[0m0.09406  \u001B[0m |\n"
     ]
    },
    {
     "name": "stderr",
     "output_type": "stream",
     "text": [
      "/opt/conda/lib/python3.11/site-packages/sklearn/neural_network/_multilayer_perceptron.py:691: ConvergenceWarning: Stochastic Optimizer: Maximum iterations (15000) reached and the optimization hasn't converged yet.\n",
      "  warnings.warn(\n",
      "/opt/conda/lib/python3.11/site-packages/sklearn/neural_network/_multilayer_perceptron.py:691: ConvergenceWarning: Stochastic Optimizer: Maximum iterations (15000) reached and the optimization hasn't converged yet.\n",
      "  warnings.warn(\n",
      "/opt/conda/lib/python3.11/site-packages/sklearn/neural_network/_multilayer_perceptron.py:691: ConvergenceWarning: Stochastic Optimizer: Maximum iterations (15000) reached and the optimization hasn't converged yet.\n",
      "  warnings.warn(\n",
      "/opt/conda/lib/python3.11/site-packages/sklearn/neural_network/_multilayer_perceptron.py:691: ConvergenceWarning: Stochastic Optimizer: Maximum iterations (15000) reached and the optimization hasn't converged yet.\n",
      "  warnings.warn(\n",
      "/opt/conda/lib/python3.11/site-packages/sklearn/neural_network/_multilayer_perceptron.py:691: ConvergenceWarning: Stochastic Optimizer: Maximum iterations (15000) reached and the optimization hasn't converged yet.\n",
      "  warnings.warn(\n"
     ]
    },
    {
     "name": "stdout",
     "output_type": "stream",
     "text": [
      "| \u001B[0m145      \u001B[0m | \u001B[0m-498.4   \u001B[0m | \u001B[0m0.1      \u001B[0m | \u001B[0m97.45    \u001B[0m | \u001B[0m0.999    \u001B[0m | \u001B[0m0.9      \u001B[0m | \u001B[0m11.6     \u001B[0m | \u001B[0m1e-06    \u001B[0m |\n",
      "| \u001B[0m146      \u001B[0m | \u001B[0m-632.0   \u001B[0m | \u001B[0m1e-06    \u001B[0m | \u001B[0m97.62    \u001B[0m | \u001B[0m0.8      \u001B[0m | \u001B[0m1.0      \u001B[0m | \u001B[0m15.11    \u001B[0m | \u001B[0m0.1      \u001B[0m |\n",
      "| \u001B[0m147      \u001B[0m | \u001B[0m-23.43   \u001B[0m | \u001B[0m0.01443  \u001B[0m | \u001B[0m99.86    \u001B[0m | \u001B[0m0.9103   \u001B[0m | \u001B[0m0.9927   \u001B[0m | \u001B[0m6.821    \u001B[0m | \u001B[0m0.0103   \u001B[0m |\n",
      "| \u001B[0m148      \u001B[0m | \u001B[0m-17.03   \u001B[0m | \u001B[0m0.0194   \u001B[0m | \u001B[0m18.61    \u001B[0m | \u001B[0m0.8205   \u001B[0m | \u001B[0m0.9163   \u001B[0m | \u001B[0m0.0563   \u001B[0m | \u001B[0m0.01481  \u001B[0m |\n",
      "| \u001B[0m149      \u001B[0m | \u001B[0m-630.9   \u001B[0m | \u001B[0m1e-06    \u001B[0m | \u001B[0m97.65    \u001B[0m | \u001B[0m0.8      \u001B[0m | \u001B[0m0.9997   \u001B[0m | \u001B[0m18.76    \u001B[0m | \u001B[0m0.1      \u001B[0m |\n",
      "| \u001B[0m150      \u001B[0m | \u001B[0m-81.39   \u001B[0m | \u001B[0m0.08784  \u001B[0m | \u001B[0m92.96    \u001B[0m | \u001B[0m0.8451   \u001B[0m | \u001B[0m0.9515   \u001B[0m | \u001B[0m19.76    \u001B[0m | \u001B[0m0.004665 \u001B[0m |\n",
      "=================================================================================================\n"
     ]
    }
   ],
   "source": [
    "def hyperparameter_function_mlp_with_cut(learning_rate_init, batch_size, alpha, beta_1, beta_2, hidden_layer_count):\n",
    "    \"\"\" Function for hyperparameter optimization\n",
    "    \"\"\"    \n",
    "    hidden_layer_sizes = [16]\n",
    "    hidden_layer_sizes.extend([64] * int(hidden_layer_count))\n",
    "    hidden_layer_sizes.append(16)      \n",
    "    # Learning rate is fixed\n",
    "    mlp_regressor = MLPRegressor(hidden_layer_sizes=hidden_layer_sizes, alpha=alpha, batch_size=int(batch_size), learning_rate_init=learning_rate_init, beta_1=beta_1, beta_2=beta_2, max_iter=15000, random_state=7)\n",
    "    scores = model_selection.cross_val_score(mlp_regressor, X=prep_train_data, y=random_train_balance, cv=5, scoring='neg_mean_absolute_error')\n",
    "    return np.min(scores)\n",
    "\n",
    "\n",
    "# Bounded region of parameter space\n",
    "pbounds = {'learning_rate_init': (0.000001, 0.1), 'batch_size': (1, 100), 'alpha': (0.000001, 0.1), 'beta_1': (0.8, 0.999), 'beta_2': (0.9, 0.999999), 'hidden_layer_count': (0, 20)}\n",
    "\n",
    "optimizer = BayesianOptimization(\n",
    "    f=hyperparameter_function_mlp_with_cut,\n",
    "    pbounds=pbounds,\n",
    "    random_state=7,\n",
    ")\n",
    "if hyper_opt:\n",
    "    optimizer.maximize(\n",
    "        init_points=50,\n",
    "        n_iter=100,\n",
    "    )"
   ]
  },
  {
   "metadata": {},
   "cell_type": "markdown",
   "source": "Note: I adjust the 'learning_rate_init' and 'batch_size' interval to search in the area where the previous best model was found. ",
   "id": "de7116547342c6ac"
  },
  {
   "cell_type": "code",
   "execution_count": 9,
   "id": "65e91a02-8764-4aba-a18c-1be55254e073",
   "metadata": {
    "scrolled": true
   },
   "outputs": [
    {
     "name": "stdout",
     "output_type": "stream",
     "text": [
      "|   iter    |  target   |   alpha   | batch_... |  beta_1   |  beta_2   | learni... |\n",
      "-------------------------------------------------------------------------------------\n",
      "| \u001B[0m1        \u001B[0m | \u001B[0m-137.9   \u001B[0m | \u001B[0m0.05139  \u001B[0m | \u001B[0m90.93    \u001B[0m | \u001B[0m0.9732   \u001B[0m | \u001B[0m0.9008   \u001B[0m | \u001B[0m0.03104  \u001B[0m |\n",
      "| \u001B[95m2        \u001B[0m | \u001B[95m-96.59   \u001B[0m | \u001B[95m0.09576  \u001B[0m | \u001B[95m80.52    \u001B[0m | \u001B[95m0.8633   \u001B[0m | \u001B[95m0.9539   \u001B[0m | \u001B[95m0.0222   \u001B[0m |\n",
      "| \u001B[0m3        \u001B[0m | \u001B[0m-100.1   \u001B[0m | \u001B[0m0.08065  \u001B[0m | \u001B[0m73.69    \u001B[0m | \u001B[0m0.9072   \u001B[0m | \u001B[0m0.9006   \u001B[0m | \u001B[0m0.06735  \u001B[0m |\n",
      "| \u001B[95m4        \u001B[0m | \u001B[95m-95.78   \u001B[0m | \u001B[95m0.021    \u001B[0m | \u001B[95m97.3     \u001B[0m | \u001B[95m0.8745   \u001B[0m | \u001B[95m0.9752   \u001B[0m | \u001B[95m0.07634  \u001B[0m |\n",
      "| \u001B[95m5        \u001B[0m | \u001B[95m-75.61   \u001B[0m | \u001B[95m0.08705  \u001B[0m | \u001B[95m64.4     \u001B[0m | \u001B[95m0.8597   \u001B[0m | \u001B[95m0.9475   \u001B[0m | \u001B[95m0.06733  \u001B[0m |\n",
      "| \u001B[0m6        \u001B[0m | \u001B[0m-87.65   \u001B[0m | \u001B[0m0.02576  \u001B[0m | \u001B[0m88.05    \u001B[0m | \u001B[0m0.9307   \u001B[0m | \u001B[0m0.9182   \u001B[0m | \u001B[0m0.03227  \u001B[0m |\n",
      "| \u001B[0m7        \u001B[0m | \u001B[0m-94.52   \u001B[0m | \u001B[0m0.08875  \u001B[0m | \u001B[0m63.33    \u001B[0m | \u001B[0m0.9486   \u001B[0m | \u001B[0m0.9062   \u001B[0m | \u001B[0m0.07317  \u001B[0m |\n",
      "| \u001B[0m8        \u001B[0m | \u001B[0m-233.6   \u001B[0m | \u001B[0m0.07425  \u001B[0m | \u001B[0m76.32    \u001B[0m | \u001B[0m0.9973   \u001B[0m | \u001B[0m0.9452   \u001B[0m | \u001B[0m0.01907  \u001B[0m |\n",
      "| \u001B[0m9        \u001B[0m | \u001B[0m-105.5   \u001B[0m | \u001B[0m0.03516  \u001B[0m | \u001B[0m88.59    \u001B[0m | \u001B[0m0.8711   \u001B[0m | \u001B[0m0.9052   \u001B[0m | \u001B[0m0.03166  \u001B[0m |\n",
      "| \u001B[0m10       \u001B[0m | \u001B[0m-106.1   \u001B[0m | \u001B[0m0.09988  \u001B[0m | \u001B[0m71.52    \u001B[0m | \u001B[0m0.8919   \u001B[0m | \u001B[0m0.9735   \u001B[0m | \u001B[0m0.09437  \u001B[0m |\n",
      "| \u001B[0m11       \u001B[0m | \u001B[0m-175.9   \u001B[0m | \u001B[0m0.01754  \u001B[0m | \u001B[0m68.5     \u001B[0m | \u001B[0m0.8264   \u001B[0m | \u001B[0m0.9209   \u001B[0m | \u001B[0m0.09957  \u001B[0m |\n",
      "| \u001B[0m12       \u001B[0m | \u001B[0m-102.9   \u001B[0m | \u001B[0m0.02467  \u001B[0m | \u001B[0m64.4     \u001B[0m | \u001B[0m0.9      \u001B[0m | \u001B[0m0.9456   \u001B[0m | \u001B[0m0.07348  \u001B[0m |\n",
      "| \u001B[95m13       \u001B[0m | \u001B[95m-51.44   \u001B[0m | \u001B[95m0.06209  \u001B[0m | \u001B[95m84.84    \u001B[0m | \u001B[95m0.8299   \u001B[0m | \u001B[95m0.9538   \u001B[0m | \u001B[95m0.01212  \u001B[0m |\n",
      "| \u001B[95m14       \u001B[0m | \u001B[95m-38.62   \u001B[0m | \u001B[95m0.0153   \u001B[0m | \u001B[95m78.01    \u001B[0m | \u001B[95m0.8854   \u001B[0m | \u001B[95m0.9734   \u001B[0m | \u001B[95m0.00745  \u001B[0m |\n",
      "| \u001B[0m15       \u001B[0m | \u001B[0m-101.8   \u001B[0m | \u001B[0m0.02788  \u001B[0m | \u001B[0m66.61    \u001B[0m | \u001B[0m0.9011   \u001B[0m | \u001B[0m0.9579   \u001B[0m | \u001B[0m0.0639   \u001B[0m |\n",
      "| \u001B[0m16       \u001B[0m | \u001B[0m-72.96   \u001B[0m | \u001B[0m0.0214   \u001B[0m | \u001B[0m76.7     \u001B[0m | \u001B[0m0.8929   \u001B[0m | \u001B[0m0.9083   \u001B[0m | \u001B[0m0.05707  \u001B[0m |\n",
      "| \u001B[0m17       \u001B[0m | \u001B[0m-4.898e+0\u001B[0m | \u001B[0m0.02285  \u001B[0m | \u001B[0m61.43    \u001B[0m | \u001B[0m0.9919   \u001B[0m | \u001B[0m0.9075   \u001B[0m | \u001B[0m0.07307  \u001B[0m |\n",
      "| \u001B[0m18       \u001B[0m | \u001B[0m-105.4   \u001B[0m | \u001B[0m0.05026  \u001B[0m | \u001B[0m63.7     \u001B[0m | \u001B[0m0.9043   \u001B[0m | \u001B[0m0.9434   \u001B[0m | \u001B[0m0.05485  \u001B[0m |\n",
      "| \u001B[0m19       \u001B[0m | \u001B[0m-72.87   \u001B[0m | \u001B[0m0.0935   \u001B[0m | \u001B[0m99.8     \u001B[0m | \u001B[0m0.9318   \u001B[0m | \u001B[0m0.9354   \u001B[0m | \u001B[0m0.04397  \u001B[0m |\n",
      "| \u001B[0m20       \u001B[0m | \u001B[0m-296.5   \u001B[0m | \u001B[0m0.07755  \u001B[0m | \u001B[0m85.15    \u001B[0m | \u001B[0m0.8195   \u001B[0m | \u001B[0m0.9652   \u001B[0m | \u001B[0m0.09686  \u001B[0m |\n",
      "| \u001B[0m21       \u001B[0m | \u001B[0m-63.83   \u001B[0m | \u001B[0m0.0237   \u001B[0m | \u001B[0m75.71    \u001B[0m | \u001B[0m0.8165   \u001B[0m | \u001B[0m0.9824   \u001B[0m | \u001B[0m0.02902  \u001B[0m |\n",
      "| \u001B[0m22       \u001B[0m | \u001B[0m-131.6   \u001B[0m | \u001B[0m0.0164   \u001B[0m | \u001B[0m66.53    \u001B[0m | \u001B[0m0.8553   \u001B[0m | \u001B[0m0.9007   \u001B[0m | \u001B[0m0.0749   \u001B[0m |\n",
      "| \u001B[0m23       \u001B[0m | \u001B[0m-631.3   \u001B[0m | \u001B[0m0.08538  \u001B[0m | \u001B[0m97.03    \u001B[0m | \u001B[0m0.8601   \u001B[0m | \u001B[0m0.9474   \u001B[0m | \u001B[0m0.07406  \u001B[0m |\n",
      "| \u001B[0m24       \u001B[0m | \u001B[0m-69.62   \u001B[0m | \u001B[0m0.06506  \u001B[0m | \u001B[0m70.7     \u001B[0m | \u001B[0m0.8775   \u001B[0m | \u001B[0m0.9905   \u001B[0m | \u001B[0m0.07311  \u001B[0m |\n",
      "| \u001B[0m25       \u001B[0m | \u001B[0m-74.45   \u001B[0m | \u001B[0m0.007626 \u001B[0m | \u001B[0m68.25    \u001B[0m | \u001B[0m0.9768   \u001B[0m | \u001B[0m0.9413   \u001B[0m | \u001B[0m0.02053  \u001B[0m |\n",
      "| \u001B[0m26       \u001B[0m | \u001B[0m-112.0   \u001B[0m | \u001B[0m0.03469  \u001B[0m | \u001B[0m76.49    \u001B[0m | \u001B[0m0.9503   \u001B[0m | \u001B[0m0.9133   \u001B[0m | \u001B[0m0.0855   \u001B[0m |\n",
      "| \u001B[0m27       \u001B[0m | \u001B[0m-102.4   \u001B[0m | \u001B[0m0.03798  \u001B[0m | \u001B[0m79.08    \u001B[0m | \u001B[0m0.8259   \u001B[0m | \u001B[0m0.9272   \u001B[0m | \u001B[0m0.09459  \u001B[0m |\n",
      "| \u001B[0m28       \u001B[0m | \u001B[0m-102.9   \u001B[0m | \u001B[0m0.04744  \u001B[0m | \u001B[0m66.1     \u001B[0m | \u001B[0m0.9099   \u001B[0m | \u001B[0m0.9621   \u001B[0m | \u001B[0m0.08492  \u001B[0m |\n",
      "| \u001B[0m29       \u001B[0m | \u001B[0m-164.5   \u001B[0m | \u001B[0m0.04286  \u001B[0m | \u001B[0m98.32    \u001B[0m | \u001B[0m0.8389   \u001B[0m | \u001B[0m0.9517   \u001B[0m | \u001B[0m0.04022  \u001B[0m |\n",
      "| \u001B[0m30       \u001B[0m | \u001B[0m-179.1   \u001B[0m | \u001B[0m0.02788  \u001B[0m | \u001B[0m84.16    \u001B[0m | \u001B[0m0.8159   \u001B[0m | \u001B[0m0.9495   \u001B[0m | \u001B[0m0.04746  \u001B[0m |\n",
      "| \u001B[0m31       \u001B[0m | \u001B[0m-121.4   \u001B[0m | \u001B[0m0.07358  \u001B[0m | \u001B[0m71.74    \u001B[0m | \u001B[0m0.8432   \u001B[0m | \u001B[0m0.9206   \u001B[0m | \u001B[0m0.09821  \u001B[0m |\n",
      "| \u001B[0m32       \u001B[0m | \u001B[0m-93.42   \u001B[0m | \u001B[0m0.04529  \u001B[0m | \u001B[0m98.35    \u001B[0m | \u001B[0m0.9783   \u001B[0m | \u001B[0m0.9441   \u001B[0m | \u001B[0m0.04106  \u001B[0m |\n",
      "| \u001B[0m33       \u001B[0m | \u001B[0m-97.29   \u001B[0m | \u001B[0m0.0661   \u001B[0m | \u001B[0m97.36    \u001B[0m | \u001B[0m0.9601   \u001B[0m | \u001B[0m0.9474   \u001B[0m | \u001B[0m0.04944  \u001B[0m |\n",
      "| \u001B[0m34       \u001B[0m | \u001B[0m-127.5   \u001B[0m | \u001B[0m0.02554  \u001B[0m | \u001B[0m84.3     \u001B[0m | \u001B[0m0.8126   \u001B[0m | \u001B[0m0.9571   \u001B[0m | \u001B[0m0.009239 \u001B[0m |\n",
      "| \u001B[0m35       \u001B[0m | \u001B[0m-76.27   \u001B[0m | \u001B[0m0.05205  \u001B[0m | \u001B[0m83.91    \u001B[0m | \u001B[0m0.9538   \u001B[0m | \u001B[0m0.9525   \u001B[0m | \u001B[0m0.06396  \u001B[0m |\n",
      "| \u001B[0m36       \u001B[0m | \u001B[0m-85.1    \u001B[0m | \u001B[0m0.05404  \u001B[0m | \u001B[0m70.62    \u001B[0m | \u001B[0m0.8619   \u001B[0m | \u001B[0m0.9443   \u001B[0m | \u001B[0m0.03775  \u001B[0m |\n",
      "| \u001B[0m37       \u001B[0m | \u001B[0m-477.7   \u001B[0m | \u001B[0m0.05673  \u001B[0m | \u001B[0m76.52    \u001B[0m | \u001B[0m0.9897   \u001B[0m | \u001B[0m0.9597   \u001B[0m | \u001B[0m0.04746  \u001B[0m |\n",
      "| \u001B[0m38       \u001B[0m | \u001B[0m-113.4   \u001B[0m | \u001B[0m0.09955  \u001B[0m | \u001B[0m69.02    \u001B[0m | \u001B[0m0.8904   \u001B[0m | \u001B[0m0.9434   \u001B[0m | \u001B[0m0.07608  \u001B[0m |\n",
      "| \u001B[0m39       \u001B[0m | \u001B[0m-91.27   \u001B[0m | \u001B[0m0.05715  \u001B[0m | \u001B[0m87.52    \u001B[0m | \u001B[0m0.882    \u001B[0m | \u001B[0m0.9217   \u001B[0m | \u001B[0m0.01477  \u001B[0m |\n",
      "| \u001B[0m40       \u001B[0m | \u001B[0m-57.61   \u001B[0m | \u001B[0m0.02547  \u001B[0m | \u001B[0m75.84    \u001B[0m | \u001B[0m0.8136   \u001B[0m | \u001B[0m0.98     \u001B[0m | \u001B[0m0.006966 \u001B[0m |\n",
      "| \u001B[0m41       \u001B[0m | \u001B[0m-44.11   \u001B[0m | \u001B[0m0.003731 \u001B[0m | \u001B[0m67.97    \u001B[0m | \u001B[0m0.8442   \u001B[0m | \u001B[0m0.9265   \u001B[0m | \u001B[0m0.001549 \u001B[0m |\n",
      "| \u001B[0m42       \u001B[0m | \u001B[0m-107.6   \u001B[0m | \u001B[0m0.03852  \u001B[0m | \u001B[0m87.31    \u001B[0m | \u001B[0m0.8196   \u001B[0m | \u001B[0m0.9694   \u001B[0m | \u001B[0m0.009278 \u001B[0m |\n",
      "| \u001B[0m43       \u001B[0m | \u001B[0m-63.7    \u001B[0m | \u001B[0m0.08798  \u001B[0m | \u001B[0m77.92    \u001B[0m | \u001B[0m0.9123   \u001B[0m | \u001B[0m0.9422   \u001B[0m | \u001B[0m0.08033  \u001B[0m |\n",
      "| \u001B[0m44       \u001B[0m | \u001B[0m-49.0    \u001B[0m | \u001B[0m0.03366  \u001B[0m | \u001B[0m73.04    \u001B[0m | \u001B[0m0.8229   \u001B[0m | \u001B[0m0.9818   \u001B[0m | \u001B[0m0.01013  \u001B[0m |\n",
      "| \u001B[0m45       \u001B[0m | \u001B[0m-111.5   \u001B[0m | \u001B[0m0.009572 \u001B[0m | \u001B[0m87.88    \u001B[0m | \u001B[0m0.9868   \u001B[0m | \u001B[0m0.9099   \u001B[0m | \u001B[0m0.02942  \u001B[0m |\n",
      "| \u001B[0m46       \u001B[0m | \u001B[0m-93.91   \u001B[0m | \u001B[0m0.01302  \u001B[0m | \u001B[0m75.91    \u001B[0m | \u001B[0m0.913    \u001B[0m | \u001B[0m0.983    \u001B[0m | \u001B[0m0.0429   \u001B[0m |\n",
      "| \u001B[0m47       \u001B[0m | \u001B[0m-85.61   \u001B[0m | \u001B[0m0.07766  \u001B[0m | \u001B[0m75.89    \u001B[0m | \u001B[0m0.8934   \u001B[0m | \u001B[0m0.9452   \u001B[0m | \u001B[0m0.0235   \u001B[0m |\n",
      "| \u001B[0m48       \u001B[0m | \u001B[0m-61.56   \u001B[0m | \u001B[0m0.03189  \u001B[0m | \u001B[0m98.88    \u001B[0m | \u001B[0m0.8172   \u001B[0m | \u001B[0m0.9632   \u001B[0m | \u001B[0m0.01434  \u001B[0m |\n",
      "| \u001B[0m49       \u001B[0m | \u001B[0m-145.3   \u001B[0m | \u001B[0m0.05101  \u001B[0m | \u001B[0m67.71    \u001B[0m | \u001B[0m0.805    \u001B[0m | \u001B[0m0.9512   \u001B[0m | \u001B[0m0.0445   \u001B[0m |\n",
      "| \u001B[0m50       \u001B[0m | \u001B[0m-508.8   \u001B[0m | \u001B[0m0.06718  \u001B[0m | \u001B[0m69.86    \u001B[0m | \u001B[0m0.9922   \u001B[0m | \u001B[0m0.9429   \u001B[0m | \u001B[0m0.06531  \u001B[0m |\n",
      "| \u001B[0m51       \u001B[0m | \u001B[0m-71.06   \u001B[0m | \u001B[0m0.06904  \u001B[0m | \u001B[0m97.96    \u001B[0m | \u001B[0m0.9334   \u001B[0m | \u001B[0m0.9183   \u001B[0m | \u001B[0m0.06506  \u001B[0m |\n",
      "| \u001B[0m52       \u001B[0m | \u001B[0m-453.3   \u001B[0m | \u001B[0m0.08127  \u001B[0m | \u001B[0m93.63    \u001B[0m | \u001B[0m0.8925   \u001B[0m | \u001B[0m0.9669   \u001B[0m | \u001B[0m0.09212  \u001B[0m |\n",
      "| \u001B[0m53       \u001B[0m | \u001B[0m-632.5   \u001B[0m | \u001B[0m0.0495   \u001B[0m | \u001B[0m78.41    \u001B[0m | \u001B[0m0.9909   \u001B[0m | \u001B[0m0.9988   \u001B[0m | \u001B[0m0.09447  \u001B[0m |\n",
      "| \u001B[0m54       \u001B[0m | \u001B[0m-111.5   \u001B[0m | \u001B[0m0.09599  \u001B[0m | \u001B[0m70.22    \u001B[0m | \u001B[0m0.9223   \u001B[0m | \u001B[0m0.9493   \u001B[0m | \u001B[0m0.04803  \u001B[0m |\n",
      "| \u001B[0m55       \u001B[0m | \u001B[0m-44.79   \u001B[0m | \u001B[0m0.0335   \u001B[0m | \u001B[0m78.4     \u001B[0m | \u001B[0m0.8996   \u001B[0m | \u001B[0m0.907    \u001B[0m | \u001B[0m0.03481  \u001B[0m |\n",
      "| \u001B[95m56       \u001B[0m | \u001B[95m-28.64   \u001B[0m | \u001B[95m0.0286   \u001B[0m | \u001B[95m74.72    \u001B[0m | \u001B[95m0.9655   \u001B[0m | \u001B[95m0.953    \u001B[0m | \u001B[95m0.021    \u001B[0m |\n",
      "| \u001B[0m57       \u001B[0m | \u001B[0m-223.7   \u001B[0m | \u001B[0m0.0274   \u001B[0m | \u001B[0m96.99    \u001B[0m | \u001B[0m0.8285   \u001B[0m | \u001B[0m0.9378   \u001B[0m | \u001B[0m0.04737  \u001B[0m |\n",
      "| \u001B[0m58       \u001B[0m | \u001B[0m-107.6   \u001B[0m | \u001B[0m0.05598  \u001B[0m | \u001B[0m98.97    \u001B[0m | \u001B[0m0.884    \u001B[0m | \u001B[0m0.9332   \u001B[0m | \u001B[0m0.08306  \u001B[0m |\n",
      "| \u001B[0m59       \u001B[0m | \u001B[0m-204.1   \u001B[0m | \u001B[0m0.09626  \u001B[0m | \u001B[0m62.45    \u001B[0m | \u001B[0m0.9976   \u001B[0m | \u001B[0m0.9733   \u001B[0m | \u001B[0m0.0185   \u001B[0m |\n",
      "| \u001B[0m60       \u001B[0m | \u001B[0m-40.13   \u001B[0m | \u001B[0m0.01119  \u001B[0m | \u001B[0m63.01    \u001B[0m | \u001B[0m0.9228   \u001B[0m | \u001B[0m0.9317   \u001B[0m | \u001B[0m0.05278  \u001B[0m |\n",
      "| \u001B[0m61       \u001B[0m | \u001B[0m-616.6   \u001B[0m | \u001B[0m0.01801  \u001B[0m | \u001B[0m98.69    \u001B[0m | \u001B[0m0.9143   \u001B[0m | \u001B[0m0.9837   \u001B[0m | \u001B[0m0.03344  \u001B[0m |\n",
      "| \u001B[0m62       \u001B[0m | \u001B[0m-101.7   \u001B[0m | \u001B[0m0.09073  \u001B[0m | \u001B[0m77.98    \u001B[0m | \u001B[0m0.8797   \u001B[0m | \u001B[0m0.9792   \u001B[0m | \u001B[0m0.04054  \u001B[0m |\n",
      "| \u001B[0m63       \u001B[0m | \u001B[0m-113.2   \u001B[0m | \u001B[0m0.08837  \u001B[0m | \u001B[0m76.4     \u001B[0m | \u001B[0m0.8191   \u001B[0m | \u001B[0m0.9483   \u001B[0m | \u001B[0m0.07709  \u001B[0m |\n",
      "| \u001B[0m64       \u001B[0m | \u001B[0m-34.54   \u001B[0m | \u001B[0m0.01437  \u001B[0m | \u001B[0m67.48    \u001B[0m | \u001B[0m0.9372   \u001B[0m | \u001B[0m0.9984   \u001B[0m | \u001B[0m0.01632  \u001B[0m |\n",
      "| \u001B[0m65       \u001B[0m | \u001B[0m-483.1   \u001B[0m | \u001B[0m0.09971  \u001B[0m | \u001B[0m77.9     \u001B[0m | \u001B[0m0.9542   \u001B[0m | \u001B[0m0.9648   \u001B[0m | \u001B[0m0.09662  \u001B[0m |\n",
      "| \u001B[0m66       \u001B[0m | \u001B[0m-117.0   \u001B[0m | \u001B[0m0.08495  \u001B[0m | \u001B[0m74.71    \u001B[0m | \u001B[0m0.8592   \u001B[0m | \u001B[0m0.9556   \u001B[0m | \u001B[0m0.04361  \u001B[0m |\n",
      "| \u001B[0m67       \u001B[0m | \u001B[0m-209.6   \u001B[0m | \u001B[0m0.02494  \u001B[0m | \u001B[0m80.11    \u001B[0m | \u001B[0m0.8946   \u001B[0m | \u001B[0m0.9666   \u001B[0m | \u001B[0m0.09941  \u001B[0m |\n",
      "| \u001B[0m68       \u001B[0m | \u001B[0m-48.22   \u001B[0m | \u001B[0m0.05293  \u001B[0m | \u001B[0m99.34    \u001B[0m | \u001B[0m0.9656   \u001B[0m | \u001B[0m0.9353   \u001B[0m | \u001B[0m0.0549   \u001B[0m |\n",
      "| \u001B[0m69       \u001B[0m | \u001B[0m-239.4   \u001B[0m | \u001B[0m0.09103  \u001B[0m | \u001B[0m74.42    \u001B[0m | \u001B[0m0.8438   \u001B[0m | \u001B[0m0.9965   \u001B[0m | \u001B[0m0.02547  \u001B[0m |\n",
      "| \u001B[0m70       \u001B[0m | \u001B[0m-158.2   \u001B[0m | \u001B[0m0.09156  \u001B[0m | \u001B[0m63.17    \u001B[0m | \u001B[0m0.8351   \u001B[0m | \u001B[0m0.9742   \u001B[0m | \u001B[0m0.09599  \u001B[0m |\n",
      "| \u001B[0m71       \u001B[0m | \u001B[0m-97.13   \u001B[0m | \u001B[0m0.02883  \u001B[0m | \u001B[0m76.5     \u001B[0m | \u001B[0m0.8979   \u001B[0m | \u001B[0m0.9487   \u001B[0m | \u001B[0m0.0642   \u001B[0m |\n",
      "| \u001B[0m72       \u001B[0m | \u001B[0m-129.4   \u001B[0m | \u001B[0m0.09934  \u001B[0m | \u001B[0m86.57    \u001B[0m | \u001B[0m0.9897   \u001B[0m | \u001B[0m0.9565   \u001B[0m | \u001B[0m0.005961 \u001B[0m |\n",
      "| \u001B[0m73       \u001B[0m | \u001B[0m-84.53   \u001B[0m | \u001B[0m0.05015  \u001B[0m | \u001B[0m88.34    \u001B[0m | \u001B[0m0.9087   \u001B[0m | \u001B[0m0.9493   \u001B[0m | \u001B[0m0.007391 \u001B[0m |\n",
      "| \u001B[0m74       \u001B[0m | \u001B[0m-40.0    \u001B[0m | \u001B[0m0.06595  \u001B[0m | \u001B[0m75.78    \u001B[0m | \u001B[0m0.9479   \u001B[0m | \u001B[0m0.9945   \u001B[0m | \u001B[0m0.06629  \u001B[0m |\n",
      "| \u001B[0m75       \u001B[0m | \u001B[0m-632.0   \u001B[0m | \u001B[0m0.04209  \u001B[0m | \u001B[0m88.99    \u001B[0m | \u001B[0m0.8572   \u001B[0m | \u001B[0m0.9649   \u001B[0m | \u001B[0m0.09848  \u001B[0m |\n",
      "| \u001B[0m76       \u001B[0m | \u001B[0m-139.1   \u001B[0m | \u001B[0m0.05751  \u001B[0m | \u001B[0m84.85    \u001B[0m | \u001B[0m0.9049   \u001B[0m | \u001B[0m0.9469   \u001B[0m | \u001B[0m0.0999   \u001B[0m |\n",
      "| \u001B[0m77       \u001B[0m | \u001B[0m-58.48   \u001B[0m | \u001B[0m0.01763  \u001B[0m | \u001B[0m65.21    \u001B[0m | \u001B[0m0.9417   \u001B[0m | \u001B[0m0.9878   \u001B[0m | \u001B[0m0.04352  \u001B[0m |\n",
      "| \u001B[0m78       \u001B[0m | \u001B[0m-112.7   \u001B[0m | \u001B[0m0.0805   \u001B[0m | \u001B[0m88.91    \u001B[0m | \u001B[0m0.9567   \u001B[0m | \u001B[0m0.9898   \u001B[0m | \u001B[0m0.0707   \u001B[0m |\n",
      "| \u001B[0m79       \u001B[0m | \u001B[0m-106.6   \u001B[0m | \u001B[0m0.04414  \u001B[0m | \u001B[0m99.06    \u001B[0m | \u001B[0m0.842    \u001B[0m | \u001B[0m0.9494   \u001B[0m | \u001B[0m0.04583  \u001B[0m |\n",
      "| \u001B[0m80       \u001B[0m | \u001B[0m-169.9   \u001B[0m | \u001B[0m0.01253  \u001B[0m | \u001B[0m99.54    \u001B[0m | \u001B[0m0.8128   \u001B[0m | \u001B[0m0.9811   \u001B[0m | \u001B[0m0.08132  \u001B[0m |\n",
      "| \u001B[0m81       \u001B[0m | \u001B[0m-319.5   \u001B[0m | \u001B[0m0.01089  \u001B[0m | \u001B[0m75.11    \u001B[0m | \u001B[0m0.8445   \u001B[0m | \u001B[0m0.9908   \u001B[0m | \u001B[0m0.06597  \u001B[0m |\n",
      "| \u001B[95m82       \u001B[0m | \u001B[95m-21.9    \u001B[0m | \u001B[95m0.02163  \u001B[0m | \u001B[95m78.4     \u001B[0m | \u001B[95m0.9765   \u001B[0m | \u001B[95m0.9996   \u001B[0m | \u001B[95m0.03757  \u001B[0m |\n",
      "| \u001B[0m83       \u001B[0m | \u001B[0m-185.4   \u001B[0m | \u001B[0m0.04792  \u001B[0m | \u001B[0m69.19    \u001B[0m | \u001B[0m0.8392   \u001B[0m | \u001B[0m0.9504   \u001B[0m | \u001B[0m0.04796  \u001B[0m |\n",
      "| \u001B[0m84       \u001B[0m | \u001B[0m-145.3   \u001B[0m | \u001B[0m0.09759  \u001B[0m | \u001B[0m62.29    \u001B[0m | \u001B[0m0.8297   \u001B[0m | \u001B[0m0.9281   \u001B[0m | \u001B[0m0.08082  \u001B[0m |\n",
      "| \u001B[0m85       \u001B[0m | \u001B[0m-29.34   \u001B[0m | \u001B[0m0.08154  \u001B[0m | \u001B[0m60.38    \u001B[0m | \u001B[0m0.8774   \u001B[0m | \u001B[0m0.9014   \u001B[0m | \u001B[0m0.001889 \u001B[0m |\n",
      "| \u001B[0m86       \u001B[0m | \u001B[0m-33.71   \u001B[0m | \u001B[0m0.08077  \u001B[0m | \u001B[0m71.0     \u001B[0m | \u001B[0m0.9418   \u001B[0m | \u001B[0m0.9728   \u001B[0m | \u001B[0m0.0502   \u001B[0m |\n",
      "| \u001B[0m87       \u001B[0m | \u001B[0m-25.85   \u001B[0m | \u001B[0m0.01466  \u001B[0m | \u001B[0m77.65    \u001B[0m | \u001B[0m0.932    \u001B[0m | \u001B[0m0.9753   \u001B[0m | \u001B[0m0.004332 \u001B[0m |\n",
      "| \u001B[0m88       \u001B[0m | \u001B[0m-177.5   \u001B[0m | \u001B[0m0.09196  \u001B[0m | \u001B[0m96.53    \u001B[0m | \u001B[0m0.8222   \u001B[0m | \u001B[0m0.9497   \u001B[0m | \u001B[0m0.02771  \u001B[0m |\n",
      "| \u001B[0m89       \u001B[0m | \u001B[0m-152.6   \u001B[0m | \u001B[0m0.04651  \u001B[0m | \u001B[0m69.64    \u001B[0m | \u001B[0m0.9475   \u001B[0m | \u001B[0m0.9803   \u001B[0m | \u001B[0m0.03515  \u001B[0m |\n",
      "| \u001B[0m90       \u001B[0m | \u001B[0m-260.9   \u001B[0m | \u001B[0m0.03145  \u001B[0m | \u001B[0m69.72    \u001B[0m | \u001B[0m0.8116   \u001B[0m | \u001B[0m0.9567   \u001B[0m | \u001B[0m0.0789   \u001B[0m |\n",
      "| \u001B[0m91       \u001B[0m | \u001B[0m-68.46   \u001B[0m | \u001B[0m0.02613  \u001B[0m | \u001B[0m60.51    \u001B[0m | \u001B[0m0.9091   \u001B[0m | \u001B[0m0.9022   \u001B[0m | \u001B[0m0.03803  \u001B[0m |\n",
      "| \u001B[0m92       \u001B[0m | \u001B[0m-89.17   \u001B[0m | \u001B[0m0.0425   \u001B[0m | \u001B[0m81.53    \u001B[0m | \u001B[0m0.85     \u001B[0m | \u001B[0m0.9654   \u001B[0m | \u001B[0m0.01853  \u001B[0m |\n",
      "| \u001B[0m93       \u001B[0m | \u001B[0m-469.0   \u001B[0m | \u001B[0m0.05816  \u001B[0m | \u001B[0m96.77    \u001B[0m | \u001B[0m0.857    \u001B[0m | \u001B[0m0.9209   \u001B[0m | \u001B[0m0.0521   \u001B[0m |\n",
      "| \u001B[0m94       \u001B[0m | \u001B[0m-73.57   \u001B[0m | \u001B[0m0.00889  \u001B[0m | \u001B[0m82.02    \u001B[0m | \u001B[0m0.9708   \u001B[0m | \u001B[0m0.9535   \u001B[0m | \u001B[0m0.0692   \u001B[0m |\n",
      "| \u001B[0m95       \u001B[0m | \u001B[0m-427.6   \u001B[0m | \u001B[0m0.02631  \u001B[0m | \u001B[0m76.31    \u001B[0m | \u001B[0m0.861    \u001B[0m | \u001B[0m0.9377   \u001B[0m | \u001B[0m0.09166  \u001B[0m |\n",
      "| \u001B[0m96       \u001B[0m | \u001B[0m-272.9   \u001B[0m | \u001B[0m0.08857  \u001B[0m | \u001B[0m73.42    \u001B[0m | \u001B[0m0.9886   \u001B[0m | \u001B[0m0.9565   \u001B[0m | \u001B[0m0.06789  \u001B[0m |\n",
      "| \u001B[0m97       \u001B[0m | \u001B[0m-54.02   \u001B[0m | \u001B[0m0.02241  \u001B[0m | \u001B[0m89.03    \u001B[0m | \u001B[0m0.9507   \u001B[0m | \u001B[0m0.9171   \u001B[0m | \u001B[0m0.008288 \u001B[0m |\n",
      "| \u001B[0m98       \u001B[0m | \u001B[0m-30.56   \u001B[0m | \u001B[0m0.05649  \u001B[0m | \u001B[0m87.04    \u001B[0m | \u001B[0m0.8142   \u001B[0m | \u001B[0m0.9983   \u001B[0m | \u001B[0m0.003637 \u001B[0m |\n",
      "| \u001B[0m99       \u001B[0m | \u001B[0m-41.52   \u001B[0m | \u001B[0m0.09255  \u001B[0m | \u001B[0m62.02    \u001B[0m | \u001B[0m0.9406   \u001B[0m | \u001B[0m0.9871   \u001B[0m | \u001B[0m0.0194   \u001B[0m |\n",
      "| \u001B[0m100      \u001B[0m | \u001B[0m-6.968e+0\u001B[0m | \u001B[0m0.01302  \u001B[0m | \u001B[0m82.63    \u001B[0m | \u001B[0m0.9876   \u001B[0m | \u001B[0m0.9121   \u001B[0m | \u001B[0m0.08988  \u001B[0m |\n",
      "| \u001B[0m101      \u001B[0m | \u001B[0m-48.14   \u001B[0m | \u001B[0m0.04199  \u001B[0m | \u001B[0m74.74    \u001B[0m | \u001B[0m0.9625   \u001B[0m | \u001B[0m0.9704   \u001B[0m | \u001B[0m0.01178  \u001B[0m |\n",
      "| \u001B[0m102      \u001B[0m | \u001B[0m-50.4    \u001B[0m | \u001B[0m0.002409 \u001B[0m | \u001B[0m95.08    \u001B[0m | \u001B[0m0.9052   \u001B[0m | \u001B[0m0.916    \u001B[0m | \u001B[0m0.03182  \u001B[0m |\n",
      "| \u001B[0m103      \u001B[0m | \u001B[0m-32.33   \u001B[0m | \u001B[0m0.1      \u001B[0m | \u001B[0m92.24    \u001B[0m | \u001B[0m0.8      \u001B[0m | \u001B[0m1.0      \u001B[0m | \u001B[0m0.0001   \u001B[0m |\n",
      "| \u001B[0m104      \u001B[0m | \u001B[0m-422.6   \u001B[0m | \u001B[0m0.02848  \u001B[0m | \u001B[0m90.0     \u001B[0m | \u001B[0m0.9833   \u001B[0m | \u001B[0m0.9937   \u001B[0m | \u001B[0m0.07151  \u001B[0m |\n",
      "| \u001B[0m105      \u001B[0m | \u001B[0m-115.3   \u001B[0m | \u001B[0m0.05789  \u001B[0m | \u001B[0m86.42    \u001B[0m | \u001B[0m0.8114   \u001B[0m | \u001B[0m0.902    \u001B[0m | \u001B[0m0.08098  \u001B[0m |\n",
      "| \u001B[0m106      \u001B[0m | \u001B[0m-389.2   \u001B[0m | \u001B[0m0.1      \u001B[0m | \u001B[0m94.37    \u001B[0m | \u001B[0m0.8      \u001B[0m | \u001B[0m1.0      \u001B[0m | \u001B[0m0.1      \u001B[0m |\n",
      "| \u001B[0m107      \u001B[0m | \u001B[0m-640.3   \u001B[0m | \u001B[0m0.01703  \u001B[0m | \u001B[0m95.79    \u001B[0m | \u001B[0m0.9937   \u001B[0m | \u001B[0m0.9779   \u001B[0m | \u001B[0m0.09043  \u001B[0m |\n",
      "| \u001B[0m108      \u001B[0m | \u001B[0m-498.9   \u001B[0m | \u001B[0m0.1      \u001B[0m | \u001B[0m92.9     \u001B[0m | \u001B[0m0.999    \u001B[0m | \u001B[0m1.0      \u001B[0m | \u001B[0m0.1      \u001B[0m |\n",
      "| \u001B[0m109      \u001B[0m | \u001B[0m-112.4   \u001B[0m | \u001B[0m0.04497  \u001B[0m | \u001B[0m76.05    \u001B[0m | \u001B[0m0.8459   \u001B[0m | \u001B[0m0.935    \u001B[0m | \u001B[0m0.06085  \u001B[0m |\n",
      "| \u001B[0m110      \u001B[0m | \u001B[0m-631.0   \u001B[0m | \u001B[0m0.06627  \u001B[0m | \u001B[0m91.63    \u001B[0m | \u001B[0m0.9826   \u001B[0m | \u001B[0m0.9307   \u001B[0m | \u001B[0m0.08795  \u001B[0m |\n",
      "| \u001B[0m111      \u001B[0m | \u001B[0m-9.592e+0\u001B[0m | \u001B[0m1e-06    \u001B[0m | \u001B[0m72.41    \u001B[0m | \u001B[0m0.999    \u001B[0m | \u001B[0m0.9      \u001B[0m | \u001B[0m0.0001   \u001B[0m |\n",
      "| \u001B[0m112      \u001B[0m | \u001B[0m-350.9   \u001B[0m | \u001B[0m0.09367  \u001B[0m | \u001B[0m85.82    \u001B[0m | \u001B[0m0.9967   \u001B[0m | \u001B[0m0.9001   \u001B[0m | \u001B[0m0.03338  \u001B[0m |\n",
      "| \u001B[0m113      \u001B[0m | \u001B[0m-374.8   \u001B[0m | \u001B[0m1e-06    \u001B[0m | \u001B[0m60.0     \u001B[0m | \u001B[0m0.999    \u001B[0m | \u001B[0m1.0      \u001B[0m | \u001B[0m0.1      \u001B[0m |\n",
      "| \u001B[0m114      \u001B[0m | \u001B[0m-29.99   \u001B[0m | \u001B[0m0.05821  \u001B[0m | \u001B[0m79.53    \u001B[0m | \u001B[0m0.9615   \u001B[0m | \u001B[0m0.9752   \u001B[0m | \u001B[0m0.007242 \u001B[0m |\n",
      "| \u001B[0m115      \u001B[0m | \u001B[0m-4.036e+0\u001B[0m | \u001B[0m0.1      \u001B[0m | \u001B[0m81.77    \u001B[0m | \u001B[0m0.999    \u001B[0m | \u001B[0m0.9      \u001B[0m | \u001B[0m0.1      \u001B[0m |\n",
      "| \u001B[0m116      \u001B[0m | \u001B[0m-111.2   \u001B[0m | \u001B[0m0.08157  \u001B[0m | \u001B[0m60.38    \u001B[0m | \u001B[0m0.8844   \u001B[0m | \u001B[0m0.9084   \u001B[0m | \u001B[0m0.01497  \u001B[0m |\n",
      "| \u001B[0m117      \u001B[0m | \u001B[0m-74.97   \u001B[0m | \u001B[0m0.05675  \u001B[0m | \u001B[0m81.12    \u001B[0m | \u001B[0m0.804    \u001B[0m | \u001B[0m0.987    \u001B[0m | \u001B[0m0.03089  \u001B[0m |\n",
      "| \u001B[0m118      \u001B[0m | \u001B[0m-101.6   \u001B[0m | \u001B[0m0.09316  \u001B[0m | \u001B[0m90.45    \u001B[0m | \u001B[0m0.8031   \u001B[0m | \u001B[0m0.9734   \u001B[0m | \u001B[0m0.04573  \u001B[0m |\n",
      "| \u001B[0m119      \u001B[0m | \u001B[0m-537.7   \u001B[0m | \u001B[0m0.01883  \u001B[0m | \u001B[0m95.8     \u001B[0m | \u001B[0m0.986    \u001B[0m | \u001B[0m0.9781   \u001B[0m | \u001B[0m0.09628  \u001B[0m |\n",
      "| \u001B[0m120      \u001B[0m | \u001B[0m-51.27   \u001B[0m | \u001B[0m0.05276  \u001B[0m | \u001B[0m89.55    \u001B[0m | \u001B[0m0.8023   \u001B[0m | \u001B[0m0.9798   \u001B[0m | \u001B[0m0.001791 \u001B[0m |\n",
      "| \u001B[0m121      \u001B[0m | \u001B[0m-233.5   \u001B[0m | \u001B[0m0.08066  \u001B[0m | \u001B[0m77.22    \u001B[0m | \u001B[0m0.823    \u001B[0m | \u001B[0m0.9115   \u001B[0m | \u001B[0m0.07632  \u001B[0m |\n",
      "| \u001B[0m122      \u001B[0m | \u001B[0m-81.77   \u001B[0m | \u001B[0m0.08638  \u001B[0m | \u001B[0m65.64    \u001B[0m | \u001B[0m0.8119   \u001B[0m | \u001B[0m0.9498   \u001B[0m | \u001B[0m0.03305  \u001B[0m |\n",
      "| \u001B[0m123      \u001B[0m | \u001B[0m-82.96   \u001B[0m | \u001B[0m0.05544  \u001B[0m | \u001B[0m67.05    \u001B[0m | \u001B[0m0.8116   \u001B[0m | \u001B[0m0.9383   \u001B[0m | \u001B[0m0.006743 \u001B[0m |\n",
      "| \u001B[0m124      \u001B[0m | \u001B[0m-403.7   \u001B[0m | \u001B[0m0.03099  \u001B[0m | \u001B[0m94.03    \u001B[0m | \u001B[0m0.9982   \u001B[0m | \u001B[0m0.9224   \u001B[0m | \u001B[0m0.002405 \u001B[0m |\n",
      "| \u001B[0m125      \u001B[0m | \u001B[0m-164.2   \u001B[0m | \u001B[0m0.00521  \u001B[0m | \u001B[0m86.04    \u001B[0m | \u001B[0m0.8686   \u001B[0m | \u001B[0m0.9143   \u001B[0m | \u001B[0m0.09859  \u001B[0m |\n",
      "| \u001B[0m126      \u001B[0m | \u001B[0m-190.9   \u001B[0m | \u001B[0m0.08957  \u001B[0m | \u001B[0m97.43    \u001B[0m | \u001B[0m0.8813   \u001B[0m | \u001B[0m0.9007   \u001B[0m | \u001B[0m0.08677  \u001B[0m |\n",
      "| \u001B[0m127      \u001B[0m | \u001B[0m-186.3   \u001B[0m | \u001B[0m0.008868 \u001B[0m | \u001B[0m77.89    \u001B[0m | \u001B[0m0.8111   \u001B[0m | \u001B[0m0.993    \u001B[0m | \u001B[0m0.03415  \u001B[0m |\n",
      "| \u001B[0m128      \u001B[0m | \u001B[0m-150.1   \u001B[0m | \u001B[0m0.001901 \u001B[0m | \u001B[0m64.82    \u001B[0m | \u001B[0m0.8284   \u001B[0m | \u001B[0m0.9047   \u001B[0m | \u001B[0m0.0988   \u001B[0m |\n",
      "| \u001B[0m129      \u001B[0m | \u001B[0m-516.7   \u001B[0m | \u001B[0m0.08904  \u001B[0m | \u001B[0m94.71    \u001B[0m | \u001B[0m0.989    \u001B[0m | \u001B[0m0.9089   \u001B[0m | \u001B[0m0.05557  \u001B[0m |\n",
      "| \u001B[0m130      \u001B[0m | \u001B[0m-283.1   \u001B[0m | \u001B[0m1e-06    \u001B[0m | \u001B[0m93.22    \u001B[0m | \u001B[0m0.8      \u001B[0m | \u001B[0m0.9      \u001B[0m | \u001B[0m0.1      \u001B[0m |\n",
      "| \u001B[0m131      \u001B[0m | \u001B[0m-29.56   \u001B[0m | \u001B[0m1e-06    \u001B[0m | \u001B[0m91.28    \u001B[0m | \u001B[0m0.8      \u001B[0m | \u001B[0m1.0      \u001B[0m | \u001B[0m0.0001   \u001B[0m |\n",
      "| \u001B[0m132      \u001B[0m | \u001B[0m-99.55   \u001B[0m | \u001B[0m0.08286  \u001B[0m | \u001B[0m95.43    \u001B[0m | \u001B[0m0.8059   \u001B[0m | \u001B[0m0.909    \u001B[0m | \u001B[0m0.04256  \u001B[0m |\n",
      "| \u001B[0m133      \u001B[0m | \u001B[0m-84.15   \u001B[0m | \u001B[0m0.01572  \u001B[0m | \u001B[0m92.64    \u001B[0m | \u001B[0m0.8117   \u001B[0m | \u001B[0m0.9311   \u001B[0m | \u001B[0m0.007578 \u001B[0m |\n",
      "| \u001B[0m134      \u001B[0m | \u001B[0m-82.26   \u001B[0m | \u001B[0m0.09167  \u001B[0m | \u001B[0m95.85    \u001B[0m | \u001B[0m0.8591   \u001B[0m | \u001B[0m0.9546   \u001B[0m | \u001B[0m0.08086  \u001B[0m |\n",
      "| \u001B[0m135      \u001B[0m | \u001B[0m-195.9   \u001B[0m | \u001B[0m0.02462  \u001B[0m | \u001B[0m74.12    \u001B[0m | \u001B[0m0.9871   \u001B[0m | \u001B[0m0.9017   \u001B[0m | \u001B[0m0.006165 \u001B[0m |\n",
      "| \u001B[0m136      \u001B[0m | \u001B[0m-506.3   \u001B[0m | \u001B[0m1e-06    \u001B[0m | \u001B[0m92.03    \u001B[0m | \u001B[0m0.999    \u001B[0m | \u001B[0m0.9      \u001B[0m | \u001B[0m0.1      \u001B[0m |\n",
      "| \u001B[0m137      \u001B[0m | \u001B[0m-115.9   \u001B[0m | \u001B[0m0.01718  \u001B[0m | \u001B[0m96.21    \u001B[0m | \u001B[0m0.9812   \u001B[0m | \u001B[0m0.9921   \u001B[0m | \u001B[0m0.02239  \u001B[0m |\n",
      "| \u001B[0m138      \u001B[0m | \u001B[0m-39.3    \u001B[0m | \u001B[0m0.04297  \u001B[0m | \u001B[0m83.54    \u001B[0m | \u001B[0m0.8126   \u001B[0m | \u001B[0m0.9867   \u001B[0m | \u001B[0m0.04962  \u001B[0m |\n",
      "| \u001B[0m139      \u001B[0m | \u001B[0m-64.51   \u001B[0m | \u001B[0m0.08171  \u001B[0m | \u001B[0m75.58    \u001B[0m | \u001B[0m0.8928   \u001B[0m | \u001B[0m0.9586   \u001B[0m | \u001B[0m0.09281  \u001B[0m |\n",
      "| \u001B[0m140      \u001B[0m | \u001B[0m-126.1   \u001B[0m | \u001B[0m0.07593  \u001B[0m | \u001B[0m67.47    \u001B[0m | \u001B[0m0.9638   \u001B[0m | \u001B[0m0.9054   \u001B[0m | \u001B[0m0.06856  \u001B[0m |\n",
      "| \u001B[0m141      \u001B[0m | \u001B[0m-402.5   \u001B[0m | \u001B[0m0.01031  \u001B[0m | \u001B[0m85.52    \u001B[0m | \u001B[0m0.8108   \u001B[0m | \u001B[0m0.9925   \u001B[0m | \u001B[0m0.07897  \u001B[0m |\n",
      "| \u001B[0m142      \u001B[0m | \u001B[0m-251.7   \u001B[0m | \u001B[0m1e-06    \u001B[0m | \u001B[0m64.05    \u001B[0m | \u001B[0m0.999    \u001B[0m | \u001B[0m1.0      \u001B[0m | \u001B[0m0.1      \u001B[0m |\n",
      "| \u001B[0m143      \u001B[0m | \u001B[0m-50.49   \u001B[0m | \u001B[0m0.08964  \u001B[0m | \u001B[0m78.75    \u001B[0m | \u001B[0m0.8124   \u001B[0m | \u001B[0m0.9818   \u001B[0m | \u001B[0m0.005994 \u001B[0m |\n",
      "| \u001B[0m144      \u001B[0m | \u001B[0m-286.3   \u001B[0m | \u001B[0m0.1      \u001B[0m | \u001B[0m100.0    \u001B[0m | \u001B[0m0.8      \u001B[0m | \u001B[0m1.0      \u001B[0m | \u001B[0m0.1      \u001B[0m |\n",
      "| \u001B[0m145      \u001B[0m | \u001B[0m-397.6   \u001B[0m | \u001B[0m0.00366  \u001B[0m | \u001B[0m81.39    \u001B[0m | \u001B[0m0.8163   \u001B[0m | \u001B[0m0.9972   \u001B[0m | \u001B[0m0.06291  \u001B[0m |\n",
      "| \u001B[0m146      \u001B[0m | \u001B[0m-214.7   \u001B[0m | \u001B[0m0.01789  \u001B[0m | \u001B[0m80.86    \u001B[0m | \u001B[0m0.9943   \u001B[0m | \u001B[0m0.9556   \u001B[0m | \u001B[0m0.01247  \u001B[0m |\n",
      "| \u001B[0m147      \u001B[0m | \u001B[0m-299.9   \u001B[0m | \u001B[0m0.03166  \u001B[0m | \u001B[0m79.81    \u001B[0m | \u001B[0m0.8065   \u001B[0m | \u001B[0m0.9054   \u001B[0m | \u001B[0m0.09429  \u001B[0m |\n",
      "| \u001B[0m148      \u001B[0m | \u001B[0m-41.5    \u001B[0m | \u001B[0m0.09453  \u001B[0m | \u001B[0m85.56    \u001B[0m | \u001B[0m0.877    \u001B[0m | \u001B[0m0.9611   \u001B[0m | \u001B[0m0.005671 \u001B[0m |\n",
      "| \u001B[0m149      \u001B[0m | \u001B[0m-343.8   \u001B[0m | \u001B[0m0.02045  \u001B[0m | \u001B[0m82.05    \u001B[0m | \u001B[0m0.8014   \u001B[0m | \u001B[0m0.9942   \u001B[0m | \u001B[0m0.03692  \u001B[0m |\n",
      "| \u001B[95m150      \u001B[0m | \u001B[95m-21.77   \u001B[0m | \u001B[95m1e-06    \u001B[0m | \u001B[95m62.69    \u001B[0m | \u001B[95m0.8      \u001B[0m | \u001B[95m0.9      \u001B[0m | \u001B[95m0.0001   \u001B[0m |\n",
      "| \u001B[0m151      \u001B[0m | \u001B[0m-285.2   \u001B[0m | \u001B[0m1e-06    \u001B[0m | \u001B[0m84.52    \u001B[0m | \u001B[0m0.999    \u001B[0m | \u001B[0m1.0      \u001B[0m | \u001B[0m0.1      \u001B[0m |\n",
      "| \u001B[0m152      \u001B[0m | \u001B[0m-99.14   \u001B[0m | \u001B[0m0.04366  \u001B[0m | \u001B[0m75.22    \u001B[0m | \u001B[0m0.8156   \u001B[0m | \u001B[0m0.9134   \u001B[0m | \u001B[0m0.02141  \u001B[0m |\n",
      "| \u001B[0m153      \u001B[0m | \u001B[0m-625.8   \u001B[0m | \u001B[0m0.0459   \u001B[0m | \u001B[0m88.84    \u001B[0m | \u001B[0m0.8043   \u001B[0m | \u001B[0m0.9817   \u001B[0m | \u001B[0m0.05798  \u001B[0m |\n",
      "| \u001B[0m154      \u001B[0m | \u001B[0m-430.1   \u001B[0m | \u001B[0m0.09014  \u001B[0m | \u001B[0m80.82    \u001B[0m | \u001B[0m0.8173   \u001B[0m | \u001B[0m0.9975   \u001B[0m | \u001B[0m0.0762   \u001B[0m |\n",
      "| \u001B[0m155      \u001B[0m | \u001B[0m-394.8   \u001B[0m | \u001B[0m1e-06    \u001B[0m | \u001B[0m68.72    \u001B[0m | \u001B[0m0.999    \u001B[0m | \u001B[0m1.0      \u001B[0m | \u001B[0m0.0001   \u001B[0m |\n",
      "| \u001B[95m156      \u001B[0m | \u001B[95m-21.7    \u001B[0m | \u001B[95m0.1      \u001B[0m | \u001B[95m60.0     \u001B[0m | \u001B[95m0.8      \u001B[0m | \u001B[95m0.9      \u001B[0m | \u001B[95m0.0001   \u001B[0m |\n",
      "| \u001B[0m157      \u001B[0m | \u001B[0m-209.3   \u001B[0m | \u001B[0m0.09826  \u001B[0m | \u001B[0m92.85    \u001B[0m | \u001B[0m0.8488   \u001B[0m | \u001B[0m0.9742   \u001B[0m | \u001B[0m0.0465   \u001B[0m |\n",
      "| \u001B[0m158      \u001B[0m | \u001B[0m-26.82   \u001B[0m | \u001B[0m0.07728  \u001B[0m | \u001B[0m97.68    \u001B[0m | \u001B[0m0.8094   \u001B[0m | \u001B[0m0.994    \u001B[0m | \u001B[0m0.001614 \u001B[0m |\n",
      "| \u001B[0m159      \u001B[0m | \u001B[0m-425.7   \u001B[0m | \u001B[0m0.07702  \u001B[0m | \u001B[0m97.83    \u001B[0m | \u001B[0m0.9444   \u001B[0m | \u001B[0m0.9129   \u001B[0m | \u001B[0m0.09148  \u001B[0m |\n",
      "| \u001B[0m160      \u001B[0m | \u001B[0m-172.9   \u001B[0m | \u001B[0m0.08218  \u001B[0m | \u001B[0m64.83    \u001B[0m | \u001B[0m0.8049   \u001B[0m | \u001B[0m0.9001   \u001B[0m | \u001B[0m0.07747  \u001B[0m |\n",
      "| \u001B[0m161      \u001B[0m | \u001B[0m-5.024e+0\u001B[0m | \u001B[0m0.00476  \u001B[0m | \u001B[0m89.35    \u001B[0m | \u001B[0m0.9866   \u001B[0m | \u001B[0m0.9049   \u001B[0m | \u001B[0m0.09202  \u001B[0m |\n",
      "| \u001B[0m162      \u001B[0m | \u001B[0m-49.35   \u001B[0m | \u001B[0m0.04075  \u001B[0m | \u001B[0m89.79    \u001B[0m | \u001B[0m0.8028   \u001B[0m | \u001B[0m0.9652   \u001B[0m | \u001B[0m0.003738 \u001B[0m |\n",
      "| \u001B[0m163      \u001B[0m | \u001B[0m-31.98   \u001B[0m | \u001B[0m0.09802  \u001B[0m | \u001B[0m60.94    \u001B[0m | \u001B[0m0.8303   \u001B[0m | \u001B[0m0.981    \u001B[0m | \u001B[0m0.003729 \u001B[0m |\n",
      "| \u001B[0m164      \u001B[0m | \u001B[0m-72.02   \u001B[0m | \u001B[0m0.07906  \u001B[0m | \u001B[0m83.14    \u001B[0m | \u001B[0m0.9911   \u001B[0m | \u001B[0m0.992    \u001B[0m | \u001B[0m0.04642  \u001B[0m |\n",
      "| \u001B[0m165      \u001B[0m | \u001B[0m-25.05   \u001B[0m | \u001B[0m0.1      \u001B[0m | \u001B[0m72.11    \u001B[0m | \u001B[0m0.8      \u001B[0m | \u001B[0m1.0      \u001B[0m | \u001B[0m0.0001   \u001B[0m |\n",
      "| \u001B[0m166      \u001B[0m | \u001B[0m-63.76   \u001B[0m | \u001B[0m0.09916  \u001B[0m | \u001B[0m72.67    \u001B[0m | \u001B[0m0.8216   \u001B[0m | \u001B[0m0.9036   \u001B[0m | \u001B[0m0.03414  \u001B[0m |\n",
      "| \u001B[0m167      \u001B[0m | \u001B[0m-173.1   \u001B[0m | \u001B[0m0.08058  \u001B[0m | \u001B[0m76.31    \u001B[0m | \u001B[0m0.9941   \u001B[0m | \u001B[0m0.9471   \u001B[0m | \u001B[0m0.002696 \u001B[0m |\n",
      "| \u001B[0m168      \u001B[0m | \u001B[0m-185.3   \u001B[0m | \u001B[0m0.06066  \u001B[0m | \u001B[0m61.72    \u001B[0m | \u001B[0m0.8193   \u001B[0m | \u001B[0m0.9014   \u001B[0m | \u001B[0m0.03718  \u001B[0m |\n",
      "| \u001B[0m169      \u001B[0m | \u001B[0m-28.8    \u001B[0m | \u001B[0m0.1      \u001B[0m | \u001B[0m82.38    \u001B[0m | \u001B[0m0.8      \u001B[0m | \u001B[0m1.0      \u001B[0m | \u001B[0m0.0001   \u001B[0m |\n",
      "| \u001B[0m170      \u001B[0m | \u001B[0m-71.02   \u001B[0m | \u001B[0m0.05962  \u001B[0m | \u001B[0m97.33    \u001B[0m | \u001B[0m0.9786   \u001B[0m | \u001B[0m0.9896   \u001B[0m | \u001B[0m0.005093 \u001B[0m |\n",
      "| \u001B[0m171      \u001B[0m | \u001B[0m-391.5   \u001B[0m | \u001B[0m1e-06    \u001B[0m | \u001B[0m77.0     \u001B[0m | \u001B[0m0.999    \u001B[0m | \u001B[0m1.0      \u001B[0m | \u001B[0m0.0001   \u001B[0m |\n",
      "| \u001B[0m172      \u001B[0m | \u001B[0m-165.7   \u001B[0m | \u001B[0m1e-06    \u001B[0m | \u001B[0m71.25    \u001B[0m | \u001B[0m0.8      \u001B[0m | \u001B[0m0.9      \u001B[0m | \u001B[0m0.1      \u001B[0m |\n",
      "| \u001B[0m173      \u001B[0m | \u001B[0m-117.7   \u001B[0m | \u001B[0m0.009368 \u001B[0m | \u001B[0m76.31    \u001B[0m | \u001B[0m0.8581   \u001B[0m | \u001B[0m0.9352   \u001B[0m | \u001B[0m0.09553  \u001B[0m |\n",
      "| \u001B[0m174      \u001B[0m | \u001B[0m-77.46   \u001B[0m | \u001B[0m0.05358  \u001B[0m | \u001B[0m82.91    \u001B[0m | \u001B[0m0.8068   \u001B[0m | \u001B[0m0.9353   \u001B[0m | \u001B[0m0.09541  \u001B[0m |\n",
      "| \u001B[0m175      \u001B[0m | \u001B[0m-632.0   \u001B[0m | \u001B[0m0.03355  \u001B[0m | \u001B[0m86.85    \u001B[0m | \u001B[0m0.965    \u001B[0m | \u001B[0m0.9066   \u001B[0m | \u001B[0m0.0992   \u001B[0m |\n",
      "| \u001B[0m176      \u001B[0m | \u001B[0m-273.1   \u001B[0m | \u001B[0m1e-06    \u001B[0m | \u001B[0m90.74    \u001B[0m | \u001B[0m0.8      \u001B[0m | \u001B[0m1.0      \u001B[0m | \u001B[0m0.1      \u001B[0m |\n",
      "| \u001B[0m177      \u001B[0m | \u001B[0m-82.61   \u001B[0m | \u001B[0m0.07553  \u001B[0m | \u001B[0m94.46    \u001B[0m | \u001B[0m0.8863   \u001B[0m | \u001B[0m0.9375   \u001B[0m | \u001B[0m0.07326  \u001B[0m |\n",
      "| \u001B[0m178      \u001B[0m | \u001B[0m-430.2   \u001B[0m | \u001B[0m0.01132  \u001B[0m | \u001B[0m71.04    \u001B[0m | \u001B[0m0.8406   \u001B[0m | \u001B[0m0.9294   \u001B[0m | \u001B[0m0.09364  \u001B[0m |\n"
     ]
    },
    {
     "name": "stderr",
     "output_type": "stream",
     "text": [
      "/opt/conda/lib/python3.11/site-packages/sklearn/neural_network/_multilayer_perceptron.py:691: ConvergenceWarning: Stochastic Optimizer: Maximum iterations (5000) reached and the optimization hasn't converged yet.\n",
      "  warnings.warn(\n"
     ]
    },
    {
     "name": "stdout",
     "output_type": "stream",
     "text": [
      "| \u001B[0m179      \u001B[0m | \u001B[0m-389.1   \u001B[0m | \u001B[0m0.1      \u001B[0m | \u001B[0m73.97    \u001B[0m | \u001B[0m0.8      \u001B[0m | \u001B[0m1.0      \u001B[0m | \u001B[0m0.1      \u001B[0m |\n",
      "| \u001B[0m180      \u001B[0m | \u001B[0m-49.76   \u001B[0m | \u001B[0m0.07897  \u001B[0m | \u001B[0m94.01    \u001B[0m | \u001B[0m0.9269   \u001B[0m | \u001B[0m0.9895   \u001B[0m | \u001B[0m0.04632  \u001B[0m |\n",
      "| \u001B[0m181      \u001B[0m | \u001B[0m-37.43   \u001B[0m | \u001B[0m0.009995 \u001B[0m | \u001B[0m96.2     \u001B[0m | \u001B[0m0.9825   \u001B[0m | \u001B[0m0.9977   \u001B[0m | \u001B[0m0.0266   \u001B[0m |\n",
      "| \u001B[0m182      \u001B[0m | \u001B[0m-5.166e+0\u001B[0m | \u001B[0m1e-06    \u001B[0m | \u001B[0m92.4     \u001B[0m | \u001B[0m0.999    \u001B[0m | \u001B[0m0.9      \u001B[0m | \u001B[0m0.0001   \u001B[0m |\n",
      "| \u001B[0m183      \u001B[0m | \u001B[0m-37.89   \u001B[0m | \u001B[0m0.08153  \u001B[0m | \u001B[0m91.88    \u001B[0m | \u001B[0m0.8101   \u001B[0m | \u001B[0m0.9955   \u001B[0m | \u001B[0m0.02895  \u001B[0m |\n",
      "| \u001B[0m184      \u001B[0m | \u001B[0m-3.754e+0\u001B[0m | \u001B[0m1e-06    \u001B[0m | \u001B[0m90.29    \u001B[0m | \u001B[0m0.999    \u001B[0m | \u001B[0m0.9      \u001B[0m | \u001B[0m0.0001   \u001B[0m |\n",
      "| \u001B[0m185      \u001B[0m | \u001B[0m-383.8   \u001B[0m | \u001B[0m0.1      \u001B[0m | \u001B[0m86.23    \u001B[0m | \u001B[0m0.999    \u001B[0m | \u001B[0m1.0      \u001B[0m | \u001B[0m0.0001   \u001B[0m |\n",
      "| \u001B[0m186      \u001B[0m | \u001B[0m-27.59   \u001B[0m | \u001B[0m1e-06    \u001B[0m | \u001B[0m61.23    \u001B[0m | \u001B[0m0.8      \u001B[0m | \u001B[0m1.0      \u001B[0m | \u001B[0m0.0001   \u001B[0m |\n",
      "| \u001B[0m187      \u001B[0m | \u001B[0m-106.5   \u001B[0m | \u001B[0m0.07024  \u001B[0m | \u001B[0m73.68    \u001B[0m | \u001B[0m0.9138   \u001B[0m | \u001B[0m0.9082   \u001B[0m | \u001B[0m0.07248  \u001B[0m |\n",
      "| \u001B[0m188      \u001B[0m | \u001B[0m-674.4   \u001B[0m | \u001B[0m1e-06    \u001B[0m | \u001B[0m60.82    \u001B[0m | \u001B[0m0.999    \u001B[0m | \u001B[0m0.9      \u001B[0m | \u001B[0m0.1      \u001B[0m |\n",
      "| \u001B[0m189      \u001B[0m | \u001B[0m-131.9   \u001B[0m | \u001B[0m0.04635  \u001B[0m | \u001B[0m96.63    \u001B[0m | \u001B[0m0.8225   \u001B[0m | \u001B[0m0.9748   \u001B[0m | \u001B[0m0.04337  \u001B[0m |\n",
      "| \u001B[0m190      \u001B[0m | \u001B[0m-25.91   \u001B[0m | \u001B[0m0.0736   \u001B[0m | \u001B[0m99.07    \u001B[0m | \u001B[0m0.8238   \u001B[0m | \u001B[0m0.9258   \u001B[0m | \u001B[0m0.001572 \u001B[0m |\n",
      "| \u001B[0m191      \u001B[0m | \u001B[0m-477.4   \u001B[0m | \u001B[0m0.01099  \u001B[0m | \u001B[0m72.0     \u001B[0m | \u001B[0m0.9913   \u001B[0m | \u001B[0m0.9869   \u001B[0m | \u001B[0m0.07238  \u001B[0m |\n",
      "| \u001B[0m192      \u001B[0m | \u001B[0m-360.3   \u001B[0m | \u001B[0m0.1      \u001B[0m | \u001B[0m93.32    \u001B[0m | \u001B[0m0.999    \u001B[0m | \u001B[0m1.0      \u001B[0m | \u001B[0m0.0001   \u001B[0m |\n",
      "| \u001B[0m193      \u001B[0m | \u001B[0m-208.9   \u001B[0m | \u001B[0m0.0151   \u001B[0m | \u001B[0m65.86    \u001B[0m | \u001B[0m0.9927   \u001B[0m | \u001B[0m0.9115   \u001B[0m | \u001B[0m0.01057  \u001B[0m |\n",
      "| \u001B[0m194      \u001B[0m | \u001B[0m-393.7   \u001B[0m | \u001B[0m0.1      \u001B[0m | \u001B[0m81.28    \u001B[0m | \u001B[0m0.999    \u001B[0m | \u001B[0m0.9      \u001B[0m | \u001B[0m0.0001   \u001B[0m |\n",
      "| \u001B[0m195      \u001B[0m | \u001B[0m-373.8   \u001B[0m | \u001B[0m1e-06    \u001B[0m | \u001B[0m94.82    \u001B[0m | \u001B[0m0.8      \u001B[0m | \u001B[0m1.0      \u001B[0m | \u001B[0m0.1      \u001B[0m |\n",
      "| \u001B[0m196      \u001B[0m | \u001B[0m-479.0   \u001B[0m | \u001B[0m0.01718  \u001B[0m | \u001B[0m85.51    \u001B[0m | \u001B[0m0.8066   \u001B[0m | \u001B[0m0.9955   \u001B[0m | \u001B[0m0.07542  \u001B[0m |\n",
      "| \u001B[0m197      \u001B[0m | \u001B[0m-397.2   \u001B[0m | \u001B[0m1e-06    \u001B[0m | \u001B[0m83.27    \u001B[0m | \u001B[0m0.8      \u001B[0m | \u001B[0m0.9      \u001B[0m | \u001B[0m0.1      \u001B[0m |\n",
      "| \u001B[0m198      \u001B[0m | \u001B[0m-478.2   \u001B[0m | \u001B[0m0.03893  \u001B[0m | \u001B[0m78.06    \u001B[0m | \u001B[0m0.9535   \u001B[0m | \u001B[0m0.9209   \u001B[0m | \u001B[0m0.07585  \u001B[0m |\n",
      "| \u001B[0m199      \u001B[0m | \u001B[0m-87.29   \u001B[0m | \u001B[0m0.09611  \u001B[0m | \u001B[0m71.52    \u001B[0m | \u001B[0m0.8817   \u001B[0m | \u001B[0m0.9847   \u001B[0m | \u001B[0m0.09033  \u001B[0m |\n",
      "| \u001B[0m200      \u001B[0m | \u001B[0m-261.4   \u001B[0m | \u001B[0m0.06887  \u001B[0m | \u001B[0m74.25    \u001B[0m | \u001B[0m0.8306   \u001B[0m | \u001B[0m0.9026   \u001B[0m | \u001B[0m0.06265  \u001B[0m |\n",
      "| \u001B[0m201      \u001B[0m | \u001B[0m-501.0   \u001B[0m | \u001B[0m0.009154 \u001B[0m | \u001B[0m85.51    \u001B[0m | \u001B[0m0.8086   \u001B[0m | \u001B[0m0.9917   \u001B[0m | \u001B[0m0.06186  \u001B[0m |\n",
      "| \u001B[0m202      \u001B[0m | \u001B[0m-91.11   \u001B[0m | \u001B[0m0.08483  \u001B[0m | \u001B[0m70.21    \u001B[0m | \u001B[0m0.9153   \u001B[0m | \u001B[0m0.9381   \u001B[0m | \u001B[0m0.04742  \u001B[0m |\n",
      "| \u001B[0m203      \u001B[0m | \u001B[0m-110.3   \u001B[0m | \u001B[0m0.07435  \u001B[0m | \u001B[0m68.21    \u001B[0m | \u001B[0m0.8786   \u001B[0m | \u001B[0m0.9639   \u001B[0m | \u001B[0m0.04522  \u001B[0m |\n",
      "| \u001B[0m204      \u001B[0m | \u001B[0m-1.219e+0\u001B[0m | \u001B[0m0.002529 \u001B[0m | \u001B[0m65.5     \u001B[0m | \u001B[0m0.9973   \u001B[0m | \u001B[0m0.9067   \u001B[0m | \u001B[0m0.07628  \u001B[0m |\n",
      "| \u001B[0m205      \u001B[0m | \u001B[0m-25.37   \u001B[0m | \u001B[0m0.1      \u001B[0m | \u001B[0m65.88    \u001B[0m | \u001B[0m0.8      \u001B[0m | \u001B[0m1.0      \u001B[0m | \u001B[0m0.0001   \u001B[0m |\n",
      "| \u001B[0m206      \u001B[0m | \u001B[0m-164.4   \u001B[0m | \u001B[0m0.01762  \u001B[0m | \u001B[0m83.39    \u001B[0m | \u001B[0m0.8693   \u001B[0m | \u001B[0m0.9006   \u001B[0m | \u001B[0m0.09392  \u001B[0m |\n",
      "| \u001B[0m207      \u001B[0m | \u001B[0m-33.17   \u001B[0m | \u001B[0m0.0309   \u001B[0m | \u001B[0m64.96    \u001B[0m | \u001B[0m0.9788   \u001B[0m | \u001B[0m0.9937   \u001B[0m | \u001B[0m0.02314  \u001B[0m |\n",
      "| \u001B[0m208      \u001B[0m | \u001B[0m-427.8   \u001B[0m | \u001B[0m0.04581  \u001B[0m | \u001B[0m83.53    \u001B[0m | \u001B[0m0.8909   \u001B[0m | \u001B[0m0.964    \u001B[0m | \u001B[0m0.08212  \u001B[0m |\n",
      "| \u001B[0m209      \u001B[0m | \u001B[0m-128.3   \u001B[0m | \u001B[0m0.06726  \u001B[0m | \u001B[0m99.1     \u001B[0m | \u001B[0m0.8846   \u001B[0m | \u001B[0m0.9211   \u001B[0m | \u001B[0m0.05713  \u001B[0m |\n",
      "| \u001B[0m210      \u001B[0m | \u001B[0m-56.67   \u001B[0m | \u001B[0m0.0535   \u001B[0m | \u001B[0m96.77    \u001B[0m | \u001B[0m0.8613   \u001B[0m | \u001B[0m0.9302   \u001B[0m | \u001B[0m0.04479  \u001B[0m |\n",
      "| \u001B[0m211      \u001B[0m | \u001B[0m-125.2   \u001B[0m | \u001B[0m0.003224 \u001B[0m | \u001B[0m71.87    \u001B[0m | \u001B[0m0.9813   \u001B[0m | \u001B[0m0.9023   \u001B[0m | \u001B[0m0.01299  \u001B[0m |\n",
      "| \u001B[0m212      \u001B[0m | \u001B[0m-87.47   \u001B[0m | \u001B[0m0.01142  \u001B[0m | \u001B[0m78.83    \u001B[0m | \u001B[0m0.9081   \u001B[0m | \u001B[0m0.9205   \u001B[0m | \u001B[0m0.05623  \u001B[0m |\n",
      "| \u001B[0m213      \u001B[0m | \u001B[0m-361.6   \u001B[0m | \u001B[0m1e-06    \u001B[0m | \u001B[0m66.92    \u001B[0m | \u001B[0m0.999    \u001B[0m | \u001B[0m1.0      \u001B[0m | \u001B[0m0.1      \u001B[0m |\n",
      "| \u001B[0m214      \u001B[0m | \u001B[0m-191.7   \u001B[0m | \u001B[0m0.07532  \u001B[0m | \u001B[0m79.24    \u001B[0m | \u001B[0m0.9959   \u001B[0m | \u001B[0m0.9549   \u001B[0m | \u001B[0m0.02614  \u001B[0m |\n",
      "| \u001B[0m215      \u001B[0m | \u001B[0m-543.2   \u001B[0m | \u001B[0m1e-06    \u001B[0m | \u001B[0m95.35    \u001B[0m | \u001B[0m0.999    \u001B[0m | \u001B[0m1.0      \u001B[0m | \u001B[0m0.1      \u001B[0m |\n",
      "| \u001B[0m216      \u001B[0m | \u001B[0m-3.07e+06\u001B[0m | \u001B[0m1e-06    \u001B[0m | \u001B[0m85.29    \u001B[0m | \u001B[0m0.999    \u001B[0m | \u001B[0m0.9      \u001B[0m | \u001B[0m0.0001   \u001B[0m |\n",
      "| \u001B[0m217      \u001B[0m | \u001B[0m-122.2   \u001B[0m | \u001B[0m0.0115   \u001B[0m | \u001B[0m85.76    \u001B[0m | \u001B[0m0.8054   \u001B[0m | \u001B[0m0.99     \u001B[0m | \u001B[0m0.06265  \u001B[0m |\n",
      "| \u001B[0m218      \u001B[0m | \u001B[0m-28.25   \u001B[0m | \u001B[0m0.01166  \u001B[0m | \u001B[0m63.29    \u001B[0m | \u001B[0m0.8623   \u001B[0m | \u001B[0m0.9933   \u001B[0m | \u001B[0m0.003612 \u001B[0m |\n",
      "| \u001B[0m219      \u001B[0m | \u001B[0m-94.58   \u001B[0m | \u001B[0m0.0652   \u001B[0m | \u001B[0m99.08    \u001B[0m | \u001B[0m0.8752   \u001B[0m | \u001B[0m0.9292   \u001B[0m | \u001B[0m0.06151  \u001B[0m |\n",
      "| \u001B[0m220      \u001B[0m | \u001B[0m-4.256e+0\u001B[0m | \u001B[0m0.08341  \u001B[0m | \u001B[0m91.27    \u001B[0m | \u001B[0m0.9956   \u001B[0m | \u001B[0m0.9119   \u001B[0m | \u001B[0m0.09135  \u001B[0m |\n",
      "| \u001B[0m221      \u001B[0m | \u001B[0m-405.2   \u001B[0m | \u001B[0m0.08529  \u001B[0m | \u001B[0m92.57    \u001B[0m | \u001B[0m0.8609   \u001B[0m | \u001B[0m0.9028   \u001B[0m | \u001B[0m0.07961  \u001B[0m |\n",
      "| \u001B[0m222      \u001B[0m | \u001B[0m-57.49   \u001B[0m | \u001B[0m0.08212  \u001B[0m | \u001B[0m97.74    \u001B[0m | \u001B[0m0.842    \u001B[0m | \u001B[0m0.9561   \u001B[0m | \u001B[0m0.01509  \u001B[0m |\n",
      "| \u001B[0m223      \u001B[0m | \u001B[0m-128.7   \u001B[0m | \u001B[0m0.05461  \u001B[0m | \u001B[0m83.53    \u001B[0m | \u001B[0m0.8908   \u001B[0m | \u001B[0m0.9719   \u001B[0m | \u001B[0m0.0841   \u001B[0m |\n",
      "| \u001B[0m224      \u001B[0m | \u001B[0m-23.15   \u001B[0m | \u001B[0m0.1      \u001B[0m | \u001B[0m64.04    \u001B[0m | \u001B[0m0.8      \u001B[0m | \u001B[0m0.9      \u001B[0m | \u001B[0m0.0001   \u001B[0m |\n",
      "| \u001B[0m225      \u001B[0m | \u001B[0m-522.4   \u001B[0m | \u001B[0m0.1      \u001B[0m | \u001B[0m87.79    \u001B[0m | \u001B[0m0.8      \u001B[0m | \u001B[0m1.0      \u001B[0m | \u001B[0m0.1      \u001B[0m |\n",
      "| \u001B[0m226      \u001B[0m | \u001B[0m-480.5   \u001B[0m | \u001B[0m0.1      \u001B[0m | \u001B[0m72.89    \u001B[0m | \u001B[0m0.999    \u001B[0m | \u001B[0m0.9      \u001B[0m | \u001B[0m0.1      \u001B[0m |\n",
      "| \u001B[0m227      \u001B[0m | \u001B[0m-413.4   \u001B[0m | \u001B[0m0.1      \u001B[0m | \u001B[0m67.85    \u001B[0m | \u001B[0m0.999    \u001B[0m | \u001B[0m1.0      \u001B[0m | \u001B[0m0.1      \u001B[0m |\n",
      "| \u001B[0m228      \u001B[0m | \u001B[0m-389.8   \u001B[0m | \u001B[0m0.1      \u001B[0m | \u001B[0m77.38    \u001B[0m | \u001B[0m0.999    \u001B[0m | \u001B[0m1.0      \u001B[0m | \u001B[0m0.0001   \u001B[0m |\n",
      "| \u001B[0m229      \u001B[0m | \u001B[0m-173.7   \u001B[0m | \u001B[0m0.06785  \u001B[0m | \u001B[0m83.11    \u001B[0m | \u001B[0m0.8276   \u001B[0m | \u001B[0m0.9216   \u001B[0m | \u001B[0m0.08375  \u001B[0m |\n",
      "| \u001B[0m230      \u001B[0m | \u001B[0m-539.1   \u001B[0m | \u001B[0m0.1      \u001B[0m | \u001B[0m82.28    \u001B[0m | \u001B[0m0.999    \u001B[0m | \u001B[0m0.9      \u001B[0m | \u001B[0m0.1      \u001B[0m |\n",
      "| \u001B[0m231      \u001B[0m | \u001B[0m-107.4   \u001B[0m | \u001B[0m0.0617   \u001B[0m | \u001B[0m96.77    \u001B[0m | \u001B[0m0.8646   \u001B[0m | \u001B[0m0.9246   \u001B[0m | \u001B[0m0.0499   \u001B[0m |\n",
      "| \u001B[0m232      \u001B[0m | \u001B[0m-228.1   \u001B[0m | \u001B[0m0.03828  \u001B[0m | \u001B[0m69.38    \u001B[0m | \u001B[0m0.9958   \u001B[0m | \u001B[0m0.9041   \u001B[0m | \u001B[0m0.003171 \u001B[0m |\n",
      "| \u001B[0m233      \u001B[0m | \u001B[0m-335.0   \u001B[0m | \u001B[0m0.1      \u001B[0m | \u001B[0m62.76    \u001B[0m | \u001B[0m0.999    \u001B[0m | \u001B[0m1.0      \u001B[0m | \u001B[0m0.1      \u001B[0m |\n",
      "| \u001B[0m234      \u001B[0m | \u001B[0m-70.32   \u001B[0m | \u001B[0m0.08494  \u001B[0m | \u001B[0m95.43    \u001B[0m | \u001B[0m0.8195   \u001B[0m | \u001B[0m0.9068   \u001B[0m | \u001B[0m0.04808  \u001B[0m |\n",
      "| \u001B[0m235      \u001B[0m | \u001B[0m-518.3   \u001B[0m | \u001B[0m1e-06    \u001B[0m | \u001B[0m100.0    \u001B[0m | \u001B[0m0.999    \u001B[0m | \u001B[0m0.9      \u001B[0m | \u001B[0m0.1      \u001B[0m |\n",
      "| \u001B[0m236      \u001B[0m | \u001B[0m-495.9   \u001B[0m | \u001B[0m0.1      \u001B[0m | \u001B[0m79.9     \u001B[0m | \u001B[0m0.999    \u001B[0m | \u001B[0m0.9      \u001B[0m | \u001B[0m0.0001   \u001B[0m |\n",
      "| \u001B[0m237      \u001B[0m | \u001B[0m-230.0   \u001B[0m | \u001B[0m0.0575   \u001B[0m | \u001B[0m66.37    \u001B[0m | \u001B[0m0.9982   \u001B[0m | \u001B[0m0.9794   \u001B[0m | \u001B[0m0.02696  \u001B[0m |\n",
      "| \u001B[0m238      \u001B[0m | \u001B[0m-479.9   \u001B[0m | \u001B[0m0.01848  \u001B[0m | \u001B[0m81.12    \u001B[0m | \u001B[0m0.9861   \u001B[0m | \u001B[0m0.9111   \u001B[0m | \u001B[0m0.0979   \u001B[0m |\n",
      "| \u001B[0m239      \u001B[0m | \u001B[0m-329.9   \u001B[0m | \u001B[0m0.005974 \u001B[0m | \u001B[0m85.52    \u001B[0m | \u001B[0m0.816    \u001B[0m | \u001B[0m0.9952   \u001B[0m | \u001B[0m0.05724  \u001B[0m |\n",
      "| \u001B[0m240      \u001B[0m | \u001B[0m-2.339e+0\u001B[0m | \u001B[0m1e-06    \u001B[0m | \u001B[0m88.85    \u001B[0m | \u001B[0m0.999    \u001B[0m | \u001B[0m0.9      \u001B[0m | \u001B[0m0.0001   \u001B[0m |\n",
      "| \u001B[0m241      \u001B[0m | \u001B[0m-400.0   \u001B[0m | \u001B[0m1e-06    \u001B[0m | \u001B[0m64.64    \u001B[0m | \u001B[0m0.999    \u001B[0m | \u001B[0m1.0      \u001B[0m | \u001B[0m0.0001   \u001B[0m |\n",
      "| \u001B[0m242      \u001B[0m | \u001B[0m-40.02   \u001B[0m | \u001B[0m1e-06    \u001B[0m | \u001B[0m93.83    \u001B[0m | \u001B[0m0.8      \u001B[0m | \u001B[0m0.9      \u001B[0m | \u001B[0m0.0001   \u001B[0m |\n",
      "| \u001B[0m243      \u001B[0m | \u001B[0m-79.05   \u001B[0m | \u001B[0m0.08041  \u001B[0m | \u001B[0m91.27    \u001B[0m | \u001B[0m0.8512   \u001B[0m | \u001B[0m0.9288   \u001B[0m | \u001B[0m0.02391  \u001B[0m |\n",
      "| \u001B[0m244      \u001B[0m | \u001B[0m-1.498e+0\u001B[0m | \u001B[0m0.1      \u001B[0m | \u001B[0m67.19    \u001B[0m | \u001B[0m0.999    \u001B[0m | \u001B[0m0.9      \u001B[0m | \u001B[0m0.1      \u001B[0m |\n",
      "| \u001B[0m245      \u001B[0m | \u001B[0m-28.06   \u001B[0m | \u001B[0m0.08839  \u001B[0m | \u001B[0m60.39    \u001B[0m | \u001B[0m0.8637   \u001B[0m | \u001B[0m0.9973   \u001B[0m | \u001B[0m0.003726 \u001B[0m |\n",
      "| \u001B[0m246      \u001B[0m | \u001B[0m-72.0    \u001B[0m | \u001B[0m0.00127  \u001B[0m | \u001B[0m91.97    \u001B[0m | \u001B[0m0.9378   \u001B[0m | \u001B[0m0.9462   \u001B[0m | \u001B[0m0.04388  \u001B[0m |\n",
      "| \u001B[0m247      \u001B[0m | \u001B[0m-421.6   \u001B[0m | \u001B[0m0.1      \u001B[0m | \u001B[0m79.4     \u001B[0m | \u001B[0m0.8      \u001B[0m | \u001B[0m0.9      \u001B[0m | \u001B[0m0.1      \u001B[0m |\n",
      "| \u001B[0m248      \u001B[0m | \u001B[0m-535.3   \u001B[0m | \u001B[0m1e-06    \u001B[0m | \u001B[0m84.6     \u001B[0m | \u001B[0m0.8      \u001B[0m | \u001B[0m0.9      \u001B[0m | \u001B[0m0.1      \u001B[0m |\n",
      "| \u001B[0m249      \u001B[0m | \u001B[0m-414.7   \u001B[0m | \u001B[0m1e-06    \u001B[0m | \u001B[0m61.77    \u001B[0m | \u001B[0m0.999    \u001B[0m | \u001B[0m1.0      \u001B[0m | \u001B[0m0.1      \u001B[0m |\n",
      "| \u001B[0m250      \u001B[0m | \u001B[0m-386.9   \u001B[0m | \u001B[0m0.1      \u001B[0m | \u001B[0m71.28    \u001B[0m | \u001B[0m0.999    \u001B[0m | \u001B[0m1.0      \u001B[0m | \u001B[0m0.0001   \u001B[0m |\n",
      "| \u001B[0m251      \u001B[0m | \u001B[0m-91.97   \u001B[0m | \u001B[0m0.08533  \u001B[0m | \u001B[0m73.71    \u001B[0m | \u001B[0m0.9121   \u001B[0m | \u001B[0m0.9028   \u001B[0m | \u001B[0m0.07078  \u001B[0m |\n",
      "| \u001B[0m252      \u001B[0m | \u001B[0m-825.8   \u001B[0m | \u001B[0m0.09857  \u001B[0m | \u001B[0m87.15    \u001B[0m | \u001B[0m0.998    \u001B[0m | \u001B[0m0.9793   \u001B[0m | \u001B[0m0.09901  \u001B[0m |\n",
      "| \u001B[0m253      \u001B[0m | \u001B[0m-123.6   \u001B[0m | \u001B[0m0.1      \u001B[0m | \u001B[0m96.15    \u001B[0m | \u001B[0m0.8      \u001B[0m | \u001B[0m0.9      \u001B[0m | \u001B[0m0.1      \u001B[0m |\n",
      "| \u001B[0m254      \u001B[0m | \u001B[0m-54.5    \u001B[0m | \u001B[0m0.08086  \u001B[0m | \u001B[0m90.95    \u001B[0m | \u001B[0m0.8644   \u001B[0m | \u001B[0m0.9856   \u001B[0m | \u001B[0m0.07936  \u001B[0m |\n",
      "| \u001B[0m255      \u001B[0m | \u001B[0m-7.778e+0\u001B[0m | \u001B[0m0.09878  \u001B[0m | \u001B[0m61.15    \u001B[0m | \u001B[0m0.9947   \u001B[0m | \u001B[0m0.9061   \u001B[0m | \u001B[0m0.0349   \u001B[0m |\n",
      "| \u001B[0m256      \u001B[0m | \u001B[0m-25.73   \u001B[0m | \u001B[0m0.0344   \u001B[0m | \u001B[0m60.77    \u001B[0m | \u001B[0m0.8      \u001B[0m | \u001B[0m1.0      \u001B[0m | \u001B[0m0.0001   \u001B[0m |\n",
      "| \u001B[0m257      \u001B[0m | \u001B[0m-139.4   \u001B[0m | \u001B[0m0.005035 \u001B[0m | \u001B[0m61.5     \u001B[0m | \u001B[0m0.8292   \u001B[0m | \u001B[0m0.9151   \u001B[0m | \u001B[0m0.07535  \u001B[0m |\n",
      "| \u001B[0m258      \u001B[0m | \u001B[0m-49.87   \u001B[0m | \u001B[0m0.08833  \u001B[0m | \u001B[0m70.22    \u001B[0m | \u001B[0m0.9112   \u001B[0m | \u001B[0m0.9332   \u001B[0m | \u001B[0m0.04007  \u001B[0m |\n",
      "| \u001B[0m259      \u001B[0m | \u001B[0m-65.72   \u001B[0m | \u001B[0m0.04447  \u001B[0m | \u001B[0m96.24    \u001B[0m | \u001B[0m0.9258   \u001B[0m | \u001B[0m0.9875   \u001B[0m | \u001B[0m0.06087  \u001B[0m |\n",
      "| \u001B[0m260      \u001B[0m | \u001B[0m-387.9   \u001B[0m | \u001B[0m0.05411  \u001B[0m | \u001B[0m70.07    \u001B[0m | \u001B[0m0.9986   \u001B[0m | \u001B[0m0.9463   \u001B[0m | \u001B[0m0.0007716\u001B[0m |\n",
      "| \u001B[0m261      \u001B[0m | \u001B[0m-283.7   \u001B[0m | \u001B[0m0.02814  \u001B[0m | \u001B[0m61.54    \u001B[0m | \u001B[0m0.9974   \u001B[0m | \u001B[0m0.966    \u001B[0m | \u001B[0m0.04902  \u001B[0m |\n",
      "| \u001B[0m262      \u001B[0m | \u001B[0m-93.96   \u001B[0m | \u001B[0m0.1      \u001B[0m | \u001B[0m76.94    \u001B[0m | \u001B[0m0.8      \u001B[0m | \u001B[0m0.9      \u001B[0m | \u001B[0m0.1      \u001B[0m |\n",
      "| \u001B[95m263      \u001B[0m | \u001B[95m-21.19   \u001B[0m | \u001B[95m0.1      \u001B[0m | \u001B[95m73.3     \u001B[0m | \u001B[95m0.8      \u001B[0m | \u001B[95m0.9      \u001B[0m | \u001B[95m0.0001   \u001B[0m |\n",
      "| \u001B[0m264      \u001B[0m | \u001B[0m-183.5   \u001B[0m | \u001B[0m0.02585  \u001B[0m | \u001B[0m88.05    \u001B[0m | \u001B[0m0.9171   \u001B[0m | \u001B[0m0.9186   \u001B[0m | \u001B[0m0.03398  \u001B[0m |\n",
      "| \u001B[0m265      \u001B[0m | \u001B[0m-432.3   \u001B[0m | \u001B[0m0.01341  \u001B[0m | \u001B[0m79.15    \u001B[0m | \u001B[0m0.8409   \u001B[0m | \u001B[0m0.9862   \u001B[0m | \u001B[0m0.08699  \u001B[0m |\n",
      "| \u001B[0m266      \u001B[0m | \u001B[0m-393.3   \u001B[0m | \u001B[0m0.1      \u001B[0m | \u001B[0m75.01    \u001B[0m | \u001B[0m0.999    \u001B[0m | \u001B[0m0.9      \u001B[0m | \u001B[0m0.0001   \u001B[0m |\n",
      "| \u001B[0m267      \u001B[0m | \u001B[0m-22.25   \u001B[0m | \u001B[0m1e-06    \u001B[0m | \u001B[0m86.7     \u001B[0m | \u001B[0m0.8      \u001B[0m | \u001B[0m0.9      \u001B[0m | \u001B[0m0.0001   \u001B[0m |\n",
      "| \u001B[0m268      \u001B[0m | \u001B[0m-58.11   \u001B[0m | \u001B[0m0.04711  \u001B[0m | \u001B[0m89.14    \u001B[0m | \u001B[0m0.8228   \u001B[0m | \u001B[0m0.9222   \u001B[0m | \u001B[0m0.0063   \u001B[0m |\n",
      "| \u001B[0m269      \u001B[0m | \u001B[0m-460.3   \u001B[0m | \u001B[0m0.02861  \u001B[0m | \u001B[0m73.4     \u001B[0m | \u001B[0m0.8013   \u001B[0m | \u001B[0m0.973    \u001B[0m | \u001B[0m0.06955  \u001B[0m |\n",
      "| \u001B[0m270      \u001B[0m | \u001B[0m-694.8   \u001B[0m | \u001B[0m0.01991  \u001B[0m | \u001B[0m80.32    \u001B[0m | \u001B[0m0.9897   \u001B[0m | \u001B[0m0.9381   \u001B[0m | \u001B[0m0.09923  \u001B[0m |\n",
      "| \u001B[0m271      \u001B[0m | \u001B[0m-199.5   \u001B[0m | \u001B[0m0.0883   \u001B[0m | \u001B[0m72.33    \u001B[0m | \u001B[0m0.8025   \u001B[0m | \u001B[0m0.9077   \u001B[0m | \u001B[0m0.0784   \u001B[0m |\n",
      "| \u001B[0m272      \u001B[0m | \u001B[0m-469.7   \u001B[0m | \u001B[0m1e-06    \u001B[0m | \u001B[0m75.35    \u001B[0m | \u001B[0m0.999    \u001B[0m | \u001B[0m0.9      \u001B[0m | \u001B[0m0.1      \u001B[0m |\n",
      "| \u001B[0m273      \u001B[0m | \u001B[0m-240.6   \u001B[0m | \u001B[0m0.04793  \u001B[0m | \u001B[0m90.61    \u001B[0m | \u001B[0m0.9978   \u001B[0m | \u001B[0m0.9083   \u001B[0m | \u001B[0m0.007066 \u001B[0m |\n",
      "| \u001B[0m274      \u001B[0m | \u001B[0m-25.08   \u001B[0m | \u001B[0m0.1      \u001B[0m | \u001B[0m68.76    \u001B[0m | \u001B[0m0.8      \u001B[0m | \u001B[0m0.9      \u001B[0m | \u001B[0m0.0001   \u001B[0m |\n",
      "| \u001B[0m275      \u001B[0m | \u001B[0m-476.8   \u001B[0m | \u001B[0m0.06266  \u001B[0m | \u001B[0m96.62    \u001B[0m | \u001B[0m0.9331   \u001B[0m | \u001B[0m0.9344   \u001B[0m | \u001B[0m0.05222  \u001B[0m |\n",
      "| \u001B[0m276      \u001B[0m | \u001B[0m-205.5   \u001B[0m | \u001B[0m1e-06    \u001B[0m | \u001B[0m77.49    \u001B[0m | \u001B[0m0.8      \u001B[0m | \u001B[0m0.9      \u001B[0m | \u001B[0m0.1      \u001B[0m |\n",
      "| \u001B[0m277      \u001B[0m | \u001B[0m-536.9   \u001B[0m | \u001B[0m1e-06    \u001B[0m | \u001B[0m60.18    \u001B[0m | \u001B[0m0.8      \u001B[0m | \u001B[0m1.0      \u001B[0m | \u001B[0m0.1      \u001B[0m |\n",
      "| \u001B[0m278      \u001B[0m | \u001B[0m-106.5   \u001B[0m | \u001B[0m1e-06    \u001B[0m | \u001B[0m91.53    \u001B[0m | \u001B[0m0.8      \u001B[0m | \u001B[0m1.0      \u001B[0m | \u001B[0m0.1      \u001B[0m |\n",
      "| \u001B[0m279      \u001B[0m | \u001B[0m-23.18   \u001B[0m | \u001B[0m0.1      \u001B[0m | \u001B[0m65.1     \u001B[0m | \u001B[0m0.8      \u001B[0m | \u001B[0m0.9      \u001B[0m | \u001B[0m0.0001   \u001B[0m |\n",
      "| \u001B[0m280      \u001B[0m | \u001B[0m-362.1   \u001B[0m | \u001B[0m1e-06    \u001B[0m | \u001B[0m97.6     \u001B[0m | \u001B[0m0.999    \u001B[0m | \u001B[0m1.0      \u001B[0m | \u001B[0m0.1      \u001B[0m |\n",
      "| \u001B[0m281      \u001B[0m | \u001B[0m-239.2   \u001B[0m | \u001B[0m0.00752  \u001B[0m | \u001B[0m94.24    \u001B[0m | \u001B[0m0.9984   \u001B[0m | \u001B[0m0.927    \u001B[0m | \u001B[0m0.05675  \u001B[0m |\n",
      "| \u001B[0m282      \u001B[0m | \u001B[0m-344.1   \u001B[0m | \u001B[0m0.1      \u001B[0m | \u001B[0m72.6     \u001B[0m | \u001B[0m0.999    \u001B[0m | \u001B[0m1.0      \u001B[0m | \u001B[0m0.1      \u001B[0m |\n",
      "| \u001B[0m283      \u001B[0m | \u001B[0m-27.11   \u001B[0m | \u001B[0m1e-06    \u001B[0m | \u001B[0m82.67    \u001B[0m | \u001B[0m0.8      \u001B[0m | \u001B[0m1.0      \u001B[0m | \u001B[0m0.0001   \u001B[0m |\n",
      "| \u001B[0m284      \u001B[0m | \u001B[0m-186.4   \u001B[0m | \u001B[0m0.1      \u001B[0m | \u001B[0m69.45    \u001B[0m | \u001B[0m0.8      \u001B[0m | \u001B[0m0.9      \u001B[0m | \u001B[0m0.1      \u001B[0m |\n",
      "| \u001B[0m285      \u001B[0m | \u001B[0m-51.54   \u001B[0m | \u001B[0m0.03688  \u001B[0m | \u001B[0m97.33    \u001B[0m | \u001B[0m0.9459   \u001B[0m | \u001B[0m0.9634   \u001B[0m | \u001B[0m0.04026  \u001B[0m |\n",
      "| \u001B[0m286      \u001B[0m | \u001B[0m-224.9   \u001B[0m | \u001B[0m0.02624  \u001B[0m | \u001B[0m95.15    \u001B[0m | \u001B[0m0.9895   \u001B[0m | \u001B[0m0.9026   \u001B[0m | \u001B[0m0.0173   \u001B[0m |\n",
      "| \u001B[0m287      \u001B[0m | \u001B[0m-617.0   \u001B[0m | \u001B[0m1e-06    \u001B[0m | \u001B[0m93.08    \u001B[0m | \u001B[0m0.999    \u001B[0m | \u001B[0m0.9      \u001B[0m | \u001B[0m0.0001   \u001B[0m |\n",
      "| \u001B[0m288      \u001B[0m | \u001B[0m-113.2   \u001B[0m | \u001B[0m0.04075  \u001B[0m | \u001B[0m76.93    \u001B[0m | \u001B[0m0.8748   \u001B[0m | \u001B[0m0.9877   \u001B[0m | \u001B[0m0.03936  \u001B[0m |\n",
      "| \u001B[0m289      \u001B[0m | \u001B[0m-78.3    \u001B[0m | \u001B[0m0.06969  \u001B[0m | \u001B[0m82.57    \u001B[0m | \u001B[0m0.944    \u001B[0m | \u001B[0m0.9004   \u001B[0m | \u001B[0m0.01645  \u001B[0m |\n",
      "| \u001B[0m290      \u001B[0m | \u001B[0m-3.259e+0\u001B[0m | \u001B[0m1e-06    \u001B[0m | \u001B[0m73.17    \u001B[0m | \u001B[0m0.999    \u001B[0m | \u001B[0m0.9      \u001B[0m | \u001B[0m0.0001   \u001B[0m |\n",
      "| \u001B[0m291      \u001B[0m | \u001B[0m-381.8   \u001B[0m | \u001B[0m0.1      \u001B[0m | \u001B[0m64.22    \u001B[0m | \u001B[0m0.999    \u001B[0m | \u001B[0m0.9      \u001B[0m | \u001B[0m0.0001   \u001B[0m |\n",
      "| \u001B[0m292      \u001B[0m | \u001B[0m-99.55   \u001B[0m | \u001B[0m0.001135 \u001B[0m | \u001B[0m81.71    \u001B[0m | \u001B[0m0.9321   \u001B[0m | \u001B[0m0.9988   \u001B[0m | \u001B[0m0.06804  \u001B[0m |\n",
      "| \u001B[0m293      \u001B[0m | \u001B[0m-484.0   \u001B[0m | \u001B[0m0.1      \u001B[0m | \u001B[0m60.67    \u001B[0m | \u001B[0m0.999    \u001B[0m | \u001B[0m1.0      \u001B[0m | \u001B[0m0.1      \u001B[0m |\n",
      "| \u001B[0m294      \u001B[0m | \u001B[0m-29.08   \u001B[0m | \u001B[0m0.09012  \u001B[0m | \u001B[0m63.53    \u001B[0m | \u001B[0m0.8114   \u001B[0m | \u001B[0m0.9993   \u001B[0m | \u001B[0m0.01283  \u001B[0m |\n",
      "| \u001B[0m295      \u001B[0m | \u001B[0m-173.7   \u001B[0m | \u001B[0m0.03686  \u001B[0m | \u001B[0m67.33    \u001B[0m | \u001B[0m0.8022   \u001B[0m | \u001B[0m0.9314   \u001B[0m | \u001B[0m0.08919  \u001B[0m |\n",
      "| \u001B[0m296      \u001B[0m | \u001B[0m-477.3   \u001B[0m | \u001B[0m0.009228 \u001B[0m | \u001B[0m70.49    \u001B[0m | \u001B[0m0.9955   \u001B[0m | \u001B[0m0.9525   \u001B[0m | \u001B[0m0.08489  \u001B[0m |\n",
      "| \u001B[0m297      \u001B[0m | \u001B[0m-383.9   \u001B[0m | \u001B[0m0.1      \u001B[0m | \u001B[0m84.21    \u001B[0m | \u001B[0m0.999    \u001B[0m | \u001B[0m1.0      \u001B[0m | \u001B[0m0.0001   \u001B[0m |\n",
      "| \u001B[0m298      \u001B[0m | \u001B[0m-376.3   \u001B[0m | \u001B[0m0.07105  \u001B[0m | \u001B[0m90.7     \u001B[0m | \u001B[0m0.8786   \u001B[0m | \u001B[0m0.991    \u001B[0m | \u001B[0m0.07355  \u001B[0m |\n",
      "| \u001B[0m299      \u001B[0m | \u001B[0m-380.8   \u001B[0m | \u001B[0m0.07445  \u001B[0m | \u001B[0m67.48    \u001B[0m | \u001B[0m0.9726   \u001B[0m | \u001B[0m0.9057   \u001B[0m | \u001B[0m0.07756  \u001B[0m |\n",
      "| \u001B[0m300      \u001B[0m | \u001B[0m-24.7    \u001B[0m | \u001B[0m0.1      \u001B[0m | \u001B[0m95.21    \u001B[0m | \u001B[0m0.8      \u001B[0m | \u001B[0m1.0      \u001B[0m | \u001B[0m0.0001   \u001B[0m |\n",
      "=====================================================================================\n"
     ]
    }
   ],
   "source": [
    "def hyperparameter_function_mlp_with_cut(learning_rate_init, batch_size, alpha, beta_1, beta_2):\n",
    "    \"\"\" Function for hyperparameter optimization\n",
    "    \"\"\"    \n",
    "    hidden_layer_sizes = [16]\n",
    "    hidden_layer_sizes.extend([64] * int(7))\n",
    "    hidden_layer_sizes.append(16)      \n",
    "    # Learning rate is fixed\n",
    "    mlp_regressor = MLPRegressor(hidden_layer_sizes=hidden_layer_sizes, alpha=alpha, batch_size=int(batch_size), learning_rate_init=learning_rate_init, beta_1=beta_1, beta_2=beta_2, max_iter=5000, random_state=4)\n",
    "    scores = model_selection.cross_val_score(mlp_regressor, X=prep_train_data, y=random_train_balance, cv=5, scoring='neg_mean_absolute_error')\n",
    "    return np.min(scores)\n",
    "    \n",
    "\n",
    "# Bounded region of parameter space\n",
    "pbounds = {'learning_rate_init': (0.0001, 0.1), 'batch_size': (60, 100), 'alpha': (0.000001, 0.1), 'beta_1': (0.8, 0.999), 'beta_2': (0.9, 0.999999)}\n",
    "\n",
    "optimizer = BayesianOptimization(\n",
    "    f=hyperparameter_function_mlp_with_cut,\n",
    "    pbounds=pbounds,\n",
    "    random_state=14,\n",
    ")\n",
    "if hyper_opt:\n",
    "    optimizer.maximize(\n",
    "        init_points=100,\n",
    "        n_iter=200,\n",
    "    )"
   ]
  },
  {
   "metadata": {},
   "cell_type": "markdown",
   "source": "Note: Now I changed the architecture the optimization is not only done on the layer count but also on the layer size. To restrict the search area, all layers have the same size.",
   "id": "8383767546a58a0e"
  },
  {
   "cell_type": "code",
   "execution_count": null,
   "id": "048c666b-5f7d-4268-be85-508e0b4e73e7",
   "metadata": {
    "scrolled": true
   },
   "outputs": [
    {
     "name": "stdout",
     "output_type": "stream",
     "text": [
      "|   iter    |  target   |   alpha   | batch_... |  beta_1   |  beta_2   | hidden... | layer_... | learni... |\n",
      "-------------------------------------------------------------------------------------------------------------\n",
      "| \u001B[0m1        \u001B[0m | \u001B[0m-62.78   \u001B[0m | \u001B[0m0.007632 \u001B[0m | \u001B[0m234.2    \u001B[0m | \u001B[0m0.8872   \u001B[0m | \u001B[0m0.9723   \u001B[0m | \u001B[0m126.6    \u001B[0m | \u001B[0m3.154    \u001B[0m | \u001B[0m0.05011  \u001B[0m |\n",
      "| \u001B[95m2        \u001B[0m | \u001B[95m-18.75   \u001B[0m | \u001B[95m0.007206 \u001B[0m | \u001B[95m81.26    \u001B[0m | \u001B[95m0.8995   \u001B[0m | \u001B[95m0.9679   \u001B[0m | \u001B[95m115.4    \u001B[0m | \u001B[95m2.524    \u001B[0m | \u001B[95m0.006595 \u001B[0m |\n",
      "| \u001B[0m3        \u001B[0m | \u001B[0m-28.16   \u001B[0m | \u001B[0m0.02882  \u001B[0m | \u001B[0m273.0    \u001B[0m | \u001B[0m0.8425   \u001B[0m | \u001B[0m0.9452   \u001B[0m | \u001B[0m123.6    \u001B[0m | \u001B[0m1.1      \u001B[0m | \u001B[0m0.06006  \u001B[0m |\n",
      "| \u001B[0m4        \u001B[0m | \u001B[0m-45.02   \u001B[0m | \u001B[0m0.09501  \u001B[0m | \u001B[0m69.86    \u001B[0m | \u001B[0m0.9091   \u001B[0m | \u001B[0m0.9909   \u001B[0m | \u001B[0m72.52    \u001B[0m | \u001B[0m3.094    \u001B[0m | \u001B[0m0.07504  \u001B[0m |\n",
      "| \u001B[0m5        \u001B[0m | \u001B[0m-29.25   \u001B[0m | \u001B[0m0.0669   \u001B[0m | \u001B[0m140.9    \u001B[0m | \u001B[0m0.8408   \u001B[0m | \u001B[0m0.9491   \u001B[0m | \u001B[0m87.83    \u001B[0m | \u001B[0m2.91     \u001B[0m | \u001B[0m0.03659  \u001B[0m |\n",
      "| \u001B[0m6        \u001B[0m | \u001B[0m-26.72   \u001B[0m | \u001B[0m0.08379  \u001B[0m | \u001B[0m230.8    \u001B[0m | \u001B[0m0.8625   \u001B[0m | \u001B[0m0.9573   \u001B[0m | \u001B[0m81.67    \u001B[0m | \u001B[0m2.811    \u001B[0m | \u001B[0m0.0353   \u001B[0m |\n",
      "| \u001B[0m7        \u001B[0m | \u001B[0m-34.14   \u001B[0m | \u001B[0m0.06574  \u001B[0m | \u001B[0m111.7    \u001B[0m | \u001B[0m0.8914   \u001B[0m | \u001B[0m0.9719   \u001B[0m | \u001B[0m90.43    \u001B[0m | \u001B[0m4.626    \u001B[0m | \u001B[0m0.01805  \u001B[0m |\n",
      "| \u001B[0m8        \u001B[0m | \u001B[0m-22.21   \u001B[0m | \u001B[0m0.07411  \u001B[0m | \u001B[0m127.3    \u001B[0m | \u001B[0m0.8849   \u001B[0m | \u001B[0m0.9634   \u001B[0m | \u001B[0m97.47    \u001B[0m | \u001B[0m2.66     \u001B[0m | \u001B[0m0.0001437\u001B[0m |\n",
      "| \u001B[95m9        \u001B[0m | \u001B[95m-18.0    \u001B[0m | \u001B[95m0.009227 \u001B[0m | \u001B[95m213.1    \u001B[0m | \u001B[95m0.9043   \u001B[0m | \u001B[95m0.9696   \u001B[0m | \u001B[95m125.1    \u001B[0m | \u001B[95m3.732    \u001B[0m | \u001B[95m0.005314 \u001B[0m |\n",
      "| \u001B[0m10       \u001B[0m | \u001B[0m-534.9   \u001B[0m | \u001B[0m0.03089  \u001B[0m | \u001B[0m178.2    \u001B[0m | \u001B[0m0.8468   \u001B[0m | \u001B[0m0.9965   \u001B[0m | \u001B[0m124.5    \u001B[0m | \u001B[0m4.394    \u001B[0m | \u001B[0m0.04723  \u001B[0m |\n",
      "| \u001B[0m11       \u001B[0m | \u001B[0m-19.45   \u001B[0m | \u001B[0m0.08415  \u001B[0m | \u001B[0m40.2     \u001B[0m | \u001B[0m0.8614   \u001B[0m | \u001B[0m0.9463   \u001B[0m | \u001B[0m111.5    \u001B[0m | \u001B[0m2.943    \u001B[0m | \u001B[0m0.01369  \u001B[0m |\n",
      "| \u001B[0m12       \u001B[0m | \u001B[0m-43.56   \u001B[0m | \u001B[0m0.03435  \u001B[0m | \u001B[0m98.0     \u001B[0m | \u001B[0m0.8598   \u001B[0m | \u001B[0m0.9165   \u001B[0m | \u001B[0m90.55    \u001B[0m | \u001B[0m2.792    \u001B[0m | \u001B[0m0.07749  \u001B[0m |\n",
      "| \u001B[0m13       \u001B[0m | \u001B[0m-58.95   \u001B[0m | \u001B[0m0.07964  \u001B[0m | \u001B[0m157.2    \u001B[0m | \u001B[0m0.8917   \u001B[0m | \u001B[0m0.9778   \u001B[0m | \u001B[0m120.8    \u001B[0m | \u001B[0m3.7      \u001B[0m | \u001B[0m0.08005  \u001B[0m |\n",
      "| \u001B[0m14       \u001B[0m | \u001B[0m-428.7   \u001B[0m | \u001B[0m0.09391  \u001B[0m | \u001B[0m13.16    \u001B[0m | \u001B[0m0.9743   \u001B[0m | \u001B[0m0.9277   \u001B[0m | \u001B[0m94.45    \u001B[0m | \u001B[0m4.187    \u001B[0m | \u001B[0m0.07172  \u001B[0m |\n",
      "| \u001B[0m15       \u001B[0m | \u001B[0m-40.96   \u001B[0m | \u001B[0m0.01472  \u001B[0m | \u001B[0m198.0    \u001B[0m | \u001B[0m0.8138   \u001B[0m | \u001B[0m0.9357   \u001B[0m | \u001B[0m116.0    \u001B[0m | \u001B[0m2.711    \u001B[0m | \u001B[0m0.05999  \u001B[0m |\n",
      "| \u001B[0m16       \u001B[0m | \u001B[0m-41.74   \u001B[0m | \u001B[0m0.07282  \u001B[0m | \u001B[0m246.5    \u001B[0m | \u001B[0m0.9513   \u001B[0m | \u001B[0m0.9007   \u001B[0m | \u001B[0m90.9     \u001B[0m | \u001B[0m2.853    \u001B[0m | \u001B[0m0.005551 \u001B[0m |\n",
      "| \u001B[0m17       \u001B[0m | \u001B[0m-51.52   \u001B[0m | \u001B[0m0.05414  \u001B[0m | \u001B[0m182.7    \u001B[0m | \u001B[0m0.9649   \u001B[0m | \u001B[0m0.9942   \u001B[0m | \u001B[0m72.2     \u001B[0m | \u001B[0m1.922    \u001B[0m | \u001B[0m0.06592  \u001B[0m |\n",
      "| \u001B[0m18       \u001B[0m | \u001B[0m-22.58   \u001B[0m | \u001B[0m0.01325  \u001B[0m | \u001B[0m68.0     \u001B[0m | \u001B[0m0.9144   \u001B[0m | \u001B[0m0.917    \u001B[0m | \u001B[0m114.1    \u001B[0m | \u001B[0m4.428    \u001B[0m | \u001B[0m0.003368 \u001B[0m |\n",
      "| \u001B[0m19       \u001B[0m | \u001B[0m-333.6   \u001B[0m | \u001B[0m0.05326  \u001B[0m | \u001B[0m239.3    \u001B[0m | \u001B[0m0.9941   \u001B[0m | \u001B[0m0.9274   \u001B[0m | \u001B[0m74.82    \u001B[0m | \u001B[0m4.507    \u001B[0m | \u001B[0m0.09092  \u001B[0m |\n",
      "| \u001B[0m20       \u001B[0m | \u001B[0m-53.26   \u001B[0m | \u001B[0m0.01975  \u001B[0m | \u001B[0m133.0    \u001B[0m | \u001B[0m0.9431   \u001B[0m | \u001B[0m0.9845   \u001B[0m | \u001B[0m74.77    \u001B[0m | \u001B[0m3.66     \u001B[0m | \u001B[0m0.08078  \u001B[0m |\n",
      "| \u001B[95m21       \u001B[0m | \u001B[95m-15.84   \u001B[0m | \u001B[95m0.05497  \u001B[0m | \u001B[95m50.25    \u001B[0m | \u001B[95m0.8071   \u001B[0m | \u001B[95m0.9282   \u001B[0m | \u001B[95m115.7    \u001B[0m | \u001B[95m1.179    \u001B[0m | \u001B[95m0.0008226\u001B[0m |\n",
      "| \u001B[0m22       \u001B[0m | \u001B[0m-51.2    \u001B[0m | \u001B[0m0.03616  \u001B[0m | \u001B[0m20.02    \u001B[0m | \u001B[0m0.8297   \u001B[0m | \u001B[0m0.9023   \u001B[0m | \u001B[0m97.58    \u001B[0m | \u001B[0m3.787    \u001B[0m | \u001B[0m0.04271  \u001B[0m |\n",
      "| \u001B[95m23       \u001B[0m | \u001B[95m-15.77   \u001B[0m | \u001B[95m0.01346  \u001B[0m | \u001B[95m100.1    \u001B[0m | \u001B[95m0.9175   \u001B[0m | \u001B[95m0.9941   \u001B[0m | \u001B[95m127.5    \u001B[0m | \u001B[95m1.966    \u001B[0m | \u001B[95m0.001059 \u001B[0m |\n",
      "| \u001B[0m24       \u001B[0m | \u001B[0m-503.8   \u001B[0m | \u001B[0m0.08306  \u001B[0m | \u001B[0m278.1    \u001B[0m | \u001B[0m0.8913   \u001B[0m | \u001B[0m0.9771   \u001B[0m | \u001B[0m119.4    \u001B[0m | \u001B[0m3.438    \u001B[0m | \u001B[0m0.08726  \u001B[0m |\n",
      "| \u001B[0m25       \u001B[0m | \u001B[0m-16.75   \u001B[0m | \u001B[0m0.002391 \u001B[0m | \u001B[0m82.21    \u001B[0m | \u001B[0m0.8552   \u001B[0m | \u001B[0m0.9121   \u001B[0m | \u001B[0m122.3    \u001B[0m | \u001B[0m1.122    \u001B[0m | \u001B[0m0.06726  \u001B[0m |\n",
      "| \u001B[0m26       \u001B[0m | \u001B[0m-30.97   \u001B[0m | \u001B[0m0.007135 \u001B[0m | \u001B[0m108.9    \u001B[0m | \u001B[0m0.8832   \u001B[0m | \u001B[0m0.9181   \u001B[0m | \u001B[0m97.34    \u001B[0m | \u001B[0m3.14     \u001B[0m | \u001B[0m0.03171  \u001B[0m |\n",
      "| \u001B[0m27       \u001B[0m | \u001B[0m-18.27   \u001B[0m | \u001B[0m0.07371  \u001B[0m | \u001B[0m48.9     \u001B[0m | \u001B[0m0.8383   \u001B[0m | \u001B[0m0.9355   \u001B[0m | \u001B[0m88.22    \u001B[0m | \u001B[0m1.825    \u001B[0m | \u001B[0m0.09187  \u001B[0m |\n",
      "| \u001B[0m28       \u001B[0m | \u001B[0m-31.82   \u001B[0m | \u001B[0m0.08281  \u001B[0m | \u001B[0m32.96    \u001B[0m | \u001B[0m0.8735   \u001B[0m | \u001B[0m0.9233   \u001B[0m | \u001B[0m92.87    \u001B[0m | \u001B[0m2.105    \u001B[0m | \u001B[0m0.05018  \u001B[0m |\n",
      "| \u001B[0m29       \u001B[0m | \u001B[0m-18.76   \u001B[0m | \u001B[0m0.09226  \u001B[0m | \u001B[0m115.4    \u001B[0m | \u001B[0m0.9294   \u001B[0m | \u001B[0m0.9596   \u001B[0m | \u001B[0m112.1    \u001B[0m | \u001B[0m1.247    \u001B[0m | \u001B[0m0.07448  \u001B[0m |\n",
      "| \u001B[0m30       \u001B[0m | \u001B[0m-28.68   \u001B[0m | \u001B[0m0.09463  \u001B[0m | \u001B[0m181.5    \u001B[0m | \u001B[0m0.8572   \u001B[0m | \u001B[0m0.9672   \u001B[0m | \u001B[0m109.6    \u001B[0m | \u001B[0m3.626    \u001B[0m | \u001B[0m0.01469  \u001B[0m |\n"
     ]
    },
    {
     "name": "stderr",
     "output_type": "stream",
     "text": [
      "/opt/conda/lib/python3.11/site-packages/sklearn/neural_network/_multilayer_perceptron.py:609: UserWarning: Got `batch_size` less than 1 or larger than sample size. It is going to be clipped\n",
      "  warnings.warn(\n",
      "/opt/conda/lib/python3.11/site-packages/sklearn/neural_network/_multilayer_perceptron.py:609: UserWarning: Got `batch_size` less than 1 or larger than sample size. It is going to be clipped\n",
      "  warnings.warn(\n",
      "/opt/conda/lib/python3.11/site-packages/sklearn/neural_network/_multilayer_perceptron.py:609: UserWarning: Got `batch_size` less than 1 or larger than sample size. It is going to be clipped\n",
      "  warnings.warn(\n",
      "/opt/conda/lib/python3.11/site-packages/sklearn/neural_network/_multilayer_perceptron.py:609: UserWarning: Got `batch_size` less than 1 or larger than sample size. It is going to be clipped\n",
      "  warnings.warn(\n",
      "/opt/conda/lib/python3.11/site-packages/sklearn/neural_network/_multilayer_perceptron.py:609: UserWarning: Got `batch_size` less than 1 or larger than sample size. It is going to be clipped\n",
      "  warnings.warn(\n"
     ]
    },
    {
     "name": "stdout",
     "output_type": "stream",
     "text": [
      "| \u001B[0m31       \u001B[0m | \u001B[0m-630.5   \u001B[0m | \u001B[0m0.09735  \u001B[0m | \u001B[0m286.7    \u001B[0m | \u001B[0m0.8845   \u001B[0m | \u001B[0m0.9594   \u001B[0m | \u001B[0m66.54    \u001B[0m | \u001B[0m4.955    \u001B[0m | \u001B[0m0.08187  \u001B[0m |\n",
      "| \u001B[0m32       \u001B[0m | \u001B[0m-21.81   \u001B[0m | \u001B[0m0.06365  \u001B[0m | \u001B[0m228.6    \u001B[0m | \u001B[0m0.8374   \u001B[0m | \u001B[0m0.9308   \u001B[0m | \u001B[0m79.77    \u001B[0m | \u001B[0m3.384    \u001B[0m | \u001B[0m0.009191 \u001B[0m |\n",
      "| \u001B[0m33       \u001B[0m | \u001B[0m-620.8   \u001B[0m | \u001B[0m0.08956  \u001B[0m | \u001B[0m139.2    \u001B[0m | \u001B[0m0.8885   \u001B[0m | \u001B[0m0.9105   \u001B[0m | \u001B[0m107.8    \u001B[0m | \u001B[0m4.268    \u001B[0m | \u001B[0m0.06296  \u001B[0m |\n",
      "| \u001B[0m34       \u001B[0m | \u001B[0m-29.15   \u001B[0m | \u001B[0m0.0242   \u001B[0m | \u001B[0m235.8    \u001B[0m | \u001B[0m0.829    \u001B[0m | \u001B[0m0.9827   \u001B[0m | \u001B[0m101.2    \u001B[0m | \u001B[0m2.157    \u001B[0m | \u001B[0m0.05132  \u001B[0m |\n",
      "| \u001B[0m35       \u001B[0m | \u001B[0m-22.4    \u001B[0m | \u001B[0m0.06289  \u001B[0m | \u001B[0m78.32    \u001B[0m | \u001B[0m0.9685   \u001B[0m | \u001B[0m0.9421   \u001B[0m | \u001B[0m121.1    \u001B[0m | \u001B[0m4.342    \u001B[0m | \u001B[0m0.009936 \u001B[0m |\n",
      "| \u001B[0m36       \u001B[0m | \u001B[0m-49.72   \u001B[0m | \u001B[0m0.06463  \u001B[0m | \u001B[0m93.84    \u001B[0m | \u001B[0m0.9501   \u001B[0m | \u001B[0m0.9543   \u001B[0m | \u001B[0m93.29    \u001B[0m | \u001B[0m4.581    \u001B[0m | \u001B[0m0.005726 \u001B[0m |\n",
      "| \u001B[0m37       \u001B[0m | \u001B[0m-534.6   \u001B[0m | \u001B[0m0.05573  \u001B[0m | \u001B[0m99.05    \u001B[0m | \u001B[0m0.807    \u001B[0m | \u001B[0m0.9754   \u001B[0m | \u001B[0m99.95    \u001B[0m | \u001B[0m4.577    \u001B[0m | \u001B[0m0.05983  \u001B[0m |\n"
     ]
    },
    {
     "name": "stderr",
     "output_type": "stream",
     "text": [
      "/opt/conda/lib/python3.11/site-packages/sklearn/neural_network/_multilayer_perceptron.py:609: UserWarning: Got `batch_size` less than 1 or larger than sample size. It is going to be clipped\n",
      "  warnings.warn(\n",
      "/opt/conda/lib/python3.11/site-packages/sklearn/neural_network/_multilayer_perceptron.py:609: UserWarning: Got `batch_size` less than 1 or larger than sample size. It is going to be clipped\n",
      "  warnings.warn(\n",
      "/opt/conda/lib/python3.11/site-packages/sklearn/neural_network/_multilayer_perceptron.py:609: UserWarning: Got `batch_size` less than 1 or larger than sample size. It is going to be clipped\n",
      "  warnings.warn(\n",
      "/opt/conda/lib/python3.11/site-packages/sklearn/neural_network/_multilayer_perceptron.py:609: UserWarning: Got `batch_size` less than 1 or larger than sample size. It is going to be clipped\n",
      "  warnings.warn(\n",
      "/opt/conda/lib/python3.11/site-packages/sklearn/neural_network/_multilayer_perceptron.py:609: UserWarning: Got `batch_size` less than 1 or larger than sample size. It is going to be clipped\n",
      "  warnings.warn(\n"
     ]
    },
    {
     "name": "stdout",
     "output_type": "stream",
     "text": [
      "| \u001B[0m38       \u001B[0m | \u001B[0m-17.26   \u001B[0m | \u001B[0m0.0337   \u001B[0m | \u001B[0m295.6    \u001B[0m | \u001B[0m0.823    \u001B[0m | \u001B[0m0.9053   \u001B[0m | \u001B[0m110.9    \u001B[0m | \u001B[0m2.483    \u001B[0m | \u001B[0m0.03615  \u001B[0m |\n",
      "| \u001B[0m39       \u001B[0m | \u001B[0m-50.98   \u001B[0m | \u001B[0m0.08765  \u001B[0m | \u001B[0m98.86    \u001B[0m | \u001B[0m0.9769   \u001B[0m | \u001B[0m0.9644   \u001B[0m | \u001B[0m85.06    \u001B[0m | \u001B[0m1.238    \u001B[0m | \u001B[0m0.02451  \u001B[0m |\n",
      "| \u001B[0m40       \u001B[0m | \u001B[0m-19.81   \u001B[0m | \u001B[0m0.09684  \u001B[0m | \u001B[0m122.2    \u001B[0m | \u001B[0m0.8318   \u001B[0m | \u001B[0m0.9298   \u001B[0m | \u001B[0m121.6    \u001B[0m | \u001B[0m1.66     \u001B[0m | \u001B[0m0.07779  \u001B[0m |\n"
     ]
    },
    {
     "name": "stderr",
     "output_type": "stream",
     "text": [
      "/opt/conda/lib/python3.11/site-packages/sklearn/neural_network/_multilayer_perceptron.py:609: UserWarning: Got `batch_size` less than 1 or larger than sample size. It is going to be clipped\n",
      "  warnings.warn(\n",
      "/opt/conda/lib/python3.11/site-packages/sklearn/neural_network/_multilayer_perceptron.py:609: UserWarning: Got `batch_size` less than 1 or larger than sample size. It is going to be clipped\n",
      "  warnings.warn(\n",
      "/opt/conda/lib/python3.11/site-packages/sklearn/neural_network/_multilayer_perceptron.py:609: UserWarning: Got `batch_size` less than 1 or larger than sample size. It is going to be clipped\n",
      "  warnings.warn(\n",
      "/opt/conda/lib/python3.11/site-packages/sklearn/neural_network/_multilayer_perceptron.py:609: UserWarning: Got `batch_size` less than 1 or larger than sample size. It is going to be clipped\n",
      "  warnings.warn(\n",
      "/opt/conda/lib/python3.11/site-packages/sklearn/neural_network/_multilayer_perceptron.py:609: UserWarning: Got `batch_size` less than 1 or larger than sample size. It is going to be clipped\n",
      "  warnings.warn(\n"
     ]
    },
    {
     "name": "stdout",
     "output_type": "stream",
     "text": [
      "| \u001B[0m41       \u001B[0m | \u001B[0m-76.19   \u001B[0m | \u001B[0m0.01349  \u001B[0m | \u001B[0m288.5    \u001B[0m | \u001B[0m0.9055   \u001B[0m | \u001B[0m0.9043   \u001B[0m | \u001B[0m123.6    \u001B[0m | \u001B[0m2.433    \u001B[0m | \u001B[0m0.07314  \u001B[0m |\n",
      "| \u001B[0m42       \u001B[0m | \u001B[0m-16.3    \u001B[0m | \u001B[0m0.05237  \u001B[0m | \u001B[0m28.68    \u001B[0m | \u001B[0m0.8211   \u001B[0m | \u001B[0m0.9149   \u001B[0m | \u001B[0m74.32    \u001B[0m | \u001B[0m1.211    \u001B[0m | \u001B[0m0.004702 \u001B[0m |\n",
      "| \u001B[0m43       \u001B[0m | \u001B[0m-119.2   \u001B[0m | \u001B[0m0.09484  \u001B[0m | \u001B[0m28.3     \u001B[0m | \u001B[0m0.9012   \u001B[0m | \u001B[0m0.9119   \u001B[0m | \u001B[0m77.75    \u001B[0m | \u001B[0m4.052    \u001B[0m | \u001B[0m0.09381  \u001B[0m |\n",
      "| \u001B[0m44       \u001B[0m | \u001B[0m-1.603e+2\u001B[0m | \u001B[0m0.04697  \u001B[0m | \u001B[0m2.687    \u001B[0m | \u001B[0m0.9988   \u001B[0m | \u001B[0m0.9048   \u001B[0m | \u001B[0m88.92    \u001B[0m | \u001B[0m3.156    \u001B[0m | \u001B[0m0.08917  \u001B[0m |\n",
      "| \u001B[0m45       \u001B[0m | \u001B[0m-427.5   \u001B[0m | \u001B[0m0.08231  \u001B[0m | \u001B[0m183.2    \u001B[0m | \u001B[0m0.8793   \u001B[0m | \u001B[0m0.9834   \u001B[0m | \u001B[0m119.6    \u001B[0m | \u001B[0m4.488    \u001B[0m | \u001B[0m0.07176  \u001B[0m |\n",
      "| \u001B[0m46       \u001B[0m | \u001B[0m-18.3    \u001B[0m | \u001B[0m0.00978  \u001B[0m | \u001B[0m90.28    \u001B[0m | \u001B[0m0.8967   \u001B[0m | \u001B[0m0.9505   \u001B[0m | \u001B[0m117.3    \u001B[0m | \u001B[0m1.951    \u001B[0m | \u001B[0m0.06646  \u001B[0m |\n",
      "| \u001B[0m47       \u001B[0m | \u001B[0m-20.12   \u001B[0m | \u001B[0m0.03742  \u001B[0m | \u001B[0m232.9    \u001B[0m | \u001B[0m0.839    \u001B[0m | \u001B[0m0.9477   \u001B[0m | \u001B[0m70.63    \u001B[0m | \u001B[0m1.848    \u001B[0m | \u001B[0m0.09352  \u001B[0m |\n",
      "| \u001B[0m48       \u001B[0m | \u001B[0m-28.4    \u001B[0m | \u001B[0m0.03161  \u001B[0m | \u001B[0m268.0    \u001B[0m | \u001B[0m0.9043   \u001B[0m | \u001B[0m0.9039   \u001B[0m | \u001B[0m114.8    \u001B[0m | \u001B[0m1.208    \u001B[0m | \u001B[0m0.08269  \u001B[0m |\n",
      "| \u001B[0m49       \u001B[0m | \u001B[0m-28.93   \u001B[0m | \u001B[0m0.0008809\u001B[0m | \u001B[0m202.6    \u001B[0m | \u001B[0m0.833    \u001B[0m | \u001B[0m0.9343   \u001B[0m | \u001B[0m125.0    \u001B[0m | \u001B[0m2.945    \u001B[0m | \u001B[0m0.06574  \u001B[0m |\n",
      "| \u001B[0m50       \u001B[0m | \u001B[0m-29.57   \u001B[0m | \u001B[0m0.07407  \u001B[0m | \u001B[0m33.87    \u001B[0m | \u001B[0m0.9669   \u001B[0m | \u001B[0m0.9914   \u001B[0m | \u001B[0m73.95    \u001B[0m | \u001B[0m3.185    \u001B[0m | \u001B[0m0.02835  \u001B[0m |\n",
      "| \u001B[0m51       \u001B[0m | \u001B[0m-40.53   \u001B[0m | \u001B[0m0.0009363\u001B[0m | \u001B[0m70.74    \u001B[0m | \u001B[0m0.8909   \u001B[0m | \u001B[0m0.9883   \u001B[0m | \u001B[0m92.98    \u001B[0m | \u001B[0m3.684    \u001B[0m | \u001B[0m0.0352   \u001B[0m |\n",
      "| \u001B[0m52       \u001B[0m | \u001B[0m-47.1    \u001B[0m | \u001B[0m0.03148  \u001B[0m | \u001B[0m160.8    \u001B[0m | \u001B[0m0.9605   \u001B[0m | \u001B[0m0.9328   \u001B[0m | \u001B[0m101.7    \u001B[0m | \u001B[0m1.113    \u001B[0m | \u001B[0m0.03531  \u001B[0m |\n",
      "| \u001B[0m53       \u001B[0m | \u001B[0m-25.09   \u001B[0m | \u001B[0m0.05881  \u001B[0m | \u001B[0m216.2    \u001B[0m | \u001B[0m0.9459   \u001B[0m | \u001B[0m0.9615   \u001B[0m | \u001B[0m105.2    \u001B[0m | \u001B[0m4.27     \u001B[0m | \u001B[0m0.01855  \u001B[0m |\n",
      "| \u001B[0m54       \u001B[0m | \u001B[0m-49.48   \u001B[0m | \u001B[0m0.01531  \u001B[0m | \u001B[0m249.5    \u001B[0m | \u001B[0m0.918    \u001B[0m | \u001B[0m0.9272   \u001B[0m | \u001B[0m114.3    \u001B[0m | \u001B[0m4.178    \u001B[0m | \u001B[0m0.07457  \u001B[0m |\n",
      "| \u001B[0m55       \u001B[0m | \u001B[0m-85.79   \u001B[0m | \u001B[0m0.07954  \u001B[0m | \u001B[0m163.1    \u001B[0m | \u001B[0m0.9671   \u001B[0m | \u001B[0m0.9657   \u001B[0m | \u001B[0m81.54    \u001B[0m | \u001B[0m3.758    \u001B[0m | \u001B[0m0.01362  \u001B[0m |\n",
      "| \u001B[0m56       \u001B[0m | \u001B[0m-290.7   \u001B[0m | \u001B[0m1e-06    \u001B[0m | \u001B[0m179.8    \u001B[0m | \u001B[0m0.8      \u001B[0m | \u001B[0m1.0      \u001B[0m | \u001B[0m90.64    \u001B[0m | \u001B[0m5.0      \u001B[0m | \u001B[0m0.1      \u001B[0m |\n",
      "| \u001B[0m57       \u001B[0m | \u001B[0m-16.32   \u001B[0m | \u001B[0m0.08426  \u001B[0m | \u001B[0m199.4    \u001B[0m | \u001B[0m0.9175   \u001B[0m | \u001B[0m0.9174   \u001B[0m | \u001B[0m94.74    \u001B[0m | \u001B[0m1.321    \u001B[0m | \u001B[0m0.02957  \u001B[0m |\n",
      "| \u001B[0m58       \u001B[0m | \u001B[0m-114.5   \u001B[0m | \u001B[0m1e-06    \u001B[0m | \u001B[0m202.4    \u001B[0m | \u001B[0m0.8048   \u001B[0m | \u001B[0m1.0      \u001B[0m | \u001B[0m75.69    \u001B[0m | \u001B[0m5.0      \u001B[0m | \u001B[0m0.1      \u001B[0m |\n",
      "| \u001B[0m59       \u001B[0m | \u001B[0m-17.59   \u001B[0m | \u001B[0m0.0928   \u001B[0m | \u001B[0m151.0    \u001B[0m | \u001B[0m0.8177   \u001B[0m | \u001B[0m0.9502   \u001B[0m | \u001B[0m67.89    \u001B[0m | \u001B[0m1.253    \u001B[0m | \u001B[0m0.0646   \u001B[0m |\n",
      "| \u001B[0m60       \u001B[0m | \u001B[0m-45.16   \u001B[0m | \u001B[0m0.002864 \u001B[0m | \u001B[0m279.8    \u001B[0m | \u001B[0m0.9437   \u001B[0m | \u001B[0m0.9859   \u001B[0m | \u001B[0m98.15    \u001B[0m | \u001B[0m1.553    \u001B[0m | \u001B[0m0.04953  \u001B[0m |\n",
      "| \u001B[0m61       \u001B[0m | \u001B[0m-489.7   \u001B[0m | \u001B[0m0.07919  \u001B[0m | \u001B[0m140.4    \u001B[0m | \u001B[0m0.983    \u001B[0m | \u001B[0m0.9952   \u001B[0m | \u001B[0m128.0    \u001B[0m | \u001B[0m4.483    \u001B[0m | \u001B[0m0.0904   \u001B[0m |\n",
      "| \u001B[0m62       \u001B[0m | \u001B[0m-244.9   \u001B[0m | \u001B[0m0.1      \u001B[0m | \u001B[0m262.3    \u001B[0m | \u001B[0m0.8      \u001B[0m | \u001B[0m1.0      \u001B[0m | \u001B[0m97.76    \u001B[0m | \u001B[0m5.0      \u001B[0m | \u001B[0m0.1      \u001B[0m |\n",
      "| \u001B[0m63       \u001B[0m | \u001B[0m-202.3   \u001B[0m | \u001B[0m0.07652  \u001B[0m | \u001B[0m271.8    \u001B[0m | \u001B[0m0.9043   \u001B[0m | \u001B[0m0.9467   \u001B[0m | \u001B[0m80.21    \u001B[0m | \u001B[0m3.907    \u001B[0m | \u001B[0m0.06187  \u001B[0m |\n"
     ]
    },
    {
     "name": "stderr",
     "output_type": "stream",
     "text": [
      "/opt/conda/lib/python3.11/site-packages/sklearn/neural_network/_multilayer_perceptron.py:609: UserWarning: Got `batch_size` less than 1 or larger than sample size. It is going to be clipped\n",
      "  warnings.warn(\n",
      "/opt/conda/lib/python3.11/site-packages/sklearn/neural_network/_multilayer_perceptron.py:609: UserWarning: Got `batch_size` less than 1 or larger than sample size. It is going to be clipped\n",
      "  warnings.warn(\n",
      "/opt/conda/lib/python3.11/site-packages/sklearn/neural_network/_multilayer_perceptron.py:609: UserWarning: Got `batch_size` less than 1 or larger than sample size. It is going to be clipped\n",
      "  warnings.warn(\n",
      "/opt/conda/lib/python3.11/site-packages/sklearn/neural_network/_multilayer_perceptron.py:609: UserWarning: Got `batch_size` less than 1 or larger than sample size. It is going to be clipped\n",
      "  warnings.warn(\n",
      "/opt/conda/lib/python3.11/site-packages/sklearn/neural_network/_multilayer_perceptron.py:609: UserWarning: Got `batch_size` less than 1 or larger than sample size. It is going to be clipped\n",
      "  warnings.warn(\n"
     ]
    },
    {
     "name": "stdout",
     "output_type": "stream",
     "text": [
      "| \u001B[0m64       \u001B[0m | \u001B[0m-630.7   \u001B[0m | \u001B[0m0.05059  \u001B[0m | \u001B[0m291.3    \u001B[0m | \u001B[0m0.8564   \u001B[0m | \u001B[0m0.969    \u001B[0m | \u001B[0m84.14    \u001B[0m | \u001B[0m4.184    \u001B[0m | \u001B[0m0.09183  \u001B[0m |\n",
      "| \u001B[0m65       \u001B[0m | \u001B[0m-18.38   \u001B[0m | \u001B[0m0.05855  \u001B[0m | \u001B[0m114.4    \u001B[0m | \u001B[0m0.8681   \u001B[0m | \u001B[0m0.9512   \u001B[0m | \u001B[0m70.16    \u001B[0m | \u001B[0m1.153    \u001B[0m | \u001B[0m0.07505  \u001B[0m |\n",
      "| \u001B[0m66       \u001B[0m | \u001B[0m-49.11   \u001B[0m | \u001B[0m0.07457  \u001B[0m | \u001B[0m88.58    \u001B[0m | \u001B[0m0.8699   \u001B[0m | \u001B[0m0.9814   \u001B[0m | \u001B[0m68.89    \u001B[0m | \u001B[0m4.756    \u001B[0m | \u001B[0m0.02082  \u001B[0m |\n",
      "| \u001B[0m67       \u001B[0m | \u001B[0m-17.56   \u001B[0m | \u001B[0m0.08167  \u001B[0m | \u001B[0m52.2     \u001B[0m | \u001B[0m0.9395   \u001B[0m | \u001B[0m0.9616   \u001B[0m | \u001B[0m67.89    \u001B[0m | \u001B[0m1.202    \u001B[0m | \u001B[0m0.0403   \u001B[0m |\n",
      "| \u001B[0m68       \u001B[0m | \u001B[0m-152.2   \u001B[0m | \u001B[0m0.06881  \u001B[0m | \u001B[0m168.2    \u001B[0m | \u001B[0m0.8427   \u001B[0m | \u001B[0m0.9617   \u001B[0m | \u001B[0m64.74    \u001B[0m | \u001B[0m4.046    \u001B[0m | \u001B[0m0.07843  \u001B[0m |\n",
      "| \u001B[0m69       \u001B[0m | \u001B[0m-216.2   \u001B[0m | \u001B[0m0.0569   \u001B[0m | \u001B[0m258.3    \u001B[0m | \u001B[0m0.9982   \u001B[0m | \u001B[0m0.9199   \u001B[0m | \u001B[0m67.57    \u001B[0m | \u001B[0m3.344    \u001B[0m | \u001B[0m0.01967  \u001B[0m |\n",
      "| \u001B[0m70       \u001B[0m | \u001B[0m-18.53   \u001B[0m | \u001B[0m0.05801  \u001B[0m | \u001B[0m214.5    \u001B[0m | \u001B[0m0.832    \u001B[0m | \u001B[0m0.9328   \u001B[0m | \u001B[0m88.02    \u001B[0m | \u001B[0m1.495    \u001B[0m | \u001B[0m0.05128  \u001B[0m |\n",
      "| \u001B[0m71       \u001B[0m | \u001B[0m-124.4   \u001B[0m | \u001B[0m1e-06    \u001B[0m | \u001B[0m35.35    \u001B[0m | \u001B[0m0.999    \u001B[0m | \u001B[0m1.0      \u001B[0m | \u001B[0m128.0    \u001B[0m | \u001B[0m1.0      \u001B[0m | \u001B[0m0.1      \u001B[0m |\n",
      "| \u001B[0m72       \u001B[0m | \u001B[0m-57.06   \u001B[0m | \u001B[0m0.04019  \u001B[0m | \u001B[0m217.0    \u001B[0m | \u001B[0m0.9121   \u001B[0m | \u001B[0m0.9327   \u001B[0m | \u001B[0m64.7     \u001B[0m | \u001B[0m4.391    \u001B[0m | \u001B[0m0.05101  \u001B[0m |\n",
      "| \u001B[0m73       \u001B[0m | \u001B[0m-257.0   \u001B[0m | \u001B[0m0.1      \u001B[0m | \u001B[0m17.94    \u001B[0m | \u001B[0m0.999    \u001B[0m | \u001B[0m1.0      \u001B[0m | \u001B[0m123.3    \u001B[0m | \u001B[0m5.0      \u001B[0m | \u001B[0m0.1      \u001B[0m |\n",
      "| \u001B[0m74       \u001B[0m | \u001B[0m-18.98   \u001B[0m | \u001B[0m0.07736  \u001B[0m | \u001B[0m57.49    \u001B[0m | \u001B[0m0.8262   \u001B[0m | \u001B[0m0.9116   \u001B[0m | \u001B[0m101.4    \u001B[0m | \u001B[0m4.781    \u001B[0m | \u001B[0m0.001108 \u001B[0m |\n"
     ]
    },
    {
     "name": "stderr",
     "output_type": "stream",
     "text": [
      "/opt/conda/lib/python3.11/site-packages/sklearn/neural_network/_multilayer_perceptron.py:691: ConvergenceWarning: Stochastic Optimizer: Maximum iterations (15000) reached and the optimization hasn't converged yet.\n",
      "  warnings.warn(\n",
      "/opt/conda/lib/python3.11/site-packages/sklearn/neural_network/_multilayer_perceptron.py:691: ConvergenceWarning: Stochastic Optimizer: Maximum iterations (15000) reached and the optimization hasn't converged yet.\n",
      "  warnings.warn(\n",
      "/opt/conda/lib/python3.11/site-packages/sklearn/neural_network/_multilayer_perceptron.py:691: ConvergenceWarning: Stochastic Optimizer: Maximum iterations (15000) reached and the optimization hasn't converged yet.\n",
      "  warnings.warn(\n",
      "/opt/conda/lib/python3.11/site-packages/sklearn/neural_network/_multilayer_perceptron.py:691: ConvergenceWarning: Stochastic Optimizer: Maximum iterations (15000) reached and the optimization hasn't converged yet.\n",
      "  warnings.warn(\n",
      "/opt/conda/lib/python3.11/site-packages/sklearn/neural_network/_multilayer_perceptron.py:691: ConvergenceWarning: Stochastic Optimizer: Maximum iterations (15000) reached and the optimization hasn't converged yet.\n",
      "  warnings.warn(\n"
     ]
    },
    {
     "name": "stdout",
     "output_type": "stream",
     "text": [
      "| \u001B[0m75       \u001B[0m | \u001B[0m-125.0   \u001B[0m | \u001B[0m0.1      \u001B[0m | \u001B[0m1.0      \u001B[0m | \u001B[0m0.999    \u001B[0m | \u001B[0m0.9      \u001B[0m | \u001B[0m128.0    \u001B[0m | \u001B[0m1.0      \u001B[0m | \u001B[0m1e-06    \u001B[0m |\n",
      "| \u001B[0m76       \u001B[0m | \u001B[0m-74.66   \u001B[0m | \u001B[0m0.02019  \u001B[0m | \u001B[0m255.7    \u001B[0m | \u001B[0m0.9611   \u001B[0m | \u001B[0m0.9972   \u001B[0m | \u001B[0m127.7    \u001B[0m | \u001B[0m3.883    \u001B[0m | \u001B[0m0.01859  \u001B[0m |\n",
      "| \u001B[0m77       \u001B[0m | \u001B[0m-295.2   \u001B[0m | \u001B[0m0.1      \u001B[0m | \u001B[0m61.06    \u001B[0m | \u001B[0m0.999    \u001B[0m | \u001B[0m0.9      \u001B[0m | \u001B[0m128.0    \u001B[0m | \u001B[0m1.0      \u001B[0m | \u001B[0m0.1      \u001B[0m |\n",
      "| \u001B[0m78       \u001B[0m | \u001B[0m-146.0   \u001B[0m | \u001B[0m0.04574  \u001B[0m | \u001B[0m81.78    \u001B[0m | \u001B[0m0.9928   \u001B[0m | \u001B[0m0.9609   \u001B[0m | \u001B[0m83.23    \u001B[0m | \u001B[0m4.598    \u001B[0m | \u001B[0m0.07935  \u001B[0m |\n"
     ]
    },
    {
     "name": "stderr",
     "output_type": "stream",
     "text": [
      "/opt/conda/lib/python3.11/site-packages/sklearn/neural_network/_multilayer_perceptron.py:609: UserWarning: Got `batch_size` less than 1 or larger than sample size. It is going to be clipped\n",
      "  warnings.warn(\n",
      "/opt/conda/lib/python3.11/site-packages/sklearn/neural_network/_multilayer_perceptron.py:609: UserWarning: Got `batch_size` less than 1 or larger than sample size. It is going to be clipped\n",
      "  warnings.warn(\n",
      "/opt/conda/lib/python3.11/site-packages/sklearn/neural_network/_multilayer_perceptron.py:609: UserWarning: Got `batch_size` less than 1 or larger than sample size. It is going to be clipped\n",
      "  warnings.warn(\n",
      "/opt/conda/lib/python3.11/site-packages/sklearn/neural_network/_multilayer_perceptron.py:609: UserWarning: Got `batch_size` less than 1 or larger than sample size. It is going to be clipped\n",
      "  warnings.warn(\n",
      "/opt/conda/lib/python3.11/site-packages/sklearn/neural_network/_multilayer_perceptron.py:609: UserWarning: Got `batch_size` less than 1 or larger than sample size. It is going to be clipped\n",
      "  warnings.warn(\n"
     ]
    },
    {
     "name": "stdout",
     "output_type": "stream",
     "text": [
      "| \u001B[0m79       \u001B[0m | \u001B[0m-110.3   \u001B[0m | \u001B[0m0.08951  \u001B[0m | \u001B[0m299.8    \u001B[0m | \u001B[0m0.8786   \u001B[0m | \u001B[0m0.9132   \u001B[0m | \u001B[0m96.54    \u001B[0m | \u001B[0m3.445    \u001B[0m | \u001B[0m0.06222  \u001B[0m |\n"
     ]
    },
    {
     "name": "stderr",
     "output_type": "stream",
     "text": [
      "/opt/conda/lib/python3.11/site-packages/sklearn/neural_network/_multilayer_perceptron.py:609: UserWarning: Got `batch_size` less than 1 or larger than sample size. It is going to be clipped\n",
      "  warnings.warn(\n",
      "/opt/conda/lib/python3.11/site-packages/sklearn/neural_network/_multilayer_perceptron.py:691: ConvergenceWarning: Stochastic Optimizer: Maximum iterations (15000) reached and the optimization hasn't converged yet.\n",
      "  warnings.warn(\n",
      "/opt/conda/lib/python3.11/site-packages/sklearn/neural_network/_multilayer_perceptron.py:609: UserWarning: Got `batch_size` less than 1 or larger than sample size. It is going to be clipped\n",
      "  warnings.warn(\n",
      "/opt/conda/lib/python3.11/site-packages/sklearn/neural_network/_multilayer_perceptron.py:691: ConvergenceWarning: Stochastic Optimizer: Maximum iterations (15000) reached and the optimization hasn't converged yet.\n",
      "  warnings.warn(\n",
      "/opt/conda/lib/python3.11/site-packages/sklearn/neural_network/_multilayer_perceptron.py:609: UserWarning: Got `batch_size` less than 1 or larger than sample size. It is going to be clipped\n",
      "  warnings.warn(\n",
      "/opt/conda/lib/python3.11/site-packages/sklearn/neural_network/_multilayer_perceptron.py:691: ConvergenceWarning: Stochastic Optimizer: Maximum iterations (15000) reached and the optimization hasn't converged yet.\n",
      "  warnings.warn(\n",
      "/opt/conda/lib/python3.11/site-packages/sklearn/neural_network/_multilayer_perceptron.py:609: UserWarning: Got `batch_size` less than 1 or larger than sample size. It is going to be clipped\n",
      "  warnings.warn(\n",
      "/opt/conda/lib/python3.11/site-packages/sklearn/neural_network/_multilayer_perceptron.py:691: ConvergenceWarning: Stochastic Optimizer: Maximum iterations (15000) reached and the optimization hasn't converged yet.\n",
      "  warnings.warn(\n",
      "/opt/conda/lib/python3.11/site-packages/sklearn/neural_network/_multilayer_perceptron.py:609: UserWarning: Got `batch_size` less than 1 or larger than sample size. It is going to be clipped\n",
      "  warnings.warn(\n",
      "/opt/conda/lib/python3.11/site-packages/sklearn/neural_network/_multilayer_perceptron.py:691: ConvergenceWarning: Stochastic Optimizer: Maximum iterations (15000) reached and the optimization hasn't converged yet.\n",
      "  warnings.warn(\n"
     ]
    },
    {
     "name": "stdout",
     "output_type": "stream",
     "text": [
      "| \u001B[0m80       \u001B[0m | \u001B[0m-631.4   \u001B[0m | \u001B[0m1e-06    \u001B[0m | \u001B[0m300.0    \u001B[0m | \u001B[0m0.8      \u001B[0m | \u001B[0m0.9      \u001B[0m | \u001B[0m64.0     \u001B[0m | \u001B[0m1.0      \u001B[0m | \u001B[0m1e-06    \u001B[0m |\n",
      "| \u001B[0m81       \u001B[0m | \u001B[0m-18.21   \u001B[0m | \u001B[0m0.02868  \u001B[0m | \u001B[0m226.7    \u001B[0m | \u001B[0m0.8801   \u001B[0m | \u001B[0m0.9076   \u001B[0m | \u001B[0m114.1    \u001B[0m | \u001B[0m1.512    \u001B[0m | \u001B[0m0.08498  \u001B[0m |\n",
      "| \u001B[0m82       \u001B[0m | \u001B[0m-295.2   \u001B[0m | \u001B[0m0.006638 \u001B[0m | \u001B[0m271.9    \u001B[0m | \u001B[0m0.9794   \u001B[0m | \u001B[0m0.9139   \u001B[0m | \u001B[0m64.84    \u001B[0m | \u001B[0m2.876    \u001B[0m | \u001B[0m0.01044  \u001B[0m |\n",
      "| \u001B[0m83       \u001B[0m | \u001B[0m-30.32   \u001B[0m | \u001B[0m0.08306  \u001B[0m | \u001B[0m102.2    \u001B[0m | \u001B[0m0.919    \u001B[0m | \u001B[0m0.9007   \u001B[0m | \u001B[0m64.24    \u001B[0m | \u001B[0m4.862    \u001B[0m | \u001B[0m0.09488  \u001B[0m |\n",
      "| \u001B[0m84       \u001B[0m | \u001B[0m-21.38   \u001B[0m | \u001B[0m0.08283  \u001B[0m | \u001B[0m195.3    \u001B[0m | \u001B[0m0.8782   \u001B[0m | \u001B[0m0.9457   \u001B[0m | \u001B[0m64.07    \u001B[0m | \u001B[0m2.159    \u001B[0m | \u001B[0m0.07091  \u001B[0m |\n",
      "| \u001B[0m85       \u001B[0m | \u001B[0m-24.92   \u001B[0m | \u001B[0m1e-06    \u001B[0m | \u001B[0m257.6    \u001B[0m | \u001B[0m0.8      \u001B[0m | \u001B[0m1.0      \u001B[0m | \u001B[0m82.16    \u001B[0m | \u001B[0m1.0      \u001B[0m | \u001B[0m0.1      \u001B[0m |\n",
      "| \u001B[0m86       \u001B[0m | \u001B[0m-29.65   \u001B[0m | \u001B[0m0.02942  \u001B[0m | \u001B[0m12.3     \u001B[0m | \u001B[0m0.9338   \u001B[0m | \u001B[0m0.9753   \u001B[0m | \u001B[0m110.9    \u001B[0m | \u001B[0m2.656    \u001B[0m | \u001B[0m0.0609   \u001B[0m |\n"
     ]
    },
    {
     "name": "stderr",
     "output_type": "stream",
     "text": [
      "/opt/conda/lib/python3.11/site-packages/sklearn/neural_network/_multilayer_perceptron.py:609: UserWarning: Got `batch_size` less than 1 or larger than sample size. It is going to be clipped\n",
      "  warnings.warn(\n",
      "/opt/conda/lib/python3.11/site-packages/sklearn/neural_network/_multilayer_perceptron.py:691: ConvergenceWarning: Stochastic Optimizer: Maximum iterations (15000) reached and the optimization hasn't converged yet.\n",
      "  warnings.warn(\n",
      "/opt/conda/lib/python3.11/site-packages/sklearn/neural_network/_multilayer_perceptron.py:609: UserWarning: Got `batch_size` less than 1 or larger than sample size. It is going to be clipped\n",
      "  warnings.warn(\n",
      "/opt/conda/lib/python3.11/site-packages/sklearn/neural_network/_multilayer_perceptron.py:691: ConvergenceWarning: Stochastic Optimizer: Maximum iterations (15000) reached and the optimization hasn't converged yet.\n",
      "  warnings.warn(\n",
      "/opt/conda/lib/python3.11/site-packages/sklearn/neural_network/_multilayer_perceptron.py:609: UserWarning: Got `batch_size` less than 1 or larger than sample size. It is going to be clipped\n",
      "  warnings.warn(\n",
      "/opt/conda/lib/python3.11/site-packages/sklearn/neural_network/_multilayer_perceptron.py:691: ConvergenceWarning: Stochastic Optimizer: Maximum iterations (15000) reached and the optimization hasn't converged yet.\n",
      "  warnings.warn(\n",
      "/opt/conda/lib/python3.11/site-packages/sklearn/neural_network/_multilayer_perceptron.py:609: UserWarning: Got `batch_size` less than 1 or larger than sample size. It is going to be clipped\n",
      "  warnings.warn(\n",
      "/opt/conda/lib/python3.11/site-packages/sklearn/neural_network/_multilayer_perceptron.py:691: ConvergenceWarning: Stochastic Optimizer: Maximum iterations (15000) reached and the optimization hasn't converged yet.\n",
      "  warnings.warn(\n",
      "/opt/conda/lib/python3.11/site-packages/sklearn/neural_network/_multilayer_perceptron.py:609: UserWarning: Got `batch_size` less than 1 or larger than sample size. It is going to be clipped\n",
      "  warnings.warn(\n",
      "/opt/conda/lib/python3.11/site-packages/sklearn/neural_network/_multilayer_perceptron.py:698: UserWarning: Training interrupted by user.\n",
      "  warnings.warn(\"Training interrupted by user.\")\n"
     ]
    },
    {
     "name": "stdout",
     "output_type": "stream",
     "text": [
      "| \u001B[0m87       \u001B[0m | \u001B[0m-630.4   \u001B[0m | \u001B[0m0.1      \u001B[0m | \u001B[0m300.0    \u001B[0m | \u001B[0m0.999    \u001B[0m | \u001B[0m1.0      \u001B[0m | \u001B[0m128.0    \u001B[0m | \u001B[0m5.0      \u001B[0m | \u001B[0m1e-06    \u001B[0m |\n",
      "| \u001B[0m88       \u001B[0m | \u001B[0m-49.22   \u001B[0m | \u001B[0m0.04572  \u001B[0m | \u001B[0m59.97    \u001B[0m | \u001B[0m0.836    \u001B[0m | \u001B[0m0.9582   \u001B[0m | \u001B[0m81.17    \u001B[0m | \u001B[0m4.25     \u001B[0m | \u001B[0m0.08121  \u001B[0m |\n",
      "| \u001B[0m89       \u001B[0m | \u001B[0m-15.99   \u001B[0m | \u001B[0m0.006159 \u001B[0m | \u001B[0m81.82    \u001B[0m | \u001B[0m0.9488   \u001B[0m | \u001B[0m0.9362   \u001B[0m | \u001B[0m100.7    \u001B[0m | \u001B[0m1.873    \u001B[0m | \u001B[0m0.0174   \u001B[0m |\n",
      "| \u001B[0m90       \u001B[0m | \u001B[0m-16.27   \u001B[0m | \u001B[0m0.0979   \u001B[0m | \u001B[0m169.0    \u001B[0m | \u001B[0m0.8163   \u001B[0m | \u001B[0m0.9851   \u001B[0m | \u001B[0m114.3    \u001B[0m | \u001B[0m1.029    \u001B[0m | \u001B[0m0.02625  \u001B[0m |\n"
     ]
    },
    {
     "name": "stderr",
     "output_type": "stream",
     "text": [
      "/opt/conda/lib/python3.11/site-packages/sklearn/neural_network/_multilayer_perceptron.py:691: ConvergenceWarning: Stochastic Optimizer: Maximum iterations (15000) reached and the optimization hasn't converged yet.\n",
      "  warnings.warn(\n",
      "/opt/conda/lib/python3.11/site-packages/sklearn/neural_network/_multilayer_perceptron.py:691: ConvergenceWarning: Stochastic Optimizer: Maximum iterations (15000) reached and the optimization hasn't converged yet.\n",
      "  warnings.warn(\n",
      "/opt/conda/lib/python3.11/site-packages/sklearn/neural_network/_multilayer_perceptron.py:691: ConvergenceWarning: Stochastic Optimizer: Maximum iterations (15000) reached and the optimization hasn't converged yet.\n",
      "  warnings.warn(\n",
      "/opt/conda/lib/python3.11/site-packages/sklearn/neural_network/_multilayer_perceptron.py:691: ConvergenceWarning: Stochastic Optimizer: Maximum iterations (15000) reached and the optimization hasn't converged yet.\n",
      "  warnings.warn(\n",
      "/opt/conda/lib/python3.11/site-packages/sklearn/neural_network/_multilayer_perceptron.py:691: ConvergenceWarning: Stochastic Optimizer: Maximum iterations (15000) reached and the optimization hasn't converged yet.\n",
      "  warnings.warn(\n"
     ]
    },
    {
     "name": "stdout",
     "output_type": "stream",
     "text": [
      "| \u001B[0m91       \u001B[0m | \u001B[0m-631.2   \u001B[0m | \u001B[0m1e-06    \u001B[0m | \u001B[0m123.1    \u001B[0m | \u001B[0m0.999    \u001B[0m | \u001B[0m0.9      \u001B[0m | \u001B[0m83.34    \u001B[0m | \u001B[0m1.0      \u001B[0m | \u001B[0m1e-06    \u001B[0m |\n",
      "| \u001B[0m92       \u001B[0m | \u001B[0m-15.96   \u001B[0m | \u001B[0m0.02385  \u001B[0m | \u001B[0m190.8    \u001B[0m | \u001B[0m0.8309   \u001B[0m | \u001B[0m0.964    \u001B[0m | \u001B[0m83.35    \u001B[0m | \u001B[0m1.252    \u001B[0m | \u001B[0m0.002418 \u001B[0m |\n",
      "| \u001B[0m93       \u001B[0m | \u001B[0m-33.61   \u001B[0m | \u001B[0m0.05491  \u001B[0m | \u001B[0m20.18    \u001B[0m | \u001B[0m0.9939   \u001B[0m | \u001B[0m0.9989   \u001B[0m | \u001B[0m64.01    \u001B[0m | \u001B[0m4.62     \u001B[0m | \u001B[0m0.06765  \u001B[0m |\n",
      "| \u001B[0m94       \u001B[0m | \u001B[0m-115.0   \u001B[0m | \u001B[0m1e-06    \u001B[0m | \u001B[0m26.94    \u001B[0m | \u001B[0m0.999    \u001B[0m | \u001B[0m1.0      \u001B[0m | \u001B[0m113.9    \u001B[0m | \u001B[0m1.0      \u001B[0m | \u001B[0m0.1      \u001B[0m |\n",
      "| \u001B[0m95       \u001B[0m | \u001B[0m-122.2   \u001B[0m | \u001B[0m0.02273  \u001B[0m | \u001B[0m153.6    \u001B[0m | \u001B[0m0.971    \u001B[0m | \u001B[0m0.9325   \u001B[0m | \u001B[0m90.83    \u001B[0m | \u001B[0m2.553    \u001B[0m | \u001B[0m0.08017  \u001B[0m |\n",
      "| \u001B[0m96       \u001B[0m | \u001B[0m-30.34   \u001B[0m | \u001B[0m0.04036  \u001B[0m | \u001B[0m127.3    \u001B[0m | \u001B[0m0.8205   \u001B[0m | \u001B[0m0.9342   \u001B[0m | \u001B[0m64.3     \u001B[0m | \u001B[0m3.36     \u001B[0m | \u001B[0m0.02457  \u001B[0m |\n",
      "| \u001B[0m97       \u001B[0m | \u001B[0m-24.44   \u001B[0m | \u001B[0m0.01461  \u001B[0m | \u001B[0m245.0    \u001B[0m | \u001B[0m0.805    \u001B[0m | \u001B[0m0.9107   \u001B[0m | \u001B[0m64.19    \u001B[0m | \u001B[0m2.233    \u001B[0m | \u001B[0m0.03461  \u001B[0m |\n"
     ]
    }
   ],
   "source": [
    "def hyperparameter_function_mlp_with_cut(learning_rate_init, batch_size, alpha, beta_1, beta_2, layer_count, hidden_size):\n",
    "    \"\"\" Function for hyperparameter optimization\n",
    "    \"\"\"    \n",
    "    hidden_layer_sizes = [int(hidden_size)] * int(layer_count)\n",
    "    # Learning rate is fixed\n",
    "    mlp_regressor = MLPRegressor(hidden_layer_sizes=hidden_layer_sizes, alpha=alpha, batch_size=int(batch_size), learning_rate_init=learning_rate_init, beta_1=beta_1, beta_2=beta_2, max_iter=15000, random_state=7)\n",
    "    scores = model_selection.cross_val_score(mlp_regressor, X=prep_train_data, y=random_train_balance, cv=5, scoring='neg_mean_absolute_error')\n",
    "    return np.min(scores)\n",
    "\n",
    "\n",
    "# Bounded region of parameter space\n",
    "pbounds = {'learning_rate_init': (0.000001, 0.1), 'batch_size': (1, 300), 'alpha': (0.000001, 0.1), 'beta_1': (0.8, 0.999), 'beta_2': (0.9, 0.999999), 'layer_count': (1, 5), 'hidden_size': (64, 128)}\n",
    "\n",
    "optimizer = BayesianOptimization(\n",
    "    f=hyperparameter_function_mlp_with_cut,\n",
    "    pbounds=pbounds,\n",
    "    random_state=7,\n",
    ")\n",
    "if hyper_opt:\n",
    "    optimizer.maximize(\n",
    "        init_points=50,\n",
    "        n_iter=100,\n",
    "    )"
   ]
  },
  {
   "cell_type": "markdown",
   "id": "e16c3631e50e1d51",
   "metadata": {},
   "source": "Note: After waiting for a couple of hours I interrupted the run above. Hereafter, I tried to optimize the best architecture. But I still allow the layer size to increase."
  },
  {
   "metadata": {},
   "cell_type": "code",
   "outputs": [
    {
     "name": "stdout",
     "output_type": "stream",
     "text": [
      "|   iter    |  target   |   alpha   | batch_... |  beta_1   |  beta_2   | hidden... | learni... |\n",
      "-------------------------------------------------------------------------------------------------\n",
      "| \u001B[0m1        \u001B[0m | \u001B[0m-16.87   \u001B[0m | \u001B[0m0.08701  \u001B[0m | \u001B[0m208.2    \u001B[0m | \u001B[0m0.8555   \u001B[0m | \u001B[0m0.9186   \u001B[0m | \u001B[0m121.2    \u001B[0m | \u001B[0m0.001262 \u001B[0m |\n",
      "| \u001B[95m2        \u001B[0m | \u001B[95m-15.73   \u001B[0m | \u001B[95m0.0685   \u001B[0m | \u001B[95m193.8    \u001B[0m | \u001B[95m0.9107   \u001B[0m | \u001B[95m0.9367   \u001B[0m | \u001B[95m121.0    \u001B[0m | \u001B[95m0.001219 \u001B[0m |\n",
      "| \u001B[0m3        \u001B[0m | \u001B[0m-16.3    \u001B[0m | \u001B[0m0.0447   \u001B[0m | \u001B[0m208.5    \u001B[0m | \u001B[0m0.8322   \u001B[0m | \u001B[0m0.9521   \u001B[0m | \u001B[0m119.9    \u001B[0m | \u001B[0m0.007022 \u001B[0m |\n",
      "| \u001B[0m4        \u001B[0m | \u001B[0m-19.04   \u001B[0m | \u001B[0m0.03664  \u001B[0m | \u001B[0m233.6    \u001B[0m | \u001B[0m0.8958   \u001B[0m | \u001B[0m0.9516   \u001B[0m | \u001B[0m120.7    \u001B[0m | \u001B[0m0.009976 \u001B[0m |\n",
      "| \u001B[0m5        \u001B[0m | \u001B[0m-16.2    \u001B[0m | \u001B[0m0.05142  \u001B[0m | \u001B[0m205.9    \u001B[0m | \u001B[0m0.8069   \u001B[0m | \u001B[0m0.972    \u001B[0m | \u001B[0m121.3    \u001B[0m | \u001B[0m0.004426 \u001B[0m |\n",
      "| \u001B[0m6        \u001B[0m | \u001B[0m-20.91   \u001B[0m | \u001B[0m0.02817  \u001B[0m | \u001B[0m240.0    \u001B[0m | \u001B[0m0.9333   \u001B[0m | \u001B[0m0.9456   \u001B[0m | \u001B[0m119.3    \u001B[0m | \u001B[0m0.005306 \u001B[0m |\n",
      "| \u001B[0m7        \u001B[0m | \u001B[0m-17.27   \u001B[0m | \u001B[0m0.05592  \u001B[0m | \u001B[0m224.5    \u001B[0m | \u001B[0m0.9648   \u001B[0m | \u001B[0m0.9824   \u001B[0m | \u001B[0m116.2    \u001B[0m | \u001B[0m0.006484 \u001B[0m |\n",
      "| \u001B[0m8        \u001B[0m | \u001B[0m-45.13   \u001B[0m | \u001B[0m0.03093  \u001B[0m | \u001B[0m202.4    \u001B[0m | \u001B[0m0.9907   \u001B[0m | \u001B[0m0.9883   \u001B[0m | \u001B[0m119.4    \u001B[0m | \u001B[0m0.005173 \u001B[0m |\n",
      "| \u001B[0m9        \u001B[0m | \u001B[0m-16.59   \u001B[0m | \u001B[0m0.008871 \u001B[0m | \u001B[0m214.2    \u001B[0m | \u001B[0m0.8264   \u001B[0m | \u001B[0m0.9766   \u001B[0m | \u001B[0m116.2    \u001B[0m | \u001B[0m0.003377 \u001B[0m |\n",
      "| \u001B[95m10       \u001B[0m | \u001B[95m-15.39   \u001B[0m | \u001B[95m0.06799  \u001B[0m | \u001B[95m200.9    \u001B[0m | \u001B[95m0.9304   \u001B[0m | \u001B[95m0.9602   \u001B[0m | \u001B[95m125.8    \u001B[0m | \u001B[95m0.004211 \u001B[0m |\n",
      "| \u001B[0m11       \u001B[0m | \u001B[0m-19.45   \u001B[0m | \u001B[0m0.03965  \u001B[0m | \u001B[0m232.5    \u001B[0m | \u001B[0m0.9418   \u001B[0m | \u001B[0m0.9098   \u001B[0m | \u001B[0m127.6    \u001B[0m | \u001B[0m0.004464 \u001B[0m |\n",
      "| \u001B[0m12       \u001B[0m | \u001B[0m-20.92   \u001B[0m | \u001B[0m0.0374   \u001B[0m | \u001B[0m241.4    \u001B[0m | \u001B[0m0.909    \u001B[0m | \u001B[0m0.9252   \u001B[0m | \u001B[0m115.4    \u001B[0m | \u001B[0m0.002142 \u001B[0m |\n",
      "| \u001B[0m13       \u001B[0m | \u001B[0m-15.74   \u001B[0m | \u001B[0m0.05909  \u001B[0m | \u001B[0m166.4    \u001B[0m | \u001B[0m0.9665   \u001B[0m | \u001B[0m0.9775   \u001B[0m | \u001B[0m117.5    \u001B[0m | \u001B[0m0.007693 \u001B[0m |\n",
      "| \u001B[0m14       \u001B[0m | \u001B[0m-16.38   \u001B[0m | \u001B[0m0.03354  \u001B[0m | \u001B[0m197.2    \u001B[0m | \u001B[0m0.8428   \u001B[0m | \u001B[0m0.9912   \u001B[0m | \u001B[0m126.4    \u001B[0m | \u001B[0m0.006798 \u001B[0m |\n",
      "| \u001B[0m15       \u001B[0m | \u001B[0m-17.83   \u001B[0m | \u001B[0m0.002139 \u001B[0m | \u001B[0m216.1    \u001B[0m | \u001B[0m0.8188   \u001B[0m | \u001B[0m0.9831   \u001B[0m | \u001B[0m116.7    \u001B[0m | \u001B[0m0.005712 \u001B[0m |\n",
      "| \u001B[0m16       \u001B[0m | \u001B[0m-16.85   \u001B[0m | \u001B[0m0.01746  \u001B[0m | \u001B[0m229.1    \u001B[0m | \u001B[0m0.8067   \u001B[0m | \u001B[0m0.9796   \u001B[0m | \u001B[0m125.3    \u001B[0m | \u001B[0m0.004969 \u001B[0m |\n",
      "| \u001B[0m17       \u001B[0m | \u001B[0m-21.05   \u001B[0m | \u001B[0m0.008856 \u001B[0m | \u001B[0m243.8    \u001B[0m | \u001B[0m0.8168   \u001B[0m | \u001B[0m0.9469   \u001B[0m | \u001B[0m127.1    \u001B[0m | \u001B[0m0.0009479\u001B[0m |\n",
      "| \u001B[0m18       \u001B[0m | \u001B[0m-17.15   \u001B[0m | \u001B[0m0.02444  \u001B[0m | \u001B[0m239.3    \u001B[0m | \u001B[0m0.8952   \u001B[0m | \u001B[0m0.919    \u001B[0m | \u001B[0m118.8    \u001B[0m | \u001B[0m0.007647 \u001B[0m |\n",
      "| \u001B[0m19       \u001B[0m | \u001B[0m-16.88   \u001B[0m | \u001B[0m0.09585  \u001B[0m | \u001B[0m226.2    \u001B[0m | \u001B[0m0.8637   \u001B[0m | \u001B[0m0.9792   \u001B[0m | \u001B[0m122.3    \u001B[0m | \u001B[0m0.003034 \u001B[0m |\n",
      "| \u001B[95m20       \u001B[0m | \u001B[95m-15.13   \u001B[0m | \u001B[95m0.0602   \u001B[0m | \u001B[95m172.2    \u001B[0m | \u001B[95m0.8768   \u001B[0m | \u001B[95m0.9007   \u001B[0m | \u001B[95m120.4    \u001B[0m | \u001B[95m0.002047 \u001B[0m |\n"
     ]
    },
    {
     "name": "stderr",
     "output_type": "stream",
     "text": [
      "/opt/conda/lib/python3.11/site-packages/sklearn/neural_network/_multilayer_perceptron.py:691: ConvergenceWarning: Stochastic Optimizer: Maximum iterations (15000) reached and the optimization hasn't converged yet.\n",
      "  warnings.warn(\n",
      "/opt/conda/lib/python3.11/site-packages/sklearn/neural_network/_multilayer_perceptron.py:691: ConvergenceWarning: Stochastic Optimizer: Maximum iterations (15000) reached and the optimization hasn't converged yet.\n",
      "  warnings.warn(\n",
      "/opt/conda/lib/python3.11/site-packages/sklearn/neural_network/_multilayer_perceptron.py:691: ConvergenceWarning: Stochastic Optimizer: Maximum iterations (15000) reached and the optimization hasn't converged yet.\n",
      "  warnings.warn(\n",
      "/opt/conda/lib/python3.11/site-packages/sklearn/neural_network/_multilayer_perceptron.py:691: ConvergenceWarning: Stochastic Optimizer: Maximum iterations (15000) reached and the optimization hasn't converged yet.\n",
      "  warnings.warn(\n",
      "/opt/conda/lib/python3.11/site-packages/sklearn/neural_network/_multilayer_perceptron.py:691: ConvergenceWarning: Stochastic Optimizer: Maximum iterations (15000) reached and the optimization hasn't converged yet.\n",
      "  warnings.warn(\n"
     ]
    },
    {
     "name": "stdout",
     "output_type": "stream",
     "text": [
      "| \u001B[0m21       \u001B[0m | \u001B[0m-16.18   \u001B[0m | \u001B[0m0.04096  \u001B[0m | \u001B[0m161.0    \u001B[0m | \u001B[0m0.8171   \u001B[0m | \u001B[0m0.9748   \u001B[0m | \u001B[0m117.7    \u001B[0m | \u001B[0m0.0002494\u001B[0m |\n",
      "| \u001B[0m22       \u001B[0m | \u001B[0m-21.96   \u001B[0m | \u001B[0m0.09138  \u001B[0m | \u001B[0m242.6    \u001B[0m | \u001B[0m0.916    \u001B[0m | \u001B[0m0.9313   \u001B[0m | \u001B[0m130.0    \u001B[0m | \u001B[0m0.001585 \u001B[0m |\n",
      "| \u001B[0m23       \u001B[0m | \u001B[0m-15.55   \u001B[0m | \u001B[0m0.09945  \u001B[0m | \u001B[0m162.5    \u001B[0m | \u001B[0m0.8699   \u001B[0m | \u001B[0m0.9531   \u001B[0m | \u001B[0m119.9    \u001B[0m | \u001B[0m0.008084 \u001B[0m |\n",
      "| \u001B[0m24       \u001B[0m | \u001B[0m-16.24   \u001B[0m | \u001B[0m0.09603  \u001B[0m | \u001B[0m203.9    \u001B[0m | \u001B[0m0.8994   \u001B[0m | \u001B[0m0.9801   \u001B[0m | \u001B[0m127.0    \u001B[0m | \u001B[0m0.001287 \u001B[0m |\n",
      "| \u001B[0m25       \u001B[0m | \u001B[0m-17.04   \u001B[0m | \u001B[0m0.0246   \u001B[0m | \u001B[0m212.7    \u001B[0m | \u001B[0m0.8751   \u001B[0m | \u001B[0m0.9063   \u001B[0m | \u001B[0m120.6    \u001B[0m | \u001B[0m0.0008337\u001B[0m |\n",
      "| \u001B[0m26       \u001B[0m | \u001B[0m-16.33   \u001B[0m | \u001B[0m0.004445 \u001B[0m | \u001B[0m179.3    \u001B[0m | \u001B[0m0.9502   \u001B[0m | \u001B[0m0.9953   \u001B[0m | \u001B[0m123.8    \u001B[0m | \u001B[0m0.009881 \u001B[0m |\n",
      "| \u001B[0m27       \u001B[0m | \u001B[0m-15.8    \u001B[0m | \u001B[0m0.01981  \u001B[0m | \u001B[0m154.3    \u001B[0m | \u001B[0m0.8764   \u001B[0m | \u001B[0m0.9781   \u001B[0m | \u001B[0m126.4    \u001B[0m | \u001B[0m0.008656 \u001B[0m |\n",
      "| \u001B[0m28       \u001B[0m | \u001B[0m-16.85   \u001B[0m | \u001B[0m0.05372  \u001B[0m | \u001B[0m202.7    \u001B[0m | \u001B[0m0.9624   \u001B[0m | \u001B[0m0.9129   \u001B[0m | \u001B[0m125.8    \u001B[0m | \u001B[0m0.0007616\u001B[0m |\n",
      "| \u001B[0m29       \u001B[0m | \u001B[0m-16.45   \u001B[0m | \u001B[0m0.001535 \u001B[0m | \u001B[0m204.6    \u001B[0m | \u001B[0m0.8183   \u001B[0m | \u001B[0m0.9172   \u001B[0m | \u001B[0m120.0    \u001B[0m | \u001B[0m0.001256 \u001B[0m |\n",
      "| \u001B[0m30       \u001B[0m | \u001B[0m-16.23   \u001B[0m | \u001B[0m0.05626  \u001B[0m | \u001B[0m191.1    \u001B[0m | \u001B[0m0.8569   \u001B[0m | \u001B[0m0.9398   \u001B[0m | \u001B[0m121.4    \u001B[0m | \u001B[0m0.00887  \u001B[0m |\n",
      "| \u001B[0m31       \u001B[0m | \u001B[0m-16.49   \u001B[0m | \u001B[0m0.04371  \u001B[0m | \u001B[0m211.7    \u001B[0m | \u001B[0m0.811    \u001B[0m | \u001B[0m0.9929   \u001B[0m | \u001B[0m126.4    \u001B[0m | \u001B[0m0.009761 \u001B[0m |\n",
      "| \u001B[0m32       \u001B[0m | \u001B[0m-18.18   \u001B[0m | \u001B[0m0.02517  \u001B[0m | \u001B[0m246.8    \u001B[0m | \u001B[0m0.8279   \u001B[0m | \u001B[0m0.9712   \u001B[0m | \u001B[0m116.0    \u001B[0m | \u001B[0m0.00609  \u001B[0m |\n",
      "| \u001B[0m33       \u001B[0m | \u001B[0m-15.79   \u001B[0m | \u001B[0m0.005953 \u001B[0m | \u001B[0m186.3    \u001B[0m | \u001B[0m0.8514   \u001B[0m | \u001B[0m0.9026   \u001B[0m | \u001B[0m126.0    \u001B[0m | \u001B[0m0.004569 \u001B[0m |\n",
      "| \u001B[0m34       \u001B[0m | \u001B[0m-17.04   \u001B[0m | \u001B[0m0.08632  \u001B[0m | \u001B[0m203.0    \u001B[0m | \u001B[0m0.9689   \u001B[0m | \u001B[0m0.9319   \u001B[0m | \u001B[0m119.8    \u001B[0m | \u001B[0m0.002677 \u001B[0m |\n",
      "| \u001B[0m35       \u001B[0m | \u001B[0m-19.2    \u001B[0m | \u001B[0m0.0425   \u001B[0m | \u001B[0m239.2    \u001B[0m | \u001B[0m0.8955   \u001B[0m | \u001B[0m0.9349   \u001B[0m | \u001B[0m125.2    \u001B[0m | \u001B[0m0.001704 \u001B[0m |\n",
      "| \u001B[0m36       \u001B[0m | \u001B[0m-15.77   \u001B[0m | \u001B[0m0.09488  \u001B[0m | \u001B[0m197.1    \u001B[0m | \u001B[0m0.9631   \u001B[0m | \u001B[0m0.9071   \u001B[0m | \u001B[0m116.6    \u001B[0m | \u001B[0m0.005126 \u001B[0m |\n",
      "| \u001B[0m37       \u001B[0m | \u001B[0m-16.14   \u001B[0m | \u001B[0m0.04316  \u001B[0m | \u001B[0m189.3    \u001B[0m | \u001B[0m0.8923   \u001B[0m | \u001B[0m0.9488   \u001B[0m | \u001B[0m119.8    \u001B[0m | \u001B[0m0.005416 \u001B[0m |\n",
      "| \u001B[0m38       \u001B[0m | \u001B[0m-21.34   \u001B[0m | \u001B[0m0.07603  \u001B[0m | \u001B[0m236.6    \u001B[0m | \u001B[0m0.9589   \u001B[0m | \u001B[0m0.9028   \u001B[0m | \u001B[0m122.9    \u001B[0m | \u001B[0m0.006739 \u001B[0m |\n",
      "| \u001B[95m39       \u001B[0m | \u001B[95m-15.08   \u001B[0m | \u001B[95m0.03752  \u001B[0m | \u001B[95m157.5    \u001B[0m | \u001B[95m0.9331   \u001B[0m | \u001B[95m0.959    \u001B[0m | \u001B[95m126.0    \u001B[0m | \u001B[95m0.003733 \u001B[0m |\n",
      "| \u001B[0m40       \u001B[0m | \u001B[0m-16.3    \u001B[0m | \u001B[0m0.000754 \u001B[0m | \u001B[0m178.9    \u001B[0m | \u001B[0m0.8801   \u001B[0m | \u001B[0m0.9629   \u001B[0m | \u001B[0m121.8    \u001B[0m | \u001B[0m0.004591 \u001B[0m |\n",
      "| \u001B[0m41       \u001B[0m | \u001B[0m-20.88   \u001B[0m | \u001B[0m0.002011 \u001B[0m | \u001B[0m246.3    \u001B[0m | \u001B[0m0.9366   \u001B[0m | \u001B[0m0.9462   \u001B[0m | \u001B[0m118.9    \u001B[0m | \u001B[0m0.004271 \u001B[0m |\n",
      "| \u001B[0m42       \u001B[0m | \u001B[0m-16.12   \u001B[0m | \u001B[0m0.04192  \u001B[0m | \u001B[0m205.1    \u001B[0m | \u001B[0m0.931    \u001B[0m | \u001B[0m0.9278   \u001B[0m | \u001B[0m118.7    \u001B[0m | \u001B[0m0.006517 \u001B[0m |\n",
      "| \u001B[0m43       \u001B[0m | \u001B[0m-16.47   \u001B[0m | \u001B[0m0.003322 \u001B[0m | \u001B[0m238.0    \u001B[0m | \u001B[0m0.8799   \u001B[0m | \u001B[0m0.9822   \u001B[0m | \u001B[0m126.1    \u001B[0m | \u001B[0m0.007513 \u001B[0m |\n",
      "| \u001B[0m44       \u001B[0m | \u001B[0m-22.95   \u001B[0m | \u001B[0m0.006082 \u001B[0m | \u001B[0m246.5    \u001B[0m | \u001B[0m0.9289   \u001B[0m | \u001B[0m0.9679   \u001B[0m | \u001B[0m120.3    \u001B[0m | \u001B[0m0.001732 \u001B[0m |\n",
      "| \u001B[0m45       \u001B[0m | \u001B[0m-347.7   \u001B[0m | \u001B[0m0.004083 \u001B[0m | \u001B[0m204.7    \u001B[0m | \u001B[0m0.9982   \u001B[0m | \u001B[0m0.9513   \u001B[0m | \u001B[0m124.7    \u001B[0m | \u001B[0m0.005804 \u001B[0m |\n",
      "| \u001B[0m46       \u001B[0m | \u001B[0m-16.18   \u001B[0m | \u001B[0m0.0942   \u001B[0m | \u001B[0m208.3    \u001B[0m | \u001B[0m0.8963   \u001B[0m | \u001B[0m0.9408   \u001B[0m | \u001B[0m117.0    \u001B[0m | \u001B[0m0.00167  \u001B[0m |\n",
      "| \u001B[0m47       \u001B[0m | \u001B[0m-15.85   \u001B[0m | \u001B[0m0.08298  \u001B[0m | \u001B[0m167.7    \u001B[0m | \u001B[0m0.8484   \u001B[0m | \u001B[0m0.9206   \u001B[0m | \u001B[0m127.0    \u001B[0m | \u001B[0m0.004698 \u001B[0m |\n",
      "| \u001B[0m48       \u001B[0m | \u001B[0m-15.88   \u001B[0m | \u001B[0m0.002144 \u001B[0m | \u001B[0m177.4    \u001B[0m | \u001B[0m0.8254   \u001B[0m | \u001B[0m0.9598   \u001B[0m | \u001B[0m121.3    \u001B[0m | \u001B[0m0.002722 \u001B[0m |\n",
      "| \u001B[0m49       \u001B[0m | \u001B[0m-37.78   \u001B[0m | \u001B[0m0.01572  \u001B[0m | \u001B[0m192.1    \u001B[0m | \u001B[0m0.9734   \u001B[0m | \u001B[0m0.9449   \u001B[0m | \u001B[0m126.5    \u001B[0m | \u001B[0m0.006095 \u001B[0m |\n",
      "| \u001B[0m50       \u001B[0m | \u001B[0m-15.57   \u001B[0m | \u001B[0m0.07595  \u001B[0m | \u001B[0m195.3    \u001B[0m | \u001B[0m0.9426   \u001B[0m | \u001B[0m0.9758   \u001B[0m | \u001B[0m117.7    \u001B[0m | \u001B[0m0.003127 \u001B[0m |\n"
     ]
    },
    {
     "name": "stderr",
     "output_type": "stream",
     "text": [
      "/opt/conda/lib/python3.11/site-packages/sklearn/neural_network/_multilayer_perceptron.py:691: ConvergenceWarning: Stochastic Optimizer: Maximum iterations (15000) reached and the optimization hasn't converged yet.\n",
      "  warnings.warn(\n",
      "/opt/conda/lib/python3.11/site-packages/sklearn/neural_network/_multilayer_perceptron.py:691: ConvergenceWarning: Stochastic Optimizer: Maximum iterations (15000) reached and the optimization hasn't converged yet.\n",
      "  warnings.warn(\n",
      "/opt/conda/lib/python3.11/site-packages/sklearn/neural_network/_multilayer_perceptron.py:691: ConvergenceWarning: Stochastic Optimizer: Maximum iterations (15000) reached and the optimization hasn't converged yet.\n",
      "  warnings.warn(\n",
      "/opt/conda/lib/python3.11/site-packages/sklearn/neural_network/_multilayer_perceptron.py:691: ConvergenceWarning: Stochastic Optimizer: Maximum iterations (15000) reached and the optimization hasn't converged yet.\n",
      "  warnings.warn(\n",
      "/opt/conda/lib/python3.11/site-packages/sklearn/neural_network/_multilayer_perceptron.py:691: ConvergenceWarning: Stochastic Optimizer: Maximum iterations (15000) reached and the optimization hasn't converged yet.\n",
      "  warnings.warn(\n"
     ]
    },
    {
     "name": "stdout",
     "output_type": "stream",
     "text": [
      "| \u001B[0m51       \u001B[0m | \u001B[0m-45.38   \u001B[0m | \u001B[0m0.1      \u001B[0m | \u001B[0m202.3    \u001B[0m | \u001B[0m0.8915   \u001B[0m | \u001B[0m0.9271   \u001B[0m | \u001B[0m127.5    \u001B[0m | \u001B[0m0.0001   \u001B[0m |\n",
      "| \u001B[0m52       \u001B[0m | \u001B[0m-16.84   \u001B[0m | \u001B[0m0.05541  \u001B[0m | \u001B[0m192.3    \u001B[0m | \u001B[0m0.9032   \u001B[0m | \u001B[0m0.9971   \u001B[0m | \u001B[0m119.4    \u001B[0m | \u001B[0m0.004392 \u001B[0m |\n",
      "| \u001B[0m53       \u001B[0m | \u001B[0m-16.16   \u001B[0m | \u001B[0m0.04935  \u001B[0m | \u001B[0m204.9    \u001B[0m | \u001B[0m0.8834   \u001B[0m | \u001B[0m0.9744   \u001B[0m | \u001B[0m128.7    \u001B[0m | \u001B[0m0.004229 \u001B[0m |\n",
      "| \u001B[0m54       \u001B[0m | \u001B[0m-271.7   \u001B[0m | \u001B[0m0.005701 \u001B[0m | \u001B[0m164.1    \u001B[0m | \u001B[0m0.9864   \u001B[0m | \u001B[0m0.9667   \u001B[0m | \u001B[0m118.3    \u001B[0m | \u001B[0m0.009098 \u001B[0m |\n",
      "| \u001B[0m55       \u001B[0m | \u001B[0m-17.36   \u001B[0m | \u001B[0m0.07695  \u001B[0m | \u001B[0m160.7    \u001B[0m | \u001B[0m0.8407   \u001B[0m | \u001B[0m0.9947   \u001B[0m | \u001B[0m120.0    \u001B[0m | \u001B[0m0.005941 \u001B[0m |\n",
      "| \u001B[0m56       \u001B[0m | \u001B[0m-15.42   \u001B[0m | \u001B[0m0.05089  \u001B[0m | \u001B[0m162.2    \u001B[0m | \u001B[0m0.838    \u001B[0m | \u001B[0m0.9218   \u001B[0m | \u001B[0m121.6    \u001B[0m | \u001B[0m0.001384 \u001B[0m |\n",
      "| \u001B[0m57       \u001B[0m | \u001B[0m-313.6   \u001B[0m | \u001B[0m0.05953  \u001B[0m | \u001B[0m167.9    \u001B[0m | \u001B[0m0.9866   \u001B[0m | \u001B[0m0.9396   \u001B[0m | \u001B[0m116.7    \u001B[0m | \u001B[0m0.007744 \u001B[0m |\n",
      "| \u001B[0m58       \u001B[0m | \u001B[0m-15.93   \u001B[0m | \u001B[0m0.008178 \u001B[0m | \u001B[0m189.8    \u001B[0m | \u001B[0m0.9209   \u001B[0m | \u001B[0m0.9891   \u001B[0m | \u001B[0m129.8    \u001B[0m | \u001B[0m0.009158 \u001B[0m |\n",
      "| \u001B[0m59       \u001B[0m | \u001B[0m-15.28   \u001B[0m | \u001B[0m0.08648  \u001B[0m | \u001B[0m160.8    \u001B[0m | \u001B[0m0.8204   \u001B[0m | \u001B[0m0.9315   \u001B[0m | \u001B[0m120.0    \u001B[0m | \u001B[0m0.00508  \u001B[0m |\n",
      "| \u001B[0m60       \u001B[0m | \u001B[0m-16.91   \u001B[0m | \u001B[0m0.08698  \u001B[0m | \u001B[0m206.7    \u001B[0m | \u001B[0m0.8053   \u001B[0m | \u001B[0m0.9616   \u001B[0m | \u001B[0m119.5    \u001B[0m | \u001B[0m0.004479 \u001B[0m |\n",
      "| \u001B[0m61       \u001B[0m | \u001B[0m-16.95   \u001B[0m | \u001B[0m0.02187  \u001B[0m | \u001B[0m194.1    \u001B[0m | \u001B[0m0.8088   \u001B[0m | \u001B[0m0.9569   \u001B[0m | \u001B[0m119.1    \u001B[0m | \u001B[0m0.009328 \u001B[0m |\n",
      "| \u001B[0m62       \u001B[0m | \u001B[0m-16.11   \u001B[0m | \u001B[0m0.09975  \u001B[0m | \u001B[0m155.8    \u001B[0m | \u001B[0m0.9525   \u001B[0m | \u001B[0m1.0      \u001B[0m | \u001B[0m125.3    \u001B[0m | \u001B[0m0.009973 \u001B[0m |\n",
      "| \u001B[0m63       \u001B[0m | \u001B[0m-293.4   \u001B[0m | \u001B[0m0.1      \u001B[0m | \u001B[0m156.0    \u001B[0m | \u001B[0m0.999    \u001B[0m | \u001B[0m1.0      \u001B[0m | \u001B[0m127.2    \u001B[0m | \u001B[0m0.01     \u001B[0m |\n",
      "| \u001B[0m64       \u001B[0m | \u001B[0m-16.04   \u001B[0m | \u001B[0m0.02234  \u001B[0m | \u001B[0m154.2    \u001B[0m | \u001B[0m0.8447   \u001B[0m | \u001B[0m0.9782   \u001B[0m | \u001B[0m124.9    \u001B[0m | \u001B[0m0.008547 \u001B[0m |\n",
      "| \u001B[0m65       \u001B[0m | \u001B[0m-317.3   \u001B[0m | \u001B[0m0.03258  \u001B[0m | \u001B[0m157.6    \u001B[0m | \u001B[0m0.9884   \u001B[0m | \u001B[0m0.9411   \u001B[0m | \u001B[0m124.6    \u001B[0m | \u001B[0m0.007436 \u001B[0m |\n",
      "| \u001B[0m66       \u001B[0m | \u001B[0m-16.13   \u001B[0m | \u001B[0m0.005515 \u001B[0m | \u001B[0m192.4    \u001B[0m | \u001B[0m0.8985   \u001B[0m | \u001B[0m0.9959   \u001B[0m | \u001B[0m120.8    \u001B[0m | \u001B[0m0.00646  \u001B[0m |\n",
      "| \u001B[0m67       \u001B[0m | \u001B[0m-16.43   \u001B[0m | \u001B[0m0.02786  \u001B[0m | \u001B[0m191.0    \u001B[0m | \u001B[0m0.8732   \u001B[0m | \u001B[0m0.9634   \u001B[0m | \u001B[0m120.2    \u001B[0m | \u001B[0m0.007777 \u001B[0m |\n",
      "| \u001B[0m68       \u001B[0m | \u001B[0m-15.98   \u001B[0m | \u001B[0m0.05038  \u001B[0m | \u001B[0m208.0    \u001B[0m | \u001B[0m0.9315   \u001B[0m | \u001B[0m0.9458   \u001B[0m | \u001B[0m118.4    \u001B[0m | \u001B[0m0.006365 \u001B[0m |\n",
      "| \u001B[0m69       \u001B[0m | \u001B[0m-16.85   \u001B[0m | \u001B[0m0.02506  \u001B[0m | \u001B[0m206.8    \u001B[0m | \u001B[0m0.9168   \u001B[0m | \u001B[0m0.9287   \u001B[0m | \u001B[0m117.7    \u001B[0m | \u001B[0m0.006863 \u001B[0m |\n",
      "| \u001B[0m70       \u001B[0m | \u001B[0m-305.7   \u001B[0m | \u001B[0m0.09218  \u001B[0m | \u001B[0m177.8    \u001B[0m | \u001B[0m0.9917   \u001B[0m | \u001B[0m0.9583   \u001B[0m | \u001B[0m122.8    \u001B[0m | \u001B[0m0.005633 \u001B[0m |\n",
      "| \u001B[0m71       \u001B[0m | \u001B[0m-16.19   \u001B[0m | \u001B[0m0.04488  \u001B[0m | \u001B[0m189.8    \u001B[0m | \u001B[0m0.8155   \u001B[0m | \u001B[0m0.9846   \u001B[0m | \u001B[0m119.7    \u001B[0m | \u001B[0m0.001622 \u001B[0m |\n",
      "| \u001B[0m72       \u001B[0m | \u001B[0m-15.72   \u001B[0m | \u001B[0m0.01261  \u001B[0m | \u001B[0m178.6    \u001B[0m | \u001B[0m0.8613   \u001B[0m | \u001B[0m0.9367   \u001B[0m | \u001B[0m120.5    \u001B[0m | \u001B[0m0.009619 \u001B[0m |\n",
      "| \u001B[0m73       \u001B[0m | \u001B[0m-15.41   \u001B[0m | \u001B[0m1e-06    \u001B[0m | \u001B[0m179.9    \u001B[0m | \u001B[0m0.8      \u001B[0m | \u001B[0m0.9859   \u001B[0m | \u001B[0m121.0    \u001B[0m | \u001B[0m0.0005891\u001B[0m |\n"
     ]
    },
    {
     "name": "stderr",
     "output_type": "stream",
     "text": [
      "/opt/conda/lib/python3.11/site-packages/sklearn/neural_network/_multilayer_perceptron.py:691: ConvergenceWarning: Stochastic Optimizer: Maximum iterations (15000) reached and the optimization hasn't converged yet.\n",
      "  warnings.warn(\n",
      "/opt/conda/lib/python3.11/site-packages/sklearn/neural_network/_multilayer_perceptron.py:691: ConvergenceWarning: Stochastic Optimizer: Maximum iterations (15000) reached and the optimization hasn't converged yet.\n",
      "  warnings.warn(\n",
      "/opt/conda/lib/python3.11/site-packages/sklearn/neural_network/_multilayer_perceptron.py:691: ConvergenceWarning: Stochastic Optimizer: Maximum iterations (15000) reached and the optimization hasn't converged yet.\n",
      "  warnings.warn(\n",
      "/opt/conda/lib/python3.11/site-packages/sklearn/neural_network/_multilayer_perceptron.py:691: ConvergenceWarning: Stochastic Optimizer: Maximum iterations (15000) reached and the optimization hasn't converged yet.\n",
      "  warnings.warn(\n",
      "/opt/conda/lib/python3.11/site-packages/sklearn/neural_network/_multilayer_perceptron.py:691: ConvergenceWarning: Stochastic Optimizer: Maximum iterations (15000) reached and the optimization hasn't converged yet.\n",
      "  warnings.warn(\n"
     ]
    },
    {
     "name": "stdout",
     "output_type": "stream",
     "text": [
      "| \u001B[0m74       \u001B[0m | \u001B[0m-50.92   \u001B[0m | \u001B[0m1e-06    \u001B[0m | \u001B[0m177.1    \u001B[0m | \u001B[0m0.8      \u001B[0m | \u001B[0m0.983    \u001B[0m | \u001B[0m120.1    \u001B[0m | \u001B[0m0.0001   \u001B[0m |\n",
      "| \u001B[0m75       \u001B[0m | \u001B[0m-16.16   \u001B[0m | \u001B[0m0.04234  \u001B[0m | \u001B[0m180.1    \u001B[0m | \u001B[0m0.9336   \u001B[0m | \u001B[0m0.9125   \u001B[0m | \u001B[0m122.5    \u001B[0m | \u001B[0m0.003437 \u001B[0m |\n",
      "| \u001B[0m76       \u001B[0m | \u001B[0m-17.68   \u001B[0m | \u001B[0m1e-06    \u001B[0m | \u001B[0m180.6    \u001B[0m | \u001B[0m0.8785   \u001B[0m | \u001B[0m1.0      \u001B[0m | \u001B[0m123.9    \u001B[0m | \u001B[0m0.01     \u001B[0m |\n",
      "| \u001B[0m77       \u001B[0m | \u001B[0m-15.63   \u001B[0m | \u001B[0m0.08615  \u001B[0m | \u001B[0m153.1    \u001B[0m | \u001B[0m0.8422   \u001B[0m | \u001B[0m0.9136   \u001B[0m | \u001B[0m126.1    \u001B[0m | \u001B[0m0.0009328\u001B[0m |\n",
      "| \u001B[0m78       \u001B[0m | \u001B[0m-15.93   \u001B[0m | \u001B[0m0.06506  \u001B[0m | \u001B[0m179.7    \u001B[0m | \u001B[0m0.8491   \u001B[0m | \u001B[0m0.9657   \u001B[0m | \u001B[0m125.2    \u001B[0m | \u001B[0m0.00051  \u001B[0m |\n",
      "| \u001B[95m79       \u001B[0m | \u001B[95m-14.84   \u001B[0m | \u001B[95m0.06043  \u001B[0m | \u001B[95m189.7    \u001B[0m | \u001B[95m0.9294   \u001B[0m | \u001B[95m0.9209   \u001B[0m | \u001B[95m121.2    \u001B[0m | \u001B[95m0.002745 \u001B[0m |\n",
      "| \u001B[95m80       \u001B[0m | \u001B[95m-14.62   \u001B[0m | \u001B[95m0.05843  \u001B[0m | \u001B[95m158.6    \u001B[0m | \u001B[95m0.9356   \u001B[0m | \u001B[95m0.909    \u001B[0m | \u001B[95m126.7    \u001B[0m | \u001B[95m0.001283 \u001B[0m |\n",
      "| \u001B[0m81       \u001B[0m | \u001B[0m-46.17   \u001B[0m | \u001B[0m0.01692  \u001B[0m | \u001B[0m203.6    \u001B[0m | \u001B[0m0.9773   \u001B[0m | \u001B[0m0.9031   \u001B[0m | \u001B[0m121.1    \u001B[0m | \u001B[0m0.002129 \u001B[0m |\n",
      "| \u001B[0m82       \u001B[0m | \u001B[0m-20.85   \u001B[0m | \u001B[0m0.03452  \u001B[0m | \u001B[0m237.7    \u001B[0m | \u001B[0m0.9875   \u001B[0m | \u001B[0m0.9978   \u001B[0m | \u001B[0m124.6    \u001B[0m | \u001B[0m0.004294 \u001B[0m |\n",
      "| \u001B[0m83       \u001B[0m | \u001B[0m-17.39   \u001B[0m | \u001B[0m0.01873  \u001B[0m | \u001B[0m196.8    \u001B[0m | \u001B[0m0.8      \u001B[0m | \u001B[0m0.9      \u001B[0m | \u001B[0m118.1    \u001B[0m | \u001B[0m0.01     \u001B[0m |\n",
      "| \u001B[0m84       \u001B[0m | \u001B[0m-15.59   \u001B[0m | \u001B[0m0.01402  \u001B[0m | \u001B[0m195.7    \u001B[0m | \u001B[0m0.8508   \u001B[0m | \u001B[0m0.9037   \u001B[0m | \u001B[0m119.1    \u001B[0m | \u001B[0m0.007131 \u001B[0m |\n",
      "| \u001B[0m85       \u001B[0m | \u001B[0m-15.89   \u001B[0m | \u001B[0m0.01159  \u001B[0m | \u001B[0m195.3    \u001B[0m | \u001B[0m0.8756   \u001B[0m | \u001B[0m0.9077   \u001B[0m | \u001B[0m120.6    \u001B[0m | \u001B[0m0.003357 \u001B[0m |\n",
      "| \u001B[0m86       \u001B[0m | \u001B[0m-18.21   \u001B[0m | \u001B[0m0.03426  \u001B[0m | \u001B[0m215.6    \u001B[0m | \u001B[0m0.9601   \u001B[0m | \u001B[0m0.9864   \u001B[0m | \u001B[0m115.2    \u001B[0m | \u001B[0m0.001015 \u001B[0m |\n",
      "| \u001B[0m87       \u001B[0m | \u001B[0m-35.37   \u001B[0m | \u001B[0m0.05559  \u001B[0m | \u001B[0m209.6    \u001B[0m | \u001B[0m0.9717   \u001B[0m | \u001B[0m0.9293   \u001B[0m | \u001B[0m118.3    \u001B[0m | \u001B[0m0.005893 \u001B[0m |\n",
      "| \u001B[0m88       \u001B[0m | \u001B[0m-15.11   \u001B[0m | \u001B[0m0.03319  \u001B[0m | \u001B[0m160.7    \u001B[0m | \u001B[0m0.852    \u001B[0m | \u001B[0m0.9121   \u001B[0m | \u001B[0m121.7    \u001B[0m | \u001B[0m0.004282 \u001B[0m |\n",
      "| \u001B[0m89       \u001B[0m | \u001B[0m-15.44   \u001B[0m | \u001B[0m0.1      \u001B[0m | \u001B[0m192.7    \u001B[0m | \u001B[0m0.8      \u001B[0m | \u001B[0m0.9      \u001B[0m | \u001B[0m122.4    \u001B[0m | \u001B[0m0.006018 \u001B[0m |\n",
      "| \u001B[0m90       \u001B[0m | \u001B[0m-16.29   \u001B[0m | \u001B[0m0.08484  \u001B[0m | \u001B[0m194.7    \u001B[0m | \u001B[0m0.8979   \u001B[0m | \u001B[0m0.9634   \u001B[0m | \u001B[0m122.4    \u001B[0m | \u001B[0m0.00709  \u001B[0m |\n",
      "| \u001B[0m91       \u001B[0m | \u001B[0m-16.37   \u001B[0m | \u001B[0m0.01809  \u001B[0m | \u001B[0m193.6    \u001B[0m | \u001B[0m0.927    \u001B[0m | \u001B[0m0.9364   \u001B[0m | \u001B[0m117.5    \u001B[0m | \u001B[0m0.006681 \u001B[0m |\n",
      "| \u001B[0m92       \u001B[0m | \u001B[0m-16.58   \u001B[0m | \u001B[0m0.06402  \u001B[0m | \u001B[0m195.6    \u001B[0m | \u001B[0m0.8499   \u001B[0m | \u001B[0m0.9932   \u001B[0m | \u001B[0m116.1    \u001B[0m | \u001B[0m0.004414 \u001B[0m |\n",
      "| \u001B[0m93       \u001B[0m | \u001B[0m-16.47   \u001B[0m | \u001B[0m0.04981  \u001B[0m | \u001B[0m199.1    \u001B[0m | \u001B[0m0.8865   \u001B[0m | \u001B[0m0.9756   \u001B[0m | \u001B[0m126.1    \u001B[0m | \u001B[0m0.005513 \u001B[0m |\n",
      "| \u001B[0m94       \u001B[0m | \u001B[0m-16.11   \u001B[0m | \u001B[0m0.03324  \u001B[0m | \u001B[0m197.9    \u001B[0m | \u001B[0m0.8943   \u001B[0m | \u001B[0m0.9765   \u001B[0m | \u001B[0m124.9    \u001B[0m | \u001B[0m0.005824 \u001B[0m |\n",
      "| \u001B[0m95       \u001B[0m | \u001B[0m-15.45   \u001B[0m | \u001B[0m0.08163  \u001B[0m | \u001B[0m199.8    \u001B[0m | \u001B[0m0.8441   \u001B[0m | \u001B[0m0.9459   \u001B[0m | \u001B[0m124.5    \u001B[0m | \u001B[0m0.002795 \u001B[0m |\n",
      "| \u001B[0m96       \u001B[0m | \u001B[0m-15.73   \u001B[0m | \u001B[0m0.01553  \u001B[0m | \u001B[0m196.1    \u001B[0m | \u001B[0m0.894    \u001B[0m | \u001B[0m0.9849   \u001B[0m | \u001B[0m125.1    \u001B[0m | \u001B[0m0.009648 \u001B[0m |\n",
      "| \u001B[0m97       \u001B[0m | \u001B[0m-15.87   \u001B[0m | \u001B[0m0.06562  \u001B[0m | \u001B[0m196.4    \u001B[0m | \u001B[0m0.9615   \u001B[0m | \u001B[0m0.9591   \u001B[0m | \u001B[0m123.4    \u001B[0m | \u001B[0m0.007479 \u001B[0m |\n",
      "| \u001B[0m98       \u001B[0m | \u001B[0m-15.76   \u001B[0m | \u001B[0m0.0599   \u001B[0m | \u001B[0m194.6    \u001B[0m | \u001B[0m0.8963   \u001B[0m | \u001B[0m0.947    \u001B[0m | \u001B[0m124.0    \u001B[0m | \u001B[0m0.003971 \u001B[0m |\n",
      "| \u001B[0m99       \u001B[0m | \u001B[0m-18.34   \u001B[0m | \u001B[0m0.1      \u001B[0m | \u001B[0m196.4    \u001B[0m | \u001B[0m0.8      \u001B[0m | \u001B[0m1.0      \u001B[0m | \u001B[0m121.8    \u001B[0m | \u001B[0m0.01     \u001B[0m |\n",
      "| \u001B[0m100      \u001B[0m | \u001B[0m-15.8    \u001B[0m | \u001B[0m0.02359  \u001B[0m | \u001B[0m198.3    \u001B[0m | \u001B[0m0.9183   \u001B[0m | \u001B[0m0.9567   \u001B[0m | \u001B[0m123.2    \u001B[0m | \u001B[0m0.004099 \u001B[0m |\n",
      "| \u001B[0m101      \u001B[0m | \u001B[0m-16.16   \u001B[0m | \u001B[0m0.08926  \u001B[0m | \u001B[0m197.3    \u001B[0m | \u001B[0m0.9162   \u001B[0m | \u001B[0m0.9864   \u001B[0m | \u001B[0m120.2    \u001B[0m | \u001B[0m0.002331 \u001B[0m |\n",
      "| \u001B[0m102      \u001B[0m | \u001B[0m-15.72   \u001B[0m | \u001B[0m0.05231  \u001B[0m | \u001B[0m197.9    \u001B[0m | \u001B[0m0.864    \u001B[0m | \u001B[0m0.9044   \u001B[0m | \u001B[0m121.6    \u001B[0m | \u001B[0m0.001484 \u001B[0m |\n",
      "| \u001B[0m103      \u001B[0m | \u001B[0m-16.56   \u001B[0m | \u001B[0m0.02113  \u001B[0m | \u001B[0m199.8    \u001B[0m | \u001B[0m0.96     \u001B[0m | \u001B[0m0.9338   \u001B[0m | \u001B[0m122.7    \u001B[0m | \u001B[0m0.002557 \u001B[0m |\n",
      "| \u001B[0m104      \u001B[0m | \u001B[0m-16.41   \u001B[0m | \u001B[0m0.08468  \u001B[0m | \u001B[0m201.5    \u001B[0m | \u001B[0m0.9663   \u001B[0m | \u001B[0m0.9517   \u001B[0m | \u001B[0m124.2    \u001B[0m | \u001B[0m0.003396 \u001B[0m |\n",
      "| \u001B[0m105      \u001B[0m | \u001B[0m-16.03   \u001B[0m | \u001B[0m0.04822  \u001B[0m | \u001B[0m199.2    \u001B[0m | \u001B[0m0.8577   \u001B[0m | \u001B[0m0.9886   \u001B[0m | \u001B[0m120.6    \u001B[0m | \u001B[0m0.003179 \u001B[0m |\n",
      "| \u001B[0m106      \u001B[0m | \u001B[0m-16.16   \u001B[0m | \u001B[0m0.05231  \u001B[0m | \u001B[0m198.5    \u001B[0m | \u001B[0m0.8636   \u001B[0m | \u001B[0m0.9053   \u001B[0m | \u001B[0m119.0    \u001B[0m | \u001B[0m0.005583 \u001B[0m |\n",
      "| \u001B[0m107      \u001B[0m | \u001B[0m-17.88   \u001B[0m | \u001B[0m1e-06    \u001B[0m | \u001B[0m198.6    \u001B[0m | \u001B[0m0.8      \u001B[0m | \u001B[0m1.0      \u001B[0m | \u001B[0m117.3    \u001B[0m | \u001B[0m0.01     \u001B[0m |\n",
      "| \u001B[0m108      \u001B[0m | \u001B[0m-15.84   \u001B[0m | \u001B[0m0.005943 \u001B[0m | \u001B[0m193.8    \u001B[0m | \u001B[0m0.9413   \u001B[0m | \u001B[0m0.9044   \u001B[0m | \u001B[0m115.8    \u001B[0m | \u001B[0m0.006021 \u001B[0m |\n",
      "| \u001B[0m109      \u001B[0m | \u001B[0m-16.35   \u001B[0m | \u001B[0m0.02155  \u001B[0m | \u001B[0m191.8    \u001B[0m | \u001B[0m0.9549   \u001B[0m | \u001B[0m0.9863   \u001B[0m | \u001B[0m117.7    \u001B[0m | \u001B[0m0.009347 \u001B[0m |\n",
      "| \u001B[0m110      \u001B[0m | \u001B[0m-15.51   \u001B[0m | \u001B[0m0.09628  \u001B[0m | \u001B[0m192.2    \u001B[0m | \u001B[0m0.8842   \u001B[0m | \u001B[0m0.9145   \u001B[0m | \u001B[0m116.0    \u001B[0m | \u001B[0m0.006449 \u001B[0m |\n",
      "| \u001B[0m111      \u001B[0m | \u001B[0m-16.45   \u001B[0m | \u001B[0m0.07072  \u001B[0m | \u001B[0m214.6    \u001B[0m | \u001B[0m0.8859   \u001B[0m | \u001B[0m0.9019   \u001B[0m | \u001B[0m117.7    \u001B[0m | \u001B[0m0.007217 \u001B[0m |\n",
      "| \u001B[0m112      \u001B[0m | \u001B[0m-16.01   \u001B[0m | \u001B[0m0.06097  \u001B[0m | \u001B[0m213.3    \u001B[0m | \u001B[0m0.9539   \u001B[0m | \u001B[0m0.9066   \u001B[0m | \u001B[0m118.8    \u001B[0m | \u001B[0m0.007953 \u001B[0m |\n",
      "| \u001B[0m113      \u001B[0m | \u001B[0m-17.35   \u001B[0m | \u001B[0m0.02595  \u001B[0m | \u001B[0m213.0    \u001B[0m | \u001B[0m0.9699   \u001B[0m | \u001B[0m0.9793   \u001B[0m | \u001B[0m117.3    \u001B[0m | \u001B[0m0.009714 \u001B[0m |\n",
      "| \u001B[0m114      \u001B[0m | \u001B[0m-16.88   \u001B[0m | \u001B[0m0.03234  \u001B[0m | \u001B[0m214.5    \u001B[0m | \u001B[0m0.9594   \u001B[0m | \u001B[0m0.9868   \u001B[0m | \u001B[0m120.1    \u001B[0m | \u001B[0m0.004251 \u001B[0m |\n",
      "| \u001B[0m115      \u001B[0m | \u001B[0m-18.63   \u001B[0m | \u001B[0m1e-06    \u001B[0m | \u001B[0m215.9    \u001B[0m | \u001B[0m0.8969   \u001B[0m | \u001B[0m1.0      \u001B[0m | \u001B[0m118.9    \u001B[0m | \u001B[0m0.004789 \u001B[0m |\n",
      "| \u001B[0m116      \u001B[0m | \u001B[0m-15.25   \u001B[0m | \u001B[0m0.004454 \u001B[0m | \u001B[0m189.9    \u001B[0m | \u001B[0m0.9005   \u001B[0m | \u001B[0m0.9275   \u001B[0m | \u001B[0m117.8    \u001B[0m | \u001B[0m0.005374 \u001B[0m |\n",
      "| \u001B[0m117      \u001B[0m | \u001B[0m-16.17   \u001B[0m | \u001B[0m0.03563  \u001B[0m | \u001B[0m190.3    \u001B[0m | \u001B[0m0.8244   \u001B[0m | \u001B[0m0.9341   \u001B[0m | \u001B[0m116.2    \u001B[0m | \u001B[0m0.003074 \u001B[0m |\n",
      "| \u001B[0m118      \u001B[0m | \u001B[0m-16.21   \u001B[0m | \u001B[0m0.01375  \u001B[0m | \u001B[0m188.3    \u001B[0m | \u001B[0m0.8703   \u001B[0m | \u001B[0m0.9225   \u001B[0m | \u001B[0m116.8    \u001B[0m | \u001B[0m0.00755  \u001B[0m |\n",
      "| \u001B[0m119      \u001B[0m | \u001B[0m-47.8    \u001B[0m | \u001B[0m0.01766  \u001B[0m | \u001B[0m193.0    \u001B[0m | \u001B[0m0.9804   \u001B[0m | \u001B[0m0.9514   \u001B[0m | \u001B[0m124.0    \u001B[0m | \u001B[0m0.0047   \u001B[0m |\n",
      "| \u001B[0m120      \u001B[0m | \u001B[0m-15.59   \u001B[0m | \u001B[0m0.01424  \u001B[0m | \u001B[0m187.9    \u001B[0m | \u001B[0m0.9413   \u001B[0m | \u001B[0m0.9314   \u001B[0m | \u001B[0m118.6    \u001B[0m | \u001B[0m0.00989  \u001B[0m |\n",
      "| \u001B[0m121      \u001B[0m | \u001B[0m-15.59   \u001B[0m | \u001B[0m0.08242  \u001B[0m | \u001B[0m187.6    \u001B[0m | \u001B[0m0.8897   \u001B[0m | \u001B[0m0.9376   \u001B[0m | \u001B[0m120.4    \u001B[0m | \u001B[0m0.001394 \u001B[0m |\n",
      "| \u001B[0m122      \u001B[0m | \u001B[0m-16.35   \u001B[0m | \u001B[0m0.05612  \u001B[0m | \u001B[0m188.1    \u001B[0m | \u001B[0m0.9134   \u001B[0m | \u001B[0m0.9401   \u001B[0m | \u001B[0m122.1    \u001B[0m | \u001B[0m0.008335 \u001B[0m |\n",
      "| \u001B[0m123      \u001B[0m | \u001B[0m-15.68   \u001B[0m | \u001B[0m0.0474   \u001B[0m | \u001B[0m189.8    \u001B[0m | \u001B[0m0.8137   \u001B[0m | \u001B[0m0.9787   \u001B[0m | \u001B[0m123.1    \u001B[0m | \u001B[0m0.004638 \u001B[0m |\n",
      "| \u001B[0m124      \u001B[0m | \u001B[0m-16.11   \u001B[0m | \u001B[0m0.02201  \u001B[0m | \u001B[0m188.1    \u001B[0m | \u001B[0m0.8452   \u001B[0m | \u001B[0m0.9746   \u001B[0m | \u001B[0m123.8    \u001B[0m | \u001B[0m0.008965 \u001B[0m |\n",
      "| \u001B[0m125      \u001B[0m | \u001B[0m-15.76   \u001B[0m | \u001B[0m0.04232  \u001B[0m | \u001B[0m186.3    \u001B[0m | \u001B[0m0.9152   \u001B[0m | \u001B[0m0.9      \u001B[0m | \u001B[0m124.2    \u001B[0m | \u001B[0m0.00206  \u001B[0m |\n",
      "| \u001B[0m126      \u001B[0m | \u001B[0m-15.33   \u001B[0m | \u001B[0m0.06528  \u001B[0m | \u001B[0m186.5    \u001B[0m | \u001B[0m0.8719   \u001B[0m | \u001B[0m0.9112   \u001B[0m | \u001B[0m122.4    \u001B[0m | \u001B[0m0.002796 \u001B[0m |\n",
      "| \u001B[0m127      \u001B[0m | \u001B[0m-15.05   \u001B[0m | \u001B[0m0.05076  \u001B[0m | \u001B[0m188.2    \u001B[0m | \u001B[0m0.9506   \u001B[0m | \u001B[0m0.9363   \u001B[0m | \u001B[0m125.5    \u001B[0m | \u001B[0m0.008735 \u001B[0m |\n",
      "| \u001B[0m128      \u001B[0m | \u001B[0m-16.38   \u001B[0m | \u001B[0m0.03178  \u001B[0m | \u001B[0m189.6    \u001B[0m | \u001B[0m0.8073   \u001B[0m | \u001B[0m0.9535   \u001B[0m | \u001B[0m125.0    \u001B[0m | \u001B[0m0.008569 \u001B[0m |\n",
      "| \u001B[0m129      \u001B[0m | \u001B[0m-16.34   \u001B[0m | \u001B[0m0.08516  \u001B[0m | \u001B[0m185.9    \u001B[0m | \u001B[0m0.8548   \u001B[0m | \u001B[0m0.9199   \u001B[0m | \u001B[0m120.8    \u001B[0m | \u001B[0m0.006194 \u001B[0m |\n",
      "| \u001B[0m130      \u001B[0m | \u001B[0m-16.01   \u001B[0m | \u001B[0m0.03082  \u001B[0m | \u001B[0m186.4    \u001B[0m | \u001B[0m0.9712   \u001B[0m | \u001B[0m0.994    \u001B[0m | \u001B[0m119.0    \u001B[0m | \u001B[0m0.004357 \u001B[0m |\n",
      "| \u001B[0m131      \u001B[0m | \u001B[0m-306.2   \u001B[0m | \u001B[0m0.03887  \u001B[0m | \u001B[0m186.5    \u001B[0m | \u001B[0m0.9922   \u001B[0m | \u001B[0m0.9583   \u001B[0m | \u001B[0m117.2    \u001B[0m | \u001B[0m0.006085 \u001B[0m |\n",
      "| \u001B[0m132      \u001B[0m | \u001B[0m-15.58   \u001B[0m | \u001B[0m0.0992   \u001B[0m | \u001B[0m188.9    \u001B[0m | \u001B[0m0.9017   \u001B[0m | \u001B[0m0.9054   \u001B[0m | \u001B[0m115.3    \u001B[0m | \u001B[0m0.0004414\u001B[0m |\n",
      "| \u001B[0m133      \u001B[0m | \u001B[0m-15.69   \u001B[0m | \u001B[0m0.09818  \u001B[0m | \u001B[0m187.6    \u001B[0m | \u001B[0m0.8265   \u001B[0m | \u001B[0m0.9099   \u001B[0m | \u001B[0m127.1    \u001B[0m | \u001B[0m0.00198  \u001B[0m |\n",
      "| \u001B[0m134      \u001B[0m | \u001B[0m-16.18   \u001B[0m | \u001B[0m0.0006715\u001B[0m | \u001B[0m189.5    \u001B[0m | \u001B[0m0.8862   \u001B[0m | \u001B[0m0.9471   \u001B[0m | \u001B[0m127.0    \u001B[0m | \u001B[0m0.002949 \u001B[0m |\n",
      "| \u001B[0m135      \u001B[0m | \u001B[0m-38.5    \u001B[0m | \u001B[0m0.08651  \u001B[0m | \u001B[0m188.8    \u001B[0m | \u001B[0m0.9746   \u001B[0m | \u001B[0m0.9429   \u001B[0m | \u001B[0m128.4    \u001B[0m | \u001B[0m0.004745 \u001B[0m |\n",
      "| \u001B[0m136      \u001B[0m | \u001B[0m-15.56   \u001B[0m | \u001B[0m0.05691  \u001B[0m | \u001B[0m184.9    \u001B[0m | \u001B[0m0.9457   \u001B[0m | \u001B[0m0.9156   \u001B[0m | \u001B[0m123.1    \u001B[0m | \u001B[0m0.002396 \u001B[0m |\n",
      "| \u001B[0m137      \u001B[0m | \u001B[0m-16.26   \u001B[0m | \u001B[0m0.01026  \u001B[0m | \u001B[0m184.5    \u001B[0m | \u001B[0m0.9131   \u001B[0m | \u001B[0m0.9665   \u001B[0m | \u001B[0m124.8    \u001B[0m | \u001B[0m0.004609 \u001B[0m |\n",
      "| \u001B[0m138      \u001B[0m | \u001B[0m-16.0    \u001B[0m | \u001B[0m0.09398  \u001B[0m | \u001B[0m184.2    \u001B[0m | \u001B[0m0.9347   \u001B[0m | \u001B[0m0.9548   \u001B[0m | \u001B[0m121.5    \u001B[0m | \u001B[0m0.007591 \u001B[0m |\n",
      "| \u001B[0m139      \u001B[0m | \u001B[0m-320.7   \u001B[0m | \u001B[0m0.02816  \u001B[0m | \u001B[0m184.7    \u001B[0m | \u001B[0m0.9924   \u001B[0m | \u001B[0m0.9358   \u001B[0m | \u001B[0m119.9    \u001B[0m | \u001B[0m0.007095 \u001B[0m |\n",
      "| \u001B[0m140      \u001B[0m | \u001B[0m-16.36   \u001B[0m | \u001B[0m0.006525 \u001B[0m | \u001B[0m183.4    \u001B[0m | \u001B[0m0.8845   \u001B[0m | \u001B[0m0.9674   \u001B[0m | \u001B[0m122.4    \u001B[0m | \u001B[0m0.004565 \u001B[0m |\n",
      "| \u001B[0m141      \u001B[0m | \u001B[0m-229.1   \u001B[0m | \u001B[0m0.0004076\u001B[0m | \u001B[0m181.7    \u001B[0m | \u001B[0m0.9803   \u001B[0m | \u001B[0m0.909    \u001B[0m | \u001B[0m122.3    \u001B[0m | \u001B[0m0.006155 \u001B[0m |\n",
      "| \u001B[0m142      \u001B[0m | \u001B[0m-314.9   \u001B[0m | \u001B[0m0.0391   \u001B[0m | \u001B[0m186.1    \u001B[0m | \u001B[0m0.9959   \u001B[0m | \u001B[0m0.9084   \u001B[0m | \u001B[0m127.5    \u001B[0m | \u001B[0m0.001183 \u001B[0m |\n",
      "| \u001B[0m143      \u001B[0m | \u001B[0m-16.15   \u001B[0m | \u001B[0m0.07969  \u001B[0m | \u001B[0m186.9    \u001B[0m | \u001B[0m0.9503   \u001B[0m | \u001B[0m0.9925   \u001B[0m | \u001B[0m121.3    \u001B[0m | \u001B[0m0.0087   \u001B[0m |\n",
      "| \u001B[0m144      \u001B[0m | \u001B[0m-15.57   \u001B[0m | \u001B[0m0.04323  \u001B[0m | \u001B[0m187.0    \u001B[0m | \u001B[0m0.9363   \u001B[0m | \u001B[0m0.9675   \u001B[0m | \u001B[0m125.2    \u001B[0m | \u001B[0m0.007018 \u001B[0m |\n",
      "| \u001B[0m145      \u001B[0m | \u001B[0m-326.0   \u001B[0m | \u001B[0m0.00346  \u001B[0m | \u001B[0m191.3    \u001B[0m | \u001B[0m0.9918   \u001B[0m | \u001B[0m0.9233   \u001B[0m | \u001B[0m123.0    \u001B[0m | \u001B[0m0.007097 \u001B[0m |\n",
      "| \u001B[0m146      \u001B[0m | \u001B[0m-15.69   \u001B[0m | \u001B[0m0.09135  \u001B[0m | \u001B[0m177.2    \u001B[0m | \u001B[0m0.8986   \u001B[0m | \u001B[0m0.9757   \u001B[0m | \u001B[0m125.7    \u001B[0m | \u001B[0m0.009922 \u001B[0m |\n",
      "| \u001B[0m147      \u001B[0m | \u001B[0m-16.3    \u001B[0m | \u001B[0m0.08252  \u001B[0m | \u001B[0m195.0    \u001B[0m | \u001B[0m0.8736   \u001B[0m | \u001B[0m0.9351   \u001B[0m | \u001B[0m118.9    \u001B[0m | \u001B[0m0.003673 \u001B[0m |\n",
      "| \u001B[0m148      \u001B[0m | \u001B[0m-15.43   \u001B[0m | \u001B[0m0.07738  \u001B[0m | \u001B[0m191.0    \u001B[0m | \u001B[0m0.8633   \u001B[0m | \u001B[0m0.947    \u001B[0m | \u001B[0m118.8    \u001B[0m | \u001B[0m0.004336 \u001B[0m |\n",
      "| \u001B[0m149      \u001B[0m | \u001B[0m-16.4    \u001B[0m | \u001B[0m0.0384   \u001B[0m | \u001B[0m188.8    \u001B[0m | \u001B[0m0.8133   \u001B[0m | \u001B[0m0.9624   \u001B[0m | \u001B[0m122.7    \u001B[0m | \u001B[0m0.004243 \u001B[0m |\n",
      "| \u001B[0m150      \u001B[0m | \u001B[0m-15.44   \u001B[0m | \u001B[0m0.04583  \u001B[0m | \u001B[0m178.5    \u001B[0m | \u001B[0m0.9685   \u001B[0m | \u001B[0m0.9276   \u001B[0m | \u001B[0m126.4    \u001B[0m | \u001B[0m0.003964 \u001B[0m |\n",
      "=================================================================================================\n"
     ]
    }
   ],
   "execution_count": 8,
   "source": [
    "def hyperparameter_function_mlp_with_cut(learning_rate_init, batch_size, alpha, beta_1, beta_2, hidden_size):\n",
    "    \"\"\" Function for hyperparameter optimization\n",
    "    \"\"\"    \n",
    "    hidden_layer_sizes = [int(hidden_size)] * 1\n",
    "    # Learning rate is fixed\n",
    "    mlp_regressor = MLPRegressor(hidden_layer_sizes=hidden_layer_sizes, alpha=alpha, batch_size=int(batch_size), learning_rate_init=learning_rate_init, beta_1=beta_1, beta_2=beta_2, max_iter=15000, random_state=7)\n",
    "    scores = model_selection.cross_val_score(mlp_regressor, X=prep_train_data, y=random_train_balance, cv=5, scoring='neg_mean_absolute_error')\n",
    "    return np.min(scores)\n",
    "\n",
    "\n",
    "# Bounded region of parameter space\n",
    "pbounds = {'learning_rate_init': (0.0001, 0.01), 'batch_size': (150, 250), 'alpha': (0.000001, 0.1), 'beta_1': (0.8, 0.999), 'beta_2': (0.9, 0.999999), 'hidden_size': (115, 130)}\n",
    "\n",
    "optimizer = BayesianOptimization(\n",
    "    f=hyperparameter_function_mlp_with_cut,\n",
    "    pbounds=pbounds,\n",
    "    random_state=25,\n",
    ")\n",
    "if hyper_opt:\n",
    "    optimizer.maximize(\n",
    "        init_points=50,\n",
    "        n_iter=100,\n",
    "    )"
   ],
   "id": "b47f5957-4bb5-493b-b1ba-e8038b4fe4b4"
  },
  {
   "cell_type": "code",
   "execution_count": 9,
   "id": "2020c1c9-1f93-495f-9011-2e51635e4065",
   "metadata": {},
   "outputs": [
    {
     "data": {
      "text/plain": [
       "{'target': -14.624831632476509,\n",
       " 'params': {'alpha': 0.058428237542730146,\n",
       "  'batch_size': 158.60572041092112,\n",
       "  'beta_1': 0.9355582054882612,\n",
       "  'beta_2': 0.9089543612935872,\n",
       "  'hidden_size': 126.6933372337246,\n",
       "  'learning_rate_init': 0.001283462649989831}}"
      ]
     },
     "execution_count": 9,
     "metadata": {},
     "output_type": "execute_result"
    }
   ],
   "source": [
    "optimizer.max"
   ]
  },
  {
   "cell_type": "code",
   "execution_count": null,
   "id": "1e1035858cdb51bb",
   "metadata": {},
   "outputs": [],
   "source": []
  }
 ],
 "metadata": {
  "kernelspec": {
   "display_name": "Python 3 (ipykernel)",
   "language": "python",
   "name": "python3"
  },
  "language_info": {
   "codemirror_mode": {
    "name": "ipython",
    "version": 3
   },
   "file_extension": ".py",
   "mimetype": "text/x-python",
   "name": "python",
   "nbconvert_exporter": "python",
   "pygments_lexer": "ipython3",
   "version": "3.11.8"
  }
 },
 "nbformat": 4,
 "nbformat_minor": 5
}
